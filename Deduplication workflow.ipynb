{
 "cells": [
  {
   "cell_type": "markdown",
   "metadata": {},
   "source": [
    "# Deduplication workflow"
   ]
  },
  {
   "cell_type": "markdown",
   "metadata": {},
   "source": [
    "## Load dataset"
   ]
  },
  {
   "cell_type": "code",
   "execution_count": 1,
   "metadata": {},
   "outputs": [],
   "source": [
    "import recordlinkage as rl\n",
    "import pandas as pd\n",
    "import numpy as np\n",
    "import networkx as nx"
   ]
  },
  {
   "cell_type": "code",
   "execution_count": 2,
   "metadata": {},
   "outputs": [
    {
     "name": "stderr",
     "output_type": "stream",
     "text": [
      "/Users/fjsj/workspace/deduplication-slides/venv/lib/python3.6/site-packages/recordlinkage/datasets/febrl.py:51: FutureWarning: the 'labels' keyword is deprecated, use 'codes' instead\n",
      "  verify_integrity=False\n"
     ]
    }
   ],
   "source": [
    "from recordlinkage.datasets import load_febrl2\n",
    "\n",
    "df, true_pairs = load_febrl2(return_links=True)\n",
    "df = df.sort_index()"
   ]
  },
  {
   "cell_type": "code",
   "execution_count": 3,
   "metadata": {},
   "outputs": [
    {
     "data": {
      "text/html": [
       "<div>\n",
       "<style scoped>\n",
       "    .dataframe tbody tr th:only-of-type {\n",
       "        vertical-align: middle;\n",
       "    }\n",
       "\n",
       "    .dataframe tbody tr th {\n",
       "        vertical-align: top;\n",
       "    }\n",
       "\n",
       "    .dataframe thead th {\n",
       "        text-align: right;\n",
       "    }\n",
       "</style>\n",
       "<table border=\"1\" class=\"dataframe\">\n",
       "  <thead>\n",
       "    <tr style=\"text-align: right;\">\n",
       "      <th></th>\n",
       "      <th>given_name</th>\n",
       "      <th>surname</th>\n",
       "      <th>street_number</th>\n",
       "      <th>address_1</th>\n",
       "      <th>address_2</th>\n",
       "      <th>suburb</th>\n",
       "      <th>postcode</th>\n",
       "      <th>state</th>\n",
       "      <th>date_of_birth</th>\n",
       "      <th>soc_sec_id</th>\n",
       "    </tr>\n",
       "    <tr>\n",
       "      <th>rec_id</th>\n",
       "      <th></th>\n",
       "      <th></th>\n",
       "      <th></th>\n",
       "      <th></th>\n",
       "      <th></th>\n",
       "      <th></th>\n",
       "      <th></th>\n",
       "      <th></th>\n",
       "      <th></th>\n",
       "      <th></th>\n",
       "    </tr>\n",
       "  </thead>\n",
       "  <tbody>\n",
       "    <tr>\n",
       "      <th>rec-0-org</th>\n",
       "      <td>annabelle</td>\n",
       "      <td>friswell</td>\n",
       "      <td>205</td>\n",
       "      <td>meares place</td>\n",
       "      <td>sunningdale farm</td>\n",
       "      <td>wildes meadow</td>\n",
       "      <td>7018</td>\n",
       "      <td>wa</td>\n",
       "      <td>19761129</td>\n",
       "      <td>9016980</td>\n",
       "    </tr>\n",
       "  </tbody>\n",
       "</table>\n",
       "</div>"
      ],
      "text/plain": [
       "          given_name   surname street_number     address_1         address_2  \\\n",
       "rec_id                                                                         \n",
       "rec-0-org  annabelle  friswell           205  meares place  sunningdale farm   \n",
       "\n",
       "                  suburb postcode state date_of_birth soc_sec_id  \n",
       "rec_id                                                            \n",
       "rec-0-org  wildes meadow     7018    wa      19761129    9016980  "
      ]
     },
     "execution_count": 3,
     "metadata": {},
     "output_type": "execute_result"
    }
   ],
   "source": [
    "df.head(1)"
   ]
  },
  {
   "cell_type": "code",
   "execution_count": 4,
   "metadata": {},
   "outputs": [],
   "source": [
    "df['date_of_birth'] = pd.to_datetime(df['date_of_birth'].fillna('-'), format='%Y%m%d', errors='coerce')\n",
    "df['date_of_birth_year'] = df['date_of_birth'].dt.year\n",
    "df['full_name_address'] = (\n",
    "    (' ' + df['given_name'].fillna(''))\n",
    "    .str.cat(' ' + df['surname'].fillna('') + ' ')\n",
    "    .str.cat(df['address_1'].fillna('') + ' ')\n",
    "    .str.cat(df['address_2'].fillna('') + ' ')\n",
    "    .str.cat(df['suburb'].fillna('') + ' ')\n",
    ").replace({'': np.nan})"
   ]
  },
  {
   "cell_type": "code",
   "execution_count": 5,
   "metadata": {},
   "outputs": [
    {
     "data": {
      "text/html": [
       "<div>\n",
       "<style scoped>\n",
       "    .dataframe tbody tr th:only-of-type {\n",
       "        vertical-align: middle;\n",
       "    }\n",
       "\n",
       "    .dataframe tbody tr th {\n",
       "        vertical-align: top;\n",
       "    }\n",
       "\n",
       "    .dataframe thead th {\n",
       "        text-align: right;\n",
       "    }\n",
       "</style>\n",
       "<table border=\"1\" class=\"dataframe\">\n",
       "  <thead>\n",
       "    <tr style=\"text-align: right;\">\n",
       "      <th></th>\n",
       "      <th>given_name</th>\n",
       "      <th>surname</th>\n",
       "      <th>street_number</th>\n",
       "      <th>address_1</th>\n",
       "      <th>address_2</th>\n",
       "      <th>suburb</th>\n",
       "      <th>postcode</th>\n",
       "      <th>state</th>\n",
       "      <th>date_of_birth</th>\n",
       "      <th>soc_sec_id</th>\n",
       "      <th>date_of_birth_year</th>\n",
       "      <th>full_name_address</th>\n",
       "    </tr>\n",
       "    <tr>\n",
       "      <th>rec_id</th>\n",
       "      <th></th>\n",
       "      <th></th>\n",
       "      <th></th>\n",
       "      <th></th>\n",
       "      <th></th>\n",
       "      <th></th>\n",
       "      <th></th>\n",
       "      <th></th>\n",
       "      <th></th>\n",
       "      <th></th>\n",
       "      <th></th>\n",
       "      <th></th>\n",
       "    </tr>\n",
       "  </thead>\n",
       "  <tbody>\n",
       "    <tr>\n",
       "      <th>rec-0-org</th>\n",
       "      <td>annabelle</td>\n",
       "      <td>friswell</td>\n",
       "      <td>205</td>\n",
       "      <td>meares place</td>\n",
       "      <td>sunningdale farm</td>\n",
       "      <td>wildes meadow</td>\n",
       "      <td>7018</td>\n",
       "      <td>wa</td>\n",
       "      <td>1976-11-29</td>\n",
       "      <td>9016980</td>\n",
       "      <td>1976.0</td>\n",
       "      <td>annabelle friswell meares place sunningdale f...</td>\n",
       "    </tr>\n",
       "    <tr>\n",
       "      <th>rec-1-org</th>\n",
       "      <td>chloe</td>\n",
       "      <td>nappo</td>\n",
       "      <td>3</td>\n",
       "      <td>balonne street</td>\n",
       "      <td>brindabella specialist centre</td>\n",
       "      <td>carnegie</td>\n",
       "      <td>2068</td>\n",
       "      <td>wa</td>\n",
       "      <td>1994-02-01</td>\n",
       "      <td>8222350</td>\n",
       "      <td>1994.0</td>\n",
       "      <td>chloe nappo balonne street brindabella specia...</td>\n",
       "    </tr>\n",
       "    <tr>\n",
       "      <th>rec-10-org</th>\n",
       "      <td>lucy</td>\n",
       "      <td>crouch</td>\n",
       "      <td>202</td>\n",
       "      <td>goulburn street</td>\n",
       "      <td>sattwa park</td>\n",
       "      <td>cromer</td>\n",
       "      <td>2096</td>\n",
       "      <td>vic</td>\n",
       "      <td>1940-03-05</td>\n",
       "      <td>1800445</td>\n",
       "      <td>1940.0</td>\n",
       "      <td>lucy crouch goulburn street sattwa park cromer</td>\n",
       "    </tr>\n",
       "  </tbody>\n",
       "</table>\n",
       "</div>"
      ],
      "text/plain": [
       "           given_name   surname street_number        address_1  \\\n",
       "rec_id                                                           \n",
       "rec-0-org   annabelle  friswell           205     meares place   \n",
       "rec-1-org       chloe     nappo             3   balonne street   \n",
       "rec-10-org       lucy    crouch           202  goulburn street   \n",
       "\n",
       "                                address_2         suburb postcode state  \\\n",
       "rec_id                                                                    \n",
       "rec-0-org                sunningdale farm  wildes meadow     7018    wa   \n",
       "rec-1-org   brindabella specialist centre       carnegie     2068    wa   \n",
       "rec-10-org                    sattwa park         cromer     2096   vic   \n",
       "\n",
       "           date_of_birth soc_sec_id  date_of_birth_year  \\\n",
       "rec_id                                                    \n",
       "rec-0-org     1976-11-29    9016980              1976.0   \n",
       "rec-1-org     1994-02-01    8222350              1994.0   \n",
       "rec-10-org    1940-03-05    1800445              1940.0   \n",
       "\n",
       "                                            full_name_address  \n",
       "rec_id                                                         \n",
       "rec-0-org    annabelle friswell meares place sunningdale f...  \n",
       "rec-1-org    chloe nappo balonne street brindabella specia...  \n",
       "rec-10-org    lucy crouch goulburn street sattwa park cromer   "
      ]
     },
     "execution_count": 5,
     "metadata": {},
     "output_type": "execute_result"
    }
   ],
   "source": [
    "df.head(3)"
   ]
  },
  {
   "cell_type": "markdown",
   "metadata": {},
   "source": [
    "“This data set contains 5000 records (4000 originals and 1000 duplicates), with a maximum of 5 duplicates based on one original record (and a poisson distribution of duplicate records). Distribution of duplicates: 19 originals records have 5 duplicate records 47 originals records have 4 duplicate records 107 originals records have 3 duplicate records 141 originals records have 2 duplicate records 114 originals records have 1 duplicate record 572 originals records have no duplicate record”  \n",
    "https://recordlinkage.readthedocs.io/en/latest/ref-datasets.html#recordlinkage.datasets.load_febrl2"
   ]
  },
  {
   "cell_type": "code",
   "execution_count": 6,
   "metadata": {},
   "outputs": [
    {
     "name": "stdout",
     "output_type": "stream",
     "text": [
      "<class 'pandas.core.frame.DataFrame'>\n",
      "Index: 5000 entries, rec-0-org to rec-999-org\n",
      "Data columns (total 12 columns):\n",
      "given_name            4891 non-null object\n",
      "surname               4936 non-null object\n",
      "street_number         4777 non-null object\n",
      "address_1             4891 non-null object\n",
      "address_2             4431 non-null object\n",
      "suburb                4950 non-null object\n",
      "postcode              5000 non-null object\n",
      "state                 4952 non-null object\n",
      "date_of_birth         4880 non-null datetime64[ns]\n",
      "soc_sec_id            5000 non-null object\n",
      "date_of_birth_year    4880 non-null float64\n",
      "full_name_address     5000 non-null object\n",
      "dtypes: datetime64[ns](1), float64(1), object(10)\n",
      "memory usage: 507.8+ KB\n"
     ]
    }
   ],
   "source": [
    "df.info()"
   ]
  },
  {
   "cell_type": "code",
   "execution_count": 7,
   "metadata": {},
   "outputs": [
    {
     "data": {
      "text/plain": [
       "[('rec-712-dup-1', 'rec-712-dup-0'),\n",
       " ('rec-712-dup-2', 'rec-712-dup-0'),\n",
       " ('rec-712-dup-2', 'rec-712-dup-1'),\n",
       " ('rec-712-org', 'rec-712-dup-0'),\n",
       " ('rec-712-org', 'rec-712-dup-1')]"
      ]
     },
     "execution_count": 7,
     "metadata": {},
     "output_type": "execute_result"
    }
   ],
   "source": [
    "list(true_pairs)[:5]"
   ]
  },
  {
   "cell_type": "markdown",
   "metadata": {},
   "source": [
    "## LSH pre-blocking"
   ]
  },
  {
   "cell_type": "code",
   "execution_count": 8,
   "metadata": {},
   "outputs": [
    {
     "data": {
      "text/plain": [
       "(150, 6)"
      ]
     },
     "execution_count": 8,
     "metadata": {},
     "output_type": "execute_result"
    }
   ],
   "source": [
    "from lsh import cache, minhash\n",
    "from datasketch.lsh import _optimal_param\n",
    "\n",
    "seeds = 900\n",
    "threshold = 0.4\n",
    "num_bands, band_size = _optimal_param(\n",
    "    threshold=threshold, num_perm=seeds, false_positive_weight=0.5, false_negative_weight=0.5)\n",
    "(num_bands, band_size)"
   ]
  },
  {
   "cell_type": "code",
   "execution_count": 9,
   "metadata": {},
   "outputs": [],
   "source": [
    "hasher = minhash.MinHasher(seeds=seeds, char_ngram=2, hashbytes=4)\n",
    "lshcache = cache.Cache(num_bands=num_bands, hasher=hasher)"
   ]
  },
  {
   "cell_type": "code",
   "execution_count": 10,
   "metadata": {},
   "outputs": [],
   "source": [
    "for rec_id, full_name in df['full_name_address'].items():\n",
    "    if not pd.isnull(full_name):\n",
    "        lshcache.add_doc(full_name, rec_id)"
   ]
  },
  {
   "cell_type": "code",
   "execution_count": 11,
   "metadata": {},
   "outputs": [
    {
     "name": "stdout",
     "output_type": "stream",
     "text": [
      "Compute LSH candidate pairs progress: 0/150\n",
      "Compute LSH candidate pairs progress: 5/150\n",
      "Compute LSH candidate pairs progress: 10/150\n",
      "Compute LSH candidate pairs progress: 15/150\n",
      "Compute LSH candidate pairs progress: 20/150\n",
      "Compute LSH candidate pairs progress: 25/150\n",
      "Compute LSH candidate pairs progress: 30/150\n",
      "Compute LSH candidate pairs progress: 35/150\n",
      "Compute LSH candidate pairs progress: 40/150\n",
      "Compute LSH candidate pairs progress: 45/150\n",
      "Compute LSH candidate pairs progress: 50/150\n",
      "Compute LSH candidate pairs progress: 55/150\n",
      "Compute LSH candidate pairs progress: 60/150\n",
      "Compute LSH candidate pairs progress: 65/150\n",
      "Compute LSH candidate pairs progress: 70/150\n",
      "Compute LSH candidate pairs progress: 75/150\n",
      "Compute LSH candidate pairs progress: 80/150\n",
      "Compute LSH candidate pairs progress: 85/150\n",
      "Compute LSH candidate pairs progress: 90/150\n",
      "Compute LSH candidate pairs progress: 95/150\n",
      "Compute LSH candidate pairs progress: 100/150\n",
      "Compute LSH candidate pairs progress: 105/150\n",
      "Compute LSH candidate pairs progress: 110/150\n",
      "Compute LSH candidate pairs progress: 115/150\n",
      "Compute LSH candidate pairs progress: 120/150\n",
      "Compute LSH candidate pairs progress: 125/150\n",
      "Compute LSH candidate pairs progress: 130/150\n",
      "Compute LSH candidate pairs progress: 135/150\n",
      "Compute LSH candidate pairs progress: 140/150\n",
      "Compute LSH candidate pairs progress: 145/150\n",
      "Compute LSH candidate pairs DONE\n"
     ]
    }
   ],
   "source": [
    "import itertools\n",
    "\n",
    "def _list_to_pairs(l):\n",
    "    return itertools.combinations(l, 2)\n",
    "\n",
    "lsh_pairs = set()\n",
    "\n",
    "for bin_n, b in enumerate(lshcache.bins):\n",
    "    if bin_n % 5 == 0:\n",
    "        print(f\"Compute LSH candidate pairs progress: {bin_n}/{len(lshcache.bins)}\")\n",
    "    for b_id in list(b.keys()):\n",
    "        bucked_ids = b[b_id]\n",
    "        if len(bucked_ids) > 1:\n",
    "            for pair in _list_to_pairs(sorted(bucked_ids)):\n",
    "                lsh_pairs.add(pair)\n",
    "\n",
    "print(f\"Compute LSH candidate pairs DONE\")"
   ]
  },
  {
   "cell_type": "code",
   "execution_count": 12,
   "metadata": {},
   "outputs": [],
   "source": [
    "def ngrams_set(text_document, ngram_range):  # based on sklearn VectorizerMixin._char_ngrams\n",
    "    text_len = len(text_document)\n",
    "    min_n, max_n = ngram_range\n",
    "    if min_n == 1:\n",
    "        # no need to do any slicing for unigrams\n",
    "        # iterate through the string\n",
    "        ngrams = set(text_document)\n",
    "        min_n += 1\n",
    "    else:\n",
    "        ngrams = set()\n",
    "\n",
    "    # bind method outside of loop to reduce overhead\n",
    "    ngrams_append = ngrams.add\n",
    "\n",
    "    for n in range(min_n, min(max_n + 1, text_len + 1)):\n",
    "        for i in range(text_len - n + 1):\n",
    "            ngrams_append(text_document[i: i + n])\n",
    "    return ngrams"
   ]
  },
  {
   "cell_type": "code",
   "execution_count": 13,
   "metadata": {},
   "outputs": [],
   "source": [
    "def jaccard(a, b):\n",
    "    if len(a) == 0 or len(b) == 0:\n",
    "        return 0\n",
    "    return len(a & b) / len(a | b)"
   ]
  },
  {
   "cell_type": "code",
   "execution_count": 14,
   "metadata": {},
   "outputs": [],
   "source": [
    "ngrams_dict = {\n",
    "    doc_id: ngrams_set(full_name, (2, 2))\n",
    "    for doc_id, full_name in df['full_name_address'].items()\n",
    "}"
   ]
  },
  {
   "cell_type": "code",
   "execution_count": 15,
   "metadata": {},
   "outputs": [
    {
     "name": "stdout",
     "output_type": "stream",
     "text": [
      "len(lsh_pairs) 77613\n",
      "len(lsh_pairs_filtered) 2748\n"
     ]
    }
   ],
   "source": [
    "lsh_pairs_filtered = [(x, y) for (x, y) in lsh_pairs if jaccard(ngrams_dict[x], ngrams_dict[y]) > threshold]\n",
    "\n",
    "print(\"len(lsh_pairs)\", len(lsh_pairs))\n",
    "print(\"len(lsh_pairs_filtered)\", len(lsh_pairs_filtered))"
   ]
  },
  {
   "cell_type": "code",
   "execution_count": 16,
   "metadata": {},
   "outputs": [
    {
     "name": "stderr",
     "output_type": "stream",
     "text": [
      "/Users/fjsj/workspace/deduplication-slides/venv/lib/python3.6/site-packages/recordlinkage/index.py:155: FutureWarning: the 'labels' keyword is deprecated, use 'codes' instead\n",
      "  verify_integrity=False)\n",
      "/Users/fjsj/workspace/deduplication-slides/venv/lib/python3.6/site-packages/recordlinkage/base.py:288: FutureWarning: .labels was deprecated in version 0.24.0. Use .codes instead.\n",
      "  pairs = pairs[pairs.labels[0] > pairs.labels[1]]\n"
     ]
    },
    {
     "data": {
      "text/plain": [
       "49781"
      ]
     },
     "execution_count": 16,
     "metadata": {},
     "output_type": "execute_result"
    }
   ],
   "source": [
    "len(rl.Index().block('surname').index(df))"
   ]
  },
  {
   "cell_type": "code",
   "execution_count": 17,
   "metadata": {},
   "outputs": [
    {
     "name": "stdout",
     "output_type": "stream",
     "text": [
      "len(lsh_G) 2164\n",
      "len(partition.values()) 558\n"
     ]
    }
   ],
   "source": [
    "lsh_G = nx.from_edgelist(lsh_pairs_filtered)\n",
    "print(\"len(lsh_G)\", len(lsh_G))\n",
    "lsh_G_subgraphs = list(nx.connected_component_subgraphs(lsh_G, copy=False))\n",
    "partition = {rec_id: partition_id\n",
    "             for partition_id, subgraph in enumerate(lsh_G_subgraphs) for rec_id in subgraph}\n",
    "print(\"len(partition.values())\", max(partition.values()))"
   ]
  },
  {
   "cell_type": "code",
   "execution_count": 18,
   "metadata": {},
   "outputs": [],
   "source": [
    "import infomap\n",
    "\n",
    "def infomap_communities(g):\n",
    "    infomapWrapper = infomap.Infomap(\"--two-level --silent\")\n",
    "    i_to_node = dict(enumerate(g.nodes))\n",
    "    node_to_i = {v: k for k, v in i_to_node.items()}\n",
    "    for a, b, weight in g.edges(data='weight'):\n",
    "        x, y = node_to_i[a], node_to_i[b]\n",
    "        infomapWrapper.addLink(x, y, float(weight))\n",
    "\n",
    "    infomapWrapper.run()\n",
    "    partition = {\n",
    "        i_to_node[k]: v\n",
    "        for k, v in infomapWrapper.getModules().items()\n",
    "    }\n",
    "    return partition"
   ]
  },
  {
   "cell_type": "code",
   "execution_count": 19,
   "metadata": {},
   "outputs": [
    {
     "name": "stdout",
     "output_type": "stream",
     "text": [
      "len(lsh_G) 2164\n",
      "len(partition.values()) 595\n"
     ]
    }
   ],
   "source": [
    "lsh_G = nx.Graph()\n",
    "lsh_G.add_weighted_edges_from(\n",
    "    (x, y, jaccard(ngrams_dict[x], ngrams_dict[y])) for (x, y) in lsh_pairs_filtered\n",
    ")\n",
    "print(\"len(lsh_G)\", len(lsh_G))\n",
    "partition = infomap_communities(lsh_G)\n",
    "print(\"len(partition.values())\", max(partition.values()))"
   ]
  },
  {
   "cell_type": "code",
   "execution_count": 20,
   "metadata": {},
   "outputs": [
    {
     "name": "stdout",
     "output_type": "stream",
     "text": [
      "len(lsh_pairs_filtered_partitioned) 2699\n"
     ]
    }
   ],
   "source": [
    "lsh_pairs_filtered_partitioned = [\n",
    "    (x, y) for (x, y, weight)\n",
    "    in lsh_G.edges.data('weight') if partition[x] == partition[y]]\n",
    "print(\"len(lsh_pairs_filtered_partitioned)\", len(lsh_pairs_filtered_partitioned))"
   ]
  },
  {
   "cell_type": "code",
   "execution_count": 21,
   "metadata": {},
   "outputs": [
    {
     "data": {
      "text/html": [
       "<div>\n",
       "<style scoped>\n",
       "    .dataframe tbody tr th:only-of-type {\n",
       "        vertical-align: middle;\n",
       "    }\n",
       "\n",
       "    .dataframe tbody tr th {\n",
       "        vertical-align: top;\n",
       "    }\n",
       "\n",
       "    .dataframe thead th {\n",
       "        text-align: right;\n",
       "    }\n",
       "</style>\n",
       "<table border=\"1\" class=\"dataframe\">\n",
       "  <thead>\n",
       "    <tr style=\"text-align: right;\">\n",
       "      <th></th>\n",
       "      <th>given_name</th>\n",
       "      <th>surname</th>\n",
       "      <th>street_number</th>\n",
       "      <th>address_1</th>\n",
       "      <th>address_2</th>\n",
       "      <th>suburb</th>\n",
       "      <th>postcode</th>\n",
       "      <th>state</th>\n",
       "      <th>date_of_birth</th>\n",
       "      <th>soc_sec_id</th>\n",
       "      <th>date_of_birth_year</th>\n",
       "      <th>full_name_address</th>\n",
       "      <th>lsh_block</th>\n",
       "    </tr>\n",
       "    <tr>\n",
       "      <th>rec_id</th>\n",
       "      <th></th>\n",
       "      <th></th>\n",
       "      <th></th>\n",
       "      <th></th>\n",
       "      <th></th>\n",
       "      <th></th>\n",
       "      <th></th>\n",
       "      <th></th>\n",
       "      <th></th>\n",
       "      <th></th>\n",
       "      <th></th>\n",
       "      <th></th>\n",
       "      <th></th>\n",
       "    </tr>\n",
       "  </thead>\n",
       "  <tbody>\n",
       "    <tr>\n",
       "      <th>rec-2460-dup-0</th>\n",
       "      <td>nicholas</td>\n",
       "      <td>hathaay</td>\n",
       "      <td>151</td>\n",
       "      <td>NaN</td>\n",
       "      <td>flemington markets</td>\n",
       "      <td>mill park</td>\n",
       "      <td>6011</td>\n",
       "      <td>nsw</td>\n",
       "      <td>1939-03-05</td>\n",
       "      <td>1796925</td>\n",
       "      <td>1939.0</td>\n",
       "      <td>nicholas hathaay  flemington markets mill park</td>\n",
       "      <td>277.0</td>\n",
       "    </tr>\n",
       "    <tr>\n",
       "      <th>rec-2460-dup-2</th>\n",
       "      <td>nicholas</td>\n",
       "      <td>hathaway</td>\n",
       "      <td>74</td>\n",
       "      <td>NaN</td>\n",
       "      <td>flemington m zrkets</td>\n",
       "      <td>mill park</td>\n",
       "      <td>6011</td>\n",
       "      <td>nsw</td>\n",
       "      <td>1939-03-05</td>\n",
       "      <td>1796925</td>\n",
       "      <td>1939.0</td>\n",
       "      <td>nicholas hathaway  flemington m zrkets mill p...</td>\n",
       "      <td>277.0</td>\n",
       "    </tr>\n",
       "    <tr>\n",
       "      <th>rec-2460-dup-3</th>\n",
       "      <td>nichokas</td>\n",
       "      <td>hathaway</td>\n",
       "      <td>74</td>\n",
       "      <td>NaN</td>\n",
       "      <td>flemingtonmarkets</td>\n",
       "      <td>mill park</td>\n",
       "      <td>6011</td>\n",
       "      <td>nsw</td>\n",
       "      <td>1939-03-05</td>\n",
       "      <td>1796925</td>\n",
       "      <td>1939.0</td>\n",
       "      <td>nichokas hathaway  flemingtonmarkets mill park</td>\n",
       "      <td>277.0</td>\n",
       "    </tr>\n",
       "    <tr>\n",
       "      <th>rec-2460-dup-4</th>\n",
       "      <td>nicholas</td>\n",
       "      <td>hathqway</td>\n",
       "      <td>NaN</td>\n",
       "      <td>NaN</td>\n",
       "      <td>flemingto nmarkets</td>\n",
       "      <td>mill aprk</td>\n",
       "      <td>6011</td>\n",
       "      <td>nsw</td>\n",
       "      <td>1939-03-05</td>\n",
       "      <td>1796925</td>\n",
       "      <td>1939.0</td>\n",
       "      <td>nicholas hathqway  flemingto nmarkets mill aprk</td>\n",
       "      <td>277.0</td>\n",
       "    </tr>\n",
       "    <tr>\n",
       "      <th>rec-2460-org</th>\n",
       "      <td>nicholas</td>\n",
       "      <td>hathaway</td>\n",
       "      <td>74</td>\n",
       "      <td>NaN</td>\n",
       "      <td>flemington markets</td>\n",
       "      <td>mill park</td>\n",
       "      <td>6011</td>\n",
       "      <td>nsw</td>\n",
       "      <td>1939-03-05</td>\n",
       "      <td>1796925</td>\n",
       "      <td>1939.0</td>\n",
       "      <td>nicholas hathaway  flemington markets mill park</td>\n",
       "      <td>277.0</td>\n",
       "    </tr>\n",
       "  </tbody>\n",
       "</table>\n",
       "</div>"
      ],
      "text/plain": [
       "               given_name   surname street_number address_1  \\\n",
       "rec_id                                                        \n",
       "rec-2460-dup-0   nicholas   hathaay           151       NaN   \n",
       "rec-2460-dup-2   nicholas  hathaway            74       NaN   \n",
       "rec-2460-dup-3   nichokas  hathaway            74       NaN   \n",
       "rec-2460-dup-4   nicholas  hathqway           NaN       NaN   \n",
       "rec-2460-org     nicholas  hathaway            74       NaN   \n",
       "\n",
       "                          address_2     suburb postcode state date_of_birth  \\\n",
       "rec_id                                                                        \n",
       "rec-2460-dup-0   flemington markets  mill park     6011   nsw    1939-03-05   \n",
       "rec-2460-dup-2  flemington m zrkets  mill park     6011   nsw    1939-03-05   \n",
       "rec-2460-dup-3    flemingtonmarkets  mill park     6011   nsw    1939-03-05   \n",
       "rec-2460-dup-4   flemingto nmarkets  mill aprk     6011   nsw    1939-03-05   \n",
       "rec-2460-org     flemington markets  mill park     6011   nsw    1939-03-05   \n",
       "\n",
       "               soc_sec_id  date_of_birth_year  \\\n",
       "rec_id                                          \n",
       "rec-2460-dup-0    1796925              1939.0   \n",
       "rec-2460-dup-2    1796925              1939.0   \n",
       "rec-2460-dup-3    1796925              1939.0   \n",
       "rec-2460-dup-4    1796925              1939.0   \n",
       "rec-2460-org      1796925              1939.0   \n",
       "\n",
       "                                                full_name_address  lsh_block  \n",
       "rec_id                                                                        \n",
       "rec-2460-dup-0    nicholas hathaay  flemington markets mill park       277.0  \n",
       "rec-2460-dup-2   nicholas hathaway  flemington m zrkets mill p...      277.0  \n",
       "rec-2460-dup-3    nichokas hathaway  flemingtonmarkets mill park       277.0  \n",
       "rec-2460-dup-4   nicholas hathqway  flemingto nmarkets mill aprk       277.0  \n",
       "rec-2460-org     nicholas hathaway  flemington markets mill park       277.0  "
      ]
     },
     "execution_count": 21,
     "metadata": {},
     "output_type": "execute_result"
    }
   ],
   "source": [
    "df = df.assign(lsh_block=df.index.map(partition))\n",
    "df[df['lsh_block'] == df.loc['rec-2460-org']['lsh_block']]"
   ]
  },
  {
   "cell_type": "code",
   "execution_count": 22,
   "metadata": {},
   "outputs": [
    {
     "data": {
      "text/html": [
       "<div>\n",
       "<style scoped>\n",
       "    .dataframe tbody tr th:only-of-type {\n",
       "        vertical-align: middle;\n",
       "    }\n",
       "\n",
       "    .dataframe tbody tr th {\n",
       "        vertical-align: top;\n",
       "    }\n",
       "\n",
       "    .dataframe thead th {\n",
       "        text-align: right;\n",
       "    }\n",
       "</style>\n",
       "<table border=\"1\" class=\"dataframe\">\n",
       "  <thead>\n",
       "    <tr style=\"text-align: right;\">\n",
       "      <th></th>\n",
       "      <th>given_name</th>\n",
       "      <th>surname</th>\n",
       "      <th>street_number</th>\n",
       "      <th>address_1</th>\n",
       "      <th>address_2</th>\n",
       "      <th>suburb</th>\n",
       "      <th>postcode</th>\n",
       "      <th>state</th>\n",
       "      <th>date_of_birth</th>\n",
       "      <th>soc_sec_id</th>\n",
       "      <th>date_of_birth_year</th>\n",
       "      <th>full_name_address</th>\n",
       "      <th>lsh_block</th>\n",
       "    </tr>\n",
       "    <tr>\n",
       "      <th>rec_id</th>\n",
       "      <th></th>\n",
       "      <th></th>\n",
       "      <th></th>\n",
       "      <th></th>\n",
       "      <th></th>\n",
       "      <th></th>\n",
       "      <th></th>\n",
       "      <th></th>\n",
       "      <th></th>\n",
       "      <th></th>\n",
       "      <th></th>\n",
       "      <th></th>\n",
       "      <th></th>\n",
       "    </tr>\n",
       "  </thead>\n",
       "  <tbody>\n",
       "    <tr>\n",
       "      <th>rec-2460-dup-0</th>\n",
       "      <td>nicholas</td>\n",
       "      <td>hathaay</td>\n",
       "      <td>151</td>\n",
       "      <td>NaN</td>\n",
       "      <td>flemington markets</td>\n",
       "      <td>mill park</td>\n",
       "      <td>6011</td>\n",
       "      <td>nsw</td>\n",
       "      <td>1939-03-05</td>\n",
       "      <td>1796925</td>\n",
       "      <td>1939.0</td>\n",
       "      <td>nicholas hathaay  flemington markets mill park</td>\n",
       "      <td>277.0</td>\n",
       "    </tr>\n",
       "    <tr>\n",
       "      <th>rec-2460-dup-1</th>\n",
       "      <td>nicholas</td>\n",
       "      <td>emmanuel</td>\n",
       "      <td>74</td>\n",
       "      <td>NaN</td>\n",
       "      <td>laurelb ank</td>\n",
       "      <td>mill park</td>\n",
       "      <td>6011</td>\n",
       "      <td>nsw</td>\n",
       "      <td>1939-03-05</td>\n",
       "      <td>1796925</td>\n",
       "      <td>1939.0</td>\n",
       "      <td>nicholas emmanuel  laurelb ank mill park</td>\n",
       "      <td>NaN</td>\n",
       "    </tr>\n",
       "    <tr>\n",
       "      <th>rec-2460-dup-2</th>\n",
       "      <td>nicholas</td>\n",
       "      <td>hathaway</td>\n",
       "      <td>74</td>\n",
       "      <td>NaN</td>\n",
       "      <td>flemington m zrkets</td>\n",
       "      <td>mill park</td>\n",
       "      <td>6011</td>\n",
       "      <td>nsw</td>\n",
       "      <td>1939-03-05</td>\n",
       "      <td>1796925</td>\n",
       "      <td>1939.0</td>\n",
       "      <td>nicholas hathaway  flemington m zrkets mill p...</td>\n",
       "      <td>277.0</td>\n",
       "    </tr>\n",
       "    <tr>\n",
       "      <th>rec-2460-dup-3</th>\n",
       "      <td>nichokas</td>\n",
       "      <td>hathaway</td>\n",
       "      <td>74</td>\n",
       "      <td>NaN</td>\n",
       "      <td>flemingtonmarkets</td>\n",
       "      <td>mill park</td>\n",
       "      <td>6011</td>\n",
       "      <td>nsw</td>\n",
       "      <td>1939-03-05</td>\n",
       "      <td>1796925</td>\n",
       "      <td>1939.0</td>\n",
       "      <td>nichokas hathaway  flemingtonmarkets mill park</td>\n",
       "      <td>277.0</td>\n",
       "    </tr>\n",
       "    <tr>\n",
       "      <th>rec-2460-dup-4</th>\n",
       "      <td>nicholas</td>\n",
       "      <td>hathqway</td>\n",
       "      <td>NaN</td>\n",
       "      <td>NaN</td>\n",
       "      <td>flemingto nmarkets</td>\n",
       "      <td>mill aprk</td>\n",
       "      <td>6011</td>\n",
       "      <td>nsw</td>\n",
       "      <td>1939-03-05</td>\n",
       "      <td>1796925</td>\n",
       "      <td>1939.0</td>\n",
       "      <td>nicholas hathqway  flemingto nmarkets mill aprk</td>\n",
       "      <td>277.0</td>\n",
       "    </tr>\n",
       "    <tr>\n",
       "      <th>rec-2460-org</th>\n",
       "      <td>nicholas</td>\n",
       "      <td>hathaway</td>\n",
       "      <td>74</td>\n",
       "      <td>NaN</td>\n",
       "      <td>flemington markets</td>\n",
       "      <td>mill park</td>\n",
       "      <td>6011</td>\n",
       "      <td>nsw</td>\n",
       "      <td>1939-03-05</td>\n",
       "      <td>1796925</td>\n",
       "      <td>1939.0</td>\n",
       "      <td>nicholas hathaway  flemington markets mill park</td>\n",
       "      <td>277.0</td>\n",
       "    </tr>\n",
       "  </tbody>\n",
       "</table>\n",
       "</div>"
      ],
      "text/plain": [
       "               given_name   surname street_number address_1  \\\n",
       "rec_id                                                        \n",
       "rec-2460-dup-0   nicholas   hathaay           151       NaN   \n",
       "rec-2460-dup-1   nicholas  emmanuel            74       NaN   \n",
       "rec-2460-dup-2   nicholas  hathaway            74       NaN   \n",
       "rec-2460-dup-3   nichokas  hathaway            74       NaN   \n",
       "rec-2460-dup-4   nicholas  hathqway           NaN       NaN   \n",
       "rec-2460-org     nicholas  hathaway            74       NaN   \n",
       "\n",
       "                          address_2     suburb postcode state date_of_birth  \\\n",
       "rec_id                                                                        \n",
       "rec-2460-dup-0   flemington markets  mill park     6011   nsw    1939-03-05   \n",
       "rec-2460-dup-1          laurelb ank  mill park     6011   nsw    1939-03-05   \n",
       "rec-2460-dup-2  flemington m zrkets  mill park     6011   nsw    1939-03-05   \n",
       "rec-2460-dup-3    flemingtonmarkets  mill park     6011   nsw    1939-03-05   \n",
       "rec-2460-dup-4   flemingto nmarkets  mill aprk     6011   nsw    1939-03-05   \n",
       "rec-2460-org     flemington markets  mill park     6011   nsw    1939-03-05   \n",
       "\n",
       "               soc_sec_id  date_of_birth_year  \\\n",
       "rec_id                                          \n",
       "rec-2460-dup-0    1796925              1939.0   \n",
       "rec-2460-dup-1    1796925              1939.0   \n",
       "rec-2460-dup-2    1796925              1939.0   \n",
       "rec-2460-dup-3    1796925              1939.0   \n",
       "rec-2460-dup-4    1796925              1939.0   \n",
       "rec-2460-org      1796925              1939.0   \n",
       "\n",
       "                                                full_name_address  lsh_block  \n",
       "rec_id                                                                        \n",
       "rec-2460-dup-0    nicholas hathaay  flemington markets mill park       277.0  \n",
       "rec-2460-dup-1          nicholas emmanuel  laurelb ank mill park         NaN  \n",
       "rec-2460-dup-2   nicholas hathaway  flemington m zrkets mill p...      277.0  \n",
       "rec-2460-dup-3    nichokas hathaway  flemingtonmarkets mill park       277.0  \n",
       "rec-2460-dup-4   nicholas hathqway  flemingto nmarkets mill aprk       277.0  \n",
       "rec-2460-org     nicholas hathaway  flemington markets mill park       277.0  "
      ]
     },
     "execution_count": 22,
     "metadata": {},
     "output_type": "execute_result"
    }
   ],
   "source": [
    "df.loc['rec-2460':'rec-2461']"
   ]
  },
  {
   "cell_type": "code",
   "execution_count": 23,
   "metadata": {},
   "outputs": [],
   "source": [
    "# len(rl.Index().block('state').block('date_of_birth_year').index(df))"
   ]
  },
  {
   "cell_type": "code",
   "execution_count": 24,
   "metadata": {},
   "outputs": [],
   "source": [
    "# lsh_G = nx.from_edgelist(lsh_pairs_filtered)\n",
    "# print(\"len(lsh_G)\", len(lsh_G))\n",
    "# lsh_G_subgraphs = list(nx.connected_component_subgraphs(lsh_G, copy=False))\n",
    "# print(\"len(lsh_G_subgraphs)\", len(lsh_G_subgraphs))\n",
    "\n",
    "# rec_id_to_lsh_block_dict = {\n",
    "#     rec_id: lsh_block\n",
    "#     for lsh_block, rec_id_list in enumerate(lsh_G_subgraphs)\n",
    "#     for rec_id in rec_id_list\n",
    "# }\n",
    "\n",
    "# df = df.assign(lsh_block=df.index.map(rec_id_to_lsh_block_dict)) \n",
    "# df[df['lsh_block'] == df.loc['rec-1684-org']['lsh_block']]"
   ]
  },
  {
   "cell_type": "markdown",
   "metadata": {},
   "source": [
    "## Learn blocking rules"
   ]
  },
  {
   "cell_type": "code",
   "execution_count": 25,
   "metadata": {},
   "outputs": [],
   "source": [
    "data_d = df.to_dict(orient='index')\n",
    "for d in data_d.values():\n",
    "    for k, v in d.items():\n",
    "        if pd.isnull(v):\n",
    "            d[k] = None\n",
    "        elif hasattr(v, 'isoformat'):\n",
    "            d[k] = v.isoformat()"
   ]
  },
  {
   "cell_type": "code",
   "execution_count": 26,
   "metadata": {},
   "outputs": [
    {
     "data": {
      "text/plain": [
       "{'given_name': 'jac ob',\n",
       " 'surname': 'lanyon',\n",
       " 'street_number': '5',\n",
       " 'address_1': 'milne cove',\n",
       " 'address_2': None,\n",
       " 'suburb': 'oatlands',\n",
       " 'postcode': '2602',\n",
       " 'state': 'vic',\n",
       " 'date_of_birth': '1908-07-12T00:00:00',\n",
       " 'soc_sec_id': '9497788',\n",
       " 'date_of_birth_year': 1908.0,\n",
       " 'full_name_address': ' jac ob lanyon milne cove  oatlands ',\n",
       " 'lsh_block': 332.0}"
      ]
     },
     "execution_count": 26,
     "metadata": {},
     "output_type": "execute_result"
    }
   ],
   "source": [
    "data_d['rec-712-dup-2']"
   ]
  },
  {
   "cell_type": "code",
   "execution_count": 27,
   "metadata": {},
   "outputs": [
    {
     "data": {
      "text/plain": [
       "{'given_name': 'polly',\n",
       " 'surname': 'noble',\n",
       " 'street_number': '32',\n",
       " 'address_1': 'carrodus street',\n",
       " 'address_2': 'clanoc cottage',\n",
       " 'suburb': 'port lincoln',\n",
       " 'postcode': '6025',\n",
       " 'state': 'nsw',\n",
       " 'date_of_birth': None,\n",
       " 'soc_sec_id': '3008610',\n",
       " 'date_of_birth_year': None,\n",
       " 'full_name_address': ' polly noble carrodus street clanoc cottage port lincoln ',\n",
       " 'lsh_block': None}"
      ]
     },
     "execution_count": 27,
     "metadata": {},
     "output_type": "execute_result"
    }
   ],
   "source": [
    "data_d['rec-2303-org']"
   ]
  },
  {
   "cell_type": "code",
   "execution_count": 28,
   "metadata": {},
   "outputs": [
    {
     "data": {
      "text/plain": [
       "[({'rec-2460-dup-1': ' nicholas emmanuel  laurelb ank mill park '},\n",
       "  {'rec-2460-dup-2': ' nicholas hathaway  flemington m zrkets mill park '}),\n",
       " ({'rec-2460-dup-1': ' nicholas emmanuel  laurelb ank mill park '},\n",
       "  {'rec-2460-dup-0': ' nicholas hathaay  flemington markets mill park '}),\n",
       " ({'rec-2460-dup-1': ' nicholas emmanuel  laurelb ank mill park '},\n",
       "  {'rec-2460-org': ' nicholas hathaway  flemington markets mill park '}),\n",
       " ({'rec-2460-dup-1': ' nicholas emmanuel  laurelb ank mill park '},\n",
       "  {'rec-2460-dup-3': ' nichokas hathaway  flemingtonmarkets mill park '}),\n",
       " ({'rec-2460-dup-4': ' nicholas hathqway  flemingto nmarkets mill aprk '},\n",
       "  {'rec-2460-dup-1': ' nicholas emmanuel  laurelb ank mill park '}),\n",
       " ({'rec-3542-dup-3': ' kirra stubbs dampier crescent jodayfne auburn '},\n",
       "  {'rec-3542-dup-1': ' kirr gaskin  jodayne auburn '}),\n",
       " ({'rec-3542-dup-3': ' kirra stubbs dampier crescent jodayfne auburn '},\n",
       "  {'rec-3542-dup-2': ' kirra gaskni lawley xtreet jodayne auburn '}),\n",
       " ({'rec-3542-dup-3': ' kirra stubbs dampier crescent jodayfne auburn '},\n",
       "  {'rec-3542-org': ' kirra gaskin  jodayne auburn '}),\n",
       " ({'rec-3542-dup-3': ' kirra stubbs dampier crescent jodayfne auburn '},\n",
       "  {'rec-3542-dup-0': ' kirra gaskin  jodayne auburn '}),\n",
       " ({'rec-1964-org': ' alexander weavell sherwood garden broadford gol gol '},\n",
       "  {'rec-1964-dup-0': ' kimberly weaveldl loban ocurt broadford gol gol '})]"
      ]
     },
     "execution_count": 28,
     "metadata": {},
     "output_type": "execute_result"
    }
   ],
   "source": [
    "[\n",
    "    ({x: data_d[x]['full_name_address']},\n",
    "     {y: data_d[y]['full_name_address']})\n",
    "    for x, y in list(true_pairs)\n",
    "    if data_d[x]['lsh_block'] != data_d[y]['lsh_block']\n",
    "][:10]"
   ]
  },
  {
   "cell_type": "markdown",
   "metadata": {},
   "source": [
    "Instead of MinHash LSH, MinHash LSH Ensemble to block by \"containment\": https://ekzhu.github.io/datasketch/lshensemble.html"
   ]
  },
  {
   "cell_type": "code",
   "execution_count": 29,
   "metadata": {},
   "outputs": [
    {
     "name": "stderr",
     "output_type": "stream",
     "text": [
      "INFO:dedupe.canopy_index:Removing stop word ce\n",
      "INFO:dedupe.canopy_index:Removing stop word re\n"
     ]
    }
   ],
   "source": [
    "import dedupe\n",
    "\n",
    "fields = [\n",
    "    {'field': 'given_name', 'type': 'ShortString', 'has missing': True},\n",
    "    {'field': 'surname', 'type': 'ShortString', 'has missing': True},\n",
    "    {'field': 'street_number', 'type': 'ShortString', 'has missing': True},\n",
    "    {'field': 'address_1', 'type': 'ShortString', 'has missing': True},\n",
    "    {'field': 'address_2', 'type': 'ShortString', 'has missing': True},\n",
    "    {'field': 'suburb', 'type': 'ShortString', 'has missing': True},\n",
    "    {'field': 'postcode', 'type': 'ShortString'},\n",
    "    {'field': 'state', 'type': 'Exact', 'has missing': True},\n",
    "    {'field': 'date_of_birth', 'type': 'DateTime', 'has missing': True},\n",
    "#     {'field': 'soc_sec_id', 'type': 'ShortString'},\n",
    "    {'field': 'lsh_block', 'type': 'Exact', 'has missing': True},\n",
    "]\n",
    "\n",
    "deduper = dedupe.Dedupe(fields)\n",
    "deduper.sample(data_d, blocked_proportion=1)"
   ]
  },
  {
   "cell_type": "code",
   "execution_count": 30,
   "metadata": {},
   "outputs": [],
   "source": [
    "from dedupe.labeler import Sample\n",
    "\n",
    "original_length = len(data_d)\n",
    "sample_size = original_length\n",
    "data = dedupe.core.index(data_d)\n",
    "index_data = Sample(data, sample_size, original_length)\n",
    "sampled_records = Sample(index_data, sample_size, original_length)\n",
    "\n",
    "predicates = deduper.data_model.predicates(index_predicates=False, canopies=False)\n",
    "block_learner = dedupe.training.DedupeBlockLearner(predicates, sampled_records, index_data)"
   ]
  },
  {
   "cell_type": "code",
   "execution_count": 31,
   "metadata": {},
   "outputs": [
    {
     "name": "stderr",
     "output_type": "stream",
     "text": [
      "INFO:dedupe.training:Final predicate set:\n",
      "INFO:dedupe.training:(SimplePredicate: (sortedAcronym, postcode), SimplePredicate: (wholeFieldPredicate, lsh_block))\n",
      "INFO:dedupe.training:(SimplePredicate: (wholeFieldPredicate, date_of_birth), SimplePredicate: (wholeFieldPredicate, state))\n"
     ]
    },
    {
     "data": {
      "text/plain": [
       "((SimplePredicate: (sortedAcronym, postcode),\n",
       "  SimplePredicate: (wholeFieldPredicate, lsh_block)),\n",
       " (SimplePredicate: (wholeFieldPredicate, date_of_birth),\n",
       "  SimplePredicate: (wholeFieldPredicate, state)))"
      ]
     },
     "metadata": {},
     "output_type": "display_data"
    }
   ],
   "source": [
    "dupes = [(data_d[x], data_d[y]) for x, y in true_pairs.values]\n",
    "learned_preds = block_learner.learn(dupes, recall=0.99)\n",
    "display(learned_preds)"
   ]
  },
  {
   "cell_type": "code",
   "execution_count": 32,
   "metadata": {},
   "outputs": [],
   "source": [
    "import dedupe.blocking as blocking\n",
    "\n",
    "deduper_blocked_pairs = set()\n",
    "\n",
    "deduper.blocker = blocking.Blocker(learned_preds)\n",
    "for block in deduper._blockedPairs(deduper._blockData(data_d)):\n",
    "    for pair_data in block:\n",
    "        deduper_blocked_pairs.add((pair_data[0][0], pair_data[1][0]))"
   ]
  },
  {
   "cell_type": "code",
   "execution_count": 33,
   "metadata": {},
   "outputs": [
    {
     "name": "stdout",
     "output_type": "stream",
     "text": [
      "blocking_true_positives total: 1916\n",
      "blocking_false_positives total: 537\n",
      "blocking_false_negatives total: 18\n",
      "\n",
      "Blocking Precision:\n",
      "0.7810843864655523\n",
      "Blocking Recall:\n",
      "0.9906928645294726\n"
     ]
    }
   ],
   "source": [
    "deduper_blocked_pairs_set = set(tuple(sorted([a, b])) for a, b in deduper_blocked_pairs)\n",
    "true_pairs_set = set(tuple(sorted([a, b])) for a, b in true_pairs)\n",
    "\n",
    "blocking_true_positives = true_pairs_set & deduper_blocked_pairs_set\n",
    "blocking_false_positives = deduper_blocked_pairs_set - true_pairs_set\n",
    "blocking_false_negatives = true_pairs_set - deduper_blocked_pairs_set\n",
    "\n",
    "print('blocking_true_positives total:', len(blocking_true_positives))\n",
    "print('blocking_false_positives total:', len(blocking_false_positives))\n",
    "print('blocking_false_negatives total:', len(blocking_false_negatives))\n",
    "print()\n",
    "\n",
    "print(\"Blocking Precision:\")\n",
    "print(len(blocking_true_positives) / (len(blocking_true_positives) + len(blocking_false_positives)))\n",
    "\n",
    "print(\"Blocking Recall:\")\n",
    "print(len(blocking_true_positives) / (len(blocking_true_positives) + len(blocking_false_negatives)))"
   ]
  },
  {
   "cell_type": "code",
   "execution_count": 34,
   "metadata": {},
   "outputs": [],
   "source": [
    "# G = nx.Graph()\n",
    "# G.add_nodes_from(df.index)\n",
    "# G.add_edges_from(true_pairs)\n",
    "# print(\"len(G)\", len(G))\n",
    "# G_subgraphs = list(nx.connected_component_subgraphs(G, copy=False))\n",
    "# print(\"len(G_subgraphs)\", len(G_subgraphs))"
   ]
  },
  {
   "cell_type": "code",
   "execution_count": 35,
   "metadata": {},
   "outputs": [],
   "source": [
    "# rec_id_to_subgraph_id_dict = {\n",
    "#     rec_id: subgraph_id\n",
    "#     for subgraph_id, rec_id_list in enumerate(G_subgraphs)\n",
    "#     for rec_id in rec_id_list\n",
    "# }\n",
    "\n",
    "# df = df.assign(subgraph=df.index.map(rec_id_to_subgraph_id_dict)) \n",
    "# df.head(3)"
   ]
  },
  {
   "cell_type": "code",
   "execution_count": 36,
   "metadata": {},
   "outputs": [],
   "source": [
    "# import random\n",
    "\n",
    "# test_ratio = 0.2\n",
    "# available_subgraphs = list(df['subgraph'].unique())\n",
    "# test_subgraphs = set()\n",
    "# total_pairs_count = len(G.edges)\n",
    "# test_pairs_count = 0\n",
    "\n",
    "# while test_pairs_count < (total_pairs_count * test_ratio):\n",
    "#     subgraph_id = random.choice(available_subgraphs)\n",
    "#     test_subgraphs.add(subgraph_id)\n",
    "#     available_subgraphs.remove(subgraph_id)\n",
    "#     test_df = df[df['subgraph'].isin(test_subgraphs)]\n",
    "#     test_pairs_count = len(test_df) * (len(test_df) - 1) / 2\n",
    "\n",
    "# train_df = df[~df['subgraph'].isin(test_subgraphs)]"
   ]
  },
  {
   "cell_type": "code",
   "execution_count": null,
   "metadata": {},
   "outputs": [],
   "source": []
  },
  {
   "cell_type": "code",
   "execution_count": null,
   "metadata": {},
   "outputs": [],
   "source": []
  },
  {
   "cell_type": "markdown",
   "metadata": {},
   "source": [
    "## Blocking"
   ]
  },
  {
   "cell_type": "code",
   "execution_count": null,
   "metadata": {},
   "outputs": [],
   "source": []
  },
  {
   "cell_type": "markdown",
   "metadata": {},
   "source": [
    "## Scoring"
   ]
  },
  {
   "cell_type": "code",
   "execution_count": 37,
   "metadata": {},
   "outputs": [
    {
     "ename": "TypeError",
     "evalue": "__init__() got an unexpected keyword argument 'method'",
     "output_type": "error",
     "traceback": [
      "\u001b[0;31m---------------------------------------------------------------------------\u001b[0m",
      "\u001b[0;31mTypeError\u001b[0m                                 Traceback (most recent call last)",
      "\u001b[0;32m<ipython-input-37-a1418db0ba45>\u001b[0m in \u001b[0;36m<module>\u001b[0;34m\u001b[0m\n\u001b[1;32m     27\u001b[0m compare.date(\n\u001b[1;32m     28\u001b[0m     \u001b[0;34m'date_of_birth'\u001b[0m\u001b[0;34m,\u001b[0m \u001b[0;34m'date_of_birth'\u001b[0m\u001b[0;34m,\u001b[0m\u001b[0;34m\u001b[0m\u001b[0;34m\u001b[0m\u001b[0m\n\u001b[0;32m---> 29\u001b[0;31m     method='gauss', offset=10, scale=1, label='date_of_birth')\n\u001b[0m\u001b[1;32m     30\u001b[0m compare.string(\n\u001b[1;32m     31\u001b[0m     \u001b[0;34m'soc_sec_id'\u001b[0m\u001b[0;34m,\u001b[0m \u001b[0;34m'soc_sec_id'\u001b[0m\u001b[0;34m,\u001b[0m\u001b[0;34m\u001b[0m\u001b[0;34m\u001b[0m\u001b[0m\n",
      "\u001b[0;32m~/workspace/deduplication-slides/venv/lib/python3.6/site-packages/recordlinkage/api.py\u001b[0m in \u001b[0;36mdate\u001b[0;34m(self, *args, **kwargs)\u001b[0m\n\u001b[1;32m    220\u001b[0m \u001b[0;34m\u001b[0m\u001b[0m\n\u001b[1;32m    221\u001b[0m         \"\"\"\n\u001b[0;32m--> 222\u001b[0;31m         \u001b[0mcompare\u001b[0m \u001b[0;34m=\u001b[0m \u001b[0mDate\u001b[0m\u001b[0;34m(\u001b[0m\u001b[0;34m*\u001b[0m\u001b[0margs\u001b[0m\u001b[0;34m,\u001b[0m \u001b[0;34m**\u001b[0m\u001b[0mkwargs\u001b[0m\u001b[0;34m)\u001b[0m\u001b[0;34m\u001b[0m\u001b[0;34m\u001b[0m\u001b[0m\n\u001b[0m\u001b[1;32m    223\u001b[0m         \u001b[0mself\u001b[0m\u001b[0;34m.\u001b[0m\u001b[0madd\u001b[0m\u001b[0;34m(\u001b[0m\u001b[0mcompare\u001b[0m\u001b[0;34m)\u001b[0m\u001b[0;34m\u001b[0m\u001b[0;34m\u001b[0m\u001b[0m\n\u001b[1;32m    224\u001b[0m \u001b[0;34m\u001b[0m\u001b[0m\n",
      "\u001b[0;31mTypeError\u001b[0m: __init__() got an unexpected keyword argument 'method'"
     ]
    }
   ],
   "source": [
    "compare = rl.Compare()\n",
    "\n",
    "compare.string(\n",
    "    'given_name', 'given_name',\n",
    "    method='jarowinkler', label='given_name')\n",
    "compare.string(\n",
    "    'surname', 'surname',\n",
    "    method='jarowinkler', label='surname')\n",
    "compare.numeric(\n",
    "    'street_number', 'street_number',\n",
    "    method='gauss', offset=10, scale=1, label='street_number')\n",
    "compare.string(\n",
    "    'address_1', 'address_1',\n",
    "    method='jarowinkler', label='address_1')\n",
    "compare.string(\n",
    "    'address_2', 'address_2',\n",
    "    method='jarowinkler', label='address_2')\n",
    "compare.string(\n",
    "    'suburb', 'suburb',\n",
    "    method='jarowinkler', label='suburb')\n",
    "compare.string(\n",
    "    'postcode', 'postcode',\n",
    "    method='jarowinkler', label='postcode')\n",
    "compare.exact(\n",
    "    'state', 'state',\n",
    "    label='state')\n",
    "compare.date(\n",
    "    'date_of_birth', 'date_of_birth',\n",
    "    method='gauss', offset=10, scale=1, label='date_of_birth')\n",
    "compare.string(\n",
    "    'soc_sec_id', 'soc_sec_id',\n",
    "    method='damerau_levenshtein', label='soc_sec_id')"
   ]
  },
  {
   "cell_type": "markdown",
   "metadata": {},
   "source": [
    "## Train-test split"
   ]
  },
  {
   "cell_type": "code",
   "execution_count": null,
   "metadata": {},
   "outputs": [],
   "source": []
  },
  {
   "cell_type": "markdown",
   "metadata": {},
   "source": [
    "## Classification + Clustering"
   ]
  },
  {
   "cell_type": "code",
   "execution_count": null,
   "metadata": {},
   "outputs": [],
   "source": []
  },
  {
   "cell_type": "markdown",
   "metadata": {},
   "source": [
    "## Evaluation"
   ]
  },
  {
   "cell_type": "code",
   "execution_count": null,
   "metadata": {},
   "outputs": [],
   "source": []
  }
 ],
 "metadata": {
  "kernelspec": {
   "display_name": "Python 3",
   "language": "python",
   "name": "python3"
  },
  "language_info": {
   "codemirror_mode": {
    "name": "ipython",
    "version": 3
   },
   "file_extension": ".py",
   "mimetype": "text/x-python",
   "name": "python",
   "nbconvert_exporter": "python",
   "pygments_lexer": "ipython3",
   "version": "3.6.7"
  }
 },
 "nbformat": 4,
 "nbformat_minor": 2
}
