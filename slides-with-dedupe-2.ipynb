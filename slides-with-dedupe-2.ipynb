{
 "cells": [
  {
   "cell_type": "markdown",
   "metadata": {
    "slideshow": {
     "slide_type": "slide"
    }
   },
   "source": [
    "# 1 + 1 = 1 or Record Deduplication with Python\n",
    "Flávio Juvenal  \n",
    "[@flaviojuvenal](https://twitter.com/flaviojuvenal)  \n",
    "\n",
    "<p>\n",
    "    Partner at <a href=\"http://www.vinta.com.br?dedupe-slides=1\"><img class=\"vinta_logo\" style=\"display: inline-block; margin-left: 0;\" src=\"vinta.png\" width=300></a>\n",
    "</p>"
   ]
  },
  {
   "cell_type": "code",
   "execution_count": 1,
   "metadata": {
    "slideshow": {
     "slide_type": "skip"
    }
   },
   "outputs": [],
   "source": [
    "%load_ext autoreload\n",
    "%autoreload 2"
   ]
  },
  {
   "cell_type": "code",
   "execution_count": 2,
   "metadata": {},
   "outputs": [
    {
     "data": {
      "text/plain": [
       "True"
      ]
     },
     "execution_count": 2,
     "metadata": {},
     "output_type": "execute_result"
    }
   ],
   "source": [
    "# Use isto para setar GOOGLE_API_KEY e ativar o geocoder\n",
    "# Pegue uma em: https://cloud.google.com/maps-platform/#get-started\n",
    "# Depois crie um arquivo .env com GOOGLE_API_KEY=valor-da-key\n",
    "# E por fim rode as linhas comentadas abaixo:\n",
    "\n",
    "from dotenv import load_dotenv\n",
    "load_dotenv(verbose=True)"
   ]
  },
  {
   "cell_type": "code",
   "execution_count": 3,
   "metadata": {
    "slideshow": {
     "slide_type": "skip"
    }
   },
   "outputs": [],
   "source": [
    "import warnings; warnings.simplefilter('ignore')\n",
    "import logging; logging.disable(level=logging.INFO)"
   ]
  },
  {
   "cell_type": "markdown",
   "metadata": {
    "slideshow": {
     "slide_type": "slide"
    }
   },
   "source": [
    "<p style=\"font-size: 1.5em; text-weight: bold\">\n",
    "    Jupyter Notebook source at: <a href=\"https://github.com/vintasoftware/deduplication-slides/\">github.com/vintasoftware/deduplication-slides/</a>\n",
    "</p>"
   ]
  },
  {
   "cell_type": "markdown",
   "metadata": {
    "slideshow": {
     "slide_type": "slide"
    }
   },
   "source": [
    "## Real world data is a mess!\n",
    "Probably you dealt with data like this before:"
   ]
  },
  {
   "cell_type": "code",
   "execution_count": 4,
   "metadata": {
    "scrolled": false,
    "slideshow": {
     "slide_type": "skip"
    }
   },
   "outputs": [],
   "source": [
    "import pandas as pd\n",
    "\n",
    "data = [\n",
    "    (\"ça Va\", \"R. Cap. Rebelinho, 519, Recife\"),\n",
    "    (\"Ca Va\", \"R. Capitão Rebelinho, 519, Recife/PE\"),\n",
    "    (\"Côté Soleil\",\"50-12 Skillman Ave, queens, NY\"),\n",
    "    (\"cote soleil\",\"50 Skillman Ave, nyc\"),\n",
    "    (\"Cafe Harvest\", \"karmeliterplatz 1, Vienna\"),\n",
    "    (\"Harvest Café\", \"Karmeliterpl. 1, 1020, Wien\"),\n",
    "]\n",
    "\n",
    "df = pd.DataFrame(data, columns=['name', 'address'])"
   ]
  },
  {
   "cell_type": "code",
   "execution_count": 5,
   "metadata": {
    "slideshow": {
     "slide_type": "fragment"
    }
   },
   "outputs": [
    {
     "data": {
      "text/html": [
       "<div>\n",
       "<style scoped>\n",
       "    .dataframe tbody tr th:only-of-type {\n",
       "        vertical-align: middle;\n",
       "    }\n",
       "\n",
       "    .dataframe tbody tr th {\n",
       "        vertical-align: top;\n",
       "    }\n",
       "\n",
       "    .dataframe thead th {\n",
       "        text-align: right;\n",
       "    }\n",
       "</style>\n",
       "<table border=\"1\" class=\"dataframe\">\n",
       "  <thead>\n",
       "    <tr style=\"text-align: right;\">\n",
       "      <th></th>\n",
       "      <th>name</th>\n",
       "      <th>address</th>\n",
       "    </tr>\n",
       "  </thead>\n",
       "  <tbody>\n",
       "    <tr>\n",
       "      <th>0</th>\n",
       "      <td>ça Va</td>\n",
       "      <td>R. Cap. Rebelinho, 519, Recife</td>\n",
       "    </tr>\n",
       "    <tr>\n",
       "      <th>1</th>\n",
       "      <td>Ca Va</td>\n",
       "      <td>R. Capitão Rebelinho, 519, Recife/PE</td>\n",
       "    </tr>\n",
       "    <tr>\n",
       "      <th>2</th>\n",
       "      <td>Côté Soleil</td>\n",
       "      <td>50-12 Skillman Ave, queens, NY</td>\n",
       "    </tr>\n",
       "    <tr>\n",
       "      <th>3</th>\n",
       "      <td>cote soleil</td>\n",
       "      <td>50 Skillman Ave, nyc</td>\n",
       "    </tr>\n",
       "    <tr>\n",
       "      <th>4</th>\n",
       "      <td>Cafe Harvest</td>\n",
       "      <td>karmeliterplatz 1, Vienna</td>\n",
       "    </tr>\n",
       "    <tr>\n",
       "      <th>5</th>\n",
       "      <td>Harvest Café</td>\n",
       "      <td>Karmeliterpl. 1, 1020, Wien</td>\n",
       "    </tr>\n",
       "  </tbody>\n",
       "</table>\n",
       "</div>"
      ],
      "text/plain": [
       "           name                               address\n",
       "0         ça Va        R. Cap. Rebelinho, 519, Recife\n",
       "1         Ca Va  R. Capitão Rebelinho, 519, Recife/PE\n",
       "2   Côté Soleil        50-12 Skillman Ave, queens, NY\n",
       "3   cote soleil                  50 Skillman Ave, nyc\n",
       "4  Cafe Harvest             karmeliterplatz 1, Vienna\n",
       "5  Harvest Café           Karmeliterpl. 1, 1020, Wien"
      ]
     },
     "execution_count": 5,
     "metadata": {},
     "output_type": "execute_result"
    }
   ],
   "source": [
    "df"
   ]
  },
  {
   "cell_type": "markdown",
   "metadata": {
    "slideshow": {
     "slide_type": "slide"
    }
   },
   "source": [
    "The solution is to perform **Deduplication** (aka [Record Linkage](https://en.wikipedia.org/wiki/Record_linkage)). It works by joining records in a **fuzzy way** using data like names, addresses, phone numbers, dates, etc."
   ]
  },
  {
   "cell_type": "markdown",
   "metadata": {
    "slideshow": {
     "slide_type": "slide"
    }
   },
   "source": [
    "## Fuzzy Similarity and Data Cleaning"
   ]
  },
  {
   "cell_type": "markdown",
   "metadata": {},
   "source": [
    "You can get fuzzy similarity of **a pair of strings** by using edit distance:"
   ]
  },
  {
   "cell_type": "code",
   "execution_count": 6,
   "metadata": {},
   "outputs": [
    {
     "data": {
      "text/plain": [
       "0.16666666666666663"
      ]
     },
     "execution_count": 6,
     "metadata": {},
     "output_type": "execute_result"
    }
   ],
   "source": [
    "from py_stringmatching import Levenshtein\n",
    "Levenshtein().get_sim_score(\"Cafe Harvest\", \"Harvest Café\")"
   ]
  },
  {
   "cell_type": "markdown",
   "metadata": {},
   "source": [
    "But that's a too low similarity for very similar names...  \n",
    "The problem here is that tokens (words) are on different order.\n",
    "\n",
    "Is there an alternative similarity measure we could use that **ignores token order**?"
   ]
  },
  {
   "cell_type": "code",
   "execution_count": 7,
   "metadata": {},
   "outputs": [
    {
     "data": {
      "text/plain": [
       "0.875"
      ]
     },
     "execution_count": 7,
     "metadata": {},
     "output_type": "execute_result"
    }
   ],
   "source": [
    "from py_stringmatching import MongeElkan\n",
    "MongeElkan(\n",
    "    sim_func=Levenshtein().get_sim_score\n",
    ").get_raw_score(\"Cafe Harvest\".split(), \"Harvest Café\".split())"
   ]
  },
  {
   "cell_type": "markdown",
   "metadata": {
    "slideshow": {
     "slide_type": "fragment"
    }
   },
   "source": [
    "It worked! But there's room for improvement.  \n",
    "How to get rid of the acute accent on `\"Café\"`?"
   ]
  },
  {
   "cell_type": "code",
   "execution_count": 8,
   "metadata": {},
   "outputs": [
    {
     "data": {
      "text/plain": [
       "'Cafe'"
      ]
     },
     "execution_count": 8,
     "metadata": {},
     "output_type": "execute_result"
    }
   ],
   "source": [
    "import unidecode\n",
    "\n",
    "unidecode.unidecode(\"Café\")"
   ]
  },
  {
   "cell_type": "code",
   "execution_count": 9,
   "metadata": {},
   "outputs": [
    {
     "data": {
      "text/plain": [
       "1.0"
      ]
     },
     "execution_count": 9,
     "metadata": {},
     "output_type": "execute_result"
    }
   ],
   "source": [
    "MongeElkan(\n",
    "    sim_func=Levenshtein().get_sim_score\n",
    ").get_raw_score(\n",
    "    unidecode.unidecode(\"Cafe Harvest\").split(),\n",
    "    unidecode.unidecode(\"Harvest Café\").split()\n",
    ")"
   ]
  },
  {
   "cell_type": "markdown",
   "metadata": {},
   "source": [
    "Great, so we maybe we can consider restaurant pairs with **high name similarity** as **matches**. But it's useful to use the other restaurant attributes as well."
   ]
  },
  {
   "cell_type": "markdown",
   "metadata": {},
   "source": [
    "For **addresses**, you can get fuzzy similarity of by first geocoding them:"
   ]
  },
  {
   "cell_type": "code",
   "execution_count": 10,
   "metadata": {},
   "outputs": [
    {
     "name": "stdout",
     "output_type": "stream",
     "text": [
      "[40.7459396, -73.913945]\n",
      "[40.7458604, -73.9135648]\n"
     ]
    }
   ],
   "source": [
    "import geocoder\n",
    "\n",
    "x = geocoder.google(\"50-12 Skillman Ave, queens, NY\").latlng\n",
    "y = geocoder.google(\"50 Skillman Ave, nyc\").latlng\n",
    "print(x)\n",
    "print(y)"
   ]
  },
  {
   "cell_type": "markdown",
   "metadata": {},
   "source": [
    "And then computing the **distance** between them:"
   ]
  },
  {
   "cell_type": "code",
   "execution_count": 11,
   "metadata": {},
   "outputs": [
    {
     "data": {
      "text/plain": [
       "0.03321774428617794"
      ]
     },
     "execution_count": 11,
     "metadata": {},
     "output_type": "execute_result"
    }
   ],
   "source": [
    "import haversine\n",
    "\n",
    "haversine.haversine(x, y, unit=haversine.Unit.KILOMETERS)"
   ]
  },
  {
   "cell_type": "markdown",
   "metadata": {
    "slideshow": {
     "slide_type": "-"
    }
   },
   "source": [
    "**Close enough** addresses can be considered as **matches**.\n",
    "\n",
    "So let's compare the restaurant pairs now."
   ]
  },
  {
   "cell_type": "markdown",
   "metadata": {
    "slideshow": {
     "slide_type": "slide"
    }
   },
   "source": [
    "## Comparing all to all"
   ]
  },
  {
   "cell_type": "markdown",
   "metadata": {},
   "source": [
    "This is our dataset with **latlng**:"
   ]
  },
  {
   "cell_type": "code",
   "execution_count": 12,
   "metadata": {
    "slideshow": {
     "slide_type": "slide"
    }
   },
   "outputs": [
    {
     "data": {
      "text/html": [
       "<div>\n",
       "<style scoped>\n",
       "    .dataframe tbody tr th:only-of-type {\n",
       "        vertical-align: middle;\n",
       "    }\n",
       "\n",
       "    .dataframe tbody tr th {\n",
       "        vertical-align: top;\n",
       "    }\n",
       "\n",
       "    .dataframe thead th {\n",
       "        text-align: right;\n",
       "    }\n",
       "</style>\n",
       "<table border=\"1\" class=\"dataframe\">\n",
       "  <thead>\n",
       "    <tr style=\"text-align: right;\">\n",
       "      <th></th>\n",
       "      <th>name</th>\n",
       "      <th>address</th>\n",
       "      <th>latlng</th>\n",
       "    </tr>\n",
       "  </thead>\n",
       "  <tbody>\n",
       "    <tr>\n",
       "      <th>0</th>\n",
       "      <td>ça Va</td>\n",
       "      <td>R. Cap. Rebelinho, 519, Recife</td>\n",
       "      <td>[-8.095537, -34.884008]</td>\n",
       "    </tr>\n",
       "    <tr>\n",
       "      <th>1</th>\n",
       "      <td>Ca Va</td>\n",
       "      <td>R. Capitão Rebelinho, 519, Recife/PE</td>\n",
       "      <td>[-8.095537, -34.884008]</td>\n",
       "    </tr>\n",
       "    <tr>\n",
       "      <th>2</th>\n",
       "      <td>Côté Soleil</td>\n",
       "      <td>50-12 Skillman Ave, queens, NY</td>\n",
       "      <td>[40.7459396, -73.913945]</td>\n",
       "    </tr>\n",
       "    <tr>\n",
       "      <th>3</th>\n",
       "      <td>cote soleil</td>\n",
       "      <td>50 Skillman Ave, nyc</td>\n",
       "      <td>[40.7458604, -73.9135648]</td>\n",
       "    </tr>\n",
       "    <tr>\n",
       "      <th>4</th>\n",
       "      <td>Cafe Harvest</td>\n",
       "      <td>karmeliterplatz 1, Vienna</td>\n",
       "      <td>[48.2155105, 16.3798774]</td>\n",
       "    </tr>\n",
       "    <tr>\n",
       "      <th>5</th>\n",
       "      <td>Harvest Café</td>\n",
       "      <td>Karmeliterpl. 1, 1020, Wien</td>\n",
       "      <td>[48.2155105, 16.3798774]</td>\n",
       "    </tr>\n",
       "  </tbody>\n",
       "</table>\n",
       "</div>"
      ],
      "text/plain": [
       "           name                               address  \\\n",
       "0         ça Va        R. Cap. Rebelinho, 519, Recife   \n",
       "1         Ca Va  R. Capitão Rebelinho, 519, Recife/PE   \n",
       "2   Côté Soleil        50-12 Skillman Ave, queens, NY   \n",
       "3   cote soleil                  50 Skillman Ave, nyc   \n",
       "4  Cafe Harvest             karmeliterplatz 1, Vienna   \n",
       "5  Harvest Café           Karmeliterpl. 1, 1020, Wien   \n",
       "\n",
       "                      latlng  \n",
       "0    [-8.095537, -34.884008]  \n",
       "1    [-8.095537, -34.884008]  \n",
       "2   [40.7459396, -73.913945]  \n",
       "3  [40.7458604, -73.9135648]  \n",
       "4   [48.2155105, 16.3798774]  \n",
       "5   [48.2155105, 16.3798774]  "
      ]
     },
     "execution_count": 12,
     "metadata": {},
     "output_type": "execute_result"
    }
   ],
   "source": [
    "def address_to_latlng(address):\n",
    "    return geocoder.google(address).latlng\n",
    "\n",
    "df = df.assign(latlng=df['address'].apply(address_to_latlng))\n",
    "df"
   ]
  },
  {
   "cell_type": "code",
   "execution_count": 13,
   "metadata": {},
   "outputs": [],
   "source": [
    "df = df[['name', 'latlng']]"
   ]
  },
  {
   "cell_type": "markdown",
   "metadata": {},
   "source": [
    "Lets grab the **IDs** of our records:"
   ]
  },
  {
   "cell_type": "code",
   "execution_count": 14,
   "metadata": {},
   "outputs": [
    {
     "data": {
      "text/plain": [
       "[0, 1, 2, 3, 4, 5]"
      ]
     },
     "execution_count": 14,
     "metadata": {},
     "output_type": "execute_result"
    }
   ],
   "source": [
    "list(df.index)"
   ]
  },
  {
   "cell_type": "markdown",
   "metadata": {},
   "source": [
    "And compute **all possible pairs** to match:"
   ]
  },
  {
   "cell_type": "code",
   "execution_count": 15,
   "metadata": {},
   "outputs": [
    {
     "name": "stdout",
     "output_type": "stream",
     "text": [
      "all_pairs: [(0, 1), (0, 2), (0, 3), (0, 4), (0, 5), (1, 2), (1, 3), (1, 4), (1, 5), (2, 3), (2, 4), (2, 5), (3, 4), (3, 5), (4, 5)]\n",
      "len(all_pairs): 15\n"
     ]
    }
   ],
   "source": [
    "import itertools\n",
    "\n",
    "all_pairs = list(itertools.combinations(df.index, 2))\n",
    "print(\"all_pairs:\", all_pairs)\n",
    "print(\"len(all_pairs):\", len(all_pairs))"
   ]
  },
  {
   "cell_type": "markdown",
   "metadata": {},
   "source": [
    "Checking some of the pairs:"
   ]
  },
  {
   "cell_type": "code",
   "execution_count": 16,
   "metadata": {},
   "outputs": [
    {
     "data": {
      "text/html": [
       "<div>\n",
       "<style scoped>\n",
       "    .dataframe tbody tr th:only-of-type {\n",
       "        vertical-align: middle;\n",
       "    }\n",
       "\n",
       "    .dataframe tbody tr th {\n",
       "        vertical-align: top;\n",
       "    }\n",
       "\n",
       "    .dataframe thead th {\n",
       "        text-align: right;\n",
       "    }\n",
       "</style>\n",
       "<table border=\"1\" class=\"dataframe\">\n",
       "  <thead>\n",
       "    <tr style=\"text-align: right;\">\n",
       "      <th></th>\n",
       "      <th>name</th>\n",
       "      <th>latlng</th>\n",
       "    </tr>\n",
       "  </thead>\n",
       "  <tbody>\n",
       "    <tr>\n",
       "      <th>0</th>\n",
       "      <td>ça Va</td>\n",
       "      <td>[-8.095537, -34.884008]</td>\n",
       "    </tr>\n",
       "    <tr>\n",
       "      <th>1</th>\n",
       "      <td>Ca Va</td>\n",
       "      <td>[-8.095537, -34.884008]</td>\n",
       "    </tr>\n",
       "  </tbody>\n",
       "</table>\n",
       "</div>"
      ],
      "text/plain": [
       "    name                   latlng\n",
       "0  ça Va  [-8.095537, -34.884008]\n",
       "1  Ca Va  [-8.095537, -34.884008]"
      ]
     },
     "metadata": {},
     "output_type": "display_data"
    },
    {
     "data": {
      "text/html": [
       "<div>\n",
       "<style scoped>\n",
       "    .dataframe tbody tr th:only-of-type {\n",
       "        vertical-align: middle;\n",
       "    }\n",
       "\n",
       "    .dataframe tbody tr th {\n",
       "        vertical-align: top;\n",
       "    }\n",
       "\n",
       "    .dataframe thead th {\n",
       "        text-align: right;\n",
       "    }\n",
       "</style>\n",
       "<table border=\"1\" class=\"dataframe\">\n",
       "  <thead>\n",
       "    <tr style=\"text-align: right;\">\n",
       "      <th></th>\n",
       "      <th>name</th>\n",
       "      <th>latlng</th>\n",
       "    </tr>\n",
       "  </thead>\n",
       "  <tbody>\n",
       "    <tr>\n",
       "      <th>0</th>\n",
       "      <td>ça Va</td>\n",
       "      <td>[-8.095537, -34.884008]</td>\n",
       "    </tr>\n",
       "    <tr>\n",
       "      <th>2</th>\n",
       "      <td>Côté Soleil</td>\n",
       "      <td>[40.7459396, -73.913945]</td>\n",
       "    </tr>\n",
       "  </tbody>\n",
       "</table>\n",
       "</div>"
      ],
      "text/plain": [
       "          name                    latlng\n",
       "0        ça Va   [-8.095537, -34.884008]\n",
       "2  Côté Soleil  [40.7459396, -73.913945]"
      ]
     },
     "metadata": {},
     "output_type": "display_data"
    },
    {
     "data": {
      "text/html": [
       "<div>\n",
       "<style scoped>\n",
       "    .dataframe tbody tr th:only-of-type {\n",
       "        vertical-align: middle;\n",
       "    }\n",
       "\n",
       "    .dataframe tbody tr th {\n",
       "        vertical-align: top;\n",
       "    }\n",
       "\n",
       "    .dataframe thead th {\n",
       "        text-align: right;\n",
       "    }\n",
       "</style>\n",
       "<table border=\"1\" class=\"dataframe\">\n",
       "  <thead>\n",
       "    <tr style=\"text-align: right;\">\n",
       "      <th></th>\n",
       "      <th>name</th>\n",
       "      <th>latlng</th>\n",
       "    </tr>\n",
       "  </thead>\n",
       "  <tbody>\n",
       "    <tr>\n",
       "      <th>0</th>\n",
       "      <td>ça Va</td>\n",
       "      <td>[-8.095537, -34.884008]</td>\n",
       "    </tr>\n",
       "    <tr>\n",
       "      <th>3</th>\n",
       "      <td>cote soleil</td>\n",
       "      <td>[40.7458604, -73.9135648]</td>\n",
       "    </tr>\n",
       "  </tbody>\n",
       "</table>\n",
       "</div>"
      ],
      "text/plain": [
       "          name                     latlng\n",
       "0        ça Va    [-8.095537, -34.884008]\n",
       "3  cote soleil  [40.7458604, -73.9135648]"
      ]
     },
     "metadata": {},
     "output_type": "display_data"
    }
   ],
   "source": [
    "for i, pair in enumerate(all_pairs):\n",
    "    display(df.loc[list(pair)])\n",
    "    if i == 2:\n",
    "        break"
   ]
  },
  {
   "cell_type": "markdown",
   "metadata": {},
   "source": [
    "Representing pairs as pairs of **`dict`** records:"
   ]
  },
  {
   "cell_type": "code",
   "execution_count": 17,
   "metadata": {},
   "outputs": [
    {
     "data": {
      "text/plain": [
       "[{'name': 'Côté Soleil', 'latlng': [40.7459396, -73.913945]},\n",
       " {'name': 'Cafe Harvest', 'latlng': [48.2155105, 16.3798774]}]"
      ]
     },
     "metadata": {},
     "output_type": "display_data"
    }
   ],
   "source": [
    "record_pair = df.loc[list(all_pairs[10])].to_dict(orient='records')\n",
    "display(record_pair)"
   ]
  },
  {
   "cell_type": "markdown",
   "metadata": {},
   "source": [
    "Why? Becuase we'll create **comparison functions** to compare the fields of each record pair:"
   ]
  },
  {
   "cell_type": "code",
   "execution_count": 18,
   "metadata": {},
   "outputs": [],
   "source": [
    "def _compare_name(x, y):\n",
    "    return MongeElkan(\n",
    "        sim_func=Levenshtein().get_sim_score\n",
    "    ).get_raw_score(x.split(), y.split())\n",
    "\n",
    "\n",
    "def _compare_latlng(x, y):\n",
    "    return haversine.haversine(x, y, unit=haversine.Unit.MILES)\n",
    "\n",
    "\n",
    "def compare_pair(record_x, record_y):\n",
    "    return {\n",
    "        'name': _compare_name(record_x['name'], record_y['name']),\n",
    "        'latlng': _compare_latlng(record_x['latlng'], record_y['latlng'])\n",
    "    }"
   ]
  },
  {
   "cell_type": "code",
   "execution_count": 19,
   "metadata": {},
   "outputs": [
    {
     "data": {
      "text/plain": [
       "{'name': 0.20833333333333331, 'latlng': 4217.884141734995}"
      ]
     },
     "execution_count": 19,
     "metadata": {},
     "output_type": "execute_result"
    }
   ],
   "source": [
    "compare_pair(*record_pair)"
   ]
  },
  {
   "cell_type": "markdown",
   "metadata": {},
   "source": [
    "This example pair has low name similarity and distant addresses, so it's clearly a **non-match**.\n",
    "\n",
    "Now let's score all pairs:"
   ]
  },
  {
   "cell_type": "code",
   "execution_count": 20,
   "metadata": {},
   "outputs": [
    {
     "data": {
      "text/html": [
       "<div>\n",
       "<style scoped>\n",
       "    .dataframe tbody tr th:only-of-type {\n",
       "        vertical-align: middle;\n",
       "    }\n",
       "\n",
       "    .dataframe tbody tr th {\n",
       "        vertical-align: top;\n",
       "    }\n",
       "\n",
       "    .dataframe thead th {\n",
       "        text-align: right;\n",
       "    }\n",
       "</style>\n",
       "<table border=\"1\" class=\"dataframe\">\n",
       "  <thead>\n",
       "    <tr style=\"text-align: right;\">\n",
       "      <th></th>\n",
       "      <th></th>\n",
       "      <th>name</th>\n",
       "      <th>latlng</th>\n",
       "    </tr>\n",
       "  </thead>\n",
       "  <tbody>\n",
       "    <tr>\n",
       "      <th rowspan=\"5\" valign=\"top\">0</th>\n",
       "      <th>1</th>\n",
       "      <td>0.750000</td>\n",
       "      <td>0.000000</td>\n",
       "    </tr>\n",
       "    <tr>\n",
       "      <th>2</th>\n",
       "      <td>0.000000</td>\n",
       "      <td>4187.788495</td>\n",
       "    </tr>\n",
       "    <tr>\n",
       "      <th>3</th>\n",
       "      <td>0.000000</td>\n",
       "      <td>4187.770432</td>\n",
       "    </tr>\n",
       "    <tr>\n",
       "      <th>4</th>\n",
       "      <td>0.250000</td>\n",
       "      <td>4979.854907</td>\n",
       "    </tr>\n",
       "    <tr>\n",
       "      <th>5</th>\n",
       "      <td>0.250000</td>\n",
       "      <td>4979.854907</td>\n",
       "    </tr>\n",
       "    <tr>\n",
       "      <th rowspan=\"4\" valign=\"top\">1</th>\n",
       "      <th>2</th>\n",
       "      <td>0.125000</td>\n",
       "      <td>4187.788495</td>\n",
       "    </tr>\n",
       "    <tr>\n",
       "      <th>3</th>\n",
       "      <td>0.000000</td>\n",
       "      <td>4187.770432</td>\n",
       "    </tr>\n",
       "    <tr>\n",
       "      <th>4</th>\n",
       "      <td>0.375000</td>\n",
       "      <td>4979.854907</td>\n",
       "    </tr>\n",
       "    <tr>\n",
       "      <th>5</th>\n",
       "      <td>0.375000</td>\n",
       "      <td>4979.854907</td>\n",
       "    </tr>\n",
       "    <tr>\n",
       "      <th rowspan=\"3\" valign=\"top\">2</th>\n",
       "      <th>3</th>\n",
       "      <td>0.541667</td>\n",
       "      <td>0.020641</td>\n",
       "    </tr>\n",
       "    <tr>\n",
       "      <th>4</th>\n",
       "      <td>0.208333</td>\n",
       "      <td>4217.884142</td>\n",
       "    </tr>\n",
       "    <tr>\n",
       "      <th>5</th>\n",
       "      <td>0.321429</td>\n",
       "      <td>4217.884142</td>\n",
       "    </tr>\n",
       "    <tr>\n",
       "      <th rowspan=\"2\" valign=\"top\">3</th>\n",
       "      <th>4</th>\n",
       "      <td>0.208333</td>\n",
       "      <td>4217.872533</td>\n",
       "    </tr>\n",
       "    <tr>\n",
       "      <th>5</th>\n",
       "      <td>0.142857</td>\n",
       "      <td>4217.872533</td>\n",
       "    </tr>\n",
       "    <tr>\n",
       "      <th>4</th>\n",
       "      <th>5</th>\n",
       "      <td>0.875000</td>\n",
       "      <td>0.000000</td>\n",
       "    </tr>\n",
       "  </tbody>\n",
       "</table>\n",
       "</div>"
      ],
      "text/plain": [
       "         name       latlng\n",
       "0 1  0.750000     0.000000\n",
       "  2  0.000000  4187.788495\n",
       "  3  0.000000  4187.770432\n",
       "  4  0.250000  4979.854907\n",
       "  5  0.250000  4979.854907\n",
       "1 2  0.125000  4187.788495\n",
       "  3  0.000000  4187.770432\n",
       "  4  0.375000  4979.854907\n",
       "  5  0.375000  4979.854907\n",
       "2 3  0.541667     0.020641\n",
       "  4  0.208333  4217.884142\n",
       "  5  0.321429  4217.884142\n",
       "3 4  0.208333  4217.872533\n",
       "  5  0.142857  4217.872533\n",
       "4 5  0.875000     0.000000"
      ]
     },
     "execution_count": 20,
     "metadata": {},
     "output_type": "execute_result"
    }
   ],
   "source": [
    "pair_scores = []\n",
    "\n",
    "for pair in all_pairs:\n",
    "    record_x, record_y = df.loc[list(pair)].to_dict(orient='record')\n",
    "    score_dict = compare_pair(record_x, record_y)\n",
    "    pair_scores.append(score_dict)\n",
    "\n",
    "score_df = pd.DataFrame.from_records(\n",
    "    pair_scores,\n",
    "    index=pd.MultiIndex.from_tuples(all_pairs)\n",
    ")\n",
    "score_df"
   ]
  },
  {
   "cell_type": "markdown",
   "metadata": {},
   "source": [
    "Let's filter the comparison result to look for matches.  "
   ]
  },
  {
   "cell_type": "code",
   "execution_count": 21,
   "metadata": {},
   "outputs": [
    {
     "data": {
      "text/html": [
       "<div>\n",
       "<style scoped>\n",
       "    .dataframe tbody tr th:only-of-type {\n",
       "        vertical-align: middle;\n",
       "    }\n",
       "\n",
       "    .dataframe tbody tr th {\n",
       "        vertical-align: top;\n",
       "    }\n",
       "\n",
       "    .dataframe thead th {\n",
       "        text-align: right;\n",
       "    }\n",
       "</style>\n",
       "<table border=\"1\" class=\"dataframe\">\n",
       "  <thead>\n",
       "    <tr style=\"text-align: right;\">\n",
       "      <th></th>\n",
       "      <th></th>\n",
       "      <th>name</th>\n",
       "      <th>latlng</th>\n",
       "    </tr>\n",
       "  </thead>\n",
       "  <tbody>\n",
       "    <tr>\n",
       "      <th>0</th>\n",
       "      <th>1</th>\n",
       "      <td>0.750000</td>\n",
       "      <td>0.000000</td>\n",
       "    </tr>\n",
       "    <tr>\n",
       "      <th>2</th>\n",
       "      <th>3</th>\n",
       "      <td>0.541667</td>\n",
       "      <td>0.020641</td>\n",
       "    </tr>\n",
       "    <tr>\n",
       "      <th>4</th>\n",
       "      <th>5</th>\n",
       "      <td>0.875000</td>\n",
       "      <td>0.000000</td>\n",
       "    </tr>\n",
       "  </tbody>\n",
       "</table>\n",
       "</div>"
      ],
      "text/plain": [
       "         name    latlng\n",
       "0 1  0.750000  0.000000\n",
       "2 3  0.541667  0.020641\n",
       "4 5  0.875000  0.000000"
      ]
     },
     "execution_count": 21,
     "metadata": {},
     "output_type": "execute_result"
    }
   ],
   "source": [
    "match_df = score_df.loc[(score_df['name'] >= 0.5) & (score_df['latlng'] < 1)]\n",
    "match_df"
   ]
  },
  {
   "cell_type": "code",
   "execution_count": 22,
   "metadata": {},
   "outputs": [
    {
     "data": {
      "text/html": [
       "<div>\n",
       "<style scoped>\n",
       "    .dataframe tbody tr th:only-of-type {\n",
       "        vertical-align: middle;\n",
       "    }\n",
       "\n",
       "    .dataframe tbody tr th {\n",
       "        vertical-align: top;\n",
       "    }\n",
       "\n",
       "    .dataframe thead th {\n",
       "        text-align: right;\n",
       "    }\n",
       "</style>\n",
       "<table border=\"1\" class=\"dataframe\">\n",
       "  <thead>\n",
       "    <tr style=\"text-align: right;\">\n",
       "      <th></th>\n",
       "      <th>name</th>\n",
       "      <th>latlng</th>\n",
       "    </tr>\n",
       "  </thead>\n",
       "  <tbody>\n",
       "    <tr>\n",
       "      <th>0</th>\n",
       "      <td>ça Va</td>\n",
       "      <td>[-8.095537, -34.884008]</td>\n",
       "    </tr>\n",
       "    <tr>\n",
       "      <th>1</th>\n",
       "      <td>Ca Va</td>\n",
       "      <td>[-8.095537, -34.884008]</td>\n",
       "    </tr>\n",
       "  </tbody>\n",
       "</table>\n",
       "</div>"
      ],
      "text/plain": [
       "    name                   latlng\n",
       "0  ça Va  [-8.095537, -34.884008]\n",
       "1  Ca Va  [-8.095537, -34.884008]"
      ]
     },
     "metadata": {},
     "output_type": "display_data"
    },
    {
     "data": {
      "text/html": [
       "<div>\n",
       "<style scoped>\n",
       "    .dataframe tbody tr th:only-of-type {\n",
       "        vertical-align: middle;\n",
       "    }\n",
       "\n",
       "    .dataframe tbody tr th {\n",
       "        vertical-align: top;\n",
       "    }\n",
       "\n",
       "    .dataframe thead th {\n",
       "        text-align: right;\n",
       "    }\n",
       "</style>\n",
       "<table border=\"1\" class=\"dataframe\">\n",
       "  <thead>\n",
       "    <tr style=\"text-align: right;\">\n",
       "      <th></th>\n",
       "      <th>name</th>\n",
       "      <th>latlng</th>\n",
       "    </tr>\n",
       "  </thead>\n",
       "  <tbody>\n",
       "    <tr>\n",
       "      <th>2</th>\n",
       "      <td>Côté Soleil</td>\n",
       "      <td>[40.7459396, -73.913945]</td>\n",
       "    </tr>\n",
       "    <tr>\n",
       "      <th>3</th>\n",
       "      <td>cote soleil</td>\n",
       "      <td>[40.7458604, -73.9135648]</td>\n",
       "    </tr>\n",
       "  </tbody>\n",
       "</table>\n",
       "</div>"
      ],
      "text/plain": [
       "          name                     latlng\n",
       "2  Côté Soleil   [40.7459396, -73.913945]\n",
       "3  cote soleil  [40.7458604, -73.9135648]"
      ]
     },
     "metadata": {},
     "output_type": "display_data"
    },
    {
     "data": {
      "text/html": [
       "<div>\n",
       "<style scoped>\n",
       "    .dataframe tbody tr th:only-of-type {\n",
       "        vertical-align: middle;\n",
       "    }\n",
       "\n",
       "    .dataframe tbody tr th {\n",
       "        vertical-align: top;\n",
       "    }\n",
       "\n",
       "    .dataframe thead th {\n",
       "        text-align: right;\n",
       "    }\n",
       "</style>\n",
       "<table border=\"1\" class=\"dataframe\">\n",
       "  <thead>\n",
       "    <tr style=\"text-align: right;\">\n",
       "      <th></th>\n",
       "      <th>name</th>\n",
       "      <th>latlng</th>\n",
       "    </tr>\n",
       "  </thead>\n",
       "  <tbody>\n",
       "    <tr>\n",
       "      <th>4</th>\n",
       "      <td>Cafe Harvest</td>\n",
       "      <td>[48.2155105, 16.3798774]</td>\n",
       "    </tr>\n",
       "    <tr>\n",
       "      <th>5</th>\n",
       "      <td>Harvest Café</td>\n",
       "      <td>[48.2155105, 16.3798774]</td>\n",
       "    </tr>\n",
       "  </tbody>\n",
       "</table>\n",
       "</div>"
      ],
      "text/plain": [
       "           name                    latlng\n",
       "4  Cafe Harvest  [48.2155105, 16.3798774]\n",
       "5  Harvest Café  [48.2155105, 16.3798774]"
      ]
     },
     "metadata": {},
     "output_type": "display_data"
    }
   ],
   "source": [
    "for pair in match_df.index:\n",
    "    display(df.loc[list(pair)])"
   ]
  },
  {
   "cell_type": "markdown",
   "metadata": {
    "slideshow": {
     "slide_type": "slide"
    }
   },
   "source": [
    "For 6 records is fine to compare all against all: we get 15 pairs.  \n",
    "But for **1 million records** we would get almost **500 BILLION pairs**."
   ]
  },
  {
   "cell_type": "markdown",
   "metadata": {
    "slideshow": {
     "slide_type": "slide"
    }
   },
   "source": [
    "The number of pairs grows too fast as the number of records grows:  \n",
    "it **grows quadratically** with the formula `len(score_df) = len(df) * (len(df) - 1) / 2`\n",
    "\n",
    "To avoid wasting too much time comparing a lot of pairs, we need **blocking**.  \n",
    "We need to produce only pairs that are **good candidates** of being duplicates."
   ]
  },
  {
   "cell_type": "markdown",
   "metadata": {
    "slideshow": {
     "slide_type": "slide"
    }
   },
   "source": [
    "## Fingerprinting and Blocking"
   ]
  },
  {
   "cell_type": "markdown",
   "metadata": {},
   "source": [
    "What would be a good way of blocking **restaurant names**?"
   ]
  },
  {
   "cell_type": "code",
   "execution_count": 23,
   "metadata": {
    "slideshow": {
     "slide_type": "slide"
    }
   },
   "outputs": [
    {
     "data": {
      "text/plain": [
       "['ça Va',\n",
       " 'Ca Va',\n",
       " 'Côté Soleil',\n",
       " 'cote soleil',\n",
       " 'Cafe Harvest',\n",
       " 'Harvest Café']"
      ]
     },
     "execution_count": 23,
     "metadata": {},
     "output_type": "execute_result"
    }
   ],
   "source": [
    "list(df.name.values)"
   ]
  },
  {
   "cell_type": "markdown",
   "metadata": {},
   "source": [
    "We need a **fingerprint** function that cleans up irrelevant name variations."
   ]
  },
  {
   "cell_type": "code",
   "execution_count": 24,
   "metadata": {},
   "outputs": [
    {
     "data": {
      "text/plain": [
       "'cafe harvest'"
      ]
     },
     "execution_count": 24,
     "metadata": {},
     "output_type": "execute_result"
    }
   ],
   "source": [
    "import re\n",
    "\n",
    "def name_fingerprint(name):\n",
    "    name = unidecode.unidecode(name)\n",
    "    name = name.lower()\n",
    "    name = ' '.join(sorted(name.split()))\n",
    "    name = re.sub('[^0-9a-zA-Z ]+', '', name)\n",
    "    return name\n",
    "\n",
    "name_fingerprint(\"Harvest Café\")"
   ]
  },
  {
   "cell_type": "code",
   "execution_count": 25,
   "metadata": {},
   "outputs": [
    {
     "data": {
      "text/html": [
       "<div>\n",
       "<style scoped>\n",
       "    .dataframe tbody tr th:only-of-type {\n",
       "        vertical-align: middle;\n",
       "    }\n",
       "\n",
       "    .dataframe tbody tr th {\n",
       "        vertical-align: top;\n",
       "    }\n",
       "\n",
       "    .dataframe thead th {\n",
       "        text-align: right;\n",
       "    }\n",
       "</style>\n",
       "<table border=\"1\" class=\"dataframe\">\n",
       "  <thead>\n",
       "    <tr style=\"text-align: right;\">\n",
       "      <th></th>\n",
       "      <th>name</th>\n",
       "      <th>latlng</th>\n",
       "      <th>name_fingerprint</th>\n",
       "    </tr>\n",
       "  </thead>\n",
       "  <tbody>\n",
       "    <tr>\n",
       "      <th>0</th>\n",
       "      <td>ça Va</td>\n",
       "      <td>[-8.095537, -34.884008]</td>\n",
       "      <td>ca va</td>\n",
       "    </tr>\n",
       "    <tr>\n",
       "      <th>1</th>\n",
       "      <td>Ca Va</td>\n",
       "      <td>[-8.095537, -34.884008]</td>\n",
       "      <td>ca va</td>\n",
       "    </tr>\n",
       "    <tr>\n",
       "      <th>2</th>\n",
       "      <td>Côté Soleil</td>\n",
       "      <td>[40.7459396, -73.913945]</td>\n",
       "      <td>cote soleil</td>\n",
       "    </tr>\n",
       "    <tr>\n",
       "      <th>3</th>\n",
       "      <td>cote soleil</td>\n",
       "      <td>[40.7458604, -73.9135648]</td>\n",
       "      <td>cote soleil</td>\n",
       "    </tr>\n",
       "    <tr>\n",
       "      <th>4</th>\n",
       "      <td>Cafe Harvest</td>\n",
       "      <td>[48.2155105, 16.3798774]</td>\n",
       "      <td>cafe harvest</td>\n",
       "    </tr>\n",
       "    <tr>\n",
       "      <th>5</th>\n",
       "      <td>Harvest Café</td>\n",
       "      <td>[48.2155105, 16.3798774]</td>\n",
       "      <td>cafe harvest</td>\n",
       "    </tr>\n",
       "  </tbody>\n",
       "</table>\n",
       "</div>"
      ],
      "text/plain": [
       "           name                     latlng name_fingerprint\n",
       "0         ça Va    [-8.095537, -34.884008]            ca va\n",
       "1         Ca Va    [-8.095537, -34.884008]            ca va\n",
       "2   Côté Soleil   [40.7459396, -73.913945]      cote soleil\n",
       "3   cote soleil  [40.7458604, -73.9135648]      cote soleil\n",
       "4  Cafe Harvest   [48.2155105, 16.3798774]     cafe harvest\n",
       "5  Harvest Café   [48.2155105, 16.3798774]     cafe harvest"
      ]
     },
     "execution_count": 25,
     "metadata": {},
     "output_type": "execute_result"
    }
   ],
   "source": [
    "df = df.assign(name_fingerprint=df.name.apply(name_fingerprint))\n",
    "df"
   ]
  },
  {
   "cell_type": "code",
   "execution_count": 26,
   "metadata": {},
   "outputs": [
    {
     "data": {
      "text/plain": [
       "{'ca va': array([0, 1]),\n",
       " 'cafe harvest': array([4, 5]),\n",
       " 'cote soleil': array([2, 3])}"
      ]
     },
     "execution_count": 26,
     "metadata": {},
     "output_type": "execute_result"
    }
   ],
   "source": [
    "df.groupby('name_fingerprint').indices"
   ]
  },
  {
   "cell_type": "markdown",
   "metadata": {},
   "source": [
    "### Examples of fingerprints\n",
    "\n",
    "#### Strings\n",
    "- Ordered tokens\n",
    "- Common token\n",
    "- First N tokens\n",
    "- N-chars prefix/suffix\n",
    "- Acronym\n",
    "- [Phonetic encoding](https://abydos.readthedocs.io/en/latest/abydos.phonetic.html)\n",
    "\n",
    "#### Lat-lngs\n",
    "- [Grid](https://github.com/dedupeio/dedupe/blob/7df2ab5ef268080a60e1f3f31248de985d93c598/dedupe/predicates.py#L510-L523)\n",
    "- [Geohash](https://github.com/vinsci/geohash/) prefixes"
   ]
  },
  {
   "cell_type": "markdown",
   "metadata": {},
   "source": [
    "#### Numbers\n",
    "- [Order of magnitude](https://github.com/dedupeio/dedupe/blob/7df2ab5ef268080a60e1f3f31248de985d93c598/dedupe/predicates.py#L526-L530)\n",
    "\n",
    "#### Sets\n",
    "- Any common element\n",
    "- Max element\n",
    "- Min element\n",
    "\n",
    "#### Anything\n",
    "- Exact value"
   ]
  },
  {
   "cell_type": "markdown",
   "metadata": {},
   "source": [
    "But what type fingerprinting would block together approximate matches like `\"Harvest Cafe\"` and `\"Havest Coffee\"`?"
   ]
  },
  {
   "cell_type": "markdown",
   "metadata": {
    "slideshow": {
     "slide_type": "slide"
    }
   },
   "source": [
    "## Approximate Blocking"
   ]
  },
  {
   "cell_type": "code",
   "execution_count": 27,
   "metadata": {},
   "outputs": [],
   "source": [
    "hard_names = [\n",
    "    \"harvest cafe\",\n",
    "    \"havest coffee\",\n",
    "    \"havest cofee\",\n",
    "    \"cote soleil\",\n",
    "    \"cote soliel\",\n",
    "    \"cotee solliel\",\n",
    "    \"ca va\",\n",
    "    \"ca vaa\",\n",
    "]"
   ]
  },
  {
   "cell_type": "code",
   "execution_count": 28,
   "metadata": {},
   "outputs": [
    {
     "data": {
      "text/plain": [
       "array([2, 2, 2, 0, 0, 0, 1, 1])"
      ]
     },
     "metadata": {},
     "output_type": "display_data"
    },
    {
     "data": {
      "text/plain": [
       "array([2, 2, 2, 0, 0, 0, 1, 1])"
      ]
     },
     "metadata": {},
     "output_type": "display_data"
    }
   ],
   "source": [
    "from helpers.tfidf_blocker import block_with_tfidf_ann, block_with_tfidf_brute\n",
    "\n",
    "display(block_with_tfidf_ann(hard_names, threshold=0.5, k=3))\n",
    "display(block_with_tfidf_brute(hard_names, threshold=0.5))"
   ]
  },
  {
   "cell_type": "markdown",
   "metadata": {
    "slideshow": {
     "slide_type": "fragment"
    }
   },
   "source": [
    "Now that we can block well, can we do better on the **classification** of matches vs non-matches?"
   ]
  },
  {
   "cell_type": "markdown",
   "metadata": {},
   "source": [
    "## Classification"
   ]
  },
  {
   "cell_type": "markdown",
   "metadata": {},
   "source": [
    "Remember we just use a simple rule to classify our pairs as matches:"
   ]
  },
  {
   "cell_type": "code",
   "execution_count": 29,
   "metadata": {},
   "outputs": [
    {
     "data": {
      "text/html": [
       "<div>\n",
       "<style scoped>\n",
       "    .dataframe tbody tr th:only-of-type {\n",
       "        vertical-align: middle;\n",
       "    }\n",
       "\n",
       "    .dataframe tbody tr th {\n",
       "        vertical-align: top;\n",
       "    }\n",
       "\n",
       "    .dataframe thead th {\n",
       "        text-align: right;\n",
       "    }\n",
       "</style>\n",
       "<table border=\"1\" class=\"dataframe\">\n",
       "  <thead>\n",
       "    <tr style=\"text-align: right;\">\n",
       "      <th></th>\n",
       "      <th></th>\n",
       "      <th>name</th>\n",
       "      <th>latlng</th>\n",
       "    </tr>\n",
       "  </thead>\n",
       "  <tbody>\n",
       "    <tr>\n",
       "      <th>0</th>\n",
       "      <th>1</th>\n",
       "      <td>0.750000</td>\n",
       "      <td>0.000000</td>\n",
       "    </tr>\n",
       "    <tr>\n",
       "      <th>2</th>\n",
       "      <th>3</th>\n",
       "      <td>0.541667</td>\n",
       "      <td>0.020641</td>\n",
       "    </tr>\n",
       "    <tr>\n",
       "      <th>4</th>\n",
       "      <th>5</th>\n",
       "      <td>0.875000</td>\n",
       "      <td>0.000000</td>\n",
       "    </tr>\n",
       "  </tbody>\n",
       "</table>\n",
       "</div>"
      ],
      "text/plain": [
       "         name    latlng\n",
       "0 1  0.750000  0.000000\n",
       "2 3  0.541667  0.020641\n",
       "4 5  0.875000  0.000000"
      ]
     },
     "execution_count": 29,
     "metadata": {},
     "output_type": "execute_result"
    }
   ],
   "source": [
    "match_df = score_df.loc[(score_df['name'] >= 0.5) & (score_df['latlng'] < 1)]\n",
    "match_df"
   ]
  },
  {
   "cell_type": "markdown",
   "metadata": {},
   "source": [
    "That can work well on simple and small datasets, but for complex and larger ones, a **Machine Learning** classifier can help us to define which pairs are matches or not:"
   ]
  },
  {
   "cell_type": "markdown",
   "metadata": {
    "slideshow": {
     "slide_type": "subslide"
    }
   },
   "source": [
    "```python\n",
    "matches_index = classifier.predict(match_df)\n",
    "```"
   ]
  },
  {
   "cell_type": "markdown",
   "metadata": {
    "slideshow": {
     "slide_type": "-"
    }
   },
   "source": [
    "The problem is: how to train that classifier?  \n",
    "It can be challanging to **manually find matching pairs** in a gigantic dataset, becuase the number of matching pairs tends to be much smaller than the non-matching pairs."
   ]
  },
  {
   "cell_type": "markdown",
   "metadata": {
    "slideshow": {
     "slide_type": "slide"
    }
   },
   "source": [
    "## Active Learning"
   ]
  },
  {
   "cell_type": "markdown",
   "metadata": {
    "slideshow": {
     "slide_type": "fragment"
    }
   },
   "source": [
    "Custom dataset based on [Restaurant](https://www.cs.utexas.edu/users/ml/riddle/data.html) dataset:\n",
    "- a well-known dataset used by researchers\n",
    "- made of 881 restaurant records from the Fodor's and Zagat's restaurant guides\n",
    "- contains 150 duplicates"
   ]
  },
  {
   "cell_type": "markdown",
   "metadata": {
    "slideshow": {
     "slide_type": "skip"
    }
   },
   "source": [
    "\\* We've introduced some changes that you can check by doing a `diff restaurant.original.csv restaurant.csv`"
   ]
  },
  {
   "cell_type": "code",
   "execution_count": 30,
   "metadata": {
    "slideshow": {
     "slide_type": "slide"
    }
   },
   "outputs": [
    {
     "data": {
      "text/html": [
       "<div>\n",
       "<style scoped>\n",
       "    .dataframe tbody tr th:only-of-type {\n",
       "        vertical-align: middle;\n",
       "    }\n",
       "\n",
       "    .dataframe tbody tr th {\n",
       "        vertical-align: top;\n",
       "    }\n",
       "\n",
       "    .dataframe thead th {\n",
       "        text-align: right;\n",
       "    }\n",
       "</style>\n",
       "<table border=\"1\" class=\"dataframe\">\n",
       "  <thead>\n",
       "    <tr style=\"text-align: right;\">\n",
       "      <th></th>\n",
       "      <th>name</th>\n",
       "      <th>addr</th>\n",
       "      <th>city</th>\n",
       "      <th>phone</th>\n",
       "      <th>type</th>\n",
       "      <th>cluster</th>\n",
       "    </tr>\n",
       "  </thead>\n",
       "  <tbody>\n",
       "    <tr>\n",
       "      <th>0</th>\n",
       "      <td>arnie morton's of chicago</td>\n",
       "      <td>435 s. la cienega blv.</td>\n",
       "      <td>los angeles</td>\n",
       "      <td>310/246-1501</td>\n",
       "      <td>american</td>\n",
       "      <td>0</td>\n",
       "    </tr>\n",
       "    <tr>\n",
       "      <th>1</th>\n",
       "      <td>arnie morton's of chicago</td>\n",
       "      <td>435 s. la cienega blvd.</td>\n",
       "      <td>los angeles</td>\n",
       "      <td>310-246-1501</td>\n",
       "      <td>steakhouses</td>\n",
       "      <td>0</td>\n",
       "    </tr>\n",
       "    <tr>\n",
       "      <th>2</th>\n",
       "      <td>arnie morton</td>\n",
       "      <td>435 s. la cienega boulevard</td>\n",
       "      <td>los angeles</td>\n",
       "      <td>310-246-1501</td>\n",
       "      <td>steakhouses</td>\n",
       "      <td>0</td>\n",
       "    </tr>\n",
       "    <tr>\n",
       "      <th>3</th>\n",
       "      <td>art's delicatessen</td>\n",
       "      <td>12224 ventura blvd.</td>\n",
       "      <td>studio city</td>\n",
       "      <td>818/762-1221</td>\n",
       "      <td>american</td>\n",
       "      <td>1</td>\n",
       "    </tr>\n",
       "    <tr>\n",
       "      <th>4</th>\n",
       "      <td>art's deli</td>\n",
       "      <td>12224 ventura blvd.</td>\n",
       "      <td>studio city</td>\n",
       "      <td>818-762-1221</td>\n",
       "      <td>delis</td>\n",
       "      <td>1</td>\n",
       "    </tr>\n",
       "    <tr>\n",
       "      <th>5</th>\n",
       "      <td>art's deli</td>\n",
       "      <td>12224 ventura blvd.</td>\n",
       "      <td>los angeles</td>\n",
       "      <td>818-762-1221</td>\n",
       "      <td>delis</td>\n",
       "      <td>1</td>\n",
       "    </tr>\n",
       "    <tr>\n",
       "      <th>6</th>\n",
       "      <td>hotel bel-air</td>\n",
       "      <td>701 stone canyon rd.</td>\n",
       "      <td>bel air</td>\n",
       "      <td>310/472-1211</td>\n",
       "      <td>californian</td>\n",
       "      <td>2</td>\n",
       "    </tr>\n",
       "    <tr>\n",
       "      <th>7</th>\n",
       "      <td>bel-air hotel</td>\n",
       "      <td>701 stone canyon rd.</td>\n",
       "      <td>bel air</td>\n",
       "      <td>310-472-1211</td>\n",
       "      <td>californian</td>\n",
       "      <td>2</td>\n",
       "    </tr>\n",
       "    <tr>\n",
       "      <th>8</th>\n",
       "      <td>bel-air</td>\n",
       "      <td>701 stone canyon road</td>\n",
       "      <td>bel air</td>\n",
       "      <td>(310) 472-1211</td>\n",
       "      <td>american</td>\n",
       "      <td>2</td>\n",
       "    </tr>\n",
       "  </tbody>\n",
       "</table>\n",
       "</div>"
      ],
      "text/plain": [
       "                        name                         addr         city  \\\n",
       "0  arnie morton's of chicago       435 s. la cienega blv.  los angeles   \n",
       "1  arnie morton's of chicago      435 s. la cienega blvd.  los angeles   \n",
       "2               arnie morton  435 s. la cienega boulevard  los angeles   \n",
       "3         art's delicatessen          12224 ventura blvd.  studio city   \n",
       "4                 art's deli          12224 ventura blvd.  studio city   \n",
       "5                 art's deli          12224 ventura blvd.  los angeles   \n",
       "6              hotel bel-air         701 stone canyon rd.      bel air   \n",
       "7              bel-air hotel         701 stone canyon rd.      bel air   \n",
       "8                    bel-air        701 stone canyon road      bel air   \n",
       "\n",
       "            phone         type  cluster  \n",
       "0    310/246-1501     american        0  \n",
       "1    310-246-1501  steakhouses        0  \n",
       "2    310-246-1501  steakhouses        0  \n",
       "3    818/762-1221     american        1  \n",
       "4    818-762-1221        delis        1  \n",
       "5    818-762-1221        delis        1  \n",
       "6    310/472-1211  californian        2  \n",
       "7    310-472-1211  californian        2  \n",
       "8  (310) 472-1211     american        2  "
      ]
     },
     "execution_count": 30,
     "metadata": {},
     "output_type": "execute_result"
    }
   ],
   "source": [
    "df_with_truth = pd.read_csv('restaurant.csv', skip_blank_lines=True)\n",
    "df_with_truth.head(9)"
   ]
  },
  {
   "cell_type": "code",
   "execution_count": 31,
   "metadata": {},
   "outputs": [
    {
     "data": {
      "text/plain": [
       "150"
      ]
     },
     "execution_count": 31,
     "metadata": {},
     "output_type": "execute_result"
    }
   ],
   "source": [
    "# TODO: utils pairs from blocks\n",
    "\n",
    "golden_pairs_set = {\n",
    "    tuple(sorted(pair))\n",
    "    for cluster_ids in df_with_truth.groupby('cluster').indices.values()\n",
    "    for pair in itertools.combinations(cluster_ids, 2)\n",
    "}\n",
    "len(golden_pairs_set)"
   ]
  },
  {
   "cell_type": "markdown",
   "metadata": {
    "slideshow": {
     "slide_type": "fragment"
    }
   },
   "source": [
    "The dataset comes with the true matches indicated by the `cluster` column."
   ]
  },
  {
   "cell_type": "markdown",
   "metadata": {
    "slideshow": {
     "slide_type": "slide"
    }
   },
   "source": [
    "We'll also remove the `phone` and `type` to makes things more difficult:"
   ]
  },
  {
   "cell_type": "code",
   "execution_count": 32,
   "metadata": {
    "slideshow": {
     "slide_type": "fragment"
    }
   },
   "outputs": [
    {
     "data": {
      "text/html": [
       "<div>\n",
       "<style scoped>\n",
       "    .dataframe tbody tr th:only-of-type {\n",
       "        vertical-align: middle;\n",
       "    }\n",
       "\n",
       "    .dataframe tbody tr th {\n",
       "        vertical-align: top;\n",
       "    }\n",
       "\n",
       "    .dataframe thead th {\n",
       "        text-align: right;\n",
       "    }\n",
       "</style>\n",
       "<table border=\"1\" class=\"dataframe\">\n",
       "  <thead>\n",
       "    <tr style=\"text-align: right;\">\n",
       "      <th></th>\n",
       "      <th>name</th>\n",
       "      <th>addr</th>\n",
       "      <th>city</th>\n",
       "    </tr>\n",
       "  </thead>\n",
       "  <tbody>\n",
       "    <tr>\n",
       "      <th>0</th>\n",
       "      <td>arnie morton's of chicago</td>\n",
       "      <td>435 s. la cienega blv.</td>\n",
       "      <td>los angeles</td>\n",
       "    </tr>\n",
       "    <tr>\n",
       "      <th>1</th>\n",
       "      <td>arnie morton's of chicago</td>\n",
       "      <td>435 s. la cienega blvd.</td>\n",
       "      <td>los angeles</td>\n",
       "    </tr>\n",
       "    <tr>\n",
       "      <th>2</th>\n",
       "      <td>arnie morton</td>\n",
       "      <td>435 s. la cienega boulevard</td>\n",
       "      <td>los angeles</td>\n",
       "    </tr>\n",
       "    <tr>\n",
       "      <th>3</th>\n",
       "      <td>art's delicatessen</td>\n",
       "      <td>12224 ventura blvd.</td>\n",
       "      <td>studio city</td>\n",
       "    </tr>\n",
       "    <tr>\n",
       "      <th>4</th>\n",
       "      <td>art's deli</td>\n",
       "      <td>12224 ventura blvd.</td>\n",
       "      <td>studio city</td>\n",
       "    </tr>\n",
       "    <tr>\n",
       "      <th>5</th>\n",
       "      <td>art's deli</td>\n",
       "      <td>12224 ventura blvd.</td>\n",
       "      <td>los angeles</td>\n",
       "    </tr>\n",
       "    <tr>\n",
       "      <th>6</th>\n",
       "      <td>hotel bel-air</td>\n",
       "      <td>701 stone canyon rd.</td>\n",
       "      <td>bel air</td>\n",
       "    </tr>\n",
       "    <tr>\n",
       "      <th>7</th>\n",
       "      <td>bel-air hotel</td>\n",
       "      <td>701 stone canyon rd.</td>\n",
       "      <td>bel air</td>\n",
       "    </tr>\n",
       "    <tr>\n",
       "      <th>8</th>\n",
       "      <td>bel-air</td>\n",
       "      <td>701 stone canyon road</td>\n",
       "      <td>bel air</td>\n",
       "    </tr>\n",
       "  </tbody>\n",
       "</table>\n",
       "</div>"
      ],
      "text/plain": [
       "                        name                         addr         city\n",
       "0  arnie morton's of chicago       435 s. la cienega blv.  los angeles\n",
       "1  arnie morton's of chicago      435 s. la cienega blvd.  los angeles\n",
       "2               arnie morton  435 s. la cienega boulevard  los angeles\n",
       "3         art's delicatessen          12224 ventura blvd.  studio city\n",
       "4                 art's deli          12224 ventura blvd.  studio city\n",
       "5                 art's deli          12224 ventura blvd.  los angeles\n",
       "6              hotel bel-air         701 stone canyon rd.      bel air\n",
       "7              bel-air hotel         701 stone canyon rd.      bel air\n",
       "8                    bel-air        701 stone canyon road      bel air"
      ]
     },
     "execution_count": 32,
     "metadata": {},
     "output_type": "execute_result"
    }
   ],
   "source": [
    "df = df_with_truth.drop(columns=['cluster', 'phone', 'type'])\n",
    "df.head(9)"
   ]
  },
  {
   "cell_type": "markdown",
   "metadata": {
    "slideshow": {
     "slide_type": "slide"
    }
   },
   "source": [
    "Geocoding `addr`:"
   ]
  },
  {
   "cell_type": "code",
   "execution_count": 33,
   "metadata": {
    "slideshow": {
     "slide_type": "skip"
    }
   },
   "outputs": [
    {
     "name": "stdout",
     "output_type": "stream",
     "text": [
      "881 819\n"
     ]
    }
   ],
   "source": [
    "import numpy as np\n",
    "\n",
    "all_addresses = df['addr'].str.cat(df['city'], sep=', ').values\n",
    "unique_addresses = np.unique(all_addresses)\n",
    "print(len(all_addresses), len(unique_addresses))"
   ]
  },
  {
   "cell_type": "code",
   "execution_count": 34,
   "metadata": {
    "slideshow": {
     "slide_type": "skip"
    }
   },
   "outputs": [
    {
     "name": "stdout",
     "output_type": "stream",
     "text": [
      "Failed to get postal from 10\n",
      "Failed to get latlng from 0\n"
     ]
    }
   ],
   "source": [
    "import requests\n",
    "import os.path\n",
    "import json\n",
    "\n",
    "geocoding_filename = 'address_to_geocoding.json'\n",
    "\n",
    "def geocode_addresses(address_to_geocoding):\n",
    "    remaining_addresses = (\n",
    "        set(unique_addresses) -\n",
    "        set(k for k, v in address_to_geocoding.items() if v is not None and 'lat' in v))\n",
    "\n",
    "    with requests.Session() as session:\n",
    "        for i, address in enumerate(remaining_addresses):\n",
    "            print(f\"Geocoding {i + 1}/{len(remaining_addresses)}\")\n",
    "            geocode_result = geocoder.google(address, session=session)\n",
    "            address_to_geocoding[address] = geocode_result.json\n",
    "\n",
    "        with open(geocoding_filename, 'w') as f:\n",
    "            json.dump(address_to_geocoding, f, indent=4)\n",
    "\n",
    "if not os.path.exists(geocoding_filename):\n",
    "    address_to_geocoding = {}\n",
    "    geocode_addresses(address_to_geocoding)\n",
    "else:\n",
    "    with open(geocoding_filename) as f:\n",
    "        address_to_geocoding = json.load(f)\n",
    "    geocode_addresses(address_to_geocoding)\n",
    " \n",
    "address_to_postal = {\n",
    "    k: v['postal']\n",
    "    for k, v in address_to_geocoding.items()\n",
    "    if v is not None and 'postal' in v\n",
    "}\n",
    "address_to_latlng = {\n",
    "    k: (v['lat'], v['lng'])\n",
    "    for k, v in address_to_geocoding.items()\n",
    "    if v is not None\n",
    "}\n",
    "print(f\"Failed to get postal from {len(address_to_geocoding) - len(address_to_postal)}\")\n",
    "print(f\"Failed to get latlng from {len(address_to_geocoding) - len(address_to_latlng)}\")"
   ]
  },
  {
   "cell_type": "code",
   "execution_count": 35,
   "metadata": {
    "scrolled": false,
    "slideshow": {
     "slide_type": "slide"
    }
   },
   "outputs": [
    {
     "data": {
      "text/html": [
       "<div>\n",
       "<style scoped>\n",
       "    .dataframe tbody tr th:only-of-type {\n",
       "        vertical-align: middle;\n",
       "    }\n",
       "\n",
       "    .dataframe tbody tr th {\n",
       "        vertical-align: top;\n",
       "    }\n",
       "\n",
       "    .dataframe thead th {\n",
       "        text-align: right;\n",
       "    }\n",
       "</style>\n",
       "<table border=\"1\" class=\"dataframe\">\n",
       "  <thead>\n",
       "    <tr style=\"text-align: right;\">\n",
       "      <th></th>\n",
       "      <th>name</th>\n",
       "      <th>addr</th>\n",
       "      <th>city</th>\n",
       "      <th>postal</th>\n",
       "      <th>latlng</th>\n",
       "    </tr>\n",
       "  </thead>\n",
       "  <tbody>\n",
       "    <tr>\n",
       "      <th>0</th>\n",
       "      <td>arnie morton's of chicago</td>\n",
       "      <td>435 s. la cienega blv.</td>\n",
       "      <td>los angeles</td>\n",
       "      <td>90048</td>\n",
       "      <td>(34.0707083, -118.3765626)</td>\n",
       "    </tr>\n",
       "    <tr>\n",
       "      <th>1</th>\n",
       "      <td>arnie morton's of chicago</td>\n",
       "      <td>435 s. la cienega blvd.</td>\n",
       "      <td>los angeles</td>\n",
       "      <td>90048</td>\n",
       "      <td>(34.0707083, -118.3765626)</td>\n",
       "    </tr>\n",
       "    <tr>\n",
       "      <th>2</th>\n",
       "      <td>arnie morton</td>\n",
       "      <td>435 s. la cienega boulevard</td>\n",
       "      <td>los angeles</td>\n",
       "      <td>90048</td>\n",
       "      <td>(34.0707083, -118.3765626)</td>\n",
       "    </tr>\n",
       "    <tr>\n",
       "      <th>3</th>\n",
       "      <td>art's delicatessen</td>\n",
       "      <td>12224 ventura blvd.</td>\n",
       "      <td>studio city</td>\n",
       "      <td>91604</td>\n",
       "      <td>(34.1429632, -118.3994648)</td>\n",
       "    </tr>\n",
       "    <tr>\n",
       "      <th>4</th>\n",
       "      <td>art's deli</td>\n",
       "      <td>12224 ventura blvd.</td>\n",
       "      <td>studio city</td>\n",
       "      <td>91604</td>\n",
       "      <td>(34.1429632, -118.3994648)</td>\n",
       "    </tr>\n",
       "    <tr>\n",
       "      <th>5</th>\n",
       "      <td>art's deli</td>\n",
       "      <td>12224 ventura blvd.</td>\n",
       "      <td>los angeles</td>\n",
       "      <td>91604</td>\n",
       "      <td>(34.1429632, -118.3994648)</td>\n",
       "    </tr>\n",
       "  </tbody>\n",
       "</table>\n",
       "</div>"
      ],
      "text/plain": [
       "                        name                         addr         city postal  \\\n",
       "0  arnie morton's of chicago       435 s. la cienega blv.  los angeles  90048   \n",
       "1  arnie morton's of chicago      435 s. la cienega blvd.  los angeles  90048   \n",
       "2               arnie morton  435 s. la cienega boulevard  los angeles  90048   \n",
       "3         art's delicatessen          12224 ventura blvd.  studio city  91604   \n",
       "4                 art's deli          12224 ventura blvd.  studio city  91604   \n",
       "5                 art's deli          12224 ventura blvd.  los angeles  91604   \n",
       "\n",
       "                       latlng  \n",
       "0  (34.0707083, -118.3765626)  \n",
       "1  (34.0707083, -118.3765626)  \n",
       "2  (34.0707083, -118.3765626)  \n",
       "3  (34.1429632, -118.3994648)  \n",
       "4  (34.1429632, -118.3994648)  \n",
       "5  (34.1429632, -118.3994648)  "
      ]
     },
     "execution_count": 35,
     "metadata": {},
     "output_type": "execute_result"
    }
   ],
   "source": [
    "def assign_postal_latlng(df):\n",
    "    addresses = df['addr'].str.cat(df['city'], sep=', ')\n",
    "    addresses_to_postal = [address_to_postal.get(a) for a in addresses]\n",
    "    addresses_to_latlng = [address_to_latlng[a] if a in address_to_latlng else None for a in addresses]\n",
    "\n",
    "    return df.assign(postal=addresses_to_postal, latlng=addresses_to_latlng)\n",
    "\n",
    "df = assign_postal_latlng(df)\n",
    "df.head(6)"
   ]
  },
  {
   "cell_type": "markdown",
   "metadata": {
    "slideshow": {
     "slide_type": "slide"
    }
   },
   "source": [
    "A Python library called [**Dedupe**](https://docs.dedupe.io/en/latest/index.html) implements that. Let's see it in practice:"
   ]
  },
  {
   "cell_type": "code",
   "execution_count": 36,
   "metadata": {
    "slideshow": {
     "slide_type": "fragment"
    }
   },
   "outputs": [],
   "source": [
    "from rf_dedupe import RFDedupe\n",
    "import dedupe\n",
    "\n",
    "fields = [\n",
    "    {\n",
    "        'field': 'name',\n",
    "        'variable name': 'name',\n",
    "        'type': 'String',\n",
    "    },\n",
    "    {\n",
    "        'field': 'addr',\n",
    "        'variable name': 'addr',\n",
    "        'type': 'String',\n",
    "    },\n",
    "#     {\n",
    "#         'field': 'city',\n",
    "#         'variable name': 'city',\n",
    "#         'type': 'String'\n",
    "#     },\n",
    "    {\n",
    "        'field': 'postal',\n",
    "        'variable name': 'postal',\n",
    "        'type': 'String'\n",
    "    },\n",
    "    {\n",
    "        'field': 'latlng',\n",
    "        'variable name': 'latlng',\n",
    "        'type': 'LatLong'\n",
    "    },\n",
    "]\n",
    "\n",
    "deduper = RFDedupe(fields, num_cores=1)"
   ]
  },
  {
   "cell_type": "code",
   "execution_count": 37,
   "metadata": {
    "slideshow": {
     "slide_type": "skip"
    }
   },
   "outputs": [],
   "source": [
    "import os\n",
    "\n",
    "settings_filename = 'dedupe-2-settings.pickle'\n",
    "if os.path.exists(settings_filename):\n",
    "    with open(settings_filename, 'rb') as sf:\n",
    "        deduper = dedupe.StaticDedupe(sf, num_cores=4)"
   ]
  },
  {
   "cell_type": "markdown",
   "metadata": {
    "slideshow": {
     "slide_type": "skip"
    }
   },
   "source": [
    "We need to **adapt** the data a bit to the format Dedupe wants:"
   ]
  },
  {
   "cell_type": "code",
   "execution_count": 38,
   "metadata": {
    "slideshow": {
     "slide_type": "skip"
    }
   },
   "outputs": [],
   "source": [
    "data_for_dedupe = (\n",
    "    df\n",
    "    .replace({np.nan: None})\n",
    "    .assign(cluster=df_with_truth['cluster'])\n",
    "    .to_dict('index')\n",
    ")"
   ]
  },
  {
   "cell_type": "markdown",
   "metadata": {
    "slideshow": {
     "slide_type": "slide"
    }
   },
   "source": [
    "We train Dedupe by **labeling** the examples of matches and nonmatches it asks us:"
   ]
  },
  {
   "cell_type": "code",
   "execution_count": 39,
   "metadata": {
    "slideshow": {
     "slide_type": "fragment"
    }
   },
   "outputs": [],
   "source": [
    "# deduper.sample(data_for_dedupe)  \n",
    "# dedupe.consoleLabel(deduper)\n",
    "# deduper.train(index_predicates=False)\n",
    "\n",
    "# with open('training-dedupe-2-input-output.txt') as t:\n",
    "#     print('\\n'.join(t.read().split('\\n')[:262]))\n",
    "#     print('...')"
   ]
  },
  {
   "cell_type": "markdown",
   "metadata": {
    "slideshow": {
     "slide_type": "skip"
    }
   },
   "source": [
    "You can check the full training at `training-dedupe-2-input-output.txt`.\n",
    "\n",
    "If you want to train it yourself, do a `rm dedupe-2-settings.pickle dedupe-2-training.json` and run this whole Active Learning session again."
   ]
  },
  {
   "cell_type": "code",
   "execution_count": 40,
   "metadata": {
    "slideshow": {
     "slide_type": "skip"
    }
   },
   "outputs": [],
   "source": [
    "from dedupe.convenience import unique\n",
    "\n",
    "\n",
    "def _get_n_match_n_distinct(training_pairs, examples_buffer):\n",
    "    n_match = (len(deduper.training_pairs['match']) +\n",
    "               sum(label == 'match' for _, label in examples_buffer))\n",
    "    n_distinct = (len(deduper.training_pairs['distinct']) +\n",
    "                  sum(label == 'distinct' for _, label in examples_buffer))\n",
    "    return n_match, n_distinct\n",
    "\n",
    "\n",
    "def auto_label(deduper):\n",
    "    # based on: dedupe.convenience.consoleLabel\n",
    "    fields = unique(field.field\n",
    "                    for field\n",
    "                    in deduper.data_model.primary_fields)\n",
    "    buffer_len = 1\n",
    "    examples_buffer = []\n",
    "    uncertain_pairs = []\n",
    "    n_match, n_distinct = _get_n_match_n_distinct(deduper.training_pairs, examples_buffer)\n",
    "    \n",
    "    while n_match < 20 or n_distinct < 20:\n",
    "        if not uncertain_pairs:\n",
    "            uncertain_pairs = deduper.uncertain_pairs()\n",
    "        record_pair = uncertain_pairs.pop()\n",
    "        \n",
    "        n_match, n_distinct = _get_n_match_n_distinct(deduper.training_pairs, examples_buffer)\n",
    "        \n",
    "        for pair in record_pair:\n",
    "            for field in fields:\n",
    "                line = \"%s : %s\" % (field, pair[field])\n",
    "                print(line)\n",
    "            print()\n",
    "        print(f\"{n_match}/10 positive, {n_distinct}/10 negative\")\n",
    "        print(\"Do these records refer to the same thing?\")\n",
    "        print(\"(y)es / (n)o / (u)nsure / (f)inished\")\n",
    "        \n",
    "        if record_pair[0]['cluster'] == record_pair[1]['cluster']:\n",
    "            print('y')\n",
    "            examples_buffer.insert(0, (record_pair, 'match'))\n",
    "        else:\n",
    "            print('n')\n",
    "            examples_buffer.insert(0, (record_pair, 'distinct'))\n",
    "        print()\n",
    "\n",
    "        if len(examples_buffer) > buffer_len:\n",
    "            record_pair, label = examples_buffer.pop()\n",
    "            if label in ['distinct', 'match']:\n",
    "                examples = {'distinct': [], 'match': []}\n",
    "                examples[label].append(record_pair)\n",
    "                deduper.mark_pairs(examples)\n",
    "    \n",
    "    for record_pair, label in examples_buffer:\n",
    "        if label in ['distinct', 'match']:\n",
    "            examples = {'distinct': [], 'match': []}\n",
    "            examples[label].append(record_pair)\n",
    "            deduper.mark_pairs(examples)"
   ]
  },
  {
   "cell_type": "code",
   "execution_count": 41,
   "metadata": {
    "scrolled": true,
    "slideshow": {
     "slide_type": "skip"
    }
   },
   "outputs": [
    {
     "name": "stdout",
     "output_type": "stream",
     "text": [
      "name : nikolai's roof\n",
      "addr : 255 courtland st.  at harris st.\n",
      "postal : 30303\n",
      "latlng : (33.761546, -84.383562)\n",
      "\n",
      "name : nikolai's roof\n",
      "addr : 255 courtland st.\n",
      "postal : 30303\n",
      "latlng : (33.761546, -84.383562)\n",
      "\n",
      "0/10 positive, 0/10 negative\n",
      "Do these records refer to the same thing?\n",
      "(y)es / (n)o / (u)nsure / (f)inished\n",
      "y\n",
      "\n",
      "name : heera of india\n",
      "addr : 595 piedmont ave.  rio shopping mall\n",
      "postal : 30324\n",
      "latlng : (33.7983364, -84.3710444)\n",
      "\n",
      "name : heera of india\n",
      "addr : 595 piedmont ave.\n",
      "postal : 30308\n",
      "latlng : (33.770298, -84.38112190000001)\n",
      "\n",
      "1/10 positive, 0/10 negative\n",
      "Do these records refer to the same thing?\n",
      "(y)es / (n)o / (u)nsure / (f)inished\n",
      "y\n",
      "\n",
      "name : le montrachet\n",
      "addr : 3000 w. paradise rd.\n",
      "postal : 89109\n",
      "latlng : (36.1362611, -115.1512539)\n",
      "\n",
      "name : le montrachet bistro\n",
      "addr : 3000 paradise rd.\n",
      "postal : 89109\n",
      "latlng : (36.1362611, -115.1512539)\n",
      "\n",
      "2/10 positive, 0/10 negative\n",
      "Do these records refer to the same thing?\n",
      "(y)es / (n)o / (u)nsure / (f)inished\n",
      "y\n",
      "\n",
      "name : fenix\n",
      "addr : 8358 sunset blvd.\n",
      "postal : 90069\n",
      "latlng : (34.0951411, -118.3720244)\n",
      "\n",
      "name : fenix at the argyle\n",
      "addr : 8358 sunset blvd.\n",
      "postal : 90069\n",
      "latlng : (34.0951411, -118.3720244)\n",
      "\n",
      "3/10 positive, 0/10 negative\n",
      "Do these records refer to the same thing?\n",
      "(y)es / (n)o / (u)nsure / (f)inished\n",
      "y\n",
      "\n",
      "name : postrio\n",
      "addr : 545 post st.\n",
      "postal : 94102\n",
      "latlng : (37.78783320000001, -122.4107721)\n",
      "\n",
      "name : postrio\n",
      "addr : 545 post st.\n",
      "postal : 94102\n",
      "latlng : (37.78783320000001, -122.4107721)\n",
      "\n",
      "4/10 positive, 0/10 negative\n",
      "Do these records refer to the same thing?\n",
      "(y)es / (n)o / (u)nsure / (f)inished\n",
      "y\n",
      "\n",
      "name : locanda veneta\n",
      "addr : 3rd st.\n",
      "postal : None\n",
      "latlng : (34.0090307, -118.4881742)\n",
      "\n",
      "name : cava\n",
      "addr : 3rd st.\n",
      "postal : None\n",
      "latlng : (34.0090307, -118.4881742)\n",
      "\n",
      "5/10 positive, 0/10 negative\n",
      "Do these records refer to the same thing?\n",
      "(y)es / (n)o / (u)nsure / (f)inished\n",
      "n\n",
      "\n",
      "name : hedgerose heights inn  the\n",
      "addr : 490 e. paces ferry rd. ne\n",
      "postal : 30305\n",
      "latlng : (33.8387692, -84.37190679999999)\n",
      "\n",
      "name : canoe\n",
      "addr : 4199 paces ferry rd.\n",
      "postal : 30339\n",
      "latlng : (33.8599248, -84.4558426)\n",
      "\n",
      "5/10 positive, 1/10 negative\n",
      "Do these records refer to the same thing?\n",
      "(y)es / (n)o / (u)nsure / (f)inished\n",
      "n\n",
      "\n",
      "name : french roast\n",
      "addr : 458 6th ave. at 11th st.\n",
      "postal : 10011\n",
      "latlng : (40.735146, -73.99803790000001)\n",
      "\n",
      "name : french roast cafe\n",
      "addr : 2340 broadway at 85th st.\n",
      "postal : 10024\n",
      "latlng : (40.78764169999999, -73.97659019999999)\n",
      "\n",
      "5/10 positive, 2/10 negative\n",
      "Do these records refer to the same thing?\n",
      "(y)es / (n)o / (u)nsure / (f)inished\n",
      "n\n",
      "\n",
      "name : les celebrites\n",
      "addr : 160 central park s\n",
      "postal : 10019\n",
      "latlng : (40.7660208, -73.97864919999999)\n",
      "\n",
      "name : les celebrites\n",
      "addr : 155 w. 58th st.\n",
      "postal : 10019\n",
      "latlng : (40.7658908, -73.9784202)\n",
      "\n",
      "5/10 positive, 3/10 negative\n",
      "Do these records refer to the same thing?\n",
      "(y)es / (n)o / (u)nsure / (f)inished\n",
      "y\n",
      "\n",
      "name : tavern on the green\n",
      "addr : in central park at 67th st.\n",
      "postal : 10023\n",
      "latlng : (40.7730403, -73.97829449999999)\n",
      "\n",
      "name : tavern on the green\n",
      "addr : central park west\n",
      "postal : None\n",
      "latlng : (40.784612, -73.9698224)\n",
      "\n",
      "6/10 positive, 3/10 negative\n",
      "Do these records refer to the same thing?\n",
      "(y)es / (n)o / (u)nsure / (f)inished\n",
      "y\n",
      "\n",
      "name : smith & wollensky\n",
      "addr : 201 e. 49th st.\n",
      "postal : 10017\n",
      "latlng : (40.755156, -73.9707177)\n",
      "\n",
      "name : smith & wollensky\n",
      "addr : 797 third ave.\n",
      "postal : 10022\n",
      "latlng : (40.7551704, -73.9707437)\n",
      "\n",
      "7/10 positive, 3/10 negative\n",
      "Do these records refer to the same thing?\n",
      "(y)es / (n)o / (u)nsure / (f)inished\n",
      "y\n",
      "\n",
      "name : mesa grill\n",
      "addr : 102 5th ave.  between 15th and 16th sts.\n",
      "postal : 10001\n",
      "latlng : (40.7484405, -73.98566439999999)\n",
      "\n",
      "name : mesa grill\n",
      "addr : 102 fifth ave.\n",
      "postal : 10011\n",
      "latlng : (40.7370445, -73.9931189)\n",
      "\n",
      "8/10 positive, 3/10 negative\n",
      "Do these records refer to the same thing?\n",
      "(y)es / (n)o / (u)nsure / (f)inished\n",
      "y\n",
      "\n",
      "name : rainbow room\n",
      "addr : 30 rockefeller plaza\n",
      "postal : 10111\n",
      "latlng : (40.7593755, -73.9799726)\n",
      "\n",
      "name : rain\n",
      "addr : 100 w. 82nd st.\n",
      "postal : 10024\n",
      "latlng : (40.7839758, -73.9745045)\n",
      "\n",
      "9/10 positive, 3/10 negative\n",
      "Do these records refer to the same thing?\n",
      "(y)es / (n)o / (u)nsure / (f)inished\n",
      "n\n",
      "\n",
      "name : locanda veneta\n",
      "addr : 3rd st.\n",
      "postal : None\n",
      "latlng : (34.0090307, -118.4881742)\n",
      "\n",
      "name : locanda veneta\n",
      "addr : 8638 w. third st.\n",
      "postal : 90048\n",
      "latlng : (34.0734209, -118.3810981)\n",
      "\n",
      "9/10 positive, 4/10 negative\n",
      "Do these records refer to the same thing?\n",
      "(y)es / (n)o / (u)nsure / (f)inished\n",
      "y\n",
      "\n",
      "name : dining room  ritz-carlton  buckhead\n",
      "addr : 3434 peachtree rd.\n",
      "postal : 30326\n",
      "latlng : (33.8504884, -84.3636308)\n",
      "\n",
      "name : dante's down the hatch  buckhead\n",
      "addr : 3380 peachtree rd.\n",
      "postal : 30326\n",
      "latlng : (33.8496311, -84.3660752)\n",
      "\n",
      "10/10 positive, 4/10 negative\n",
      "Do these records refer to the same thing?\n",
      "(y)es / (n)o / (u)nsure / (f)inished\n",
      "n\n",
      "\n",
      "name : fringale\n",
      "addr : 570 4th st.\n",
      "postal : 94107\n",
      "latlng : (37.7785416, -122.3971931)\n",
      "\n",
      "name : fringale\n",
      "addr : 570 fourth st.\n",
      "postal : 94107\n",
      "latlng : (37.7785416, -122.3971931)\n",
      "\n",
      "10/10 positive, 5/10 negative\n",
      "Do these records refer to the same thing?\n",
      "(y)es / (n)o / (u)nsure / (f)inished\n",
      "y\n",
      "\n",
      "name : pisces\n",
      "addr : 95 ave. a at 6th st.\n",
      "postal : 10009\n",
      "latlng : (40.7256332, -73.984031)\n",
      "\n",
      "name : pisces\n",
      "addr : 95 ave. a\n",
      "postal : 10009\n",
      "latlng : (40.7256613, -73.98408189999999)\n",
      "\n",
      "11/10 positive, 5/10 negative\n",
      "Do these records refer to the same thing?\n",
      "(y)es / (n)o / (u)nsure / (f)inished\n",
      "y\n",
      "\n",
      "name : bertolini's\n",
      "addr : 3500 peachtree rd.  phipps plaza\n",
      "postal : 30326\n",
      "latlng : (33.852544, -84.361986)\n",
      "\n",
      "name : bertolini's\n",
      "addr : 3570 las vegas blvd. s\n",
      "postal : 89109\n",
      "latlng : (36.1161559, -115.1750576)\n",
      "\n",
      "12/10 positive, 5/10 negative\n",
      "Do these records refer to the same thing?\n",
      "(y)es / (n)o / (u)nsure / (f)inished\n",
      "n\n",
      "\n",
      "name : remi\n",
      "addr : 3rd st. promenade\n",
      "postal : 90401\n",
      "latlng : (34.0164013, -118.4968895)\n",
      "\n",
      "name : remi\n",
      "addr : 145 w. 53rd st.\n",
      "postal : 10019\n",
      "latlng : (40.7622116, -73.97993799999999)\n",
      "\n",
      "12/10 positive, 6/10 negative\n",
      "Do these records refer to the same thing?\n",
      "(y)es / (n)o / (u)nsure / (f)inished\n",
      "n\n",
      "\n",
      "name : sarabeth's kitchen\n",
      "addr : 423 amsterdam ave.  between 80th and 81st sts.\n",
      "postal : 10024\n",
      "latlng : (40.7838797, -73.97742439999999)\n",
      "\n",
      "name : sarabeth's\n",
      "addr : 1295 madison ave.\n",
      "postal : 10128\n",
      "latlng : (40.7847977, -73.9556597)\n",
      "\n",
      "12/10 positive, 7/10 negative\n",
      "Do these records refer to the same thing?\n",
      "(y)es / (n)o / (u)nsure / (f)inished\n",
      "n\n",
      "\n",
      "name : locanda veneta\n",
      "addr : 8638 w 3rd\n",
      "postal : 90048\n",
      "latlng : (34.0734209, -118.3810981)\n",
      "\n",
      "name : locanda\n",
      "addr : w. third st.\n",
      "postal : None\n",
      "latlng : (34.0689472, -118.3225988)\n",
      "\n",
      "12/10 positive, 8/10 negative\n",
      "Do these records refer to the same thing?\n",
      "(y)es / (n)o / (u)nsure / (f)inished\n",
      "y\n",
      "\n",
      "name : grill on the alley\n",
      "addr : 9560 dayton way\n",
      "postal : 90210\n",
      "latlng : (34.0673605, -118.4018937)\n",
      "\n",
      "name : grill  the\n",
      "addr : 9560 dayton way\n",
      "postal : 90210\n",
      "latlng : (34.0673605, -118.4018937)\n",
      "\n",
      "13/10 positive, 8/10 negative\n",
      "Do these records refer to the same thing?\n",
      "(y)es / (n)o / (u)nsure / (f)inished\n",
      "y\n",
      "\n",
      "name : bel-air hotel\n",
      "addr : 701 stone canyon rd.\n",
      "postal : 90077\n",
      "latlng : (34.0865944, -118.4463507)\n",
      "\n",
      "name : bel-air\n",
      "addr : 701 stone canyon road\n",
      "postal : 90077\n",
      "latlng : (34.0865944, -118.4463507)\n",
      "\n",
      "14/10 positive, 8/10 negative\n",
      "Do these records refer to the same thing?\n",
      "(y)es / (n)o / (u)nsure / (f)inished\n",
      "y\n",
      "\n",
      "name : philippe's the original\n",
      "addr : 1001 n. alameda st.\n",
      "postal : 90012\n",
      "latlng : (34.059721, -118.237025)\n",
      "\n",
      "name : philippe the original\n",
      "addr : 1001 n. alameda st.\n",
      "postal : 90012\n",
      "latlng : (34.059721, -118.237025)\n",
      "\n",
      "15/10 positive, 8/10 negative\n",
      "Do these records refer to the same thing?\n",
      "(y)es / (n)o / (u)nsure / (f)inished\n",
      "y\n",
      "\n",
      "name : chin's\n",
      "addr : 3200 las vegas blvd. s\n",
      "postal : 89109\n",
      "latlng : (36.1275236, -115.1715003)\n",
      "\n",
      "name : morton's of chicago (las vegas)\n",
      "addr : 3200 las vegas blvd. s.\n",
      "postal : 89109\n",
      "latlng : (36.1275236, -115.1715003)\n",
      "\n",
      "16/10 positive, 8/10 negative\n",
      "Do these records refer to the same thing?\n",
      "(y)es / (n)o / (u)nsure / (f)inished\n",
      "n\n",
      "\n",
      "name : march\n",
      "addr : 405 e. 58th st.\n",
      "postal : 10022\n",
      "latlng : (40.7589131, -73.9618473)\n",
      "\n",
      "name : match\n",
      "addr : 160 mercer st.  between houston and prince sts.\n",
      "postal : 10012\n",
      "latlng : (40.7251561, -73.9978924)\n",
      "\n",
      "16/10 positive, 9/10 negative\n",
      "Do these records refer to the same thing?\n",
      "(y)es / (n)o / (u)nsure / (f)inished\n",
      "n\n",
      "\n",
      "name : pacific dining car\n",
      "addr : 6th st.\n",
      "postal : None\n",
      "latlng : (34.0635745, -118.3007534)\n",
      "\n",
      "name : pacific pan pacific hotel\n",
      "addr : 500 post st.\n",
      "postal : 94102\n",
      "latlng : (37.7883396, -122.4103029)\n",
      "\n",
      "16/10 positive, 10/10 negative\n",
      "Do these records refer to the same thing?\n",
      "(y)es / (n)o / (u)nsure / (f)inished\n",
      "n\n",
      "\n",
      "name : hong kong flower lounge\n",
      "addr : 5322 geary blvd.\n",
      "postal : 94121\n",
      "latlng : (37.78070870000001, -122.4766645)\n",
      "\n",
      "name : hong kong villa\n",
      "addr : 2332 clement st.\n",
      "postal : 94121\n",
      "latlng : (37.7823089, -122.48447)\n",
      "\n",
      "16/10 positive, 11/10 negative\n",
      "Do these records refer to the same thing?\n",
      "(y)es / (n)o / (u)nsure / (f)inished\n",
      "n\n",
      "\n"
     ]
    },
    {
     "name": "stdout",
     "output_type": "stream",
     "text": [
      "name : ritz-carlton restaurant\n",
      "addr : 181 peachtree st.\n",
      "postal : 30303\n",
      "latlng : (33.75857209999999, -84.38718109999999)\n",
      "\n",
      "name : ritz-carlton cafe (atlanta)\n",
      "addr : 181 peachtree st.\n",
      "postal : 30303\n",
      "latlng : (33.75857209999999, -84.38718109999999)\n",
      "\n",
      "16/10 positive, 12/10 negative\n",
      "Do these records refer to the same thing?\n",
      "(y)es / (n)o / (u)nsure / (f)inished\n",
      "n\n",
      "\n",
      "name : hard rock cafe\n",
      "addr : 8600 beverly blvd.\n",
      "postal : 90048\n",
      "latlng : (34.0762713, -118.3786544)\n",
      "\n",
      "name : hard rock cafe\n",
      "addr : 221 w. 57th st.\n",
      "postal : 10019\n",
      "latlng : (40.7661451, -73.9810163)\n",
      "\n",
      "16/10 positive, 13/10 negative\n",
      "Do these records refer to the same thing?\n",
      "(y)es / (n)o / (u)nsure / (f)inished\n",
      "n\n",
      "\n",
      "name : le colonial\n",
      "addr : 8783 beverly blvd.\n",
      "postal : 90048\n",
      "latlng : (34.0773657, -118.3833566)\n",
      "\n",
      "name : le colonial\n",
      "addr : 149 e. 57th st.\n",
      "postal : 10022\n",
      "latlng : (40.7608569, -73.9683494)\n",
      "\n",
      "16/10 positive, 14/10 negative\n",
      "Do these records refer to the same thing?\n",
      "(y)es / (n)o / (u)nsure / (f)inished\n",
      "n\n",
      "\n",
      "name : johnny rockets (la)\n",
      "addr : 7507 melrose ave.\n",
      "postal : 90046\n",
      "latlng : (34.0837966, -118.353576)\n",
      "\n",
      "name : johnny rockets (at)\n",
      "addr : 2970 cobb pkwy.\n",
      "postal : 30339\n",
      "latlng : (33.8804229, -84.4625913)\n",
      "\n",
      "16/10 positive, 15/10 negative\n",
      "Do these records refer to the same thing?\n",
      "(y)es / (n)o / (u)nsure / (f)inished\n",
      "n\n",
      "\n",
      "name : dante's down the hatch  buckhead\n",
      "addr : 3380 peachtree rd.\n",
      "postal : 30326\n",
      "latlng : (33.8496311, -84.3660752)\n",
      "\n",
      "name : dante's down the hatch\n",
      "addr : underground underground mall  underground atlanta\n",
      "postal : 30303\n",
      "latlng : (33.7532188, -84.39192589999999)\n",
      "\n",
      "16/10 positive, 16/10 negative\n",
      "Do these records refer to the same thing?\n",
      "(y)es / (n)o / (u)nsure / (f)inished\n",
      "n\n",
      "\n",
      "name : la grotta\n",
      "addr : 2637 peachtree rd. ne\n",
      "postal : 30305\n",
      "latlng : (33.8266717, -84.38693479999999)\n",
      "\n",
      "name : la grotta at ravinia dunwoody rd.\n",
      "addr : holiday inn/crowne plaza at ravinia  dunwoody\n",
      "postal : 30346\n",
      "latlng : (33.9209167, -84.3377975)\n",
      "\n",
      "16/10 positive, 17/10 negative\n",
      "Do these records refer to the same thing?\n",
      "(y)es / (n)o / (u)nsure / (f)inished\n",
      "n\n",
      "\n",
      "name : vivande porta via\n",
      "addr : 2125 fillmore st.\n",
      "postal : 94115\n",
      "latlng : (37.7893618, -122.43422)\n",
      "\n",
      "name : vivande ristorante\n",
      "addr : 670 golden gate ave.\n",
      "postal : 94102\n",
      "latlng : (37.7810143, -122.4216193)\n",
      "\n",
      "16/10 positive, 18/10 negative\n",
      "Do these records refer to the same thing?\n",
      "(y)es / (n)o / (u)nsure / (f)inished\n",
      "n\n",
      "\n",
      "name : ritz-carlton dining room (san francisco)\n",
      "addr : 600 stockton st.\n",
      "postal : 94108\n",
      "latlng : (37.7918754, -122.4070392)\n",
      "\n",
      "name : ritz-carlton cafe (atlanta)\n",
      "addr : 181 peachtree st.\n",
      "postal : 30303\n",
      "latlng : (33.75857209999999, -84.38718109999999)\n",
      "\n",
      "16/10 positive, 19/10 negative\n",
      "Do these records refer to the same thing?\n",
      "(y)es / (n)o / (u)nsure / (f)inished\n",
      "n\n",
      "\n",
      "name : ritz-carlton dining room (buckhead)\n",
      "addr : 3434 peachtree rd. ne\n",
      "postal : 30326\n",
      "latlng : (33.8504884, -84.3636308)\n",
      "\n",
      "name : ritz-carlton restaurant\n",
      "addr : 181 peachtree st.\n",
      "postal : 30303\n",
      "latlng : (33.75857209999999, -84.38718109999999)\n",
      "\n",
      "16/10 positive, 20/10 negative\n",
      "Do these records refer to the same thing?\n",
      "(y)es / (n)o / (u)nsure / (f)inished\n",
      "n\n",
      "\n",
      "name : morton's\n",
      "addr : 8764 melrose ave.\n",
      "postal : 90069\n",
      "latlng : (34.0805263, -118.3851134)\n",
      "\n",
      "name : morton's\n",
      "addr : 551 5th ave. at 45th st.\n",
      "postal : 10176\n",
      "latlng : (40.7553885, -73.9788988)\n",
      "\n",
      "16/10 positive, 21/10 negative\n",
      "Do these records refer to the same thing?\n",
      "(y)es / (n)o / (u)nsure / (f)inished\n",
      "n\n",
      "\n",
      "name : california pizza kitchen\n",
      "addr : 207 s. beverly dr.\n",
      "postal : 90212\n",
      "latlng : (34.0647384, -118.3993623)\n",
      "\n",
      "name : california culinary academy\n",
      "addr : 625 polk st.\n",
      "postal : 94102\n",
      "latlng : (37.782421, -122.4194442)\n",
      "\n",
      "16/10 positive, 22/10 negative\n",
      "Do these records refer to the same thing?\n",
      "(y)es / (n)o / (u)nsure / (f)inished\n",
      "n\n",
      "\n",
      "name : fleur de lys\n",
      "addr : 777 sutter st.\n",
      "postal : 94109\n",
      "latlng : (37.7884349, -122.4131455)\n",
      "\n",
      "name : fleur de jour\n",
      "addr : 348 e. 62nd st.\n",
      "postal : 10065\n",
      "latlng : (40.7616258, -73.9614057)\n",
      "\n",
      "16/10 positive, 23/10 negative\n",
      "Do these records refer to the same thing?\n",
      "(y)es / (n)o / (u)nsure / (f)inished\n",
      "n\n",
      "\n",
      "name : il fornaio cucina italiana\n",
      "addr : 301 n. beverly dr.\n",
      "postal : 90210\n",
      "latlng : (34.0685256, -118.4008381)\n",
      "\n",
      "name : il fornaio levi's plaza\n",
      "addr : 1265 battery st.\n",
      "postal : 94111\n",
      "latlng : (37.802907, -122.4020405)\n",
      "\n",
      "16/10 positive, 24/10 negative\n",
      "Do these records refer to the same thing?\n",
      "(y)es / (n)o / (u)nsure / (f)inished\n",
      "n\n",
      "\n",
      "name : michael's (los angeles)\n",
      "addr : 1147 third st.\n",
      "postal : 90403\n",
      "latlng : (34.0190154, -118.4995044)\n",
      "\n",
      "name : michael's (las vegas)\n",
      "addr : 3595 las vegas blvd. s.\n",
      "postal : 89109\n",
      "latlng : (36.1150009, -115.1718246)\n",
      "\n",
      "16/10 positive, 25/10 negative\n",
      "Do these records refer to the same thing?\n",
      "(y)es / (n)o / (u)nsure / (f)inished\n",
      "n\n",
      "\n",
      "name : restaurant katsu\n",
      "addr : 1972 n. hillhurst ave.\n",
      "postal : 90027\n",
      "latlng : (34.1074027, -118.2871721)\n",
      "\n",
      "name : restaurant  ritz-carlton  atlanta\n",
      "addr : 181 peachtree st.\n",
      "postal : 30303\n",
      "latlng : (33.75857209999999, -84.38718109999999)\n",
      "\n",
      "16/10 positive, 26/10 negative\n",
      "Do these records refer to the same thing?\n",
      "(y)es / (n)o / (u)nsure / (f)inished\n",
      "n\n",
      "\n",
      "name : global\n",
      "addr : 33 93 2nd ave.  between 5th and 6th sts.\n",
      "postal : None\n",
      "latlng : (40.7641964, -73.9617361)\n",
      "\n",
      "name : la reserve\n",
      "addr : 4 w. 49th st.\n",
      "postal : 10020\n",
      "latlng : (40.7580897, -73.97835189999999)\n",
      "\n",
      "16/10 positive, 27/10 negative\n",
      "Do these records refer to the same thing?\n",
      "(y)es / (n)o / (u)nsure / (f)inished\n",
      "n\n",
      "\n",
      "name : aquavit\n",
      "addr : 13 w. 54th st.\n",
      "postal : 10019\n",
      "latlng : (40.76168, -73.9763516)\n",
      "\n",
      "name : lespinasse (new york city)\n",
      "addr : 2 e. 55th st.\n",
      "postal : 10022\n",
      "latlng : (40.7613979, -73.9746128)\n",
      "\n",
      "16/10 positive, 28/10 negative\n",
      "Do these records refer to the same thing?\n",
      "(y)es / (n)o / (u)nsure / (f)inished\n",
      "n\n",
      "\n",
      "name : le bernardin\n",
      "addr : 155 w. 51st st.\n",
      "postal : 10019\n",
      "latlng : (40.7615691, -73.98180479999999)\n",
      "\n",
      "name : palio\n",
      "addr : 151 w. 51st. st.\n",
      "postal : 10019\n",
      "latlng : (40.7614804, -73.98142829999999)\n",
      "\n",
      "16/10 positive, 29/10 negative\n",
      "Do these records refer to the same thing?\n",
      "(y)es / (n)o / (u)nsure / (f)inished\n",
      "n\n",
      "\n",
      "name : picholine\n",
      "addr : 35 w. 64th st.\n",
      "postal : 10023\n",
      "latlng : (40.7720179, -73.98109749999999)\n",
      "\n",
      "name : fiorello's roman cafe\n",
      "addr : 1900 broadway  between 63rd and 64th sts.\n",
      "postal : 10023\n",
      "latlng : (40.771536, -73.981646)\n",
      "\n",
      "16/10 positive, 30/10 negative\n",
      "Do these records refer to the same thing?\n",
      "(y)es / (n)o / (u)nsure / (f)inished\n",
      "n\n",
      "\n",
      "name : indochine\n",
      "addr : 430 lafayette st.  between 4th st. and astor pl.\n",
      "postal : 10003\n",
      "latlng : (40.7292591, -73.9924719)\n",
      "\n",
      "name : l'udo\n",
      "addr : 432 lafayette st.  near astor pl.\n",
      "postal : 10003\n",
      "latlng : (40.72926, -73.9923001)\n",
      "\n",
      "16/10 positive, 31/10 negative\n",
      "Do these records refer to the same thing?\n",
      "(y)es / (n)o / (u)nsure / (f)inished\n",
      "n\n",
      "\n",
      "name : manila garden\n",
      "addr : 325 e. 14th st.  between 1st and 2nd aves.\n",
      "postal : 10003\n",
      "latlng : (40.732073, -73.983729)\n",
      "\n",
      "name : marichu\n",
      "addr : 342 e. 46th st.  between 1st and 2nd aves.\n",
      "postal : 10017\n",
      "latlng : (40.7516296, -73.96869029999999)\n",
      "\n",
      "16/10 positive, 32/10 negative\n",
      "Do these records refer to the same thing?\n",
      "(y)es / (n)o / (u)nsure / (f)inished\n",
      "n\n",
      "\n",
      "name : hotel bel-air\n",
      "addr : 701 stone canyon rd.\n",
      "postal : 90077\n",
      "latlng : (34.0865944, -118.4463507)\n",
      "\n",
      "name : bel-air\n",
      "addr : 701 stone canyon road\n",
      "postal : 90077\n",
      "latlng : (34.0865944, -118.4463507)\n",
      "\n",
      "16/10 positive, 33/10 negative\n",
      "Do these records refer to the same thing?\n",
      "(y)es / (n)o / (u)nsure / (f)inished\n",
      "y\n",
      "\n",
      "name : chin's\n",
      "addr : 3200 las vegas blvd. s\n",
      "postal : 89109\n",
      "latlng : (36.1275236, -115.1715003)\n",
      "\n",
      "name : spago (las vegas)\n",
      "addr : 3500 las vegas blvd. s.\n",
      "postal : 89109\n",
      "latlng : (36.1174528, -115.1766881)\n",
      "\n",
      "17/10 positive, 33/10 negative\n",
      "Do these records refer to the same thing?\n",
      "(y)es / (n)o / (u)nsure / (f)inished\n",
      "n\n",
      "\n",
      "name : broadway deli\n",
      "addr : 3rd st. promenade\n",
      "postal : 90401\n",
      "latlng : (34.0164013, -118.4968895)\n",
      "\n",
      "name : remi\n",
      "addr : 3rd st. promenade\n",
      "postal : 90401\n",
      "latlng : (34.0164013, -118.4968895)\n",
      "\n",
      "17/10 positive, 34/10 negative\n",
      "Do these records refer to the same thing?\n",
      "(y)es / (n)o / (u)nsure / (f)inished\n",
      "n\n",
      "\n",
      "name : steak house\n",
      "addr : 2880 las vegas blvd. s\n",
      "postal : 89109\n",
      "latlng : (36.13764159999999, -115.1653861)\n",
      "\n",
      "name : circus circus\n",
      "addr : 2880 las vegas blvd. s\n",
      "postal : 89109\n",
      "latlng : (36.13764159999999, -115.1653861)\n",
      "\n",
      "17/10 positive, 35/10 negative\n",
      "Do these records refer to the same thing?\n",
      "(y)es / (n)o / (u)nsure / (f)inished\n",
      "n\n",
      "\n"
     ]
    },
    {
     "name": "stdout",
     "output_type": "stream",
     "text": [
      "name : hotel bel-air\n",
      "addr : 701 stone canyon rd.\n",
      "postal : 90077\n",
      "latlng : (34.0865944, -118.4463507)\n",
      "\n",
      "name : bel-air hotel\n",
      "addr : 701 stone canyon rd.\n",
      "postal : 90077\n",
      "latlng : (34.0865944, -118.4463507)\n",
      "\n",
      "17/10 positive, 36/10 negative\n",
      "Do these records refer to the same thing?\n",
      "(y)es / (n)o / (u)nsure / (f)inished\n",
      "y\n",
      "\n",
      "name : kalo's coffee house\n",
      "addr : 1248 clairmont rd.\n",
      "postal : 30030\n",
      "latlng : (33.7897382, -84.3077278)\n",
      "\n",
      "name : my thai\n",
      "addr : 1248 clairmont rd.\n",
      "postal : 30030\n",
      "latlng : (33.7897382, -84.3077278)\n",
      "\n",
      "18/10 positive, 36/10 negative\n",
      "Do these records refer to the same thing?\n",
      "(y)es / (n)o / (u)nsure / (f)inished\n",
      "n\n",
      "\n",
      "name : antonio's\n",
      "addr : 3700 w. flamingo\n",
      "postal : 89103\n",
      "latlng : (36.1163819, -115.1850253)\n",
      "\n",
      "name : carnival world\n",
      "addr : 3700 w. flamingo rd.\n",
      "postal : 89103\n",
      "latlng : (36.1163819, -115.1850253)\n",
      "\n",
      "18/10 positive, 37/10 negative\n",
      "Do these records refer to the same thing?\n",
      "(y)es / (n)o / (u)nsure / (f)inished\n",
      "n\n",
      "\n",
      "name : palace court\n",
      "addr : 3570 las vegas blvd. s.\n",
      "postal : 89109\n",
      "latlng : (36.1161559, -115.1750576)\n",
      "\n",
      "name : cafe roma\n",
      "addr : 3570 las vegas blvd. s\n",
      "postal : 89109\n",
      "latlng : (36.1161559, -115.1750576)\n",
      "\n",
      "18/10 positive, 38/10 negative\n",
      "Do these records refer to the same thing?\n",
      "(y)es / (n)o / (u)nsure / (f)inished\n",
      "n\n",
      "\n",
      "name : cafe roma\n",
      "addr : 3570 las vegas blvd. s\n",
      "postal : 89109\n",
      "latlng : (36.1161559, -115.1750576)\n",
      "\n",
      "name : the bacchanal\n",
      "addr : 3570 las vegas blvd. s\n",
      "postal : 89109\n",
      "latlng : (36.1161559, -115.1750576)\n",
      "\n",
      "18/10 positive, 39/10 negative\n",
      "Do these records refer to the same thing?\n",
      "(y)es / (n)o / (u)nsure / (f)inished\n",
      "n\n",
      "\n",
      "name : cafe roma\n",
      "addr : 3570 las vegas blvd. s\n",
      "postal : 89109\n",
      "latlng : (36.1161559, -115.1750576)\n",
      "\n",
      "name : empress court\n",
      "addr : 3570 las vegas blvd. s\n",
      "postal : 89109\n",
      "latlng : (36.1161559, -115.1750576)\n",
      "\n",
      "18/10 positive, 40/10 negative\n",
      "Do these records refer to the same thing?\n",
      "(y)es / (n)o / (u)nsure / (f)inished\n",
      "n\n",
      "\n",
      "name : carnival world\n",
      "addr : 3700 w. flamingo rd.\n",
      "postal : 89103\n",
      "latlng : (36.1163819, -115.1850253)\n",
      "\n",
      "name : fiore rotisserie & grille\n",
      "addr : 3700 w. flamingo rd.\n",
      "postal : 89103\n",
      "latlng : (36.1163819, -115.1850253)\n",
      "\n",
      "18/10 positive, 41/10 negative\n",
      "Do these records refer to the same thing?\n",
      "(y)es / (n)o / (u)nsure / (f)inished\n",
      "n\n",
      "\n",
      "name : the palm\n",
      "addr : 9001 santa monica blvd.\n",
      "postal : 90069\n",
      "latlng : (34.0834733, -118.3873731)\n",
      "\n",
      "name : palm  the (los angeles)\n",
      "addr : 9001 santa monica blvd.\n",
      "postal : 90069\n",
      "latlng : (34.083064, -118.387282)\n",
      "\n",
      "18/10 positive, 42/10 negative\n",
      "Do these records refer to the same thing?\n",
      "(y)es / (n)o / (u)nsure / (f)inished\n",
      "y\n",
      "\n",
      "name : gaylord's\n",
      "addr : ghirardelli sq.\n",
      "postal : 94109\n",
      "latlng : (37.8058634, -122.4226382)\n",
      "\n",
      "name : mccormick & kuleto's\n",
      "addr : ghirardelli sq.\n",
      "postal : 94109\n",
      "latlng : (37.8058634, -122.4226382)\n",
      "\n",
      "19/10 positive, 42/10 negative\n",
      "Do these records refer to the same thing?\n",
      "(y)es / (n)o / (u)nsure / (f)inished\n",
      "n\n",
      "\n",
      "name : emeril's new orleans fish house\n",
      "addr : 3799 las vegas blvd. s.\n",
      "postal : 89109\n",
      "latlng : (36.1022507, -115.1699679)\n",
      "\n",
      "name : tre visi\n",
      "addr : 3799 las vegas blvd. s.\n",
      "postal : 89109\n",
      "latlng : (36.1022507, -115.1699679)\n",
      "\n",
      "19/10 positive, 43/10 negative\n",
      "Do these records refer to the same thing?\n",
      "(y)es / (n)o / (u)nsure / (f)inished\n",
      "n\n",
      "\n",
      "name : bertolini's\n",
      "addr : 3570 las vegas blvd. s\n",
      "postal : 89109\n",
      "latlng : (36.1161559, -115.1750576)\n",
      "\n",
      "name : empress court\n",
      "addr : 3570 las vegas blvd. s\n",
      "postal : 89109\n",
      "latlng : (36.1161559, -115.1750576)\n",
      "\n",
      "19/10 positive, 44/10 negative\n",
      "Do these records refer to the same thing?\n",
      "(y)es / (n)o / (u)nsure / (f)inished\n",
      "n\n",
      "\n",
      "name : cava\n",
      "addr : 3rd st.\n",
      "postal : None\n",
      "latlng : (34.0090307, -118.4881742)\n",
      "\n",
      "name : sofi\n",
      "addr : 3rd st.\n",
      "postal : None\n",
      "latlng : (34.0090307, -118.4881742)\n",
      "\n",
      "19/10 positive, 45/10 negative\n",
      "Do these records refer to the same thing?\n",
      "(y)es / (n)o / (u)nsure / (f)inished\n",
      "n\n",
      "\n",
      "name : palace court\n",
      "addr : 3570 las vegas blvd. s\n",
      "postal : 89109\n",
      "latlng : (36.1161559, -115.1750576)\n",
      "\n",
      "name : bertolini's\n",
      "addr : 3570 las vegas blvd. s\n",
      "postal : 89109\n",
      "latlng : (36.1161559, -115.1750576)\n",
      "\n",
      "19/10 positive, 46/10 negative\n",
      "Do these records refer to the same thing?\n",
      "(y)es / (n)o / (u)nsure / (f)inished\n",
      "n\n",
      "\n",
      "name : buccaneer bay club\n",
      "addr : 3300 las vegas blvd. s.\n",
      "postal : 89109\n",
      "latlng : (36.1247643, -115.1719639)\n",
      "\n",
      "name : madame ching's\n",
      "addr : 3300 las vegas blvd. s.\n",
      "postal : 89109\n",
      "latlng : (36.1247643, -115.1719639)\n",
      "\n",
      "19/10 positive, 47/10 negative\n",
      "Do these records refer to the same thing?\n",
      "(y)es / (n)o / (u)nsure / (f)inished\n",
      "n\n",
      "\n",
      "name : bistro\n",
      "addr : 3400 las vegas blvd. s\n",
      "postal : 89109\n",
      "latlng : (36.1206111, -115.1768386)\n",
      "\n",
      "name : moongate\n",
      "addr : 3400 las vegas blvd. s.\n",
      "postal : 89109\n",
      "latlng : (36.1206111, -115.1768386)\n",
      "\n",
      "19/10 positive, 48/10 negative\n",
      "Do these records refer to the same thing?\n",
      "(y)es / (n)o / (u)nsure / (f)inished\n",
      "n\n",
      "\n",
      "name : gumbo pot  the\n",
      "addr : 6333 w. third st.\n",
      "postal : 90036\n",
      "latlng : (34.0722795, -118.3602751)\n",
      "\n",
      "name : kokomo cafe\n",
      "addr : 6333 w. third st.\n",
      "postal : 90036\n",
      "latlng : (34.0722795, -118.3602751)\n",
      "\n",
      "19/10 positive, 49/10 negative\n",
      "Do these records refer to the same thing?\n",
      "(y)es / (n)o / (u)nsure / (f)inished\n",
      "n\n",
      "\n",
      "name : palace court\n",
      "addr : 3570 las vegas blvd. s.\n",
      "postal : 89109\n",
      "latlng : (36.1161559, -115.1750576)\n",
      "\n",
      "name : the bacchanal\n",
      "addr : 3570 las vegas blvd. s\n",
      "postal : 89109\n",
      "latlng : (36.1161559, -115.1750576)\n",
      "\n",
      "19/10 positive, 50/10 negative\n",
      "Do these records refer to the same thing?\n",
      "(y)es / (n)o / (u)nsure / (f)inished\n",
      "n\n",
      "\n",
      "name : golden nugget hotel\n",
      "addr : 129 e. fremont st.\n",
      "postal : 89101\n",
      "latlng : (36.1701653, -115.1449582)\n",
      "\n",
      "name : lillie langtry's\n",
      "addr : 129 e. fremont st.\n",
      "postal : 89101\n",
      "latlng : (36.1701653, -115.1449582)\n",
      "\n",
      "19/10 positive, 51/10 negative\n",
      "Do these records refer to the same thing?\n",
      "(y)es / (n)o / (u)nsure / (f)inished\n",
      "n\n",
      "\n",
      "name : second avenue deli\n",
      "addr : 156 second ave.\n",
      "postal : 10003\n",
      "latlng : (40.7296096, -73.9867012)\n",
      "\n",
      "name : veselka\n",
      "addr : 144 second ave.\n",
      "postal : 10003\n",
      "latlng : (40.7289226, -73.98692849999999)\n",
      "\n",
      "19/10 positive, 52/10 negative\n",
      "Do these records refer to the same thing?\n",
      "(y)es / (n)o / (u)nsure / (f)inished\n",
      "n\n",
      "\n",
      "name : barbetta\n",
      "addr : 321 w. 46th st.\n",
      "postal : 10036\n",
      "latlng : (40.7604109, -73.9889762)\n",
      "\n",
      "name : orso\n",
      "addr : 322 w. 46th st.\n",
      "postal : 10036\n",
      "latlng : (40.7600114, -73.989006)\n",
      "\n",
      "19/10 positive, 53/10 negative\n",
      "Do these records refer to the same thing?\n",
      "(y)es / (n)o / (u)nsure / (f)inished\n",
      "n\n",
      "\n",
      "name : smith & wollensky\n",
      "addr : 201 e. 49th st.\n",
      "postal : 10017\n",
      "latlng : (40.755156, -73.9707177)\n",
      "\n",
      "name : wollensky's grill\n",
      "addr : 205 e. 49th st.\n",
      "postal : 10017\n",
      "latlng : (40.7549912, -73.9707083)\n",
      "\n",
      "19/10 positive, 54/10 negative\n",
      "Do these records refer to the same thing?\n",
      "(y)es / (n)o / (u)nsure / (f)inished\n",
      "n\n",
      "\n",
      "name : morton's of chicago (las vegas)\n",
      "addr : 3200 las vegas blvd. s.\n",
      "postal : 89109\n",
      "latlng : (36.1275236, -115.1715003)\n",
      "\n",
      "name : spago (las vegas)\n",
      "addr : 3500 las vegas blvd. s.\n",
      "postal : 89109\n",
      "latlng : (36.1174528, -115.1766881)\n",
      "\n",
      "19/10 positive, 55/10 negative\n",
      "Do these records refer to the same thing?\n",
      "(y)es / (n)o / (u)nsure / (f)inished\n",
      "n\n",
      "\n",
      "name : cafe roma\n",
      "addr : 3570 las vegas blvd. s\n",
      "postal : 89109\n",
      "latlng : (36.1161559, -115.1750576)\n",
      "\n",
      "name : emeril's new orleans fish house\n",
      "addr : 3799 las vegas blvd. s.\n",
      "postal : 89109\n",
      "latlng : (36.1022507, -115.1699679)\n",
      "\n",
      "19/10 positive, 56/10 negative\n",
      "Do these records refer to the same thing?\n",
      "(y)es / (n)o / (u)nsure / (f)inished\n",
      "n\n",
      "\n",
      "name : broiler\n",
      "addr : 4111 boulder hwy.\n",
      "postal : 89121\n",
      "latlng : (36.1329379, -115.084697)\n",
      "\n",
      "name : hugo's cellar\n",
      "addr : 202 e. fremont st.\n",
      "postal : 89101\n",
      "latlng : (36.1696655, -115.1441707)\n",
      "\n",
      "19/10 positive, 57/10 negative\n",
      "Do these records refer to the same thing?\n",
      "(y)es / (n)o / (u)nsure / (f)inished\n",
      "n\n",
      "\n",
      "name : cafe claude\n",
      "addr : 7 claude la.\n",
      "postal : 94108\n",
      "latlng : (37.7903324, -122.404517)\n",
      "\n",
      "name : ritz-carlton restaurant and dining room\n",
      "addr : 600 stockton st.\n",
      "postal : 94108\n",
      "latlng : (37.7918754, -122.4070392)\n",
      "\n",
      "19/10 positive, 58/10 negative\n",
      "Do these records refer to the same thing?\n",
      "(y)es / (n)o / (u)nsure / (f)inished\n",
      "n\n",
      "\n",
      "name : oceana\n",
      "addr : 55 e. 54th st.\n",
      "postal : 10022\n",
      "latlng : (40.7602436, -73.9730857)\n",
      "\n",
      "name : ocean avenue\n",
      "addr : 1401 ocean ave.\n",
      "postal : 90401\n",
      "latlng : (34.0140628, -118.4974358)\n",
      "\n",
      "19/10 positive, 59/10 negative\n",
      "Do these records refer to the same thing?\n",
      "(y)es / (n)o / (u)nsure / (f)inished\n",
      "n\n",
      "\n",
      "name : union square cafe\n",
      "addr : 21 e. 16th st.\n",
      "postal : 10003\n",
      "latlng : (40.7368653, -73.99126199999999)\n",
      "\n",
      "name : otabe\n",
      "addr : 68 e. 56th st.\n",
      "postal : 10022\n",
      "latlng : (40.7611775, -73.9720541)\n",
      "\n",
      "19/10 positive, 60/10 negative\n",
      "Do these records refer to the same thing?\n",
      "(y)es / (n)o / (u)nsure / (f)inished\n",
      "n\n",
      "\n",
      "name : mangia e bevi\n",
      "addr : 800 9th ave. at 53rd st.\n",
      "postal : 10019\n",
      "latlng : (40.7653826, -73.9872991)\n",
      "\n",
      "name : palio\n",
      "addr : 151 w. 51st. st.\n",
      "postal : 10019\n",
      "latlng : (40.7614804, -73.98142829999999)\n",
      "\n",
      "19/10 positive, 61/10 negative\n",
      "Do these records refer to the same thing?\n",
      "(y)es / (n)o / (u)nsure / (f)inished\n",
      "n\n",
      "\n"
     ]
    },
    {
     "name": "stdout",
     "output_type": "stream",
     "text": [
      "name : tavola calda\n",
      "addr : 7371 melrose ave.\n",
      "postal : 90046\n",
      "latlng : (34.0837751, -118.3505322)\n",
      "\n",
      "name : tommy tang's\n",
      "addr : 7313 melrose ave.\n",
      "postal : 90036\n",
      "latlng : (34.0837982, -118.3491625)\n",
      "\n",
      "19/10 positive, 62/10 negative\n",
      "Do these records refer to the same thing?\n",
      "(y)es / (n)o / (u)nsure / (f)inished\n",
      "n\n",
      "\n",
      "name : virgil's real bbq\n",
      "addr : 152 w. 44th st.\n",
      "postal : 10036\n",
      "latlng : (40.7567595, -73.9851662)\n",
      "\n",
      "name : global\n",
      "addr : 33 93 2nd ave.  between 5th and 6th sts.\n",
      "postal : None\n",
      "latlng : (40.7641964, -73.9617361)\n",
      "\n",
      "19/10 positive, 63/10 negative\n",
      "Do these records refer to the same thing?\n",
      "(y)es / (n)o / (u)nsure / (f)inished\n",
      "n\n",
      "\n",
      "name : cafe bizou\n",
      "addr : 14016 ventura blvd.\n",
      "postal : 91423\n",
      "latlng : (34.1489074, -118.4379155)\n",
      "\n",
      "name : la cachette\n",
      "addr : 10506 little santa monica blvd.\n",
      "postal : None\n",
      "latlng : (34.0480177, -118.4433867)\n",
      "\n",
      "19/10 positive, 64/10 negative\n",
      "Do these records refer to the same thing?\n",
      "(y)es / (n)o / (u)nsure / (f)inished\n",
      "n\n",
      "\n",
      "name : lespinasse (new york city)\n",
      "addr : 2 e. 55th st.\n",
      "postal : 10022\n",
      "latlng : (40.7613979, -73.9746128)\n",
      "\n",
      "name : zarela\n",
      "addr : 953 second ave.\n",
      "postal : 10022\n",
      "latlng : (40.7553091, -73.9685283)\n",
      "\n",
      "19/10 positive, 65/10 negative\n",
      "Do these records refer to the same thing?\n",
      "(y)es / (n)o / (u)nsure / (f)inished\n",
      "n\n",
      "\n",
      "name : locanda veneta\n",
      "addr : 3rd st.\n",
      "postal : None\n",
      "latlng : (34.0090307, -118.4881742)\n",
      "\n",
      "name : lowcountry barbecue\n",
      "addr : 6301 roswell rd.  sandy springs plaza  sandy springs\n",
      "postal : 30328\n",
      "latlng : (33.926974, -84.378188)\n",
      "\n",
      "19/10 positive, 66/10 negative\n",
      "Do these records refer to the same thing?\n",
      "(y)es / (n)o / (u)nsure / (f)inished\n",
      "n\n",
      "\n",
      "name : corrado cafe\n",
      "addr : 1013 3rd ave.  between 60th and 61st sts.\n",
      "postal : None\n",
      "latlng : (40.8327501, -73.9050863)\n",
      "\n",
      "name : first\n",
      "addr : 87 1st ave.  between 5th and 6th sts.\n",
      "postal : 10003\n",
      "latlng : (40.7261712, -73.9867987)\n",
      "\n",
      "19/10 positive, 67/10 negative\n",
      "Do these records refer to the same thing?\n",
      "(y)es / (n)o / (u)nsure / (f)inished\n",
      "n\n",
      "\n",
      "name : hedgerose heights inn\n",
      "addr : 490 e. paces ferry rd.\n",
      "postal : 30305\n",
      "latlng : (33.8387692, -84.37190679999999)\n",
      "\n",
      "name : hedgerose heights inn  the\n",
      "addr : 490 e. paces ferry rd. ne\n",
      "postal : 30305\n",
      "latlng : (33.8387692, -84.37190679999999)\n",
      "\n",
      "19/10 positive, 68/10 negative\n",
      "Do these records refer to the same thing?\n",
      "(y)es / (n)o / (u)nsure / (f)inished\n",
      "y\n",
      "\n",
      "name : chez michel\n",
      "addr : 804 northpoint\n",
      "postal : 94109\n",
      "latlng : (37.805857, -122.420705)\n",
      "\n",
      "name : faz\n",
      "addr : 161 sutter st.\n",
      "postal : 94104\n",
      "latlng : (37.7897426, -122.4033221)\n",
      "\n",
      "20/10 positive, 68/10 negative\n",
      "Do these records refer to the same thing?\n",
      "(y)es / (n)o / (u)nsure / (f)inished\n",
      "n\n",
      "\n"
     ]
    }
   ],
   "source": [
    "import os\n",
    "\n",
    "if not isinstance(deduper, dedupe.StaticDedupe):\n",
    "    training_filename = 'dedupe-2-training.json'\n",
    "    if os.path.exists(training_filename):\n",
    "        with open(training_filename) as tf:\n",
    "            deduper.prepare_training(data_for_dedupe, tf)\n",
    "    else:\n",
    "        deduper.prepare_training(data_for_dedupe)\n",
    "\n",
    "    # dedupe.consoleLabel(deduper)\n",
    "    auto_label(deduper)\n",
    "    \n",
    "    with open(training_filename, 'w') as tf:\n",
    "        deduper.write_training(tf)\n",
    "    \n",
    "    deduper.train(index_predicates=False)\n",
    "    \n",
    "    with open(settings_filename, 'wb') as sf:\n",
    "        deduper.write_settings(sf)"
   ]
  },
  {
   "cell_type": "markdown",
   "metadata": {
    "slideshow": {
     "slide_type": "slide"
    }
   },
   "source": [
    "After training, we can see which **blocking predicates** (indexing rules) the deduper learned from our training input. It's good to do that to check if we trained enough:"
   ]
  },
  {
   "cell_type": "code",
   "execution_count": 42,
   "metadata": {
    "slideshow": {
     "slide_type": "fragment"
    }
   },
   "outputs": [
    {
     "data": {
      "text/plain": [
       "((SimplePredicate: (firstIntegerPredicate, addr),\n",
       "  SimplePredicate: (suffixArray, postal)),\n",
       " (SimplePredicate: (commonTwoTokens, name),\n",
       "  SimplePredicate: (twoGramFingerprint, name)))"
      ]
     },
     "execution_count": 42,
     "metadata": {},
     "output_type": "execute_result"
    }
   ],
   "source": [
    "deduper.predicates"
   ]
  },
  {
   "cell_type": "markdown",
   "metadata": {
    "slideshow": {
     "slide_type": "skip"
    }
   },
   "source": [
    "The deduper selected those predicates from this extense list of **possible predicates**:"
   ]
  },
  {
   "cell_type": "code",
   "execution_count": 43,
   "metadata": {
    "scrolled": true,
    "slideshow": {
     "slide_type": "skip"
    }
   },
   "outputs": [
    {
     "data": {
      "text/plain": [
       "{LevenshteinCanopyPredicate: (1, addr),\n",
       " LevenshteinCanopyPredicate: (1, name),\n",
       " LevenshteinCanopyPredicate: (1, postal),\n",
       " LevenshteinCanopyPredicate: (2, addr),\n",
       " LevenshteinCanopyPredicate: (2, name),\n",
       " LevenshteinCanopyPredicate: (2, postal),\n",
       " LevenshteinCanopyPredicate: (3, addr),\n",
       " LevenshteinCanopyPredicate: (3, name),\n",
       " LevenshteinCanopyPredicate: (3, postal),\n",
       " LevenshteinCanopyPredicate: (4, addr),\n",
       " LevenshteinCanopyPredicate: (4, name),\n",
       " LevenshteinCanopyPredicate: (4, postal),\n",
       " SimplePredicate: (alphaNumericPredicate, addr),\n",
       " SimplePredicate: (alphaNumericPredicate, name),\n",
       " SimplePredicate: (alphaNumericPredicate, postal),\n",
       " SimplePredicate: (commonFourGram, addr),\n",
       " SimplePredicate: (commonFourGram, name),\n",
       " SimplePredicate: (commonFourGram, postal),\n",
       " SimplePredicate: (commonIntegerPredicate, addr),\n",
       " SimplePredicate: (commonIntegerPredicate, name),\n",
       " SimplePredicate: (commonIntegerPredicate, postal),\n",
       " SimplePredicate: (commonSixGram, addr),\n",
       " SimplePredicate: (commonSixGram, name),\n",
       " SimplePredicate: (commonSixGram, postal),\n",
       " SimplePredicate: (commonThreeTokens, addr),\n",
       " SimplePredicate: (commonThreeTokens, name),\n",
       " SimplePredicate: (commonThreeTokens, postal),\n",
       " SimplePredicate: (commonTwoTokens, addr),\n",
       " SimplePredicate: (commonTwoTokens, name),\n",
       " SimplePredicate: (commonTwoTokens, postal),\n",
       " SimplePredicate: (doubleMetaphone, addr),\n",
       " SimplePredicate: (doubleMetaphone, name),\n",
       " SimplePredicate: (doubleMetaphone, postal),\n",
       " SimplePredicate: (fingerprint, addr),\n",
       " SimplePredicate: (fingerprint, name),\n",
       " SimplePredicate: (fingerprint, postal),\n",
       " SimplePredicate: (firstIntegerPredicate, addr),\n",
       " SimplePredicate: (firstIntegerPredicate, name),\n",
       " SimplePredicate: (firstIntegerPredicate, postal),\n",
       " SimplePredicate: (firstTokenPredicate, addr),\n",
       " SimplePredicate: (firstTokenPredicate, name),\n",
       " SimplePredicate: (firstTokenPredicate, postal),\n",
       " SimplePredicate: (hundredIntegerPredicate, addr),\n",
       " SimplePredicate: (hundredIntegerPredicate, name),\n",
       " SimplePredicate: (hundredIntegerPredicate, postal),\n",
       " SimplePredicate: (hundredIntegersOddPredicate, addr),\n",
       " SimplePredicate: (hundredIntegersOddPredicate, name),\n",
       " SimplePredicate: (hundredIntegersOddPredicate, postal),\n",
       " SimplePredicate: (latLongGridPredicate, latlng),\n",
       " SimplePredicate: (metaphoneToken, addr),\n",
       " SimplePredicate: (metaphoneToken, name),\n",
       " SimplePredicate: (metaphoneToken, postal),\n",
       " SimplePredicate: (nearIntegersPredicate, addr),\n",
       " SimplePredicate: (nearIntegersPredicate, name),\n",
       " SimplePredicate: (nearIntegersPredicate, postal),\n",
       " SimplePredicate: (oneGramFingerprint, addr),\n",
       " SimplePredicate: (oneGramFingerprint, name),\n",
       " SimplePredicate: (oneGramFingerprint, postal),\n",
       " SimplePredicate: (sameFiveCharStartPredicate, addr),\n",
       " SimplePredicate: (sameFiveCharStartPredicate, name),\n",
       " SimplePredicate: (sameFiveCharStartPredicate, postal),\n",
       " SimplePredicate: (sameSevenCharStartPredicate, addr),\n",
       " SimplePredicate: (sameSevenCharStartPredicate, name),\n",
       " SimplePredicate: (sameSevenCharStartPredicate, postal),\n",
       " SimplePredicate: (sameThreeCharStartPredicate, addr),\n",
       " SimplePredicate: (sameThreeCharStartPredicate, name),\n",
       " SimplePredicate: (sameThreeCharStartPredicate, postal),\n",
       " SimplePredicate: (sortedAcronym, addr),\n",
       " SimplePredicate: (sortedAcronym, name),\n",
       " SimplePredicate: (sortedAcronym, postal),\n",
       " SimplePredicate: (suffixArray, addr),\n",
       " SimplePredicate: (suffixArray, name),\n",
       " SimplePredicate: (suffixArray, postal),\n",
       " SimplePredicate: (tokenFieldPredicate, addr),\n",
       " SimplePredicate: (tokenFieldPredicate, name),\n",
       " SimplePredicate: (tokenFieldPredicate, postal),\n",
       " SimplePredicate: (twoGramFingerprint, addr),\n",
       " SimplePredicate: (twoGramFingerprint, name),\n",
       " SimplePredicate: (twoGramFingerprint, postal),\n",
       " SimplePredicate: (wholeFieldPredicate, addr),\n",
       " SimplePredicate: (wholeFieldPredicate, name),\n",
       " SimplePredicate: (wholeFieldPredicate, postal),\n",
       " TfidfNGramCanopyPredicate: (0.2, addr),\n",
       " TfidfNGramCanopyPredicate: (0.2, name),\n",
       " TfidfNGramCanopyPredicate: (0.2, postal),\n",
       " TfidfNGramCanopyPredicate: (0.4, addr),\n",
       " TfidfNGramCanopyPredicate: (0.4, name),\n",
       " TfidfNGramCanopyPredicate: (0.4, postal),\n",
       " TfidfNGramCanopyPredicate: (0.6, addr),\n",
       " TfidfNGramCanopyPredicate: (0.6, name),\n",
       " TfidfNGramCanopyPredicate: (0.6, postal),\n",
       " TfidfNGramCanopyPredicate: (0.8, addr),\n",
       " TfidfNGramCanopyPredicate: (0.8, name),\n",
       " TfidfNGramCanopyPredicate: (0.8, postal),\n",
       " TfidfTextCanopyPredicate: (0.2, addr),\n",
       " TfidfTextCanopyPredicate: (0.2, name),\n",
       " TfidfTextCanopyPredicate: (0.2, postal),\n",
       " TfidfTextCanopyPredicate: (0.4, addr),\n",
       " TfidfTextCanopyPredicate: (0.4, name),\n",
       " TfidfTextCanopyPredicate: (0.4, postal),\n",
       " TfidfTextCanopyPredicate: (0.6, addr),\n",
       " TfidfTextCanopyPredicate: (0.6, name),\n",
       " TfidfTextCanopyPredicate: (0.6, postal),\n",
       " TfidfTextCanopyPredicate: (0.8, addr),\n",
       " TfidfTextCanopyPredicate: (0.8, name),\n",
       " TfidfTextCanopyPredicate: (0.8, postal)}"
      ]
     },
     "execution_count": 43,
     "metadata": {},
     "output_type": "execute_result"
    }
   ],
   "source": [
    "deduper.data_model.predicates()"
   ]
  },
  {
   "cell_type": "markdown",
   "metadata": {
    "slideshow": {
     "slide_type": "slide"
    }
   },
   "source": [
    "To proceed with the deduplication, we compute the **clustering threshold** and call the actual **match**:"
   ]
  },
  {
   "cell_type": "code",
   "execution_count": 57,
   "metadata": {
    "scrolled": false,
    "slideshow": {
     "slide_type": "fragment"
    }
   },
   "outputs": [],
   "source": [
    "import itertools\n",
    "\n",
    "threshold = 0.5\n",
    "clustered_dupes = deduper.partition(data_for_dedupe, threshold)\n",
    "\n",
    "dedupe_found_pairs_set = set()\n",
    "for cluster, __ in clustered_dupes:  # we'll explain that later\n",
    "    for pair in itertools.combinations(cluster, 2):\n",
    "        dedupe_found_pairs_set.add(tuple(pair))"
   ]
  },
  {
   "cell_type": "markdown",
   "metadata": {
    "slideshow": {
     "slide_type": "slide"
    }
   },
   "source": [
    "Now we'll **evaluate** how it performed:"
   ]
  },
  {
   "cell_type": "code",
   "execution_count": 58,
   "metadata": {
    "scrolled": true,
    "slideshow": {
     "slide_type": "fragment"
    }
   },
   "outputs": [
    {
     "name": "stdout",
     "output_type": "stream",
     "text": [
      "dedupe_true_positives total: 139\n",
      "dedupe_false_positives total: 2\n",
      "dedupe_false_negatives total: 11\n"
     ]
    }
   ],
   "source": [
    "dedupe_true_positives = golden_pairs_set & dedupe_found_pairs_set\n",
    "dedupe_false_positives = dedupe_found_pairs_set - golden_pairs_set\n",
    "dedupe_false_negatives = golden_pairs_set - dedupe_found_pairs_set\n",
    "\n",
    "print('dedupe_true_positives total:', len(dedupe_true_positives))\n",
    "print('dedupe_false_positives total:', len(dedupe_false_positives))\n",
    "print('dedupe_false_negatives total:', len(dedupe_false_negatives))"
   ]
  },
  {
   "cell_type": "code",
   "execution_count": 59,
   "metadata": {},
   "outputs": [
    {
     "data": {
      "text/html": [
       "<div>\n",
       "<style scoped>\n",
       "    .dataframe tbody tr th:only-of-type {\n",
       "        vertical-align: middle;\n",
       "    }\n",
       "\n",
       "    .dataframe tbody tr th {\n",
       "        vertical-align: top;\n",
       "    }\n",
       "\n",
       "    .dataframe thead th {\n",
       "        text-align: right;\n",
       "    }\n",
       "</style>\n",
       "<table border=\"1\" class=\"dataframe\">\n",
       "  <thead>\n",
       "    <tr style=\"text-align: right;\">\n",
       "      <th></th>\n",
       "      <th>name</th>\n",
       "      <th>addr</th>\n",
       "      <th>city</th>\n",
       "      <th>postal</th>\n",
       "      <th>latlng</th>\n",
       "    </tr>\n",
       "  </thead>\n",
       "  <tbody>\n",
       "    <tr>\n",
       "      <th>197</th>\n",
       "      <td>dining room  ritz-carlton  buckhead</td>\n",
       "      <td>3434 peachtree rd.</td>\n",
       "      <td>atlanta</td>\n",
       "      <td>30326</td>\n",
       "      <td>(33.8504884, -84.3636308)</td>\n",
       "    </tr>\n",
       "    <tr>\n",
       "      <th>198</th>\n",
       "      <td>ritz-carlton dining room (buckhead)</td>\n",
       "      <td>3434 peachtree rd. ne</td>\n",
       "      <td>atlanta</td>\n",
       "      <td>30326</td>\n",
       "      <td>(33.8504884, -84.3636308)</td>\n",
       "    </tr>\n",
       "  </tbody>\n",
       "</table>\n",
       "</div>"
      ],
      "text/plain": [
       "                                    name                   addr     city  \\\n",
       "197  dining room  ritz-carlton  buckhead     3434 peachtree rd.  atlanta   \n",
       "198  ritz-carlton dining room (buckhead)  3434 peachtree rd. ne  atlanta   \n",
       "\n",
       "    postal                     latlng  \n",
       "197  30326  (33.8504884, -84.3636308)  \n",
       "198  30326  (33.8504884, -84.3636308)  "
      ]
     },
     "metadata": {},
     "output_type": "display_data"
    },
    {
     "data": {
      "text/html": [
       "<div>\n",
       "<style scoped>\n",
       "    .dataframe tbody tr th:only-of-type {\n",
       "        vertical-align: middle;\n",
       "    }\n",
       "\n",
       "    .dataframe tbody tr th {\n",
       "        vertical-align: top;\n",
       "    }\n",
       "\n",
       "    .dataframe thead th {\n",
       "        text-align: right;\n",
       "    }\n",
       "</style>\n",
       "<table border=\"1\" class=\"dataframe\">\n",
       "  <thead>\n",
       "    <tr style=\"text-align: right;\">\n",
       "      <th></th>\n",
       "      <th>name</th>\n",
       "      <th>addr</th>\n",
       "      <th>city</th>\n",
       "      <th>postal</th>\n",
       "      <th>latlng</th>\n",
       "    </tr>\n",
       "  </thead>\n",
       "  <tbody>\n",
       "    <tr>\n",
       "      <th>28</th>\n",
       "      <td>restaurant katsu</td>\n",
       "      <td>1972 n. hillhurst ave.</td>\n",
       "      <td>los angeles</td>\n",
       "      <td>90027</td>\n",
       "      <td>(34.1074027, -118.2871721)</td>\n",
       "    </tr>\n",
       "    <tr>\n",
       "      <th>29</th>\n",
       "      <td>katsu</td>\n",
       "      <td>1972 hillhurst ave.</td>\n",
       "      <td>los feliz</td>\n",
       "      <td>90027</td>\n",
       "      <td>(34.1074027, -118.2871721)</td>\n",
       "    </tr>\n",
       "  </tbody>\n",
       "</table>\n",
       "</div>"
      ],
      "text/plain": [
       "                name                    addr         city postal  \\\n",
       "28  restaurant katsu  1972 n. hillhurst ave.  los angeles  90027   \n",
       "29             katsu     1972 hillhurst ave.    los feliz  90027   \n",
       "\n",
       "                        latlng  \n",
       "28  (34.1074027, -118.2871721)  \n",
       "29  (34.1074027, -118.2871721)  "
      ]
     },
     "metadata": {},
     "output_type": "display_data"
    },
    {
     "data": {
      "text/html": [
       "<div>\n",
       "<style scoped>\n",
       "    .dataframe tbody tr th:only-of-type {\n",
       "        vertical-align: middle;\n",
       "    }\n",
       "\n",
       "    .dataframe tbody tr th {\n",
       "        vertical-align: top;\n",
       "    }\n",
       "\n",
       "    .dataframe thead th {\n",
       "        text-align: right;\n",
       "    }\n",
       "</style>\n",
       "<table border=\"1\" class=\"dataframe\">\n",
       "  <thead>\n",
       "    <tr style=\"text-align: right;\">\n",
       "      <th></th>\n",
       "      <th>name</th>\n",
       "      <th>addr</th>\n",
       "      <th>city</th>\n",
       "      <th>postal</th>\n",
       "      <th>latlng</th>\n",
       "    </tr>\n",
       "  </thead>\n",
       "  <tbody>\n",
       "    <tr>\n",
       "      <th>36</th>\n",
       "      <td>locanda veneta</td>\n",
       "      <td>8638 w 3rd</td>\n",
       "      <td>st los angeles</td>\n",
       "      <td>90048</td>\n",
       "      <td>(34.0734209, -118.3810981)</td>\n",
       "    </tr>\n",
       "    <tr>\n",
       "      <th>37</th>\n",
       "      <td>locanda</td>\n",
       "      <td>w. third st.</td>\n",
       "      <td>st los angeles</td>\n",
       "      <td>None</td>\n",
       "      <td>(34.0689472, -118.3225988)</td>\n",
       "    </tr>\n",
       "  </tbody>\n",
       "</table>\n",
       "</div>"
      ],
      "text/plain": [
       "              name          addr            city postal  \\\n",
       "36  locanda veneta    8638 w 3rd  st los angeles  90048   \n",
       "37         locanda  w. third st.  st los angeles   None   \n",
       "\n",
       "                        latlng  \n",
       "36  (34.0734209, -118.3810981)  \n",
       "37  (34.0689472, -118.3225988)  "
      ]
     },
     "metadata": {},
     "output_type": "display_data"
    },
    {
     "data": {
      "text/html": [
       "<div>\n",
       "<style scoped>\n",
       "    .dataframe tbody tr th:only-of-type {\n",
       "        vertical-align: middle;\n",
       "    }\n",
       "\n",
       "    .dataframe tbody tr th {\n",
       "        vertical-align: top;\n",
       "    }\n",
       "\n",
       "    .dataframe thead th {\n",
       "        text-align: right;\n",
       "    }\n",
       "</style>\n",
       "<table border=\"1\" class=\"dataframe\">\n",
       "  <thead>\n",
       "    <tr style=\"text-align: right;\">\n",
       "      <th></th>\n",
       "      <th>name</th>\n",
       "      <th>addr</th>\n",
       "      <th>city</th>\n",
       "      <th>postal</th>\n",
       "      <th>latlng</th>\n",
       "    </tr>\n",
       "  </thead>\n",
       "  <tbody>\n",
       "    <tr>\n",
       "      <th>53</th>\n",
       "      <td>spago</td>\n",
       "      <td>1114 horn ave.</td>\n",
       "      <td>los angeles</td>\n",
       "      <td>90069</td>\n",
       "      <td>(34.0911717, -118.3831611)</td>\n",
       "    </tr>\n",
       "    <tr>\n",
       "      <th>54</th>\n",
       "      <td>spago (los angeles)</td>\n",
       "      <td>8795 sunset blvd.</td>\n",
       "      <td>w. hollywood</td>\n",
       "      <td>90069</td>\n",
       "      <td>(34.0911315, -118.3832896)</td>\n",
       "    </tr>\n",
       "  </tbody>\n",
       "</table>\n",
       "</div>"
      ],
      "text/plain": [
       "                   name               addr          city postal  \\\n",
       "53                spago     1114 horn ave.   los angeles  90069   \n",
       "54  spago (los angeles)  8795 sunset blvd.  w. hollywood  90069   \n",
       "\n",
       "                        latlng  \n",
       "53  (34.0911717, -118.3831611)  \n",
       "54  (34.0911315, -118.3832896)  "
      ]
     },
     "metadata": {},
     "output_type": "display_data"
    },
    {
     "data": {
      "text/html": [
       "<div>\n",
       "<style scoped>\n",
       "    .dataframe tbody tr th:only-of-type {\n",
       "        vertical-align: middle;\n",
       "    }\n",
       "\n",
       "    .dataframe tbody tr th {\n",
       "        vertical-align: top;\n",
       "    }\n",
       "\n",
       "    .dataframe thead th {\n",
       "        text-align: right;\n",
       "    }\n",
       "</style>\n",
       "<table border=\"1\" class=\"dataframe\">\n",
       "  <thead>\n",
       "    <tr style=\"text-align: right;\">\n",
       "      <th></th>\n",
       "      <th>name</th>\n",
       "      <th>addr</th>\n",
       "      <th>city</th>\n",
       "      <th>postal</th>\n",
       "      <th>latlng</th>\n",
       "    </tr>\n",
       "  </thead>\n",
       "  <tbody>\n",
       "    <tr>\n",
       "      <th>237</th>\n",
       "      <td>ritz-carlton restaurant and dining room</td>\n",
       "      <td>600 stockton st.</td>\n",
       "      <td>san francisco</td>\n",
       "      <td>94108</td>\n",
       "      <td>(37.7918754, -122.4070392)</td>\n",
       "    </tr>\n",
       "    <tr>\n",
       "      <th>238</th>\n",
       "      <td>ritz-carlton dining room (san francisco)</td>\n",
       "      <td>600 stockton st.</td>\n",
       "      <td>san francisco</td>\n",
       "      <td>94108</td>\n",
       "      <td>(37.7918754, -122.4070392)</td>\n",
       "    </tr>\n",
       "  </tbody>\n",
       "</table>\n",
       "</div>"
      ],
      "text/plain": [
       "                                         name              addr  \\\n",
       "237   ritz-carlton restaurant and dining room  600 stockton st.   \n",
       "238  ritz-carlton dining room (san francisco)  600 stockton st.   \n",
       "\n",
       "              city postal                      latlng  \n",
       "237  san francisco  94108  (37.7918754, -122.4070392)  \n",
       "238  san francisco  94108  (37.7918754, -122.4070392)  "
      ]
     },
     "metadata": {},
     "output_type": "display_data"
    },
    {
     "data": {
      "text/html": [
       "<div>\n",
       "<style scoped>\n",
       "    .dataframe tbody tr th:only-of-type {\n",
       "        vertical-align: middle;\n",
       "    }\n",
       "\n",
       "    .dataframe tbody tr th {\n",
       "        vertical-align: top;\n",
       "    }\n",
       "\n",
       "    .dataframe thead th {\n",
       "        text-align: right;\n",
       "    }\n",
       "</style>\n",
       "<table border=\"1\" class=\"dataframe\">\n",
       "  <thead>\n",
       "    <tr style=\"text-align: right;\">\n",
       "      <th></th>\n",
       "      <th>name</th>\n",
       "      <th>addr</th>\n",
       "      <th>city</th>\n",
       "      <th>postal</th>\n",
       "      <th>latlng</th>\n",
       "    </tr>\n",
       "  </thead>\n",
       "  <tbody>\n",
       "    <tr>\n",
       "      <th>201</th>\n",
       "      <td>toulouse</td>\n",
       "      <td>b peachtree rd.</td>\n",
       "      <td>atlanta</td>\n",
       "      <td>30326</td>\n",
       "      <td>(33.8544526, -84.35839469999999)</td>\n",
       "    </tr>\n",
       "    <tr>\n",
       "      <th>202</th>\n",
       "      <td>toulouse</td>\n",
       "      <td>293-b peachtree rd.</td>\n",
       "      <td>atlanta</td>\n",
       "      <td>30303</td>\n",
       "      <td>(33.7621776, -84.38750259999999)</td>\n",
       "    </tr>\n",
       "  </tbody>\n",
       "</table>\n",
       "</div>"
      ],
      "text/plain": [
       "         name                 addr     city postal  \\\n",
       "201  toulouse      b peachtree rd.  atlanta  30326   \n",
       "202  toulouse  293-b peachtree rd.  atlanta  30303   \n",
       "\n",
       "                               latlng  \n",
       "201  (33.8544526, -84.35839469999999)  \n",
       "202  (33.7621776, -84.38750259999999)  "
      ]
     },
     "metadata": {},
     "output_type": "display_data"
    },
    {
     "data": {
      "text/html": [
       "<div>\n",
       "<style scoped>\n",
       "    .dataframe tbody tr th:only-of-type {\n",
       "        vertical-align: middle;\n",
       "    }\n",
       "\n",
       "    .dataframe tbody tr th {\n",
       "        vertical-align: top;\n",
       "    }\n",
       "\n",
       "    .dataframe thead th {\n",
       "        text-align: right;\n",
       "    }\n",
       "</style>\n",
       "<table border=\"1\" class=\"dataframe\">\n",
       "  <thead>\n",
       "    <tr style=\"text-align: right;\">\n",
       "      <th></th>\n",
       "      <th>name</th>\n",
       "      <th>addr</th>\n",
       "      <th>city</th>\n",
       "      <th>postal</th>\n",
       "      <th>latlng</th>\n",
       "    </tr>\n",
       "  </thead>\n",
       "  <tbody>\n",
       "    <tr>\n",
       "      <th>136</th>\n",
       "      <td>shun lee west</td>\n",
       "      <td>43 w. 65th st.</td>\n",
       "      <td>new york</td>\n",
       "      <td>10023</td>\n",
       "      <td>(40.7729, -73.9813485)</td>\n",
       "    </tr>\n",
       "    <tr>\n",
       "      <th>137</th>\n",
       "      <td>shun lee palace</td>\n",
       "      <td>155 e. 55th st.</td>\n",
       "      <td>new york city</td>\n",
       "      <td>10022</td>\n",
       "      <td>(40.7594346, -73.9690724)</td>\n",
       "    </tr>\n",
       "  </tbody>\n",
       "</table>\n",
       "</div>"
      ],
      "text/plain": [
       "                name             addr           city postal  \\\n",
       "136    shun lee west   43 w. 65th st.       new york  10023   \n",
       "137  shun lee palace  155 e. 55th st.  new york city  10022   \n",
       "\n",
       "                        latlng  \n",
       "136     (40.7729, -73.9813485)  \n",
       "137  (40.7594346, -73.9690724)  "
      ]
     },
     "metadata": {},
     "output_type": "display_data"
    },
    {
     "data": {
      "text/html": [
       "<div>\n",
       "<style scoped>\n",
       "    .dataframe tbody tr th:only-of-type {\n",
       "        vertical-align: middle;\n",
       "    }\n",
       "\n",
       "    .dataframe tbody tr th {\n",
       "        vertical-align: top;\n",
       "    }\n",
       "\n",
       "    .dataframe thead th {\n",
       "        text-align: right;\n",
       "    }\n",
       "</style>\n",
       "<table border=\"1\" class=\"dataframe\">\n",
       "  <thead>\n",
       "    <tr style=\"text-align: right;\">\n",
       "      <th></th>\n",
       "      <th>name</th>\n",
       "      <th>addr</th>\n",
       "      <th>city</th>\n",
       "      <th>postal</th>\n",
       "      <th>latlng</th>\n",
       "    </tr>\n",
       "  </thead>\n",
       "  <tbody>\n",
       "    <tr>\n",
       "      <th>195</th>\n",
       "      <td>cafe  ritz-carlton  buckhead</td>\n",
       "      <td>3434 peachtree rd.</td>\n",
       "      <td>atlanta</td>\n",
       "      <td>30326</td>\n",
       "      <td>(33.8504884, -84.3636308)</td>\n",
       "    </tr>\n",
       "    <tr>\n",
       "      <th>196</th>\n",
       "      <td>ritz-carlton cafe (buckhead)</td>\n",
       "      <td>3434 peachtree rd. ne</td>\n",
       "      <td>atlanta</td>\n",
       "      <td>30326</td>\n",
       "      <td>(33.8504884, -84.3636308)</td>\n",
       "    </tr>\n",
       "  </tbody>\n",
       "</table>\n",
       "</div>"
      ],
      "text/plain": [
       "                             name                   addr     city postal  \\\n",
       "195  cafe  ritz-carlton  buckhead     3434 peachtree rd.  atlanta  30326   \n",
       "196  ritz-carlton cafe (buckhead)  3434 peachtree rd. ne  atlanta  30326   \n",
       "\n",
       "                        latlng  \n",
       "195  (33.8504884, -84.3636308)  \n",
       "196  (33.8504884, -84.3636308)  "
      ]
     },
     "metadata": {},
     "output_type": "display_data"
    },
    {
     "data": {
      "text/html": [
       "<div>\n",
       "<style scoped>\n",
       "    .dataframe tbody tr th:only-of-type {\n",
       "        vertical-align: middle;\n",
       "    }\n",
       "\n",
       "    .dataframe tbody tr th {\n",
       "        vertical-align: top;\n",
       "    }\n",
       "\n",
       "    .dataframe thead th {\n",
       "        text-align: right;\n",
       "    }\n",
       "</style>\n",
       "<table border=\"1\" class=\"dataframe\">\n",
       "  <thead>\n",
       "    <tr style=\"text-align: right;\">\n",
       "      <th></th>\n",
       "      <th>name</th>\n",
       "      <th>addr</th>\n",
       "      <th>city</th>\n",
       "      <th>postal</th>\n",
       "      <th>latlng</th>\n",
       "    </tr>\n",
       "  </thead>\n",
       "  <tbody>\n",
       "    <tr>\n",
       "      <th>34</th>\n",
       "      <td>locanda veneta</td>\n",
       "      <td>3rd st.</td>\n",
       "      <td>los angeles</td>\n",
       "      <td>None</td>\n",
       "      <td>(34.0090307, -118.4881742)</td>\n",
       "    </tr>\n",
       "    <tr>\n",
       "      <th>37</th>\n",
       "      <td>locanda</td>\n",
       "      <td>w. third st.</td>\n",
       "      <td>st los angeles</td>\n",
       "      <td>None</td>\n",
       "      <td>(34.0689472, -118.3225988)</td>\n",
       "    </tr>\n",
       "  </tbody>\n",
       "</table>\n",
       "</div>"
      ],
      "text/plain": [
       "              name          addr            city postal  \\\n",
       "34  locanda veneta       3rd st.     los angeles   None   \n",
       "37         locanda  w. third st.  st los angeles   None   \n",
       "\n",
       "                        latlng  \n",
       "34  (34.0090307, -118.4881742)  \n",
       "37  (34.0689472, -118.3225988)  "
      ]
     },
     "metadata": {},
     "output_type": "display_data"
    },
    {
     "data": {
      "text/html": [
       "<div>\n",
       "<style scoped>\n",
       "    .dataframe tbody tr th:only-of-type {\n",
       "        vertical-align: middle;\n",
       "    }\n",
       "\n",
       "    .dataframe tbody tr th {\n",
       "        vertical-align: top;\n",
       "    }\n",
       "\n",
       "    .dataframe thead th {\n",
       "        text-align: right;\n",
       "    }\n",
       "</style>\n",
       "<table border=\"1\" class=\"dataframe\">\n",
       "  <thead>\n",
       "    <tr style=\"text-align: right;\">\n",
       "      <th></th>\n",
       "      <th>name</th>\n",
       "      <th>addr</th>\n",
       "      <th>city</th>\n",
       "      <th>postal</th>\n",
       "      <th>latlng</th>\n",
       "    </tr>\n",
       "  </thead>\n",
       "  <tbody>\n",
       "    <tr>\n",
       "      <th>199</th>\n",
       "      <td>restaurant  ritz-carlton  atlanta</td>\n",
       "      <td>181 peachtree st.</td>\n",
       "      <td>atlanta</td>\n",
       "      <td>30303</td>\n",
       "      <td>(33.75857209999999, -84.38718109999999)</td>\n",
       "    </tr>\n",
       "    <tr>\n",
       "      <th>200</th>\n",
       "      <td>ritz-carlton restaurant</td>\n",
       "      <td>181 peachtree st.</td>\n",
       "      <td>atlanta</td>\n",
       "      <td>30303</td>\n",
       "      <td>(33.75857209999999, -84.38718109999999)</td>\n",
       "    </tr>\n",
       "  </tbody>\n",
       "</table>\n",
       "</div>"
      ],
      "text/plain": [
       "                                  name               addr     city postal  \\\n",
       "199  restaurant  ritz-carlton  atlanta  181 peachtree st.  atlanta  30303   \n",
       "200            ritz-carlton restaurant  181 peachtree st.  atlanta  30303   \n",
       "\n",
       "                                      latlng  \n",
       "199  (33.75857209999999, -84.38718109999999)  \n",
       "200  (33.75857209999999, -84.38718109999999)  "
      ]
     },
     "metadata": {},
     "output_type": "display_data"
    },
    {
     "data": {
      "text/html": [
       "<div>\n",
       "<style scoped>\n",
       "    .dataframe tbody tr th:only-of-type {\n",
       "        vertical-align: middle;\n",
       "    }\n",
       "\n",
       "    .dataframe tbody tr th {\n",
       "        vertical-align: top;\n",
       "    }\n",
       "\n",
       "    .dataframe thead th {\n",
       "        text-align: right;\n",
       "    }\n",
       "</style>\n",
       "<table border=\"1\" class=\"dataframe\">\n",
       "  <thead>\n",
       "    <tr style=\"text-align: right;\">\n",
       "      <th></th>\n",
       "      <th>name</th>\n",
       "      <th>addr</th>\n",
       "      <th>city</th>\n",
       "      <th>postal</th>\n",
       "      <th>latlng</th>\n",
       "    </tr>\n",
       "  </thead>\n",
       "  <tbody>\n",
       "    <tr>\n",
       "      <th>35</th>\n",
       "      <td>locanda veneta</td>\n",
       "      <td>8638 w. third st.</td>\n",
       "      <td>los angeles</td>\n",
       "      <td>90048</td>\n",
       "      <td>(34.0734209, -118.3810981)</td>\n",
       "    </tr>\n",
       "    <tr>\n",
       "      <th>37</th>\n",
       "      <td>locanda</td>\n",
       "      <td>w. third st.</td>\n",
       "      <td>st los angeles</td>\n",
       "      <td>None</td>\n",
       "      <td>(34.0689472, -118.3225988)</td>\n",
       "    </tr>\n",
       "  </tbody>\n",
       "</table>\n",
       "</div>"
      ],
      "text/plain": [
       "              name               addr            city postal  \\\n",
       "35  locanda veneta  8638 w. third st.     los angeles  90048   \n",
       "37         locanda       w. third st.  st los angeles   None   \n",
       "\n",
       "                        latlng  \n",
       "35  (34.0734209, -118.3810981)  \n",
       "37  (34.0689472, -118.3225988)  "
      ]
     },
     "metadata": {},
     "output_type": "display_data"
    }
   ],
   "source": [
    "for pair in dedupe_false_negatives:\n",
    "    display(df.loc[list(pair)])"
   ]
  },
  {
   "cell_type": "markdown",
   "metadata": {
    "slideshow": {
     "slide_type": "slide"
    }
   },
   "source": [
    "## 4/4 - Clustering"
   ]
  },
  {
   "cell_type": "markdown",
   "metadata": {
    "slideshow": {
     "slide_type": "slide"
    }
   },
   "source": [
    "Using the Threshold or the SVM, we got the **matching pairs**. But what Dedupe returned to us were **clusters of matches**:"
   ]
  },
  {
   "cell_type": "code",
   "execution_count": 60,
   "metadata": {
    "slideshow": {
     "slide_type": "fragment"
    }
   },
   "outputs": [
    {
     "data": {
      "text/plain": [
       "[((0, 1, 2), array([0.96192113, 0.96192113, 0.94999999])),\n",
       " ((3, 4, 5), array([0.99000001, 0.99292894, 0.99292894])),\n",
       " ((6, 7, 8), array([0.64496478, 0.7445592 , 0.75160514])),\n",
       " ((9, 10, 11, 12), array([0.9942265 , 0.9942265 , 0.9942265 , 0.99000001])),\n",
       " ((13, 14), (1.0, 1.0))]"
      ]
     },
     "execution_count": 60,
     "metadata": {},
     "output_type": "execute_result"
    }
   ],
   "source": [
    "clustered_dupes[:5]"
   ]
  },
  {
   "cell_type": "markdown",
   "metadata": {
    "slideshow": {
     "slide_type": "slide"
    }
   },
   "source": [
    "Dedupe went one step further on the process and **merged the matching pairs into clusters**! Why is that important? Because the following can happen:\n",
    "- We have the records `A`, `B`, and `C`\n",
    "- By deduplicating, we find:\n",
    "- `(A, B)` match\n",
    "- `(B, C)` match\n",
    "- `(A, C)` nonmatch\n",
    "- And that doesn't make sense!\n",
    "\n",
    "The solution for that ambiguity is computing the **Transitive Closure** through clustering."
   ]
  },
  {
   "cell_type": "markdown",
   "metadata": {
    "slideshow": {
     "slide_type": "slide"
    }
   },
   "source": [
    "Using some private methods from Dedupe, it's possible to get the **unclustered pairs**:"
   ]
  },
  {
   "cell_type": "code",
   "execution_count": 61,
   "metadata": {
    "slideshow": {
     "slide_type": "fragment"
    }
   },
   "outputs": [],
   "source": [
    "from dedupe.core import scoreDuplicates\n",
    "\n",
    "candidate_pairs = deduper.pairs(data_for_dedupe)\n",
    "candidate_pairs_scores = deduper.score(candidate_pairs)\n",
    "dedupe_unclustered_pairs_score_dict = {\n",
    "    tuple(pair): score\n",
    "    for (pair, score) in candidate_pairs_scores\n",
    "    if score > threshold}\n",
    "dedupe_unclustered_found_pairs_set = set(dedupe_unclustered_pairs_score_dict.keys())"
   ]
  },
  {
   "cell_type": "markdown",
   "metadata": {
    "slideshow": {
     "slide_type": "slide"
    }
   },
   "source": [
    "Let's **evaluate** those unclustered pairs against the clustered pairs:"
   ]
  },
  {
   "cell_type": "code",
   "execution_count": 62,
   "metadata": {
    "slideshow": {
     "slide_type": "fragment"
    }
   },
   "outputs": [
    {
     "name": "stdout",
     "output_type": "stream",
     "text": [
      "dedupe_true_positives total: 139\n",
      "dedupe_false_positives total: 2\n",
      "dedupe_false_negatives total: 11\n",
      "\n",
      "dedupe_unclustered_true_positives total: 138\n",
      "dedupe_unclustered_false_positives total: 2\n",
      "dedupe_unclustered_false_negatives total: 12\n"
     ]
    }
   ],
   "source": [
    "dedupe_unclustered_true_positives = golden_pairs_set & dedupe_unclustered_found_pairs_set\n",
    "dedupe_unclustered_false_positives = dedupe_unclustered_found_pairs_set - golden_pairs_set\n",
    "dedupe_unclustered_false_negatives = golden_pairs_set - dedupe_unclustered_found_pairs_set\n",
    "\n",
    "print('dedupe_true_positives total:', len(dedupe_true_positives))\n",
    "print('dedupe_false_positives total:', len(dedupe_false_positives))\n",
    "print('dedupe_false_negatives total:', len(dedupe_false_negatives))\n",
    "print()\n",
    "print('dedupe_unclustered_true_positives total:', len(dedupe_unclustered_true_positives))\n",
    "print('dedupe_unclustered_false_positives total:', len(dedupe_unclustered_false_positives))\n",
    "print('dedupe_unclustered_false_negatives total:', len(dedupe_unclustered_false_negatives))"
   ]
  },
  {
   "cell_type": "markdown",
   "metadata": {
    "slideshow": {
     "slide_type": "slide"
    }
   },
   "source": [
    "Unclustered pairs `!=` Clustered pairs.\n",
    "\n",
    "Though necessary, the clustering process can both **create new matches** and **drop found matches**"
   ]
  },
  {
   "cell_type": "code",
   "execution_count": 63,
   "metadata": {
    "slideshow": {
     "slide_type": "fragment"
    }
   },
   "outputs": [
    {
     "data": {
      "text/plain": [
       "{(41, 42)}"
      ]
     },
     "metadata": {},
     "output_type": "display_data"
    }
   ],
   "source": [
    "diff_set = dedupe_found_pairs_set ^ dedupe_unclustered_found_pairs_set\n",
    "display(diff_set)"
   ]
  },
  {
   "cell_type": "code",
   "execution_count": 64,
   "metadata": {
    "scrolled": true,
    "slideshow": {
     "slide_type": "slide"
    }
   },
   "outputs": [
    {
     "data": {
      "text/html": [
       "<div>\n",
       "<style scoped>\n",
       "    .dataframe tbody tr th:only-of-type {\n",
       "        vertical-align: middle;\n",
       "    }\n",
       "\n",
       "    .dataframe tbody tr th {\n",
       "        vertical-align: top;\n",
       "    }\n",
       "\n",
       "    .dataframe thead th {\n",
       "        text-align: right;\n",
       "    }\n",
       "</style>\n",
       "<table border=\"1\" class=\"dataframe\">\n",
       "  <thead>\n",
       "    <tr style=\"text-align: right;\">\n",
       "      <th></th>\n",
       "      <th>name</th>\n",
       "      <th>addr</th>\n",
       "      <th>city</th>\n",
       "      <th>postal</th>\n",
       "      <th>latlng</th>\n",
       "    </tr>\n",
       "  </thead>\n",
       "  <tbody>\n",
       "    <tr>\n",
       "      <th>40</th>\n",
       "      <td>the palm</td>\n",
       "      <td>9001 santa monica blvd.</td>\n",
       "      <td>los angeles</td>\n",
       "      <td>90069</td>\n",
       "      <td>(34.0834733, -118.3873731)</td>\n",
       "    </tr>\n",
       "    <tr>\n",
       "      <th>41</th>\n",
       "      <td>palm  the (los angeles)</td>\n",
       "      <td>9001 santa monica blvd.</td>\n",
       "      <td>w. hollywood</td>\n",
       "      <td>90069</td>\n",
       "      <td>(34.083064, -118.387282)</td>\n",
       "    </tr>\n",
       "    <tr>\n",
       "      <th>42</th>\n",
       "      <td>the palm los angeles</td>\n",
       "      <td>9001 sta monica boulevard</td>\n",
       "      <td>hollywood</td>\n",
       "      <td>90069</td>\n",
       "      <td>(34.083064, -118.387282)</td>\n",
       "    </tr>\n",
       "  </tbody>\n",
       "</table>\n",
       "</div>"
      ],
      "text/plain": [
       "                       name                       addr          city postal  \\\n",
       "40                 the palm    9001 santa monica blvd.   los angeles  90069   \n",
       "41  palm  the (los angeles)    9001 santa monica blvd.  w. hollywood  90069   \n",
       "42     the palm los angeles  9001 sta monica boulevard     hollywood  90069   \n",
       "\n",
       "                        latlng  \n",
       "40  (34.0834733, -118.3873731)  \n",
       "41    (34.083064, -118.387282)  \n",
       "42    (34.083064, -118.387282)  "
      ]
     },
     "metadata": {},
     "output_type": "display_data"
    },
    {
     "data": {
      "image/png": "[encoded data removed]",
      "text/plain": [
       "<Figure size 720x432 with 1 Axes>"
      ]
     },
     "metadata": {},
     "output_type": "display_data"
    },
    {
     "data": {
      "image/png": "[encoded data removed]",
      "text/plain": [
       "<Figure size 720x432 with 1 Axes>"
      ]
     },
     "metadata": {},
     "output_type": "display_data"
    },
    {
     "data": {
      "image/png": "[encoded data removed]",
      "text/plain": [
       "<Figure size 720x432 with 1 Axes>"
      ]
     },
     "metadata": {},
     "output_type": "display_data"
    }
   ],
   "source": [
    "from graph_utils import show_cluster_graphs\n",
    "\n",
    "diff_ids = {40, 41, 42}\n",
    "show_cluster_graphs(\n",
    "    df,\n",
    "    golden_pairs_set, dedupe_found_pairs_set, dedupe_unclustered_found_pairs_set,\n",
    "    dedupe_unclustered_pairs_score_dict,\n",
    "    diff_ids)"
   ]
  },
  {
   "cell_type": "markdown",
   "metadata": {
    "slideshow": {
     "slide_type": "slide"
    }
   },
   "source": [
    "## Next Steps"
   ]
  },
  {
   "cell_type": "markdown",
   "metadata": {
    "slideshow": {
     "slide_type": "slide"
    }
   },
   "source": [
    "Make sure to learn about other pre-processing methods, indexing techniques, similarity functions, classifiers, etc. Check the talk **The Art and Science of Data Matching** [1] and read the book **Data Matching** [2]."
   ]
  },
  {
   "cell_type": "markdown",
   "metadata": {
    "slideshow": {
     "slide_type": "slide"
    }
   },
   "source": [
    "Once we have the clusters, how to consolidate data from many records into one? Check for material on **Data Fusion**:\n",
    "  - [Open issue at Python Record Linkage Toolkit](https://github.com/J535D165/recordlinkage/issues/27)\n",
    "  - Christen, 6.12 Merging Matches [2]"
   ]
  },
  {
   "cell_type": "markdown",
   "metadata": {
    "slideshow": {
     "slide_type": "slide"
    }
   },
   "source": [
    "What if new records arrive? Should we merge, unmerge, move records from clusters? Check for material on **Incremental Record Linkage**:\n",
    "  - Dedupe approach is to either add to an existing cluster or create a new cluster. You can use a [Gazetteer](https://docs.dedupe.io/en/latest/API-documentation.html#gazetteer-objects) with previously deduped data, then merge new matches into it, and index new nonmatches.\n",
    "  - Other approaches, check papers:\n",
    "      * [Online Correlation Clustering](https://arxiv.org/pdf/1001.0920.pdf)\n",
    "      * [Incremental Record Linkage](http://www.vldb.org/pvldb/vol7/p697-gruenheid.pdf)\n",
    "      * [Heuristic-based approaches for speeding up incremental record linkage](https://www.sciencedirect.com/science/article/pii/S0164121217302972)"
   ]
  },
  {
   "cell_type": "markdown",
   "metadata": {
    "slideshow": {
     "slide_type": "slide"
    }
   },
   "source": [
    "Also worth checking the **Privacy** implications of Record Linkage:\n",
    "- Christen, chapter 8 [2]\n",
    "- [k-anonymity](https://desfontain.es/privacy/k-anonymity.html), [k-map](https://desfontain.es/privacy/k-map.html), [δ-presence](https://desfontain.es/privacy/delta-presence.html)\n",
    "- [Why differential privacy is awesome](https://desfontain.es/privacy/differential-privacy-awesomeness.html)"
   ]
  },
  {
   "cell_type": "markdown",
   "metadata": {
    "slideshow": {
     "slide_type": "slide"
    }
   },
   "source": [
    "## References"
   ]
  },
  {
   "cell_type": "markdown",
   "metadata": {
    "slideshow": {
     "slide_type": "fragment"
    }
   },
   "source": [
    "- **Referenced** by this talk:\n",
    "    * [1] [Mike Mull, The Art and Science of Data Matching](https://www.youtube.com/watch?v=Y-nYEOgq3YE) (slides [here](https://github.com/mikemull/Notebooks/blob/master/PyDataNYCSlides.ipynb))\n",
    "    * [2] [Peter Christen, Data Matching](http://www.springer.com/us/book/9783642311635)\n",
    "    * [3] [Mikhail Yuryevich Bilenko, Learnable Similarity Functions and Their Application to Record Linkage and Clustering](http://www.cs.utexas.edu/~ml/papers/marlin-dissertation-06.pdf)\n",
    "- Other **talks** about Record Linkage with Python:\n",
    "    * [Andrew Rowe, Big Data Deduplication and data matching using Python](https://www.youtube.com/watch?v=Z6mlvrYEYnk)\n",
    "    * [Rhydwyn Mcguire, Record linkage: Join for real life](https://www.youtube.com/watch?v=cEcVIjyHfiQ)\n",
    "- [Basics of Entity Resolution with Python and Dedupe](https://medium.com/district-data-labs/basics-of-entity-resolution-with-python-and-dedupe-bc87440b64d4)\n",
    "- [Automating your Data Cleanup with Python](https://blog.kjamistan.com/automating-your-data-cleanup-with-python/)\n",
    "- [Comparison of Data Matching software](https://github.com/J535D165/data-matching-software)\n",
    "- [Compilation of Record Linkage resources](https://github.com/ropeladder/record-linkage-resources)"
   ]
  },
  {
   "cell_type": "markdown",
   "metadata": {
    "slideshow": {
     "slide_type": "slide"
    }
   },
   "source": [
    "# Thank you!\n",
    "flavio@vinta.com.br  \n",
    "[@flaviojuvenal](https://twitter.com/flaviojuvenal)  \n",
    "[vinta.com.br](https://www.vinta.com.br?dedupe-slides=1)\n",
    "\n",
    "Special thanks to Russell Keith-Magee [@freakboy3742](https://twitter.com/freakboy3742), Forest Timothy Gregg [@forestgregg](https://twitter.com/forestgregg), and Jonathan de Bruin [@J535D165](https://github.com/J535D165)."
   ]
  }
 ],
 "metadata": {
  "celltoolbar": "Slideshow",
  "kernelspec": {
   "display_name": "Python 3",
   "language": "python",
   "name": "python3"
  },
  "language_info": {
   "codemirror_mode": {
    "name": "ipython",
    "version": 3
   },
   "file_extension": ".py",
   "mimetype": "text/x-python",
   "name": "python",
   "nbconvert_exporter": "python",
   "pygments_lexer": "ipython3",
   "version": "3.7.6"
  }
 },
 "nbformat": 4,
 "nbformat_minor": 2
}
