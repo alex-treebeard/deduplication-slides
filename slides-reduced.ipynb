{
 "cells": [
  {
   "cell_type": "markdown",
   "metadata": {
    "slideshow": {
     "slide_type": "slide"
    }
   },
   "source": [
    "# 1 + 1 = 1 or Record Deduplication with Python\n",
    "Flávio Juvenal  \n",
    "[@flaviojuvenal](https://twitter.com/flaviojuvenal)  \n",
    "\n",
    "<p>\n",
    "    Partner at <a href=\"http://www.vinta.com.br?dedupe-slides=1\"><img class=\"vinta_logo\" style=\"display: inline-block; margin-left: 0;\" src=\"vinta.png\" width=300></a>\n",
    "</p>"
   ]
  },
  {
   "cell_type": "markdown",
   "metadata": {
    "slideshow": {
     "slide_type": "slide"
    }
   },
   "source": [
    "<p style=\"font-size: 2em; text-weight: bold\">\n",
    "    Slides available at: <a href=\"http://bit.ly/pybay-dupe\">bit.ly/pybay-dupe</a> (open as Desktop)\n",
    "</p>\n",
    "<p>\n",
    "    Jupyter Notebook source at: <a href=\"https://github.com/vintasoftware/deduplication-slides/\">github.com/vintasoftware/deduplication-slides/</a>\n",
    "</p>"
   ]
  },
  {
   "cell_type": "markdown",
   "metadata": {
    "slideshow": {
     "slide_type": "slide"
    }
   },
   "source": [
    "## Introduction\n",
    "\n",
    "Real world data is inputted by people and often it's:\n",
    "* Not reviewed\n",
    "* Not linked with related data\n",
    "* Not properly normalized by the input system\n",
    "* Or simply it's incorrectly inputted because people make mistakes: typos, mishearing, miscalculation, misinterpretation, etc."
   ]
  },
  {
   "cell_type": "markdown",
   "metadata": {
    "slideshow": {
     "slide_type": "slide"
    }
   },
   "source": [
    "This causes the following problems on data:\n",
    "* lack of unique identifiers (making difficult detect duplicates in a dataset or to link with other datasets)\n",
    "* duplications (e.g. multiple records refer to a single person)\n",
    "* inconsistencies (e.g. a person appears with multiple addresses)\n",
    "* bad formatting (e.g. birth dates appear with multiple formats like DD/MM/YY and YYYY-MM-DD)\n",
    "\n",
    "All of that affects the ability to properly **extract knowledge** from one or more datasets."
   ]
  },
  {
   "cell_type": "markdown",
   "metadata": {
    "slideshow": {
     "slide_type": "slide"
    }
   },
   "source": [
    "The solution is to perform **[Record Linkage](https://en.wikipedia.org/wiki/Record_linkage)**. It works by joining records in a **fuzzy way** using data like names, addresses, phone numbers, dates, etc.\n",
    "\n",
    "The term Record Linkage is most used when the linkage is applied to multiple datasets, like joining a Restaurant Food Inspection dataset with an Employee Wage dataset. In fact, [someone did just that](https://www.enigma.com/blog/on-wages-and-hygiene-surfacing-bad-management-in-public-data).\n",
    "\n",
    "Record Linkage is also known as Data Matching, Entity Resolution, and [other names](https://en.wikipedia.org/wiki/Record_linkage#Naming_conventions)."
   ]
  },
  {
   "cell_type": "markdown",
   "metadata": {
    "slideshow": {
     "slide_type": "slide"
    }
   },
   "source": [
    "What we'll discuss here is a specific application of Record Linkage, called **Deduplication**, which is applying Record Linkage on a single dataset against itself to **find which records are duplicates**. Here's a very simple example:"
   ]
  },
  {
   "cell_type": "code",
   "execution_count": 1,
   "metadata": {
    "slideshow": {
     "slide_type": "skip"
    }
   },
   "outputs": [],
   "source": [
    "import warnings; warnings.simplefilter('ignore')\n",
    "import logging; logging.disable(level=logging.INFO)"
   ]
  },
  {
   "cell_type": "code",
   "execution_count": 2,
   "metadata": {
    "scrolled": false,
    "slideshow": {
     "slide_type": "slide"
    }
   },
   "outputs": [],
   "source": [
    "import pandas as pd\n",
    "\n",
    "data = [\n",
    "    (\"Chin's\",\"3200 Las Vegas Boulevard\",\"New York\"),\n",
    "    (\"Chin Bistro\",\"3200 Las Vegas Blvd.\",\"New York\"),\n",
    "    (\"Bistro\",\"3400 Las Vegas Blvd.\",\"New York City\"),\n",
    "    (\"Bistro\",\"3400 Las Vegas B.\",\"NYC\"),\n",
    "]\n",
    "\n",
    "df = pd.DataFrame(data, columns=['restaurant', 'address', 'city'])"
   ]
  },
  {
   "cell_type": "code",
   "execution_count": 3,
   "metadata": {
    "slideshow": {
     "slide_type": "slide"
    }
   },
   "outputs": [
    {
     "data": {
      "text/html": [
       "<div>\n",
       "<style scoped>\n",
       "    .dataframe tbody tr th:only-of-type {\n",
       "        vertical-align: middle;\n",
       "    }\n",
       "\n",
       "    .dataframe tbody tr th {\n",
       "        vertical-align: top;\n",
       "    }\n",
       "\n",
       "    .dataframe thead th {\n",
       "        text-align: right;\n",
       "    }\n",
       "</style>\n",
       "<table border=\"1\" class=\"dataframe\">\n",
       "  <thead>\n",
       "    <tr style=\"text-align: right;\">\n",
       "      <th></th>\n",
       "      <th>restaurant</th>\n",
       "      <th>address</th>\n",
       "      <th>city</th>\n",
       "    </tr>\n",
       "  </thead>\n",
       "  <tbody>\n",
       "    <tr>\n",
       "      <th>0</th>\n",
       "      <td>Chin's</td>\n",
       "      <td>3200 Las Vegas Boulevard</td>\n",
       "      <td>New York</td>\n",
       "    </tr>\n",
       "    <tr>\n",
       "      <th>1</th>\n",
       "      <td>Chin Bistro</td>\n",
       "      <td>3200 Las Vegas Blvd.</td>\n",
       "      <td>New York</td>\n",
       "    </tr>\n",
       "    <tr>\n",
       "      <th>2</th>\n",
       "      <td>Bistro</td>\n",
       "      <td>3400 Las Vegas Blvd.</td>\n",
       "      <td>New York City</td>\n",
       "    </tr>\n",
       "    <tr>\n",
       "      <th>3</th>\n",
       "      <td>Bistro</td>\n",
       "      <td>3400 Las Vegas B.</td>\n",
       "      <td>NYC</td>\n",
       "    </tr>\n",
       "  </tbody>\n",
       "</table>\n",
       "</div>"
      ],
      "text/plain": [
       "    restaurant                   address           city\n",
       "0       Chin's  3200 Las Vegas Boulevard       New York\n",
       "1  Chin Bistro      3200 Las Vegas Blvd.       New York\n",
       "2       Bistro      3400 Las Vegas Blvd.  New York City\n",
       "3       Bistro         3400 Las Vegas B.            NYC"
      ]
     },
     "execution_count": 3,
     "metadata": {},
     "output_type": "execute_result"
    }
   ],
   "source": [
    "df"
   ]
  },
  {
   "cell_type": "markdown",
   "metadata": {
    "slideshow": {
     "slide_type": "fragment"
    }
   },
   "source": [
    "A good deduplication on the data above would find that:\n",
    "  - `(0, 1)` are duplicates\n",
    "  - `(2, 3)` are duplicates \n",
    "  - but `(0, 1)` and `(2, 3)` are different, despite being similar"
   ]
  },
  {
   "cell_type": "markdown",
   "metadata": {
    "slideshow": {
     "slide_type": "slide"
    }
   },
   "source": [
    "## Process"
   ]
  },
  {
   "cell_type": "markdown",
   "metadata": {
    "slideshow": {
     "slide_type": "slide"
    }
   },
   "source": [
    "The process for deduplicating a dataset usually is:\n",
    "  0. Preprocessing\n",
    "    * input: dataset \n",
    "    * output: cleaned dataset\n",
    "  1. Indexing\n",
    "    * output: pairs to compare\n",
    "  2. Comparison\n",
    "    * output: comparison vectors\n",
    "  3. Classification\n",
    "    * output: matching/nonmatching pairs\n",
    "  4. Clustering \n",
    "    * output: unique record clusters\n",
    "    \n",
    "Let's explore each of those steps!"
   ]
  },
  {
   "cell_type": "markdown",
   "metadata": {
    "slideshow": {
     "slide_type": "slide"
    }
   },
   "source": [
    "## 0/4 - Preprocessing\n",
    "Without unique identifiers, we need to match records by fuzzy data like:\n",
    "- Names\n",
    "- Addresses\n",
    "- Phone Numbers\n",
    "- Dates\n",
    "\n",
    "So it's important to **clean** them for matching."
   ]
  },
  {
   "cell_type": "markdown",
   "metadata": {
    "slideshow": {
     "slide_type": "slide"
    }
   },
   "source": [
    "### Cleaning names (companies or people)"
   ]
  },
  {
   "cell_type": "markdown",
   "metadata": {
    "slideshow": {
     "slide_type": "slide"
    }
   },
   "source": [
    "Let's use string functions and regexes to **normalize** names and remove undesired variations:"
   ]
  },
  {
   "cell_type": "code",
   "execution_count": 4,
   "metadata": {
    "scrolled": true,
    "slideshow": {
     "slide_type": "slide"
    }
   },
   "outputs": [],
   "source": [
    "import numpy as np\n",
    "import re\n",
    "import pprint\n",
    "\n",
    "\n",
    "company_names = company_names_dirty = [\n",
    "    'APPLE COMPUTER INC',\n",
    "    'APPLE COMPUTER, INC.',\n",
    "    'APPLE INC',\n",
    "    'Apple Computer',\n",
    "    'Apple Computer Co.',\n",
    "    'Apple Computer Company',\n",
    "    'Apple Computer Inc',\n",
    "    'Apple Computer Incorporated',\n",
    "    'Apple Computer, Inc.',\n",
    "    'Apple Inc',\n",
    "    'Apple Inc.',\n",
    "    'Apple, Inc.'\n",
    "]"
   ]
  },
  {
   "cell_type": "code",
   "execution_count": 5,
   "metadata": {
    "slideshow": {
     "slide_type": "slide"
    }
   },
   "outputs": [
    {
     "name": "stdout",
     "output_type": "stream",
     "text": [
      "Lower case:\n",
      "['apple computer inc',\n",
      " 'apple computer, inc.',\n",
      " 'apple inc',\n",
      " 'apple computer',\n",
      " 'apple computer co.',\n",
      " 'apple computer company',\n",
      " 'apple computer inc',\n",
      " 'apple computer incorporated',\n",
      " 'apple computer, inc.',\n",
      " 'apple inc',\n",
      " 'apple inc.',\n",
      " 'apple, inc.']\n"
     ]
    }
   ],
   "source": [
    "print(\"Lower case:\")\n",
    "company_names = [c.lower() for c in company_names]\n",
    "pprint.pprint(company_names)"
   ]
  },
  {
   "cell_type": "code",
   "execution_count": 6,
   "metadata": {
    "slideshow": {
     "slide_type": "slide"
    }
   },
   "outputs": [
    {
     "name": "stdout",
     "output_type": "stream",
     "text": [
      "Remove irrelevant separators:\n",
      "['apple computer inc',\n",
      " 'apple computer  inc ',\n",
      " 'apple inc',\n",
      " 'apple computer',\n",
      " 'apple computer co ',\n",
      " 'apple computer company',\n",
      " 'apple computer inc',\n",
      " 'apple computer incorporated',\n",
      " 'apple computer  inc ',\n",
      " 'apple inc',\n",
      " 'apple inc ',\n",
      " 'apple  inc ']\n"
     ]
    }
   ],
   "source": [
    "print(\"Remove irrelevant separators:\")\n",
    "irrelevant_regex = re.compile(r'[^a-z0-9\\s]')\n",
    "company_names = [irrelevant_regex.sub(' ', c) for c in company_names]\n",
    "pprint.pprint(company_names)"
   ]
  },
  {
   "cell_type": "code",
   "execution_count": 7,
   "metadata": {
    "slideshow": {
     "slide_type": "slide"
    }
   },
   "outputs": [
    {
     "name": "stdout",
     "output_type": "stream",
     "text": [
      "Remove multi-spaces:\n",
      "['apple computer inc',\n",
      " 'apple computer inc',\n",
      " 'apple inc',\n",
      " 'apple computer',\n",
      " 'apple computer co',\n",
      " 'apple computer company',\n",
      " 'apple computer inc',\n",
      " 'apple computer incorporated',\n",
      " 'apple computer inc',\n",
      " 'apple inc',\n",
      " 'apple inc',\n",
      " 'apple inc']\n"
     ]
    }
   ],
   "source": [
    "print(\"Remove multi-spaces:\")\n",
    "multispace_regex = re.compile(r'\\s\\s+')\n",
    "company_names = [multispace_regex.sub(' ', c).strip() for c in company_names]\n",
    "pprint.pprint(company_names)"
   ]
  },
  {
   "cell_type": "code",
   "execution_count": 8,
   "metadata": {
    "slideshow": {
     "slide_type": "slide"
    }
   },
   "outputs": [
    {
     "name": "stdout",
     "output_type": "stream",
     "text": [
      "Remove stopwords:\n",
      "['apple',\n",
      " 'apple',\n",
      " 'apple',\n",
      " 'apple',\n",
      " 'apple',\n",
      " 'apple',\n",
      " 'apple',\n",
      " 'apple',\n",
      " 'apple',\n",
      " 'apple',\n",
      " 'apple',\n",
      " 'apple']\n"
     ]
    }
   ],
   "source": [
    "print(\"Remove stopwords:\")\n",
    "business_stopwords = {  # suppose we got this from somewhere\n",
    "    'computer',\n",
    "    'co',\n",
    "    'company',\n",
    "    'corp',\n",
    "    'corporation',\n",
    "    'inc',\n",
    "    'incorporated',\n",
    "    'llc',\n",
    "    #...\n",
    "}\n",
    "\n",
    "company_names = [\n",
    "    ' '.join([c_part for c_part in c.split() if c_part not in business_stopwords])\n",
    "    for c in company_names\n",
    "]\n",
    "pprint.pprint(company_names)"
   ]
  },
  {
   "cell_type": "markdown",
   "metadata": {
    "slideshow": {
     "slide_type": "slide"
    }
   },
   "source": [
    "We can also use the natural language processing library [**probablepeople**](https://github.com/datamade/probablepeople) to **parse company names** and extract just the parts we want (or break into parts and match by part on the comparison step later):"
   ]
  },
  {
   "cell_type": "code",
   "execution_count": 9,
   "metadata": {
    "slideshow": {
     "slide_type": "fragment"
    }
   },
   "outputs": [
    {
     "data": {
      "text/plain": [
       "[('Apple', 'CorporationName'),\n",
       " ('Computer', 'CorporationName'),\n",
       " ('Incorporated', 'CorporationLegalType')]"
      ]
     },
     "execution_count": 9,
     "metadata": {},
     "output_type": "execute_result"
    }
   ],
   "source": [
    "import probablepeople as pp\n",
    "\n",
    "pp.parse(\"Apple Computer Incorporated\")"
   ]
  },
  {
   "cell_type": "code",
   "execution_count": 10,
   "metadata": {
    "slideshow": {
     "slide_type": "slide"
    }
   },
   "outputs": [
    {
     "name": "stdout",
     "output_type": "stream",
     "text": [
      "[['APPLE', 'COMPUTER'],\n",
      " ['APPLE', 'COMPUTER,'],\n",
      " ['APPLE'],\n",
      " ['Apple', 'Computer'],\n",
      " ['Apple', 'Computer'],\n",
      " ['Apple', 'Computer'],\n",
      " ['Apple', 'Computer'],\n",
      " ['Apple', 'Computer'],\n",
      " ['Apple', 'Computer,'],\n",
      " ['Apple'],\n",
      " ['Apple'],\n",
      " ['Apple,']]\n"
     ]
    }
   ],
   "source": [
    "company_names_alternative_1 = [\n",
    "    [\n",
    "        parsed_value\n",
    "        for parsed_value, parsed_type\n",
    "        in pp.parse(c)\n",
    "        if parsed_type == 'CorporationName'\n",
    "    ]\n",
    "    for c in company_names_dirty\n",
    "]\n",
    "pprint.pprint(company_names_alternative_1)"
   ]
  },
  {
   "cell_type": "markdown",
   "metadata": {
    "slideshow": {
     "slide_type": "slide"
    }
   },
   "source": [
    "probablepeople, as the name suggests, can parse **people** names too:"
   ]
  },
  {
   "cell_type": "code",
   "execution_count": 11,
   "metadata": {
    "slideshow": {
     "slide_type": "fragment"
    }
   },
   "outputs": [
    {
     "data": {
      "text/plain": [
       "[('Mr.', 'PrefixMarital'),\n",
       " ('Guido', 'GivenName'),\n",
       " ('van', 'Surname'),\n",
       " ('Rossum', 'Surname')]"
      ]
     },
     "execution_count": 11,
     "metadata": {},
     "output_type": "execute_result"
    }
   ],
   "source": [
    "pp.parse('Mr. Guido van Rossum')"
   ]
  },
  {
   "cell_type": "markdown",
   "metadata": {
    "slideshow": {
     "slide_type": "slide"
    }
   },
   "source": [
    "If it's useful to **ignore accents**, try [**unidecode**](https://github.com/avian2/unidecode):"
   ]
  },
  {
   "cell_type": "code",
   "execution_count": 12,
   "metadata": {
    "slideshow": {
     "slide_type": "fragment"
    }
   },
   "outputs": [
    {
     "name": "stdout",
     "output_type": "stream",
     "text": [
      "ASCII transliteration:\n",
      "Flávio ->\n",
      "Flavio\n"
     ]
    }
   ],
   "source": [
    "import unidecode\n",
    "\n",
    "print(\"ASCII transliteration:\")\n",
    "brazilian_name = \"Flávio\"\n",
    "print(brazilian_name, \"->\")\n",
    "print(unidecode.unidecode(brazilian_name))"
   ]
  },
  {
   "cell_type": "markdown",
   "metadata": {
    "slideshow": {
     "slide_type": "slide"
    }
   },
   "source": [
    "### Cleaning addresses"
   ]
  },
  {
   "cell_type": "markdown",
   "metadata": {
    "slideshow": {
     "slide_type": "slide"
    }
   },
   "source": [
    "Geocoding street addresses, i.e., converting them to **latitude/longitude** is very useful for matching, because geocoders usually clean irrelevant address variations. Also, having lat/lng enables the calculation of geometric distances between addresses."
   ]
  },
  {
   "cell_type": "code",
   "execution_count": 13,
   "metadata": {
    "slideshow": {
     "slide_type": "slide"
    }
   },
   "outputs": [],
   "source": [
    "import requests\n",
    "import geocoder\n",
    "\n",
    "full_addresses = [\n",
    "    \"2066 Crist Drive, 94024, Los Altos, CALIFORNIA, US\",\n",
    "    \"2066 Crist Dr, 94024, LOS ALTOS, CALIFORNIA, US\",\n",
    "    \"20863 Stevens Creek Blvd., Suite 300, 95015, CUPERTINO, CALIFORNIA, US\",\n",
    "    \"20863 STEVENS CREEK BLVD STE 330, 95014, Lupertino, CALIFORNIA, US\",\n",
    "    \"10260 Bandley Drive, 95014, Cupertino, CALIFORNIA, US\",\n",
    "    \"10260 Bandley Dr., 95014, Cupertino, CALIFORNIA, US\",\n",
    "    \"20525 MARIANI AVENUE, 95014, CUPERTINO, CALIFORNIA, US\",\n",
    "    \"20525 Mariani Ave, 95014, CUPERTINO, CALIFORNIA, US\",\n",
    "    \"1 Infinite Loop, 95014, Cupertino, CALIFORNIA, US\",\n",
    "    \"One Infinite Loop,, 95014, Cupertino, CALIFORNIA, US\",\n",
    "    \"One Apple Park Way, 95014, Cupertino, CALIFORNIA, US\",\n",
    "    \"1 Apple Park Way, 95014, Cupertino, CALIFORNIA, US\",\n",
    "]\n",
    "\n",
    "full_addresses_latlng = []\n",
    "for a in full_addresses:\n",
    "    a_geocoded = geocoder.google(a)\n",
    "    full_addresses_latlng.append(a_geocoded.latlng)\n",
    "\n",
    "address_latlng = list(zip(full_addresses, full_addresses_latlng))"
   ]
  },
  {
   "cell_type": "code",
   "execution_count": 14,
   "metadata": {
    "scrolled": true,
    "slideshow": {
     "slide_type": "slide"
    }
   },
   "outputs": [
    {
     "name": "stdout",
     "output_type": "stream",
     "text": [
      "(('20863 Stevens Creek Blvd., Suite 300, 95015, CUPERTINO, CALIFORNIA, US',\n",
      "  [37.3241563, -122.0387297]),\n",
      " ('20863 STEVENS CREEK BLVD STE 330, 95014, Lupertino, CALIFORNIA, US', None))\n",
      "\n"
     ]
    }
   ],
   "source": [
    "pprint.pprint((address_latlng[2], address_latlng[3]))\n",
    "print()"
   ]
  },
  {
   "cell_type": "markdown",
   "metadata": {
    "slideshow": {
     "slide_type": "fragment"
    }
   },
   "source": [
    "Google geocoder is able to:\n",
    "- Ignore lower/upper case difference\n",
    "- Ignore the difference between Suite 300 vs 330 (building entrance may be the same)\n",
    "- Consider 'Lupertino' as 'Cupertino'\n",
    "- Expand abbreviations, like 'STE' vs 'Suite'"
   ]
  },
  {
   "cell_type": "markdown",
   "metadata": {
    "slideshow": {
     "slide_type": "slide"
    }
   },
   "source": [
    "Note geocoding from web APIs is slow and has quota limits! Alternatively, you can build **your own geocoder** with:\n",
    "- https://github.com/openstreetmap/Nominatim\n",
    "- https://github.com/pelias/pelias\n",
    "- https://github.com/komoot/photon\n",
    "- https://postgis.net/docs/Extras.html\n",
    "- https://github.com/openvenues/lieu"
   ]
  },
  {
   "cell_type": "markdown",
   "metadata": {
    "slideshow": {
     "slide_type": "skip"
    }
   },
   "source": [
    "From [DataMade](https://datamade.us/), the creators of probablepeople, there's a [**usaddress**](https://github.com/datamade/usaddress) **parser**:"
   ]
  },
  {
   "cell_type": "code",
   "execution_count": 15,
   "metadata": {
    "slideshow": {
     "slide_type": "skip"
    }
   },
   "outputs": [
    {
     "name": "stdout",
     "output_type": "stream",
     "text": [
      "2066 Crist Drive, 94024, Los Altos, CALIFORNIA, US\n",
      "[('2066', 'AddressNumber'),\n",
      " ('Crist', 'StreetName'),\n",
      " ('Drive,', 'StreetNamePostType'),\n",
      " ('94024,', 'SubaddressIdentifier'),\n",
      " ('Los', 'PlaceName'),\n",
      " ('Altos,', 'PlaceName'),\n",
      " ('CALIFORNIA,', 'PlaceName'),\n",
      " ('US', 'StateName')]\n",
      "\n",
      "2066 Crist Dr, 94024, LOS ALTOS, CALIFORNIA, US\n",
      "[('2066', 'AddressNumber'),\n",
      " ('Crist', 'StreetName'),\n",
      " ('Dr,', 'StreetNamePostType'),\n",
      " ('94024,', 'ZipCode'),\n",
      " ('LOS', 'PlaceName'),\n",
      " ('ALTOS,', 'PlaceName'),\n",
      " ('CALIFORNIA,', 'PlaceName'),\n",
      " ('US', 'StateName')]\n"
     ]
    }
   ],
   "source": [
    "import usaddress\n",
    "\n",
    "print(full_addresses[0])\n",
    "pprint.pprint(usaddress.parse(full_addresses[0]))\n",
    "print()\n",
    "print(full_addresses[1])\n",
    "pprint.pprint(usaddress.parse(full_addresses[1]))"
   ]
  },
  {
   "cell_type": "markdown",
   "metadata": {
    "slideshow": {
     "slide_type": "slide"
    }
   },
   "source": [
    "### Cleaning phone numbers"
   ]
  },
  {
   "cell_type": "markdown",
   "metadata": {
    "slideshow": {
     "slide_type": "fragment"
    }
   },
   "source": [
    "[**phonenumbers**](https://github.com/daviddrysdale/python-phonenumbers) library can **normalize** phone numbers from many countries:"
   ]
  },
  {
   "cell_type": "code",
   "execution_count": 16,
   "metadata": {
    "scrolled": true,
    "slideshow": {
     "slide_type": "fragment"
    }
   },
   "outputs": [
    {
     "name": "stdout",
     "output_type": "stream",
     "text": [
      "Phone number normalization:\n",
      "(541) 555-3010 ->\n",
      "+15415553010\n"
     ]
    }
   ],
   "source": [
    "import phonenumbers\n",
    "\n",
    "print(\"Phone number normalization:\")\n",
    "phone = \"(541) 555-3010\"\n",
    "print(phone, '->')\n",
    "print(\n",
    "    phonenumbers.format_number(\n",
    "        phonenumbers.parse(phone, 'US'),\n",
    "        phonenumbers.PhoneNumberFormat.E164)\n",
    ")"
   ]
  },
  {
   "cell_type": "markdown",
   "metadata": {
    "slideshow": {
     "slide_type": "slide"
    }
   },
   "source": [
    "### Cleaning dates"
   ]
  },
  {
   "cell_type": "markdown",
   "metadata": {
    "slideshow": {
     "slide_type": "fragment"
    }
   },
   "source": [
    "[**dateparser**](https://github.com/scrapinghub/dateparser) library can **guess** date formats and parse them as datetime objects. It can even guess DD/MM or MM/DD by the language:"
   ]
  },
  {
   "cell_type": "code",
   "execution_count": 17,
   "metadata": {
    "slideshow": {
     "slide_type": "fragment"
    }
   },
   "outputs": [
    {
     "name": "stdout",
     "output_type": "stream",
     "text": [
      "2018-10-01 10:00:00\n",
      "2018-01-10 10:00:00\n",
      "{'date_obj': datetime.datetime(2018, 1, 10, 10, 0),\n",
      " 'locale': 'pt',\n",
      " 'period': 'day'}\n"
     ]
    }
   ],
   "source": [
    "import dateparser\n",
    "\n",
    "print(dateparser.parse(\"at 10/1/2018 10am\"))\n",
    "print(dateparser.parse(\"às 10/1/2018 10:00\"))\n",
    "pprint.pprint(dateparser.DateDataParser().get_date_data(\"às 10/1/2018 10:00\"))"
   ]
  },
  {
   "cell_type": "markdown",
   "metadata": {
    "slideshow": {
     "slide_type": "skip"
    }
   },
   "source": [
    "Check also [**dateutil parser**](https://dateutil.readthedocs.io/en/stable/parser.html#dateutil.parser.parse) with `fuzzy=True`."
   ]
  },
  {
   "cell_type": "markdown",
   "metadata": {
    "slideshow": {
     "slide_type": "slide"
    }
   },
   "source": [
    "### Cleaning a real dataset"
   ]
  },
  {
   "cell_type": "markdown",
   "metadata": {
    "slideshow": {
     "slide_type": "fragment"
    }
   },
   "source": [
    "Now we know the tools, let's **grab a dataset to preprocess and go on the other deduplication steps**. Our dataset is based* on the [Restaurant](https://www.cs.utexas.edu/users/ml/riddle/data.html) dataset, a well-known dataset used by researchers. It contains 881 restaurant records and contains 150 duplicates."
   ]
  },
  {
   "cell_type": "markdown",
   "metadata": {
    "slideshow": {
     "slide_type": "skip"
    }
   },
   "source": [
    "\\* We've introduced some changes that you can check by doing a `diff restaurant.original.csv restaurant.csv`"
   ]
  },
  {
   "cell_type": "code",
   "execution_count": 18,
   "metadata": {
    "slideshow": {
     "slide_type": "slide"
    }
   },
   "outputs": [
    {
     "data": {
      "text/html": [
       "<div>\n",
       "<style scoped>\n",
       "    .dataframe tbody tr th:only-of-type {\n",
       "        vertical-align: middle;\n",
       "    }\n",
       "\n",
       "    .dataframe tbody tr th {\n",
       "        vertical-align: top;\n",
       "    }\n",
       "\n",
       "    .dataframe thead th {\n",
       "        text-align: right;\n",
       "    }\n",
       "</style>\n",
       "<table border=\"1\" class=\"dataframe\">\n",
       "  <thead>\n",
       "    <tr style=\"text-align: right;\">\n",
       "      <th></th>\n",
       "      <th>name</th>\n",
       "      <th>addr</th>\n",
       "      <th>city</th>\n",
       "      <th>phone</th>\n",
       "      <th>type</th>\n",
       "      <th>cluster</th>\n",
       "    </tr>\n",
       "  </thead>\n",
       "  <tbody>\n",
       "    <tr>\n",
       "      <th>0</th>\n",
       "      <td>arnie morton's of chicago</td>\n",
       "      <td>435 s. la cienega blv.</td>\n",
       "      <td>los angeles</td>\n",
       "      <td>310/246-1501</td>\n",
       "      <td>american</td>\n",
       "      <td>0</td>\n",
       "    </tr>\n",
       "    <tr>\n",
       "      <th>1</th>\n",
       "      <td>arnie morton's of chicago</td>\n",
       "      <td>435 s. la cienega blvd.</td>\n",
       "      <td>los angeles</td>\n",
       "      <td>310-246-1501</td>\n",
       "      <td>steakhouses</td>\n",
       "      <td>0</td>\n",
       "    </tr>\n",
       "    <tr>\n",
       "      <th>2</th>\n",
       "      <td>arnie morton</td>\n",
       "      <td>435 s. la cienega boulevard</td>\n",
       "      <td>los angeles</td>\n",
       "      <td>310-246-1501</td>\n",
       "      <td>steakhouses</td>\n",
       "      <td>0</td>\n",
       "    </tr>\n",
       "    <tr>\n",
       "      <th>3</th>\n",
       "      <td>art's delicatessen</td>\n",
       "      <td>12224 ventura blvd.</td>\n",
       "      <td>studio city</td>\n",
       "      <td>818/762-1221</td>\n",
       "      <td>american</td>\n",
       "      <td>1</td>\n",
       "    </tr>\n",
       "    <tr>\n",
       "      <th>4</th>\n",
       "      <td>art's deli</td>\n",
       "      <td>12224 ventura blvd.</td>\n",
       "      <td>studio city</td>\n",
       "      <td>818-762-1221</td>\n",
       "      <td>delis</td>\n",
       "      <td>1</td>\n",
       "    </tr>\n",
       "    <tr>\n",
       "      <th>5</th>\n",
       "      <td>art's deli</td>\n",
       "      <td>12224 ventura blvd.</td>\n",
       "      <td>los angeles</td>\n",
       "      <td>818-762-1221</td>\n",
       "      <td>delis</td>\n",
       "      <td>1</td>\n",
       "    </tr>\n",
       "    <tr>\n",
       "      <th>6</th>\n",
       "      <td>hotel bel-air</td>\n",
       "      <td>701 stone canyon rd.</td>\n",
       "      <td>bel air</td>\n",
       "      <td>310/472-1211</td>\n",
       "      <td>californian</td>\n",
       "      <td>2</td>\n",
       "    </tr>\n",
       "    <tr>\n",
       "      <th>7</th>\n",
       "      <td>bel-air hotel</td>\n",
       "      <td>701 stone canyon rd.</td>\n",
       "      <td>bel air</td>\n",
       "      <td>310-472-1211</td>\n",
       "      <td>californian</td>\n",
       "      <td>2</td>\n",
       "    </tr>\n",
       "    <tr>\n",
       "      <th>8</th>\n",
       "      <td>bel-air</td>\n",
       "      <td>701 stone canyon road</td>\n",
       "      <td>bel air</td>\n",
       "      <td>(310) 472-1211</td>\n",
       "      <td>american</td>\n",
       "      <td>2</td>\n",
       "    </tr>\n",
       "  </tbody>\n",
       "</table>\n",
       "</div>"
      ],
      "text/plain": [
       "                        name                         addr         city  \\\n",
       "0  arnie morton's of chicago       435 s. la cienega blv.  los angeles   \n",
       "1  arnie morton's of chicago      435 s. la cienega blvd.  los angeles   \n",
       "2               arnie morton  435 s. la cienega boulevard  los angeles   \n",
       "3         art's delicatessen          12224 ventura blvd.  studio city   \n",
       "4                 art's deli          12224 ventura blvd.  studio city   \n",
       "5                 art's deli          12224 ventura blvd.  los angeles   \n",
       "6              hotel bel-air         701 stone canyon rd.      bel air   \n",
       "7              bel-air hotel         701 stone canyon rd.      bel air   \n",
       "8                    bel-air        701 stone canyon road      bel air   \n",
       "\n",
       "            phone         type  cluster  \n",
       "0    310/246-1501     american        0  \n",
       "1    310-246-1501  steakhouses        0  \n",
       "2    310-246-1501  steakhouses        0  \n",
       "3    818/762-1221     american        1  \n",
       "4    818-762-1221        delis        1  \n",
       "5    818-762-1221        delis        1  \n",
       "6    310/472-1211  californian        2  \n",
       "7    310-472-1211  californian        2  \n",
       "8  (310) 472-1211     american        2  "
      ]
     },
     "execution_count": 18,
     "metadata": {},
     "output_type": "execute_result"
    }
   ],
   "source": [
    "df_with_truth = pd.read_csv('restaurant.csv', skip_blank_lines=True)\n",
    "df_with_truth.head(9)"
   ]
  },
  {
   "cell_type": "markdown",
   "metadata": {
    "slideshow": {
     "slide_type": "slide"
    }
   },
   "source": [
    "The dataset comes with the true matches indicated by the 'cluster' column. We'll remove it. We'll also remove the 'phone' to makes things more difficult:"
   ]
  },
  {
   "cell_type": "code",
   "execution_count": 19,
   "metadata": {
    "slideshow": {
     "slide_type": "fragment"
    }
   },
   "outputs": [
    {
     "data": {
      "text/html": [
       "<div>\n",
       "<style scoped>\n",
       "    .dataframe tbody tr th:only-of-type {\n",
       "        vertical-align: middle;\n",
       "    }\n",
       "\n",
       "    .dataframe tbody tr th {\n",
       "        vertical-align: top;\n",
       "    }\n",
       "\n",
       "    .dataframe thead th {\n",
       "        text-align: right;\n",
       "    }\n",
       "</style>\n",
       "<table border=\"1\" class=\"dataframe\">\n",
       "  <thead>\n",
       "    <tr style=\"text-align: right;\">\n",
       "      <th></th>\n",
       "      <th>name</th>\n",
       "      <th>addr</th>\n",
       "      <th>city</th>\n",
       "      <th>type</th>\n",
       "    </tr>\n",
       "  </thead>\n",
       "  <tbody>\n",
       "    <tr>\n",
       "      <th>0</th>\n",
       "      <td>arnie morton's of chicago</td>\n",
       "      <td>435 s. la cienega blv.</td>\n",
       "      <td>los angeles</td>\n",
       "      <td>american</td>\n",
       "    </tr>\n",
       "    <tr>\n",
       "      <th>1</th>\n",
       "      <td>arnie morton's of chicago</td>\n",
       "      <td>435 s. la cienega blvd.</td>\n",
       "      <td>los angeles</td>\n",
       "      <td>steakhouses</td>\n",
       "    </tr>\n",
       "    <tr>\n",
       "      <th>2</th>\n",
       "      <td>arnie morton</td>\n",
       "      <td>435 s. la cienega boulevard</td>\n",
       "      <td>los angeles</td>\n",
       "      <td>steakhouses</td>\n",
       "    </tr>\n",
       "    <tr>\n",
       "      <th>3</th>\n",
       "      <td>art's delicatessen</td>\n",
       "      <td>12224 ventura blvd.</td>\n",
       "      <td>studio city</td>\n",
       "      <td>american</td>\n",
       "    </tr>\n",
       "    <tr>\n",
       "      <th>4</th>\n",
       "      <td>art's deli</td>\n",
       "      <td>12224 ventura blvd.</td>\n",
       "      <td>studio city</td>\n",
       "      <td>delis</td>\n",
       "    </tr>\n",
       "    <tr>\n",
       "      <th>5</th>\n",
       "      <td>art's deli</td>\n",
       "      <td>12224 ventura blvd.</td>\n",
       "      <td>los angeles</td>\n",
       "      <td>delis</td>\n",
       "    </tr>\n",
       "    <tr>\n",
       "      <th>6</th>\n",
       "      <td>hotel bel-air</td>\n",
       "      <td>701 stone canyon rd.</td>\n",
       "      <td>bel air</td>\n",
       "      <td>californian</td>\n",
       "    </tr>\n",
       "    <tr>\n",
       "      <th>7</th>\n",
       "      <td>bel-air hotel</td>\n",
       "      <td>701 stone canyon rd.</td>\n",
       "      <td>bel air</td>\n",
       "      <td>californian</td>\n",
       "    </tr>\n",
       "    <tr>\n",
       "      <th>8</th>\n",
       "      <td>bel-air</td>\n",
       "      <td>701 stone canyon road</td>\n",
       "      <td>bel air</td>\n",
       "      <td>american</td>\n",
       "    </tr>\n",
       "  </tbody>\n",
       "</table>\n",
       "</div>"
      ],
      "text/plain": [
       "                        name                         addr         city  \\\n",
       "0  arnie morton's of chicago       435 s. la cienega blv.  los angeles   \n",
       "1  arnie morton's of chicago      435 s. la cienega blvd.  los angeles   \n",
       "2               arnie morton  435 s. la cienega boulevard  los angeles   \n",
       "3         art's delicatessen          12224 ventura blvd.  studio city   \n",
       "4                 art's deli          12224 ventura blvd.  studio city   \n",
       "5                 art's deli          12224 ventura blvd.  los angeles   \n",
       "6              hotel bel-air         701 stone canyon rd.      bel air   \n",
       "7              bel-air hotel         701 stone canyon rd.      bel air   \n",
       "8                    bel-air        701 stone canyon road      bel air   \n",
       "\n",
       "          type  \n",
       "0     american  \n",
       "1  steakhouses  \n",
       "2  steakhouses  \n",
       "3     american  \n",
       "4        delis  \n",
       "5        delis  \n",
       "6  californian  \n",
       "7  californian  \n",
       "8     american  "
      ]
     },
     "execution_count": 19,
     "metadata": {},
     "output_type": "execute_result"
    }
   ],
   "source": [
    "df = df_with_truth.drop(columns=['cluster', 'phone'])\n",
    "df.head(9)"
   ]
  },
  {
   "cell_type": "markdown",
   "metadata": {
    "slideshow": {
     "slide_type": "slide"
    }
   },
   "source": [
    "Now we'll clean the column values! Cleaning **name**:"
   ]
  },
  {
   "cell_type": "code",
   "execution_count": 20,
   "metadata": {
    "scrolled": true,
    "slideshow": {
     "slide_type": "fragment"
    }
   },
   "outputs": [
    {
     "data": {
      "text/html": [
       "<div>\n",
       "<style scoped>\n",
       "    .dataframe tbody tr th:only-of-type {\n",
       "        vertical-align: middle;\n",
       "    }\n",
       "\n",
       "    .dataframe tbody tr th {\n",
       "        vertical-align: top;\n",
       "    }\n",
       "\n",
       "    .dataframe thead th {\n",
       "        text-align: right;\n",
       "    }\n",
       "</style>\n",
       "<table border=\"1\" class=\"dataframe\">\n",
       "  <thead>\n",
       "    <tr style=\"text-align: right;\">\n",
       "      <th></th>\n",
       "      <th>name</th>\n",
       "      <th>addr</th>\n",
       "      <th>city</th>\n",
       "      <th>type</th>\n",
       "    </tr>\n",
       "  </thead>\n",
       "  <tbody>\n",
       "    <tr>\n",
       "      <th>0</th>\n",
       "      <td>arnie morton s of chicago</td>\n",
       "      <td>435 s. la cienega blv.</td>\n",
       "      <td>los angeles</td>\n",
       "      <td>american</td>\n",
       "    </tr>\n",
       "    <tr>\n",
       "      <th>1</th>\n",
       "      <td>arnie morton s of chicago</td>\n",
       "      <td>435 s. la cienega blvd.</td>\n",
       "      <td>los angeles</td>\n",
       "      <td>steakhouses</td>\n",
       "    </tr>\n",
       "    <tr>\n",
       "      <th>2</th>\n",
       "      <td>arnie morton</td>\n",
       "      <td>435 s. la cienega boulevard</td>\n",
       "      <td>los angeles</td>\n",
       "      <td>steakhouses</td>\n",
       "    </tr>\n",
       "    <tr>\n",
       "      <th>3</th>\n",
       "      <td>art s delicatessen</td>\n",
       "      <td>12224 ventura blvd.</td>\n",
       "      <td>studio city</td>\n",
       "      <td>american</td>\n",
       "    </tr>\n",
       "    <tr>\n",
       "      <th>4</th>\n",
       "      <td>art s deli</td>\n",
       "      <td>12224 ventura blvd.</td>\n",
       "      <td>studio city</td>\n",
       "      <td>delis</td>\n",
       "    </tr>\n",
       "    <tr>\n",
       "      <th>5</th>\n",
       "      <td>art s deli</td>\n",
       "      <td>12224 ventura blvd.</td>\n",
       "      <td>los angeles</td>\n",
       "      <td>delis</td>\n",
       "    </tr>\n",
       "    <tr>\n",
       "      <th>6</th>\n",
       "      <td>hotel bel air</td>\n",
       "      <td>701 stone canyon rd.</td>\n",
       "      <td>bel air</td>\n",
       "      <td>californian</td>\n",
       "    </tr>\n",
       "    <tr>\n",
       "      <th>7</th>\n",
       "      <td>bel air hotel</td>\n",
       "      <td>701 stone canyon rd.</td>\n",
       "      <td>bel air</td>\n",
       "      <td>californian</td>\n",
       "    </tr>\n",
       "    <tr>\n",
       "      <th>8</th>\n",
       "      <td>bel air</td>\n",
       "      <td>701 stone canyon road</td>\n",
       "      <td>bel air</td>\n",
       "      <td>american</td>\n",
       "    </tr>\n",
       "  </tbody>\n",
       "</table>\n",
       "</div>"
      ],
      "text/plain": [
       "                        name                         addr         city  \\\n",
       "0  arnie morton s of chicago       435 s. la cienega blv.  los angeles   \n",
       "1  arnie morton s of chicago      435 s. la cienega blvd.  los angeles   \n",
       "2               arnie morton  435 s. la cienega boulevard  los angeles   \n",
       "3         art s delicatessen          12224 ventura blvd.  studio city   \n",
       "4                 art s deli          12224 ventura blvd.  studio city   \n",
       "5                 art s deli          12224 ventura blvd.  los angeles   \n",
       "6              hotel bel air         701 stone canyon rd.      bel air   \n",
       "7              bel air hotel         701 stone canyon rd.      bel air   \n",
       "8                    bel air        701 stone canyon road      bel air   \n",
       "\n",
       "          type  \n",
       "0     american  \n",
       "1  steakhouses  \n",
       "2  steakhouses  \n",
       "3     american  \n",
       "4        delis  \n",
       "5        delis  \n",
       "6  californian  \n",
       "7  californian  \n",
       "8     american  "
      ]
     },
     "execution_count": 20,
     "metadata": {},
     "output_type": "execute_result"
    }
   ],
   "source": [
    "def assign_no_symbols_name(df):\n",
    "    return df.assign(\n",
    "        name=df['name']\n",
    "             .str.replace(irrelevant_regex, ' ')\n",
    "             .str.replace(multispace_regex, ' '))\n",
    "\n",
    "df = assign_no_symbols_name(df)\n",
    "df.head(9)"
   ]
  },
  {
   "cell_type": "markdown",
   "metadata": {
    "slideshow": {
     "slide_type": "slide"
    }
   },
   "source": [
    "Geocoding **addr**:"
   ]
  },
  {
   "cell_type": "code",
   "execution_count": 21,
   "metadata": {
    "slideshow": {
     "slide_type": "skip"
    }
   },
   "outputs": [
    {
     "name": "stdout",
     "output_type": "stream",
     "text": [
      "881 819\n"
     ]
    }
   ],
   "source": [
    "all_addresses = df['addr'].str.cat(df['city'], sep=', ').values\n",
    "unique_addresses = np.unique(all_addresses)\n",
    "print(len(all_addresses), len(unique_addresses))"
   ]
  },
  {
   "cell_type": "code",
   "execution_count": 22,
   "metadata": {
    "slideshow": {
     "slide_type": "skip"
    }
   },
   "outputs": [
    {
     "name": "stdout",
     "output_type": "stream",
     "text": [
      "Failed to get postal from 8\n",
      "Failed to get latlng from 0\n"
     ]
    }
   ],
   "source": [
    "import os.path\n",
    "import json\n",
    "\n",
    "geocoding_filename = 'address_to_geocoding.json'\n",
    "\n",
    "def geocode_addresses(address_to_geocoding):\n",
    "    remaining_addresses = (\n",
    "        set(unique_addresses) -\n",
    "        set(k for k, v in address_to_geocoding.items() if v is not None))\n",
    "    \n",
    "    with requests.Session() as session:\n",
    "        for i, address in enumerate(remaining_addresses):\n",
    "            print(f\"Geocoding {i + 1}/{len(remaining_addresses)}\")\n",
    "            geocode_result = geocoder.google(address, session=session)\n",
    "            address_to_geocoding[address] = geocode_result.json\n",
    "\n",
    "        with open(geocoding_filename, 'w') as f:\n",
    "            json.dump(address_to_geocoding, f, indent=4)\n",
    "\n",
    "if not os.path.exists(geocoding_filename):\n",
    "    address_to_geocoding = {}\n",
    "    geocode_addresses(address_to_geocoding)\n",
    "else:\n",
    "    with open(geocoding_filename) as f:\n",
    "        address_to_geocoding = json.load(f)\n",
    "    geocode_addresses(address_to_geocoding)\n",
    " \n",
    "address_to_postal = {\n",
    "    k: v['postal']\n",
    "    for k, v in address_to_geocoding.items()\n",
    "    if v is not None and 'postal' in v\n",
    "}\n",
    "address_to_latlng = {\n",
    "    k: (v['lat'], v['lng'])\n",
    "    for k, v in address_to_geocoding.items()\n",
    "    if v is not None\n",
    "}\n",
    "print(f\"Failed to get postal from {len(address_to_geocoding) - len(address_to_postal)}\")\n",
    "print(f\"Failed to get latlng from {len(address_to_geocoding) - len(address_to_latlng)}\")"
   ]
  },
  {
   "cell_type": "code",
   "execution_count": 23,
   "metadata": {
    "scrolled": true,
    "slideshow": {
     "slide_type": "slide"
    }
   },
   "outputs": [
    {
     "data": {
      "text/html": [
       "<div>\n",
       "<style scoped>\n",
       "    .dataframe tbody tr th:only-of-type {\n",
       "        vertical-align: middle;\n",
       "    }\n",
       "\n",
       "    .dataframe tbody tr th {\n",
       "        vertical-align: top;\n",
       "    }\n",
       "\n",
       "    .dataframe thead th {\n",
       "        text-align: right;\n",
       "    }\n",
       "</style>\n",
       "<table border=\"1\" class=\"dataframe\">\n",
       "  <thead>\n",
       "    <tr style=\"text-align: right;\">\n",
       "      <th></th>\n",
       "      <th>name</th>\n",
       "      <th>addr</th>\n",
       "      <th>city</th>\n",
       "      <th>type</th>\n",
       "      <th>postal</th>\n",
       "      <th>lat</th>\n",
       "      <th>lng</th>\n",
       "    </tr>\n",
       "  </thead>\n",
       "  <tbody>\n",
       "    <tr>\n",
       "      <th>0</th>\n",
       "      <td>arnie morton s of chicago</td>\n",
       "      <td>435 s. la cienega blv.</td>\n",
       "      <td>los angeles</td>\n",
       "      <td>american</td>\n",
       "      <td>90048</td>\n",
       "      <td>34.070609</td>\n",
       "      <td>-118.376722</td>\n",
       "    </tr>\n",
       "    <tr>\n",
       "      <th>1</th>\n",
       "      <td>arnie morton s of chicago</td>\n",
       "      <td>435 s. la cienega blvd.</td>\n",
       "      <td>los angeles</td>\n",
       "      <td>steakhouses</td>\n",
       "      <td>90048</td>\n",
       "      <td>34.070609</td>\n",
       "      <td>-118.376722</td>\n",
       "    </tr>\n",
       "    <tr>\n",
       "      <th>2</th>\n",
       "      <td>arnie morton</td>\n",
       "      <td>435 s. la cienega boulevard</td>\n",
       "      <td>los angeles</td>\n",
       "      <td>steakhouses</td>\n",
       "      <td>90048</td>\n",
       "      <td>34.070609</td>\n",
       "      <td>-118.376722</td>\n",
       "    </tr>\n",
       "    <tr>\n",
       "      <th>3</th>\n",
       "      <td>art s delicatessen</td>\n",
       "      <td>12224 ventura blvd.</td>\n",
       "      <td>studio city</td>\n",
       "      <td>american</td>\n",
       "      <td>91604</td>\n",
       "      <td>34.142966</td>\n",
       "      <td>-118.399469</td>\n",
       "    </tr>\n",
       "    <tr>\n",
       "      <th>4</th>\n",
       "      <td>art s deli</td>\n",
       "      <td>12224 ventura blvd.</td>\n",
       "      <td>studio city</td>\n",
       "      <td>delis</td>\n",
       "      <td>91604</td>\n",
       "      <td>34.142966</td>\n",
       "      <td>-118.399469</td>\n",
       "    </tr>\n",
       "    <tr>\n",
       "      <th>5</th>\n",
       "      <td>art s deli</td>\n",
       "      <td>12224 ventura blvd.</td>\n",
       "      <td>los angeles</td>\n",
       "      <td>delis</td>\n",
       "      <td>91604</td>\n",
       "      <td>34.142966</td>\n",
       "      <td>-118.399469</td>\n",
       "    </tr>\n",
       "  </tbody>\n",
       "</table>\n",
       "</div>"
      ],
      "text/plain": [
       "                        name                         addr         city  \\\n",
       "0  arnie morton s of chicago       435 s. la cienega blv.  los angeles   \n",
       "1  arnie morton s of chicago      435 s. la cienega blvd.  los angeles   \n",
       "2               arnie morton  435 s. la cienega boulevard  los angeles   \n",
       "3         art s delicatessen          12224 ventura blvd.  studio city   \n",
       "4                 art s deli          12224 ventura blvd.  studio city   \n",
       "5                 art s deli          12224 ventura blvd.  los angeles   \n",
       "\n",
       "          type postal        lat         lng  \n",
       "0     american  90048  34.070609 -118.376722  \n",
       "1  steakhouses  90048  34.070609 -118.376722  \n",
       "2  steakhouses  90048  34.070609 -118.376722  \n",
       "3     american  91604  34.142966 -118.399469  \n",
       "4        delis  91604  34.142966 -118.399469  \n",
       "5        delis  91604  34.142966 -118.399469  "
      ]
     },
     "execution_count": 23,
     "metadata": {},
     "output_type": "execute_result"
    }
   ],
   "source": [
    "def assign_postal_lat_lng(df):\n",
    "    addresses = df['addr'].str.cat(df['city'], sep=', ')\n",
    "    addresses_to_postal = [address_to_postal.get(a) for a in addresses]\n",
    "    addresses_to_lat = [address_to_latlng[a][0] if a in address_to_latlng else None for a in addresses]\n",
    "    addresses_to_lng = [address_to_latlng[a][1] if a in address_to_latlng else None for a in addresses]\n",
    "\n",
    "    return df.assign(postal=addresses_to_postal, lat=addresses_to_lat, lng=addresses_to_lng)\n",
    "\n",
    "df = assign_postal_lat_lng(df)\n",
    "df.head(6)"
   ]
  },
  {
   "cell_type": "markdown",
   "metadata": {
    "slideshow": {
     "slide_type": "slide"
    }
   },
   "source": [
    "Now, with a clean dataset, we can move to the next step."
   ]
  },
  {
   "cell_type": "markdown",
   "metadata": {
    "slideshow": {
     "slide_type": "slide"
    }
   },
   "source": [
    "## 1/4 - Indexing"
   ]
  },
  {
   "cell_type": "markdown",
   "metadata": {
    "slideshow": {
     "slide_type": "slide"
    }
   },
   "source": [
    "To explain the following deduplication steps, we'll use the Python libary **recordlinkage**, aka **[Python Record Linkage Toolkit](http://recordlinkage.readthedocs.io/en/stable/)**. We choose it because it doesn't abstract too much the details of the process, even though it has a simple API."
   ]
  },
  {
   "cell_type": "markdown",
   "metadata": {
    "slideshow": {
     "slide_type": "slide"
    }
   },
   "source": [
    "We have the cleaned records, we now need the pairs we want to compare to find matches.\n",
    "To **produce the pairs**, we could do a \"full\" index, i.e., all records against all records:"
   ]
  },
  {
   "cell_type": "code",
   "execution_count": 24,
   "metadata": {
    "scrolled": true,
    "slideshow": {
     "slide_type": "fragment"
    }
   },
   "outputs": [
    {
     "name": "stdout",
     "output_type": "stream",
     "text": [
      "WARNING:recordlinkage:indexing - performance warning - A full index can result in large number of record pairs.\n",
      "Full index: 881 records, 387640 pairs\n"
     ]
    }
   ],
   "source": [
    "import recordlinkage as rl\n",
    "from recordlinkage.index import Full\n",
    "\n",
    "full_indexer = Full()\n",
    "pairs = full_indexer.index(df)\n",
    "\n",
    "print(f\"Full index: {len(df)} records, {len(pairs)} pairs\")"
   ]
  },
  {
   "cell_type": "markdown",
   "metadata": {
    "slideshow": {
     "slide_type": "slide"
    }
   },
   "source": [
    "The formula for the total number of pairs is:  \n",
    "`len(df) * (len(df) - 1) / 2 == 387640`"
   ]
  },
  {
   "cell_type": "markdown",
   "metadata": {
    "slideshow": {
     "slide_type": "fragment"
    }
   },
   "source": [
    "<div><img style=\"display: block; margin: 0 auto;\" src=\"full-indexing.png?\" width=800></div>"
   ]
  },
  {
   "cell_type": "markdown",
   "metadata": {
    "slideshow": {
     "slide_type": "slide"
    }
   },
   "source": [
    "The number of pairs grows too fast as the number of records grows: it **grows quadratically**.\n",
    "That's why we need **indexing**. We need to produce only pairs that are good candidates of being duplicates to avoid wasting too much time."
   ]
  },
  {
   "cell_type": "markdown",
   "metadata": {
    "slideshow": {
     "slide_type": "slide"
    }
   },
   "source": [
    "Indexing is also called **blocking** because the trivial way to index is to produce pairs that have **some column value in common**. By doing this, we produce blocks of record pairs and compare only those in the same block:"
   ]
  },
  {
   "cell_type": "markdown",
   "metadata": {
    "slideshow": {
     "slide_type": "fragment"
    }
   },
   "source": [
    "<div><img style=\"display: block; margin: 0 auto;\" src=\"standard-blocking.png?\" width=800></div>"
   ]
  },
  {
   "cell_type": "markdown",
   "metadata": {
    "slideshow": {
     "slide_type": "slide"
    }
   },
   "source": [
    "Below we produce pairs that have **equal values for postal** code:"
   ]
  },
  {
   "cell_type": "code",
   "execution_count": 25,
   "metadata": {
    "slideshow": {
     "slide_type": "fragment"
    }
   },
   "outputs": [
    {
     "name": "stdout",
     "output_type": "stream",
     "text": [
      "Postal index: 6536 pairs\n"
     ]
    }
   ],
   "source": [
    "from recordlinkage.index import Block\n",
    "\n",
    "postal_indexer = Block('postal')\n",
    "postal_index_pairs = postal_indexer.index(df)\n",
    "\n",
    "print(f\"Postal index: {len(postal_index_pairs)} pairs\")"
   ]
  },
  {
   "cell_type": "markdown",
   "metadata": {
    "slideshow": {
     "slide_type": "slide"
    }
   },
   "source": [
    "We could also produce pairs by sorting the unique values of some column and, for each value, getting the records with **neighboring values**. The idea is to produce pairs with close values on some column, like `johnny` and `john` or  `2018-01-02` and `2018-01-05`. It looks like this:"
   ]
  },
  {
   "cell_type": "markdown",
   "metadata": {
    "slideshow": {
     "slide_type": "fragment"
    }
   },
   "source": [
    "<div><img style=\"display: block; margin: 0 auto;\" src=\"sorted-neighbourhood.png?\" width=800></div>"
   ]
  },
  {
   "cell_type": "markdown",
   "metadata": {
    "slideshow": {
     "slide_type": "slide"
    }
   },
   "source": [
    "Below we produce pairs that have **neighboring values for name**:"
   ]
  },
  {
   "cell_type": "code",
   "execution_count": 26,
   "metadata": {
    "slideshow": {
     "slide_type": "fragment"
    }
   },
   "outputs": [
    {
     "name": "stdout",
     "output_type": "stream",
     "text": [
      "Name index: 3074 pairs\n"
     ]
    }
   ],
   "source": [
    "from recordlinkage.index import SortedNeighbourhood\n",
    "\n",
    "name_indexer = SortedNeighbourhood('name', window=7)\n",
    "name_index_pairs = name_indexer.index(df)\n",
    "\n",
    "print(f\"Name index: {len(name_index_pairs)} pairs\")"
   ]
  },
  {
   "cell_type": "markdown",
   "metadata": {
    "slideshow": {
     "slide_type": "fragment"
    }
   },
   "source": [
    "Note that simply sorting values wouldn't be able to get `kamila` and `camila` as neighbors, as sorting is sensitive to the leading characters of strings. There are other ways to index that could handle that, check Christen, chapter 4 [2]."
   ]
  },
  {
   "cell_type": "markdown",
   "metadata": {
    "slideshow": {
     "slide_type": "slide"
    }
   },
   "source": [
    "To produce more pairs without introducing redundant pairs, we should **union** different indexes:"
   ]
  },
  {
   "cell_type": "code",
   "execution_count": 27,
   "metadata": {
    "slideshow": {
     "slide_type": "fragment"
    }
   },
   "outputs": [
    {
     "name": "stdout",
     "output_type": "stream",
     "text": [
      "Postal or name index: 9414 pairs\n"
     ]
    }
   ],
   "source": [
    "pairs = postal_index_pairs.union(name_index_pairs)\n",
    "\n",
    "print(f\"Postal or name index: {len(pairs)} pairs\")"
   ]
  },
  {
   "cell_type": "code",
   "execution_count": 28,
   "metadata": {
    "slideshow": {
     "slide_type": "skip"
    }
   },
   "outputs": [],
   "source": [
    "# We'll swap the levels of pairs MultiIndex returned by recordlinkage\n",
    "# to make it simpler to interpret. Here we get the upper triangle of the pairs matrix.\n",
    "pairs = pairs.swaplevel().sortlevel()[0]"
   ]
  },
  {
   "cell_type": "markdown",
   "metadata": {
    "slideshow": {
     "slide_type": "fragment"
    }
   },
   "source": [
    "We now have **which pairs** we want to run comparisons on!"
   ]
  },
  {
   "cell_type": "markdown",
   "metadata": {
    "slideshow": {
     "slide_type": "slide"
    }
   },
   "source": [
    "## 2/4 - Comparison"
   ]
  },
  {
   "cell_type": "markdown",
   "metadata": {
    "slideshow": {
     "slide_type": "slide"
    }
   },
   "source": [
    "Now we want to run comparisons on the indexed pairs to produce **a comparison vector for each pair**. A comparison vector represents the similarity between 2 records by holding similarity values between 0 to 1 for each column."
   ]
  },
  {
   "cell_type": "code",
   "execution_count": 29,
   "metadata": {
    "slideshow": {
     "slide_type": "slide"
    }
   },
   "outputs": [
    {
     "data": {
      "text/html": [
       "<div>\n",
       "<style scoped>\n",
       "    .dataframe tbody tr th:only-of-type {\n",
       "        vertical-align: middle;\n",
       "    }\n",
       "\n",
       "    .dataframe tbody tr th {\n",
       "        vertical-align: top;\n",
       "    }\n",
       "\n",
       "    .dataframe thead th {\n",
       "        text-align: right;\n",
       "    }\n",
       "</style>\n",
       "<table border=\"1\" class=\"dataframe\">\n",
       "  <thead>\n",
       "    <tr style=\"text-align: right;\">\n",
       "      <th></th>\n",
       "      <th></th>\n",
       "      <th>name</th>\n",
       "      <th>addr</th>\n",
       "      <th>type</th>\n",
       "      <th>latlng</th>\n",
       "      <th>addr_variations</th>\n",
       "    </tr>\n",
       "  </thead>\n",
       "  <tbody>\n",
       "    <tr>\n",
       "      <th>100</th>\n",
       "      <th>200</th>\n",
       "      <td>1.0</td>\n",
       "      <td>0.75</td>\n",
       "      <td>0.0</td>\n",
       "      <td>0.25</td>\n",
       "      <td>0.0</td>\n",
       "    </tr>\n",
       "  </tbody>\n",
       "</table>\n",
       "</div>"
      ],
      "text/plain": [
       "         name  addr  type  latlng  addr_variations\n",
       "100 200   1.0  0.75   0.0    0.25              0.0"
      ]
     },
     "execution_count": 29,
     "metadata": {},
     "output_type": "execute_result"
    }
   ],
   "source": [
    "pd.DataFrame([[1.0, 0.75, 0.0, 0.25, 0.0]],\n",
    "             columns=['name', 'addr', 'type', 'latlng', 'addr_variations'],\n",
    "             index=pd.MultiIndex.from_arrays([[100], [200]]))"
   ]
  },
  {
   "cell_type": "markdown",
   "metadata": {
    "slideshow": {
     "slide_type": "fragment"
    }
   },
   "source": [
    "For example, the comparison vector above means the pair of records `(100, 200)` has:\n",
    "- Equal `name`s\n",
    "- Similar `addr`s\n",
    "- Completely different `type`s\n",
    "- Some distance on `latlng`s\n",
    "- No agreement on `addr_variations`"
   ]
  },
  {
   "cell_type": "markdown",
   "metadata": {
    "slideshow": {
     "slide_type": "slide"
    }
   },
   "source": [
    "To compute the comparison vectors for all indexed pairs, we define a **similarity function** for each column:"
   ]
  },
  {
   "cell_type": "code",
   "execution_count": 30,
   "metadata": {
    "slideshow": {
     "slide_type": "fragment"
    }
   },
   "outputs": [],
   "source": [
    "comp = rl.Compare()\n",
    "comp.string('name', 'name', method='jarowinkler', label='name')\n",
    "comp.string('addr', 'addr', method='jarowinkler', label='addr')\n",
    "comp.string('city', 'city', method='jarowinkler', label='city')\n",
    "comp.string('type', 'type', method='jarowinkler', label='type')\n",
    "comp.geo('lat', 'lng', 'lat', 'lng', method='exp', scale=0.5, label='latlng');"
   ]
  },
  {
   "cell_type": "markdown",
   "metadata": {
    "slideshow": {
     "slide_type": "slide"
    }
   },
   "source": [
    "There are many similarity functions we could use for **strings**. For example:\n",
    "- `jarowinkler` gives priority to the begining of the string\n",
    "- `levenshtein` cares more about the order\n",
    "- `lcs` cares less about the order"
   ]
  },
  {
   "cell_type": "markdown",
   "metadata": {
    "slideshow": {
     "slide_type": "fragment"
    }
   },
   "source": [
    "For more details on the different similarity functions you can use, check Christen, chapter 5 [2]. Also, check the similarity functions [implemented on recordlikage library](http://recordlinkage.readthedocs.io/en/stable/ref-compare.html)."
   ]
  },
  {
   "cell_type": "markdown",
   "metadata": {
    "slideshow": {
     "slide_type": "slide"
    }
   },
   "source": [
    "Now we'll compute the **comparison vectors**:"
   ]
  },
  {
   "cell_type": "code",
   "execution_count": 31,
   "metadata": {
    "slideshow": {
     "slide_type": "fragment"
    }
   },
   "outputs": [
    {
     "data": {
      "text/html": [
       "<div>\n",
       "<style scoped>\n",
       "    .dataframe tbody tr th:only-of-type {\n",
       "        vertical-align: middle;\n",
       "    }\n",
       "\n",
       "    .dataframe tbody tr th {\n",
       "        vertical-align: top;\n",
       "    }\n",
       "\n",
       "    .dataframe thead th {\n",
       "        text-align: right;\n",
       "    }\n",
       "</style>\n",
       "<table border=\"1\" class=\"dataframe\">\n",
       "  <thead>\n",
       "    <tr style=\"text-align: right;\">\n",
       "      <th></th>\n",
       "      <th></th>\n",
       "      <th>name</th>\n",
       "      <th>addr</th>\n",
       "      <th>city</th>\n",
       "      <th>type</th>\n",
       "      <th>latlng</th>\n",
       "    </tr>\n",
       "  </thead>\n",
       "  <tbody>\n",
       "    <tr>\n",
       "      <th rowspan=\"5\" valign=\"top\">0</th>\n",
       "      <th>1</th>\n",
       "      <td>1.000000</td>\n",
       "      <td>0.985507</td>\n",
       "      <td>1.00000</td>\n",
       "      <td>0.310606</td>\n",
       "      <td>1.00000</td>\n",
       "    </tr>\n",
       "    <tr>\n",
       "      <th>2</th>\n",
       "      <td>0.896000</td>\n",
       "      <td>0.910774</td>\n",
       "      <td>1.00000</td>\n",
       "      <td>0.310606</td>\n",
       "      <td>1.00000</td>\n",
       "    </tr>\n",
       "    <tr>\n",
       "      <th>3</th>\n",
       "      <td>0.562492</td>\n",
       "      <td>0.593620</td>\n",
       "      <td>0.40404</td>\n",
       "      <td>1.000000</td>\n",
       "      <td>0.00001</td>\n",
       "    </tr>\n",
       "    <tr>\n",
       "      <th>4</th>\n",
       "      <td>0.581667</td>\n",
       "      <td>0.593620</td>\n",
       "      <td>0.40404</td>\n",
       "      <td>0.550000</td>\n",
       "      <td>0.00001</td>\n",
       "    </tr>\n",
       "    <tr>\n",
       "      <th>5</th>\n",
       "      <td>0.581667</td>\n",
       "      <td>0.593620</td>\n",
       "      <td>1.00000</td>\n",
       "      <td>0.550000</td>\n",
       "      <td>0.00001</td>\n",
       "    </tr>\n",
       "  </tbody>\n",
       "</table>\n",
       "</div>"
      ],
      "text/plain": [
       "         name      addr     city      type   latlng\n",
       "0 1  1.000000  0.985507  1.00000  0.310606  1.00000\n",
       "  2  0.896000  0.910774  1.00000  0.310606  1.00000\n",
       "  3  0.562492  0.593620  0.40404  1.000000  0.00001\n",
       "  4  0.581667  0.593620  0.40404  0.550000  0.00001\n",
       "  5  0.581667  0.593620  1.00000  0.550000  0.00001"
      ]
     },
     "execution_count": 31,
     "metadata": {},
     "output_type": "execute_result"
    }
   ],
   "source": [
    "comparison_vectors = comp.compute(pairs, df)\n",
    "comparison_vectors.head(5)"
   ]
  },
  {
   "cell_type": "markdown",
   "metadata": {
    "slideshow": {
     "slide_type": "slide"
    }
   },
   "source": [
    "Now, with our comparison vectors, we'll explore **different ways** to classify them as matches and nonmatches."
   ]
  },
  {
   "cell_type": "markdown",
   "metadata": {
    "slideshow": {
     "slide_type": "slide"
    }
   },
   "source": [
    "## 3/4 - Classification"
   ]
  },
  {
   "cell_type": "markdown",
   "metadata": {
    "slideshow": {
     "slide_type": "slide"
    }
   },
   "source": [
    "Before, let's remember what's on records `0` to `5`:"
   ]
  },
  {
   "cell_type": "code",
   "execution_count": 32,
   "metadata": {
    "scrolled": true,
    "slideshow": {
     "slide_type": "fragment"
    }
   },
   "outputs": [
    {
     "data": {
      "text/html": [
       "<div>\n",
       "<style scoped>\n",
       "    .dataframe tbody tr th:only-of-type {\n",
       "        vertical-align: middle;\n",
       "    }\n",
       "\n",
       "    .dataframe tbody tr th {\n",
       "        vertical-align: top;\n",
       "    }\n",
       "\n",
       "    .dataframe thead th {\n",
       "        text-align: right;\n",
       "    }\n",
       "</style>\n",
       "<table border=\"1\" class=\"dataframe\">\n",
       "  <thead>\n",
       "    <tr style=\"text-align: right;\">\n",
       "      <th></th>\n",
       "      <th>name</th>\n",
       "      <th>addr</th>\n",
       "      <th>city</th>\n",
       "      <th>type</th>\n",
       "      <th>postal</th>\n",
       "      <th>lat</th>\n",
       "      <th>lng</th>\n",
       "    </tr>\n",
       "  </thead>\n",
       "  <tbody>\n",
       "    <tr>\n",
       "      <th>0</th>\n",
       "      <td>arnie morton s of chicago</td>\n",
       "      <td>435 s. la cienega blv.</td>\n",
       "      <td>los angeles</td>\n",
       "      <td>american</td>\n",
       "      <td>90048</td>\n",
       "      <td>34.070609</td>\n",
       "      <td>-118.376722</td>\n",
       "    </tr>\n",
       "    <tr>\n",
       "      <th>1</th>\n",
       "      <td>arnie morton s of chicago</td>\n",
       "      <td>435 s. la cienega blvd.</td>\n",
       "      <td>los angeles</td>\n",
       "      <td>steakhouses</td>\n",
       "      <td>90048</td>\n",
       "      <td>34.070609</td>\n",
       "      <td>-118.376722</td>\n",
       "    </tr>\n",
       "    <tr>\n",
       "      <th>2</th>\n",
       "      <td>arnie morton</td>\n",
       "      <td>435 s. la cienega boulevard</td>\n",
       "      <td>los angeles</td>\n",
       "      <td>steakhouses</td>\n",
       "      <td>90048</td>\n",
       "      <td>34.070609</td>\n",
       "      <td>-118.376722</td>\n",
       "    </tr>\n",
       "    <tr>\n",
       "      <th>3</th>\n",
       "      <td>art s delicatessen</td>\n",
       "      <td>12224 ventura blvd.</td>\n",
       "      <td>studio city</td>\n",
       "      <td>american</td>\n",
       "      <td>91604</td>\n",
       "      <td>34.142966</td>\n",
       "      <td>-118.399469</td>\n",
       "    </tr>\n",
       "    <tr>\n",
       "      <th>4</th>\n",
       "      <td>art s deli</td>\n",
       "      <td>12224 ventura blvd.</td>\n",
       "      <td>studio city</td>\n",
       "      <td>delis</td>\n",
       "      <td>91604</td>\n",
       "      <td>34.142966</td>\n",
       "      <td>-118.399469</td>\n",
       "    </tr>\n",
       "    <tr>\n",
       "      <th>5</th>\n",
       "      <td>art s deli</td>\n",
       "      <td>12224 ventura blvd.</td>\n",
       "      <td>los angeles</td>\n",
       "      <td>delis</td>\n",
       "      <td>91604</td>\n",
       "      <td>34.142966</td>\n",
       "      <td>-118.399469</td>\n",
       "    </tr>\n",
       "  </tbody>\n",
       "</table>\n",
       "</div>"
      ],
      "text/plain": [
       "                        name                         addr         city  \\\n",
       "0  arnie morton s of chicago       435 s. la cienega blv.  los angeles   \n",
       "1  arnie morton s of chicago      435 s. la cienega blvd.  los angeles   \n",
       "2               arnie morton  435 s. la cienega boulevard  los angeles   \n",
       "3         art s delicatessen          12224 ventura blvd.  studio city   \n",
       "4                 art s deli          12224 ventura blvd.  studio city   \n",
       "5                 art s deli          12224 ventura blvd.  los angeles   \n",
       "\n",
       "          type postal        lat         lng  \n",
       "0     american  90048  34.070609 -118.376722  \n",
       "1  steakhouses  90048  34.070609 -118.376722  \n",
       "2  steakhouses  90048  34.070609 -118.376722  \n",
       "3     american  91604  34.142966 -118.399469  \n",
       "4        delis  91604  34.142966 -118.399469  \n",
       "5        delis  91604  34.142966 -118.399469  "
      ]
     },
     "execution_count": 32,
     "metadata": {},
     "output_type": "execute_result"
    }
   ],
   "source": [
    "df.head(6)"
   ]
  },
  {
   "cell_type": "markdown",
   "metadata": {
    "slideshow": {
     "slide_type": "slide"
    }
   },
   "source": [
    "### Threshold-Based Classification"
   ]
  },
  {
   "cell_type": "markdown",
   "metadata": {
    "slideshow": {
     "slide_type": "slide"
    }
   },
   "source": [
    "A simple way to classify comparison vectors as matches or nonmatches is to compute a **weighted average** over the vectors to get a **score**:"
   ]
  },
  {
   "cell_type": "code",
   "execution_count": 33,
   "metadata": {
    "slideshow": {
     "slide_type": "fragment"
    }
   },
   "outputs": [
    {
     "data": {
      "text/html": [
       "<div>\n",
       "<style scoped>\n",
       "    .dataframe tbody tr th:only-of-type {\n",
       "        vertical-align: middle;\n",
       "    }\n",
       "\n",
       "    .dataframe tbody tr th {\n",
       "        vertical-align: top;\n",
       "    }\n",
       "\n",
       "    .dataframe thead th {\n",
       "        text-align: right;\n",
       "    }\n",
       "</style>\n",
       "<table border=\"1\" class=\"dataframe\">\n",
       "  <thead>\n",
       "    <tr style=\"text-align: right;\">\n",
       "      <th></th>\n",
       "      <th></th>\n",
       "      <th>name</th>\n",
       "      <th>addr</th>\n",
       "      <th>city</th>\n",
       "      <th>type</th>\n",
       "      <th>latlng</th>\n",
       "      <th>score</th>\n",
       "    </tr>\n",
       "  </thead>\n",
       "  <tbody>\n",
       "    <tr>\n",
       "      <th rowspan=\"5\" valign=\"top\">0</th>\n",
       "      <th>1</th>\n",
       "      <td>1.000000</td>\n",
       "      <td>0.985507</td>\n",
       "      <td>1.00000</td>\n",
       "      <td>0.310606</td>\n",
       "      <td>1.00000</td>\n",
       "      <td>0.962632</td>\n",
       "    </tr>\n",
       "    <tr>\n",
       "      <th>2</th>\n",
       "      <td>0.896000</td>\n",
       "      <td>0.910774</td>\n",
       "      <td>1.00000</td>\n",
       "      <td>0.310606</td>\n",
       "      <td>1.00000</td>\n",
       "      <td>0.906085</td>\n",
       "    </tr>\n",
       "    <tr>\n",
       "      <th>3</th>\n",
       "      <td>0.562492</td>\n",
       "      <td>0.593620</td>\n",
       "      <td>0.40404</td>\n",
       "      <td>1.000000</td>\n",
       "      <td>0.00001</td>\n",
       "      <td>0.454329</td>\n",
       "    </tr>\n",
       "    <tr>\n",
       "      <th>4</th>\n",
       "      <td>0.581667</td>\n",
       "      <td>0.593620</td>\n",
       "      <td>0.40404</td>\n",
       "      <td>0.550000</td>\n",
       "      <td>0.00001</td>\n",
       "      <td>0.439499</td>\n",
       "    </tr>\n",
       "    <tr>\n",
       "      <th>5</th>\n",
       "      <td>0.581667</td>\n",
       "      <td>0.593620</td>\n",
       "      <td>1.00000</td>\n",
       "      <td>0.550000</td>\n",
       "      <td>0.00001</td>\n",
       "      <td>0.528893</td>\n",
       "    </tr>\n",
       "  </tbody>\n",
       "</table>\n",
       "</div>"
      ],
      "text/plain": [
       "         name      addr     city      type   latlng     score\n",
       "0 1  1.000000  0.985507  1.00000  0.310606  1.00000  0.962632\n",
       "  2  0.896000  0.910774  1.00000  0.310606  1.00000  0.906085\n",
       "  3  0.562492  0.593620  0.40404  1.000000  0.00001  0.454329\n",
       "  4  0.581667  0.593620  0.40404  0.550000  0.00001  0.439499\n",
       "  5  0.581667  0.593620  1.00000  0.550000  0.00001  0.528893"
      ]
     },
     "execution_count": 33,
     "metadata": {},
     "output_type": "execute_result"
    }
   ],
   "source": [
    "scores = np.average(\n",
    "    comparison_vectors.values,\n",
    "    axis=1,\n",
    "    weights=[40, 20, 15, 5, 20])\n",
    "scored_comparison_vectors = comparison_vectors.assign(score=scores)\n",
    "scored_comparison_vectors.head(5)"
   ]
  },
  {
   "cell_type": "markdown",
   "metadata": {
    "slideshow": {
     "slide_type": "slide"
    }
   },
   "source": [
    "By looking at the data, we know record `0` truly matches `1` and `2`, so we'll **classify as a match** any pair with score `>= 0.85`. That's our **threshold**:"
   ]
  },
  {
   "cell_type": "code",
   "execution_count": 34,
   "metadata": {
    "slideshow": {
     "slide_type": "fragment"
    }
   },
   "outputs": [
    {
     "data": {
      "text/html": [
       "<div>\n",
       "<style scoped>\n",
       "    .dataframe tbody tr th:only-of-type {\n",
       "        vertical-align: middle;\n",
       "    }\n",
       "\n",
       "    .dataframe tbody tr th {\n",
       "        vertical-align: top;\n",
       "    }\n",
       "\n",
       "    .dataframe thead th {\n",
       "        text-align: right;\n",
       "    }\n",
       "</style>\n",
       "<table border=\"1\" class=\"dataframe\">\n",
       "  <thead>\n",
       "    <tr style=\"text-align: right;\">\n",
       "      <th></th>\n",
       "      <th></th>\n",
       "      <th>name</th>\n",
       "      <th>addr</th>\n",
       "      <th>city</th>\n",
       "      <th>type</th>\n",
       "      <th>latlng</th>\n",
       "    </tr>\n",
       "  </thead>\n",
       "  <tbody>\n",
       "    <tr>\n",
       "      <th rowspan=\"2\" valign=\"top\">0</th>\n",
       "      <th>1</th>\n",
       "      <td>1.000000</td>\n",
       "      <td>0.985507</td>\n",
       "      <td>1.00000</td>\n",
       "      <td>0.310606</td>\n",
       "      <td>1.0</td>\n",
       "    </tr>\n",
       "    <tr>\n",
       "      <th>2</th>\n",
       "      <td>0.896000</td>\n",
       "      <td>0.910774</td>\n",
       "      <td>1.00000</td>\n",
       "      <td>0.310606</td>\n",
       "      <td>1.0</td>\n",
       "    </tr>\n",
       "    <tr>\n",
       "      <th>1</th>\n",
       "      <th>2</th>\n",
       "      <td>0.896000</td>\n",
       "      <td>0.923779</td>\n",
       "      <td>1.00000</td>\n",
       "      <td>1.000000</td>\n",
       "      <td>1.0</td>\n",
       "    </tr>\n",
       "    <tr>\n",
       "      <th>3</th>\n",
       "      <th>4</th>\n",
       "      <td>0.911111</td>\n",
       "      <td>1.000000</td>\n",
       "      <td>1.00000</td>\n",
       "      <td>0.550000</td>\n",
       "      <td>1.0</td>\n",
       "    </tr>\n",
       "    <tr>\n",
       "      <th>4</th>\n",
       "      <th>5</th>\n",
       "      <td>1.000000</td>\n",
       "      <td>1.000000</td>\n",
       "      <td>0.40404</td>\n",
       "      <td>1.000000</td>\n",
       "      <td>1.0</td>\n",
       "    </tr>\n",
       "  </tbody>\n",
       "</table>\n",
       "</div>"
      ],
      "text/plain": [
       "         name      addr     city      type  latlng\n",
       "0 1  1.000000  0.985507  1.00000  0.310606     1.0\n",
       "  2  0.896000  0.910774  1.00000  0.310606     1.0\n",
       "1 2  0.896000  0.923779  1.00000  1.000000     1.0\n",
       "3 4  0.911111  1.000000  1.00000  0.550000     1.0\n",
       "4 5  1.000000  1.000000  0.40404  1.000000     1.0"
      ]
     },
     "execution_count": 34,
     "metadata": {},
     "output_type": "execute_result"
    }
   ],
   "source": [
    "matches = comparison_vectors[\n",
    "    scored_comparison_vectors['score'] >= 0.9]\n",
    "matches.head(5)"
   ]
  },
  {
   "cell_type": "markdown",
   "metadata": {
    "slideshow": {
     "slide_type": "slide"
    }
   },
   "source": [
    "Let's check another match we've found with this threshold: what are the matches of record `3`?"
   ]
  },
  {
   "cell_type": "code",
   "execution_count": 35,
   "metadata": {
    "slideshow": {
     "slide_type": "fragment"
    }
   },
   "outputs": [
    {
     "data": {
      "text/html": [
       "<div>\n",
       "<style scoped>\n",
       "    .dataframe tbody tr th:only-of-type {\n",
       "        vertical-align: middle;\n",
       "    }\n",
       "\n",
       "    .dataframe tbody tr th {\n",
       "        vertical-align: top;\n",
       "    }\n",
       "\n",
       "    .dataframe thead th {\n",
       "        text-align: right;\n",
       "    }\n",
       "</style>\n",
       "<table border=\"1\" class=\"dataframe\">\n",
       "  <thead>\n",
       "    <tr style=\"text-align: right;\">\n",
       "      <th></th>\n",
       "      <th>name</th>\n",
       "      <th>addr</th>\n",
       "      <th>city</th>\n",
       "      <th>type</th>\n",
       "      <th>postal</th>\n",
       "      <th>lat</th>\n",
       "      <th>lng</th>\n",
       "    </tr>\n",
       "  </thead>\n",
       "  <tbody>\n",
       "    <tr>\n",
       "      <th>3</th>\n",
       "      <td>art s delicatessen</td>\n",
       "      <td>12224 ventura blvd.</td>\n",
       "      <td>studio city</td>\n",
       "      <td>american</td>\n",
       "      <td>91604</td>\n",
       "      <td>34.142966</td>\n",
       "      <td>-118.399469</td>\n",
       "    </tr>\n",
       "  </tbody>\n",
       "</table>\n",
       "</div>"
      ],
      "text/plain": [
       "                 name                 addr         city      type postal  \\\n",
       "3  art s delicatessen  12224 ventura blvd.  studio city  american  91604   \n",
       "\n",
       "         lat         lng  \n",
       "3  34.142966 -118.399469  "
      ]
     },
     "metadata": {},
     "output_type": "display_data"
    },
    {
     "name": "stdout",
     "output_type": "stream",
     "text": [
      "matched:\n"
     ]
    },
    {
     "data": {
      "text/html": [
       "<div>\n",
       "<style scoped>\n",
       "    .dataframe tbody tr th:only-of-type {\n",
       "        vertical-align: middle;\n",
       "    }\n",
       "\n",
       "    .dataframe tbody tr th {\n",
       "        vertical-align: top;\n",
       "    }\n",
       "\n",
       "    .dataframe thead th {\n",
       "        text-align: right;\n",
       "    }\n",
       "</style>\n",
       "<table border=\"1\" class=\"dataframe\">\n",
       "  <thead>\n",
       "    <tr style=\"text-align: right;\">\n",
       "      <th></th>\n",
       "      <th>name</th>\n",
       "      <th>addr</th>\n",
       "      <th>city</th>\n",
       "      <th>type</th>\n",
       "      <th>postal</th>\n",
       "      <th>lat</th>\n",
       "      <th>lng</th>\n",
       "    </tr>\n",
       "  </thead>\n",
       "  <tbody>\n",
       "    <tr>\n",
       "      <th>4</th>\n",
       "      <td>art s deli</td>\n",
       "      <td>12224 ventura blvd.</td>\n",
       "      <td>studio city</td>\n",
       "      <td>delis</td>\n",
       "      <td>91604</td>\n",
       "      <td>34.142966</td>\n",
       "      <td>-118.399469</td>\n",
       "    </tr>\n",
       "  </tbody>\n",
       "</table>\n",
       "</div>"
      ],
      "text/plain": [
       "         name                 addr         city   type postal        lat  \\\n",
       "4  art s deli  12224 ventura blvd.  studio city  delis  91604  34.142966   \n",
       "\n",
       "          lng  \n",
       "4 -118.399469  "
      ]
     },
     "metadata": {},
     "output_type": "display_data"
    }
   ],
   "source": [
    "display(df.loc[[3]])\n",
    "print(\"matched:\")\n",
    "display(df.loc[matches.loc[(3,)].index])"
   ]
  },
  {
   "cell_type": "markdown",
   "metadata": {
    "slideshow": {
     "slide_type": "slide"
    }
   },
   "source": [
    "Seems OK! Since we have the true match status on `cluster` column, we can **evaluate** how well our threshold classification did:"
   ]
  },
  {
   "cell_type": "code",
   "execution_count": 36,
   "metadata": {
    "slideshow": {
     "slide_type": "fragment"
    }
   },
   "outputs": [
    {
     "name": "stdout",
     "output_type": "stream",
     "text": [
      "Golden pairs: 150\n"
     ]
    }
   ],
   "source": [
    "golden_pairs = Block('cluster').index(df_with_truth)\n",
    "golden_pairs = golden_pairs.swaplevel().sortlevel()[0]\n",
    "print(\"Golden pairs:\", len(golden_pairs))"
   ]
  },
  {
   "cell_type": "code",
   "execution_count": 37,
   "metadata": {
    "slideshow": {
     "slide_type": "fragment"
    }
   },
   "outputs": [
    {
     "name": "stdout",
     "output_type": "stream",
     "text": [
      "true_positives total: 118\n",
      "false_positives total: 3\n",
      "false_negatives total: 32\n"
     ]
    }
   ],
   "source": [
    "found_pairs_set = set(matches.index)\n",
    "\n",
    "golden_pairs_set = set(golden_pairs)\n",
    "\n",
    "true_positives = golden_pairs_set & found_pairs_set\n",
    "false_positives = found_pairs_set - golden_pairs_set\n",
    "false_negatives = golden_pairs_set - found_pairs_set\n",
    "\n",
    "print('true_positives total:', len(true_positives))\n",
    "print('false_positives total:', len(false_positives))\n",
    "print('false_negatives total:', len(false_negatives))"
   ]
  },
  {
   "cell_type": "markdown",
   "metadata": {
    "slideshow": {
     "slide_type": "slide"
    }
   },
   "source": [
    "We've got a small number of **false positives**. Some are really tricky cases:"
   ]
  },
  {
   "cell_type": "code",
   "execution_count": 38,
   "metadata": {
    "scrolled": true,
    "slideshow": {
     "slide_type": "fragment"
    }
   },
   "outputs": [
    {
     "name": "stdout",
     "output_type": "stream",
     "text": [
      "False positives:\n"
     ]
    },
    {
     "data": {
      "text/html": [
       "<div>\n",
       "<style scoped>\n",
       "    .dataframe tbody tr th:only-of-type {\n",
       "        vertical-align: middle;\n",
       "    }\n",
       "\n",
       "    .dataframe tbody tr th {\n",
       "        vertical-align: top;\n",
       "    }\n",
       "\n",
       "    .dataframe thead th {\n",
       "        text-align: right;\n",
       "    }\n",
       "</style>\n",
       "<table border=\"1\" class=\"dataframe\">\n",
       "  <thead>\n",
       "    <tr style=\"text-align: right;\">\n",
       "      <th></th>\n",
       "      <th>name</th>\n",
       "      <th>addr</th>\n",
       "      <th>city</th>\n",
       "      <th>type</th>\n",
       "      <th>lat</th>\n",
       "      <th>lng</th>\n",
       "    </tr>\n",
       "  </thead>\n",
       "  <tbody>\n",
       "    <tr>\n",
       "      <th>762</th>\n",
       "      <td>palm</td>\n",
       "      <td>837 second ave.</td>\n",
       "      <td>new york city</td>\n",
       "      <td>steakhouses</td>\n",
       "      <td>40.751701</td>\n",
       "      <td>-73.971180</td>\n",
       "    </tr>\n",
       "    <tr>\n",
       "      <th>763</th>\n",
       "      <td>palm too</td>\n",
       "      <td>840 second ave.</td>\n",
       "      <td>new york city</td>\n",
       "      <td>steakhouses</td>\n",
       "      <td>40.751467</td>\n",
       "      <td>-73.970686</td>\n",
       "    </tr>\n",
       "  </tbody>\n",
       "</table>\n",
       "</div>"
      ],
      "text/plain": [
       "         name             addr           city         type        lat  \\\n",
       "762      palm  837 second ave.  new york city  steakhouses  40.751701   \n",
       "763  palm too  840 second ave.  new york city  steakhouses  40.751467   \n",
       "\n",
       "           lng  \n",
       "762 -73.971180  \n",
       "763 -73.970686  "
      ]
     },
     "metadata": {},
     "output_type": "display_data"
    },
    {
     "data": {
      "text/html": [
       "<div>\n",
       "<style scoped>\n",
       "    .dataframe tbody tr th:only-of-type {\n",
       "        vertical-align: middle;\n",
       "    }\n",
       "\n",
       "    .dataframe tbody tr th {\n",
       "        vertical-align: top;\n",
       "    }\n",
       "\n",
       "    .dataframe thead th {\n",
       "        text-align: right;\n",
       "    }\n",
       "</style>\n",
       "<table border=\"1\" class=\"dataframe\">\n",
       "  <thead>\n",
       "    <tr style=\"text-align: right;\">\n",
       "      <th></th>\n",
       "      <th>name</th>\n",
       "      <th>addr</th>\n",
       "      <th>city</th>\n",
       "      <th>type</th>\n",
       "      <th>lat</th>\n",
       "      <th>lng</th>\n",
       "    </tr>\n",
       "  </thead>\n",
       "  <tbody>\n",
       "    <tr>\n",
       "      <th>196</th>\n",
       "      <td>ritz carlton cafe buckhead</td>\n",
       "      <td>3434 peachtree rd. ne</td>\n",
       "      <td>atlanta</td>\n",
       "      <td>american (new)</td>\n",
       "      <td>33.850807</td>\n",
       "      <td>-84.364227</td>\n",
       "    </tr>\n",
       "    <tr>\n",
       "      <th>198</th>\n",
       "      <td>ritz carlton dining room buckhead</td>\n",
       "      <td>3434 peachtree rd. ne</td>\n",
       "      <td>atlanta</td>\n",
       "      <td>american (new)</td>\n",
       "      <td>33.850807</td>\n",
       "      <td>-84.364227</td>\n",
       "    </tr>\n",
       "  </tbody>\n",
       "</table>\n",
       "</div>"
      ],
      "text/plain": [
       "                                   name                   addr     city  \\\n",
       "196         ritz carlton cafe buckhead   3434 peachtree rd. ne  atlanta   \n",
       "198  ritz carlton dining room buckhead   3434 peachtree rd. ne  atlanta   \n",
       "\n",
       "               type        lat        lng  \n",
       "196  american (new)  33.850807 -84.364227  \n",
       "198  american (new)  33.850807 -84.364227  "
      ]
     },
     "metadata": {},
     "output_type": "display_data"
    },
    {
     "data": {
      "text/html": [
       "<div>\n",
       "<style scoped>\n",
       "    .dataframe tbody tr th:only-of-type {\n",
       "        vertical-align: middle;\n",
       "    }\n",
       "\n",
       "    .dataframe tbody tr th {\n",
       "        vertical-align: top;\n",
       "    }\n",
       "\n",
       "    .dataframe thead th {\n",
       "        text-align: right;\n",
       "    }\n",
       "</style>\n",
       "<table border=\"1\" class=\"dataframe\">\n",
       "  <thead>\n",
       "    <tr style=\"text-align: right;\">\n",
       "      <th></th>\n",
       "      <th>name</th>\n",
       "      <th>addr</th>\n",
       "      <th>city</th>\n",
       "      <th>type</th>\n",
       "      <th>lat</th>\n",
       "      <th>lng</th>\n",
       "    </tr>\n",
       "  </thead>\n",
       "  <tbody>\n",
       "    <tr>\n",
       "      <th>200</th>\n",
       "      <td>ritz carlton restaurant</td>\n",
       "      <td>181 peachtree st.</td>\n",
       "      <td>atlanta</td>\n",
       "      <td>french (classic)</td>\n",
       "      <td>33.758579</td>\n",
       "      <td>-84.387066</td>\n",
       "    </tr>\n",
       "    <tr>\n",
       "      <th>839</th>\n",
       "      <td>ritz carlton cafe atlanta</td>\n",
       "      <td>181 peachtree st.</td>\n",
       "      <td>atlanta</td>\n",
       "      <td>american (new)</td>\n",
       "      <td>33.758579</td>\n",
       "      <td>-84.387066</td>\n",
       "    </tr>\n",
       "  </tbody>\n",
       "</table>\n",
       "</div>"
      ],
      "text/plain": [
       "                           name               addr     city              type  \\\n",
       "200     ritz carlton restaurant  181 peachtree st.  atlanta  french (classic)   \n",
       "839  ritz carlton cafe atlanta   181 peachtree st.  atlanta    american (new)   \n",
       "\n",
       "           lat        lng  \n",
       "200  33.758579 -84.387066  \n",
       "839  33.758579 -84.387066  "
      ]
     },
     "metadata": {},
     "output_type": "display_data"
    }
   ],
   "source": [
    "print(f\"False positives:\")\n",
    "for false_positive_pair in false_positives:\n",
    "    display(df.loc[list(false_positive_pair)][['name', 'addr', 'city', 'type', 'lat', 'lng']])"
   ]
  },
  {
   "cell_type": "markdown",
   "metadata": {
    "slideshow": {
     "slide_type": "slide"
    }
   },
   "source": [
    "On the other hand, we got a lot of **false negatives**. We've **missed** a lot of matches!"
   ]
  },
  {
   "cell_type": "code",
   "execution_count": 39,
   "metadata": {
    "scrolled": true,
    "slideshow": {
     "slide_type": "fragment"
    }
   },
   "outputs": [
    {
     "name": "stdout",
     "output_type": "stream",
     "text": [
      "False negatives (sample 10 of 32):\n"
     ]
    },
    {
     "data": {
      "text/html": [
       "<div>\n",
       "<style scoped>\n",
       "    .dataframe tbody tr th:only-of-type {\n",
       "        vertical-align: middle;\n",
       "    }\n",
       "\n",
       "    .dataframe tbody tr th {\n",
       "        vertical-align: top;\n",
       "    }\n",
       "\n",
       "    .dataframe thead th {\n",
       "        text-align: right;\n",
       "    }\n",
       "</style>\n",
       "<table border=\"1\" class=\"dataframe\">\n",
       "  <thead>\n",
       "    <tr style=\"text-align: right;\">\n",
       "      <th></th>\n",
       "      <th>name</th>\n",
       "      <th>addr</th>\n",
       "      <th>city</th>\n",
       "      <th>type</th>\n",
       "      <th>lat</th>\n",
       "      <th>lng</th>\n",
       "    </tr>\n",
       "  </thead>\n",
       "  <tbody>\n",
       "    <tr>\n",
       "      <th>182</th>\n",
       "      <td>heera of india</td>\n",
       "      <td>595 piedmont ave.  rio shopping mall</td>\n",
       "      <td>atlanta</td>\n",
       "      <td>asian</td>\n",
       "      <td>33.795817</td>\n",
       "      <td>-84.370602</td>\n",
       "    </tr>\n",
       "    <tr>\n",
       "      <th>183</th>\n",
       "      <td>heera of india</td>\n",
       "      <td>595 piedmont ave.</td>\n",
       "      <td>atlanta</td>\n",
       "      <td>indian</td>\n",
       "      <td>33.770495</td>\n",
       "      <td>-84.381425</td>\n",
       "    </tr>\n",
       "  </tbody>\n",
       "</table>\n",
       "</div>"
      ],
      "text/plain": [
       "               name                                  addr     city    type  \\\n",
       "182  heera of india  595 piedmont ave.  rio shopping mall  atlanta   asian   \n",
       "183  heera of india                     595 piedmont ave.  atlanta  indian   \n",
       "\n",
       "           lat        lng  \n",
       "182  33.795817 -84.370602  \n",
       "183  33.770495 -84.381425  "
      ]
     },
     "metadata": {},
     "output_type": "display_data"
    },
    {
     "data": {
      "text/html": [
       "<div>\n",
       "<style scoped>\n",
       "    .dataframe tbody tr th:only-of-type {\n",
       "        vertical-align: middle;\n",
       "    }\n",
       "\n",
       "    .dataframe tbody tr th {\n",
       "        vertical-align: top;\n",
       "    }\n",
       "\n",
       "    .dataframe thead th {\n",
       "        text-align: right;\n",
       "    }\n",
       "</style>\n",
       "<table border=\"1\" class=\"dataframe\">\n",
       "  <thead>\n",
       "    <tr style=\"text-align: right;\">\n",
       "      <th></th>\n",
       "      <th>name</th>\n",
       "      <th>addr</th>\n",
       "      <th>city</th>\n",
       "      <th>type</th>\n",
       "      <th>lat</th>\n",
       "      <th>lng</th>\n",
       "    </tr>\n",
       "  </thead>\n",
       "  <tbody>\n",
       "    <tr>\n",
       "      <th>164</th>\n",
       "      <td>abruzzi</td>\n",
       "      <td>2355 peachtree rd.  peachtree battle shopping ...</td>\n",
       "      <td>atlanta</td>\n",
       "      <td>italian</td>\n",
       "      <td>33.820137</td>\n",
       "      <td>-84.387280</td>\n",
       "    </tr>\n",
       "    <tr>\n",
       "      <th>165</th>\n",
       "      <td>abruzzi</td>\n",
       "      <td>2355 peachtree rd. ne</td>\n",
       "      <td>atlanta</td>\n",
       "      <td>italian</td>\n",
       "      <td>33.824647</td>\n",
       "      <td>-84.387453</td>\n",
       "    </tr>\n",
       "  </tbody>\n",
       "</table>\n",
       "</div>"
      ],
      "text/plain": [
       "        name                                               addr     city  \\\n",
       "164  abruzzi  2355 peachtree rd.  peachtree battle shopping ...  atlanta   \n",
       "165  abruzzi                              2355 peachtree rd. ne  atlanta   \n",
       "\n",
       "        type        lat        lng  \n",
       "164  italian  33.820137 -84.387280  \n",
       "165  italian  33.824647 -84.387453  "
      ]
     },
     "metadata": {},
     "output_type": "display_data"
    },
    {
     "data": {
      "text/html": [
       "<div>\n",
       "<style scoped>\n",
       "    .dataframe tbody tr th:only-of-type {\n",
       "        vertical-align: middle;\n",
       "    }\n",
       "\n",
       "    .dataframe tbody tr th {\n",
       "        vertical-align: top;\n",
       "    }\n",
       "\n",
       "    .dataframe thead th {\n",
       "        text-align: right;\n",
       "    }\n",
       "</style>\n",
       "<table border=\"1\" class=\"dataframe\">\n",
       "  <thead>\n",
       "    <tr style=\"text-align: right;\">\n",
       "      <th></th>\n",
       "      <th>name</th>\n",
       "      <th>addr</th>\n",
       "      <th>city</th>\n",
       "      <th>type</th>\n",
       "      <th>lat</th>\n",
       "      <th>lng</th>\n",
       "    </tr>\n",
       "  </thead>\n",
       "  <tbody>\n",
       "    <tr>\n",
       "      <th>28</th>\n",
       "      <td>restaurant katsu</td>\n",
       "      <td>1972 n. hillhurst ave.</td>\n",
       "      <td>los angeles</td>\n",
       "      <td>asian</td>\n",
       "      <td>34.107405</td>\n",
       "      <td>-118.28719</td>\n",
       "    </tr>\n",
       "    <tr>\n",
       "      <th>29</th>\n",
       "      <td>katsu</td>\n",
       "      <td>1972 hillhurst ave.</td>\n",
       "      <td>los feliz</td>\n",
       "      <td>japanese</td>\n",
       "      <td>34.107405</td>\n",
       "      <td>-118.28719</td>\n",
       "    </tr>\n",
       "  </tbody>\n",
       "</table>\n",
       "</div>"
      ],
      "text/plain": [
       "                name                    addr         city      type  \\\n",
       "28  restaurant katsu  1972 n. hillhurst ave.  los angeles     asian   \n",
       "29             katsu     1972 hillhurst ave.    los feliz  japanese   \n",
       "\n",
       "          lat        lng  \n",
       "28  34.107405 -118.28719  \n",
       "29  34.107405 -118.28719  "
      ]
     },
     "metadata": {},
     "output_type": "display_data"
    },
    {
     "data": {
      "text/html": [
       "<div>\n",
       "<style scoped>\n",
       "    .dataframe tbody tr th:only-of-type {\n",
       "        vertical-align: middle;\n",
       "    }\n",
       "\n",
       "    .dataframe tbody tr th {\n",
       "        vertical-align: top;\n",
       "    }\n",
       "\n",
       "    .dataframe thead th {\n",
       "        text-align: right;\n",
       "    }\n",
       "</style>\n",
       "<table border=\"1\" class=\"dataframe\">\n",
       "  <thead>\n",
       "    <tr style=\"text-align: right;\">\n",
       "      <th></th>\n",
       "      <th>name</th>\n",
       "      <th>addr</th>\n",
       "      <th>city</th>\n",
       "      <th>type</th>\n",
       "      <th>lat</th>\n",
       "      <th>lng</th>\n",
       "    </tr>\n",
       "  </thead>\n",
       "  <tbody>\n",
       "    <tr>\n",
       "      <th>36</th>\n",
       "      <td>locanda veneta</td>\n",
       "      <td>8638 w 3rd</td>\n",
       "      <td>st los angeles</td>\n",
       "      <td>italian</td>\n",
       "      <td>34.073417</td>\n",
       "      <td>-118.381096</td>\n",
       "    </tr>\n",
       "    <tr>\n",
       "      <th>37</th>\n",
       "      <td>locanda</td>\n",
       "      <td>w. third st.</td>\n",
       "      <td>st los angeles</td>\n",
       "      <td>italian</td>\n",
       "      <td>34.068958</td>\n",
       "      <td>-118.320928</td>\n",
       "    </tr>\n",
       "  </tbody>\n",
       "</table>\n",
       "</div>"
      ],
      "text/plain": [
       "              name          addr            city     type        lat  \\\n",
       "36  locanda veneta    8638 w 3rd  st los angeles  italian  34.073417   \n",
       "37         locanda  w. third st.  st los angeles  italian  34.068958   \n",
       "\n",
       "           lng  \n",
       "36 -118.381096  \n",
       "37 -118.320928  "
      ]
     },
     "metadata": {},
     "output_type": "display_data"
    },
    {
     "data": {
      "text/html": [
       "<div>\n",
       "<style scoped>\n",
       "    .dataframe tbody tr th:only-of-type {\n",
       "        vertical-align: middle;\n",
       "    }\n",
       "\n",
       "    .dataframe tbody tr th {\n",
       "        vertical-align: top;\n",
       "    }\n",
       "\n",
       "    .dataframe thead th {\n",
       "        text-align: right;\n",
       "    }\n",
       "</style>\n",
       "<table border=\"1\" class=\"dataframe\">\n",
       "  <thead>\n",
       "    <tr style=\"text-align: right;\">\n",
       "      <th></th>\n",
       "      <th>name</th>\n",
       "      <th>addr</th>\n",
       "      <th>city</th>\n",
       "      <th>type</th>\n",
       "      <th>lat</th>\n",
       "      <th>lng</th>\n",
       "    </tr>\n",
       "  </thead>\n",
       "  <tbody>\n",
       "    <tr>\n",
       "      <th>40</th>\n",
       "      <td>the palm</td>\n",
       "      <td>9001 santa monica blvd.</td>\n",
       "      <td>los angeles</td>\n",
       "      <td>american</td>\n",
       "      <td>34.083064</td>\n",
       "      <td>-118.387282</td>\n",
       "    </tr>\n",
       "    <tr>\n",
       "      <th>41</th>\n",
       "      <td>palm the los angeles</td>\n",
       "      <td>9001 santa monica blvd.</td>\n",
       "      <td>w. hollywood</td>\n",
       "      <td>steakhouses</td>\n",
       "      <td>34.083064</td>\n",
       "      <td>-118.387282</td>\n",
       "    </tr>\n",
       "  </tbody>\n",
       "</table>\n",
       "</div>"
      ],
      "text/plain": [
       "                     name                     addr          city         type  \\\n",
       "40               the palm  9001 santa monica blvd.   los angeles     american   \n",
       "41  palm the los angeles   9001 santa monica blvd.  w. hollywood  steakhouses   \n",
       "\n",
       "          lat         lng  \n",
       "40  34.083064 -118.387282  \n",
       "41  34.083064 -118.387282  "
      ]
     },
     "metadata": {},
     "output_type": "display_data"
    },
    {
     "data": {
      "text/html": [
       "<div>\n",
       "<style scoped>\n",
       "    .dataframe tbody tr th:only-of-type {\n",
       "        vertical-align: middle;\n",
       "    }\n",
       "\n",
       "    .dataframe tbody tr th {\n",
       "        vertical-align: top;\n",
       "    }\n",
       "\n",
       "    .dataframe thead th {\n",
       "        text-align: right;\n",
       "    }\n",
       "</style>\n",
       "<table border=\"1\" class=\"dataframe\">\n",
       "  <thead>\n",
       "    <tr style=\"text-align: right;\">\n",
       "      <th></th>\n",
       "      <th>name</th>\n",
       "      <th>addr</th>\n",
       "      <th>city</th>\n",
       "      <th>type</th>\n",
       "      <th>lat</th>\n",
       "      <th>lng</th>\n",
       "    </tr>\n",
       "  </thead>\n",
       "  <tbody>\n",
       "    <tr>\n",
       "      <th>168</th>\n",
       "      <td>bone s</td>\n",
       "      <td>3130 piedmont road</td>\n",
       "      <td>atlanta</td>\n",
       "      <td>american</td>\n",
       "      <td>33.842103</td>\n",
       "      <td>-84.371103</td>\n",
       "    </tr>\n",
       "    <tr>\n",
       "      <th>169</th>\n",
       "      <td>bone s restaurant</td>\n",
       "      <td>3130 piedmont rd. ne</td>\n",
       "      <td>atlanta</td>\n",
       "      <td>steakhouses</td>\n",
       "      <td>33.842103</td>\n",
       "      <td>-84.371103</td>\n",
       "    </tr>\n",
       "  </tbody>\n",
       "</table>\n",
       "</div>"
      ],
      "text/plain": [
       "                  name                  addr     city         type        lat  \\\n",
       "168             bone s    3130 piedmont road  atlanta     american  33.842103   \n",
       "169  bone s restaurant  3130 piedmont rd. ne  atlanta  steakhouses  33.842103   \n",
       "\n",
       "           lng  \n",
       "168 -84.371103  \n",
       "169 -84.371103  "
      ]
     },
     "metadata": {},
     "output_type": "display_data"
    },
    {
     "data": {
      "text/html": [
       "<div>\n",
       "<style scoped>\n",
       "    .dataframe tbody tr th:only-of-type {\n",
       "        vertical-align: middle;\n",
       "    }\n",
       "\n",
       "    .dataframe tbody tr th {\n",
       "        vertical-align: top;\n",
       "    }\n",
       "\n",
       "    .dataframe thead th {\n",
       "        text-align: right;\n",
       "    }\n",
       "</style>\n",
       "<table border=\"1\" class=\"dataframe\">\n",
       "  <thead>\n",
       "    <tr style=\"text-align: right;\">\n",
       "      <th></th>\n",
       "      <th>name</th>\n",
       "      <th>addr</th>\n",
       "      <th>city</th>\n",
       "      <th>type</th>\n",
       "      <th>lat</th>\n",
       "      <th>lng</th>\n",
       "    </tr>\n",
       "  </thead>\n",
       "  <tbody>\n",
       "    <tr>\n",
       "      <th>136</th>\n",
       "      <td>shun lee west</td>\n",
       "      <td>43 w. 65th st.</td>\n",
       "      <td>new york</td>\n",
       "      <td>asian</td>\n",
       "      <td>40.772900</td>\n",
       "      <td>-73.981348</td>\n",
       "    </tr>\n",
       "    <tr>\n",
       "      <th>137</th>\n",
       "      <td>shun lee palace</td>\n",
       "      <td>155 e. 55th st.</td>\n",
       "      <td>new york city</td>\n",
       "      <td>chinese</td>\n",
       "      <td>40.759428</td>\n",
       "      <td>-73.969068</td>\n",
       "    </tr>\n",
       "  </tbody>\n",
       "</table>\n",
       "</div>"
      ],
      "text/plain": [
       "                name             addr           city     type        lat  \\\n",
       "136    shun lee west   43 w. 65th st.       new york    asian  40.772900   \n",
       "137  shun lee palace  155 e. 55th st.  new york city  chinese  40.759428   \n",
       "\n",
       "           lng  \n",
       "136 -73.981348  \n",
       "137 -73.969068  "
      ]
     },
     "metadata": {},
     "output_type": "display_data"
    },
    {
     "data": {
      "text/html": [
       "<div>\n",
       "<style scoped>\n",
       "    .dataframe tbody tr th:only-of-type {\n",
       "        vertical-align: middle;\n",
       "    }\n",
       "\n",
       "    .dataframe tbody tr th {\n",
       "        vertical-align: top;\n",
       "    }\n",
       "\n",
       "    .dataframe thead th {\n",
       "        text-align: right;\n",
       "    }\n",
       "</style>\n",
       "<table border=\"1\" class=\"dataframe\">\n",
       "  <thead>\n",
       "    <tr style=\"text-align: right;\">\n",
       "      <th></th>\n",
       "      <th>name</th>\n",
       "      <th>addr</th>\n",
       "      <th>city</th>\n",
       "      <th>type</th>\n",
       "      <th>lat</th>\n",
       "      <th>lng</th>\n",
       "    </tr>\n",
       "  </thead>\n",
       "  <tbody>\n",
       "    <tr>\n",
       "      <th>110</th>\n",
       "      <td>mesa grill</td>\n",
       "      <td>102 5th ave.  between 15th and 16th sts.</td>\n",
       "      <td>new york</td>\n",
       "      <td>american</td>\n",
       "      <td>40.737045</td>\n",
       "      <td>-73.993119</td>\n",
       "    </tr>\n",
       "    <tr>\n",
       "      <th>111</th>\n",
       "      <td>mesa grill</td>\n",
       "      <td>102 fifth ave.</td>\n",
       "      <td>new york city</td>\n",
       "      <td>southwestern</td>\n",
       "      <td>40.737045</td>\n",
       "      <td>-73.993119</td>\n",
       "    </tr>\n",
       "  </tbody>\n",
       "</table>\n",
       "</div>"
      ],
      "text/plain": [
       "           name                                      addr           city  \\\n",
       "110  mesa grill  102 5th ave.  between 15th and 16th sts.       new york   \n",
       "111  mesa grill                            102 fifth ave.  new york city   \n",
       "\n",
       "             type        lat        lng  \n",
       "110      american  40.737045 -73.993119  \n",
       "111  southwestern  40.737045 -73.993119  "
      ]
     },
     "metadata": {},
     "output_type": "display_data"
    },
    {
     "data": {
      "text/html": [
       "<div>\n",
       "<style scoped>\n",
       "    .dataframe tbody tr th:only-of-type {\n",
       "        vertical-align: middle;\n",
       "    }\n",
       "\n",
       "    .dataframe tbody tr th {\n",
       "        vertical-align: top;\n",
       "    }\n",
       "\n",
       "    .dataframe thead th {\n",
       "        text-align: right;\n",
       "    }\n",
       "</style>\n",
       "<table border=\"1\" class=\"dataframe\">\n",
       "  <thead>\n",
       "    <tr style=\"text-align: right;\">\n",
       "      <th></th>\n",
       "      <th>name</th>\n",
       "      <th>addr</th>\n",
       "      <th>city</th>\n",
       "      <th>type</th>\n",
       "      <th>lat</th>\n",
       "      <th>lng</th>\n",
       "    </tr>\n",
       "  </thead>\n",
       "  <tbody>\n",
       "    <tr>\n",
       "      <th>34</th>\n",
       "      <td>locanda veneta</td>\n",
       "      <td>3rd st.</td>\n",
       "      <td>los angeles</td>\n",
       "      <td>italian</td>\n",
       "      <td>34.068958</td>\n",
       "      <td>-118.320928</td>\n",
       "    </tr>\n",
       "    <tr>\n",
       "      <th>35</th>\n",
       "      <td>locanda veneta</td>\n",
       "      <td>8638 w. third st.</td>\n",
       "      <td>los angeles</td>\n",
       "      <td>italian</td>\n",
       "      <td>34.073417</td>\n",
       "      <td>-118.381096</td>\n",
       "    </tr>\n",
       "  </tbody>\n",
       "</table>\n",
       "</div>"
      ],
      "text/plain": [
       "              name               addr         city     type        lat  \\\n",
       "34  locanda veneta            3rd st.  los angeles  italian  34.068958   \n",
       "35  locanda veneta  8638 w. third st.  los angeles  italian  34.073417   \n",
       "\n",
       "           lng  \n",
       "34 -118.320928  \n",
       "35 -118.381096  "
      ]
     },
     "metadata": {},
     "output_type": "display_data"
    },
    {
     "data": {
      "text/html": [
       "<div>\n",
       "<style scoped>\n",
       "    .dataframe tbody tr th:only-of-type {\n",
       "        vertical-align: middle;\n",
       "    }\n",
       "\n",
       "    .dataframe tbody tr th {\n",
       "        vertical-align: top;\n",
       "    }\n",
       "\n",
       "    .dataframe thead th {\n",
       "        text-align: right;\n",
       "    }\n",
       "</style>\n",
       "<table border=\"1\" class=\"dataframe\">\n",
       "  <thead>\n",
       "    <tr style=\"text-align: right;\">\n",
       "      <th></th>\n",
       "      <th>name</th>\n",
       "      <th>addr</th>\n",
       "      <th>city</th>\n",
       "      <th>type</th>\n",
       "      <th>lat</th>\n",
       "      <th>lng</th>\n",
       "    </tr>\n",
       "  </thead>\n",
       "  <tbody>\n",
       "    <tr>\n",
       "      <th>30</th>\n",
       "      <td>l orangerie</td>\n",
       "      <td>903 n. la cienega blvd.</td>\n",
       "      <td>los angeles</td>\n",
       "      <td>french</td>\n",
       "      <td>34.087098</td>\n",
       "      <td>-118.376626</td>\n",
       "    </tr>\n",
       "    <tr>\n",
       "      <th>31</th>\n",
       "      <td>l orangerie</td>\n",
       "      <td>903 n. la cienega blvd.</td>\n",
       "      <td>w. hollywood</td>\n",
       "      <td>french (classic)</td>\n",
       "      <td>34.100833</td>\n",
       "      <td>-118.325613</td>\n",
       "    </tr>\n",
       "  </tbody>\n",
       "</table>\n",
       "</div>"
      ],
      "text/plain": [
       "           name                     addr          city              type  \\\n",
       "30  l orangerie  903 n. la cienega blvd.   los angeles            french   \n",
       "31  l orangerie  903 n. la cienega blvd.  w. hollywood  french (classic)   \n",
       "\n",
       "          lat         lng  \n",
       "30  34.087098 -118.376626  \n",
       "31  34.100833 -118.325613  "
      ]
     },
     "metadata": {},
     "output_type": "display_data"
    }
   ],
   "source": [
    "print(f\"False negatives (sample 10 of {len(false_negatives)}):\")\n",
    "for false_negative_pair in list(false_negatives)[:10]:\n",
    "    display(df.loc[list(false_negative_pair)][['name', 'addr', 'city', 'type', 'lat', 'lng']])"
   ]
  },
  {
   "cell_type": "markdown",
   "metadata": {
    "slideshow": {
     "slide_type": "slide"
    }
   },
   "source": [
    "We've set the weights and the threshold **by guessing**, could we do any better?"
   ]
  },
  {
   "cell_type": "markdown",
   "metadata": {
    "slideshow": {
     "slide_type": "slide"
    }
   },
   "source": [
    "### Supervised Classification"
   ]
  },
  {
   "cell_type": "markdown",
   "metadata": {
    "slideshow": {
     "slide_type": "slide"
    }
   },
   "source": [
    "Instead of trying to guess weights and thresholds, we can train a **classifier** to learn how to classify matches and nonmatches based on some training data we provide:"
   ]
  },
  {
   "cell_type": "code",
   "execution_count": 40,
   "metadata": {
    "scrolled": true,
    "slideshow": {
     "slide_type": "fragment"
    }
   },
   "outputs": [
    {
     "data": {
      "text/html": [
       "<div>\n",
       "<style scoped>\n",
       "    .dataframe tbody tr th:only-of-type {\n",
       "        vertical-align: middle;\n",
       "    }\n",
       "\n",
       "    .dataframe tbody tr th {\n",
       "        vertical-align: top;\n",
       "    }\n",
       "\n",
       "    .dataframe thead th {\n",
       "        text-align: right;\n",
       "    }\n",
       "</style>\n",
       "<table border=\"1\" class=\"dataframe\">\n",
       "  <thead>\n",
       "    <tr style=\"text-align: right;\">\n",
       "      <th></th>\n",
       "      <th>name</th>\n",
       "      <th>addr</th>\n",
       "      <th>city</th>\n",
       "      <th>type</th>\n",
       "      <th>cluster</th>\n",
       "    </tr>\n",
       "  </thead>\n",
       "  <tbody>\n",
       "    <tr>\n",
       "      <th>0</th>\n",
       "      <td>locanda veneta</td>\n",
       "      <td>3rd st.</td>\n",
       "      <td>los angeles</td>\n",
       "      <td>italian</td>\n",
       "      <td>13</td>\n",
       "    </tr>\n",
       "    <tr>\n",
       "      <th>1</th>\n",
       "      <td>locanda veneta</td>\n",
       "      <td>8638 w. third st.</td>\n",
       "      <td>los angeles</td>\n",
       "      <td>italian</td>\n",
       "      <td>13</td>\n",
       "    </tr>\n",
       "    <tr>\n",
       "      <th>2</th>\n",
       "      <td>locanda veneta</td>\n",
       "      <td>8638 w 3rd st</td>\n",
       "      <td>los angeles</td>\n",
       "      <td>italian</td>\n",
       "      <td>13</td>\n",
       "    </tr>\n",
       "    <tr>\n",
       "      <th>3</th>\n",
       "      <td>cafe lalo</td>\n",
       "      <td>201 w. 83rd st.</td>\n",
       "      <td>new york</td>\n",
       "      <td>coffee bar</td>\n",
       "      <td>26</td>\n",
       "    </tr>\n",
       "    <tr>\n",
       "      <th>4</th>\n",
       "      <td>cafe lalo</td>\n",
       "      <td>201 w. 83rd st.</td>\n",
       "      <td>new york city</td>\n",
       "      <td>coffeehouses</td>\n",
       "      <td>26</td>\n",
       "    </tr>\n",
       "    <tr>\n",
       "      <th>5</th>\n",
       "      <td>les celebrites</td>\n",
       "      <td>160 central park s</td>\n",
       "      <td>new york</td>\n",
       "      <td>french</td>\n",
       "      <td>42</td>\n",
       "    </tr>\n",
       "    <tr>\n",
       "      <th>6</th>\n",
       "      <td>les celebrites</td>\n",
       "      <td>155 w. 58th st.</td>\n",
       "      <td>new york city</td>\n",
       "      <td>french (classic)</td>\n",
       "      <td>42</td>\n",
       "    </tr>\n",
       "    <tr>\n",
       "      <th>7</th>\n",
       "      <td>second avenue deli</td>\n",
       "      <td>156 2nd ave. at 10th st.</td>\n",
       "      <td>new york</td>\n",
       "      <td>delicatessen</td>\n",
       "      <td>58</td>\n",
       "    </tr>\n",
       "    <tr>\n",
       "      <th>8</th>\n",
       "      <td>second avenue deli</td>\n",
       "      <td>156 second ave.</td>\n",
       "      <td>new york city</td>\n",
       "      <td>delis</td>\n",
       "      <td>58</td>\n",
       "    </tr>\n",
       "    <tr>\n",
       "      <th>9</th>\n",
       "      <td>smith &amp; wollensky</td>\n",
       "      <td>201 e. 49th st.</td>\n",
       "      <td>new york</td>\n",
       "      <td>american</td>\n",
       "      <td>62</td>\n",
       "    </tr>\n",
       "    <tr>\n",
       "      <th>10</th>\n",
       "      <td>smith &amp; wollensky</td>\n",
       "      <td>797 third ave.</td>\n",
       "      <td>new york city</td>\n",
       "      <td>steakhouses</td>\n",
       "      <td>62</td>\n",
       "    </tr>\n",
       "    <tr>\n",
       "      <th>11</th>\n",
       "      <td>chin's</td>\n",
       "      <td>3200 las vegas blvd. s</td>\n",
       "      <td>las vegas</td>\n",
       "      <td>asian</td>\n",
       "      <td>67</td>\n",
       "    </tr>\n",
       "    <tr>\n",
       "      <th>12</th>\n",
       "      <td>chin's</td>\n",
       "      <td>3200 las vegas blvd. s.</td>\n",
       "      <td>las vegas</td>\n",
       "      <td>chinese</td>\n",
       "      <td>67</td>\n",
       "    </tr>\n",
       "    <tr>\n",
       "      <th>13</th>\n",
       "      <td>toulouse</td>\n",
       "      <td>b peachtree rd.</td>\n",
       "      <td>atlanta</td>\n",
       "      <td>french</td>\n",
       "      <td>92</td>\n",
       "    </tr>\n",
       "    <tr>\n",
       "      <th>14</th>\n",
       "      <td>toulouse</td>\n",
       "      <td>293-b peachtree rd.</td>\n",
       "      <td>atlanta</td>\n",
       "      <td>french (new)</td>\n",
       "      <td>92</td>\n",
       "    </tr>\n",
       "    <tr>\n",
       "      <th>15</th>\n",
       "      <td>rose pistola</td>\n",
       "      <td>532 columbus ave.</td>\n",
       "      <td>san francisco</td>\n",
       "      <td>italian</td>\n",
       "      <td>111</td>\n",
       "    </tr>\n",
       "    <tr>\n",
       "      <th>16</th>\n",
       "      <td>rose pistola</td>\n",
       "      <td>532 columbus ave.</td>\n",
       "      <td>san francisco</td>\n",
       "      <td>italian</td>\n",
       "      <td>111</td>\n",
       "    </tr>\n",
       "    <tr>\n",
       "      <th>17</th>\n",
       "      <td>bistro garden</td>\n",
       "      <td>176 n. canon dr.</td>\n",
       "      <td>los angeles</td>\n",
       "      <td>californian</td>\n",
       "      <td>115</td>\n",
       "    </tr>\n",
       "    <tr>\n",
       "      <th>18</th>\n",
       "      <td>remi</td>\n",
       "      <td>3rd st. promenade</td>\n",
       "      <td>santa monica</td>\n",
       "      <td>italian</td>\n",
       "      <td>159</td>\n",
       "    </tr>\n",
       "    <tr>\n",
       "      <th>19</th>\n",
       "      <td>remi</td>\n",
       "      <td>145 w. 53rd st.</td>\n",
       "      <td>new york</td>\n",
       "      <td>italian</td>\n",
       "      <td>334</td>\n",
       "    </tr>\n",
       "    <tr>\n",
       "      <th>20</th>\n",
       "      <td>west</td>\n",
       "      <td>63rd street steakhouse 44 w. 63rd st.</td>\n",
       "      <td>new york</td>\n",
       "      <td>american</td>\n",
       "      <td>375</td>\n",
       "    </tr>\n",
       "    <tr>\n",
       "      <th>21</th>\n",
       "      <td>bistro</td>\n",
       "      <td>3400 las vegas blvd. s</td>\n",
       "      <td>las vegas</td>\n",
       "      <td>continental</td>\n",
       "      <td>429</td>\n",
       "    </tr>\n",
       "    <tr>\n",
       "      <th>22</th>\n",
       "      <td>mikado</td>\n",
       "      <td>3400 las vegas blvd. s</td>\n",
       "      <td>las vegas</td>\n",
       "      <td>asian</td>\n",
       "      <td>446</td>\n",
       "    </tr>\n",
       "    <tr>\n",
       "      <th>23</th>\n",
       "      <td>l'osteria del forno</td>\n",
       "      <td>519 columbus ave.</td>\n",
       "      <td>san francisco</td>\n",
       "      <td>italian</td>\n",
       "      <td>490</td>\n",
       "    </tr>\n",
       "    <tr>\n",
       "      <th>24</th>\n",
       "      <td>stars</td>\n",
       "      <td>150 redwood alley</td>\n",
       "      <td>san francisco</td>\n",
       "      <td>american</td>\n",
       "      <td>514</td>\n",
       "    </tr>\n",
       "    <tr>\n",
       "      <th>25</th>\n",
       "      <td>stars cafe</td>\n",
       "      <td>500 van ness ave.</td>\n",
       "      <td>san francisco</td>\n",
       "      <td>american</td>\n",
       "      <td>515</td>\n",
       "    </tr>\n",
       "    <tr>\n",
       "      <th>26</th>\n",
       "      <td>belvedere  the</td>\n",
       "      <td>9882 little santa monica blvd.</td>\n",
       "      <td>beverly hills</td>\n",
       "      <td>pacific new wave</td>\n",
       "      <td>537</td>\n",
       "    </tr>\n",
       "    <tr>\n",
       "      <th>27</th>\n",
       "      <td>bernard's</td>\n",
       "      <td>515 s. olive st.</td>\n",
       "      <td>los angeles</td>\n",
       "      <td>continental</td>\n",
       "      <td>539</td>\n",
       "    </tr>\n",
       "    <tr>\n",
       "      <th>28</th>\n",
       "      <td>bistro 45</td>\n",
       "      <td>45 s. mentor ave.</td>\n",
       "      <td>pasadena</td>\n",
       "      <td>californian</td>\n",
       "      <td>540</td>\n",
       "    </tr>\n",
       "    <tr>\n",
       "      <th>29</th>\n",
       "      <td>cafe '50s</td>\n",
       "      <td>838 lincoln blvd.</td>\n",
       "      <td>venice</td>\n",
       "      <td>american</td>\n",
       "      <td>545</td>\n",
       "    </tr>\n",
       "    <tr>\n",
       "      <th>30</th>\n",
       "      <td>cafe blanc</td>\n",
       "      <td>9777 little santa monica blvd.</td>\n",
       "      <td>beverly hills</td>\n",
       "      <td>pacific new wave</td>\n",
       "      <td>546</td>\n",
       "    </tr>\n",
       "    <tr>\n",
       "      <th>31</th>\n",
       "      <td>la cachette</td>\n",
       "      <td>10506 little santa monica blvd.</td>\n",
       "      <td>century city</td>\n",
       "      <td>french (new)</td>\n",
       "      <td>568</td>\n",
       "    </tr>\n",
       "    <tr>\n",
       "      <th>32</th>\n",
       "      <td>moongate</td>\n",
       "      <td>3400 las vegas blvd. s.</td>\n",
       "      <td>las vegas</td>\n",
       "      <td>chinese</td>\n",
       "      <td>666</td>\n",
       "    </tr>\n",
       "  </tbody>\n",
       "</table>\n",
       "</div>"
      ],
      "text/plain": [
       "                   name                                   addr           city  \\\n",
       "0        locanda veneta                                3rd st.    los angeles   \n",
       "1        locanda veneta                      8638 w. third st.    los angeles   \n",
       "2        locanda veneta                          8638 w 3rd st    los angeles   \n",
       "3             cafe lalo                        201 w. 83rd st.       new york   \n",
       "4             cafe lalo                        201 w. 83rd st.  new york city   \n",
       "5        les celebrites                     160 central park s       new york   \n",
       "6        les celebrites                        155 w. 58th st.  new york city   \n",
       "7    second avenue deli               156 2nd ave. at 10th st.       new york   \n",
       "8    second avenue deli                        156 second ave.  new york city   \n",
       "9     smith & wollensky                        201 e. 49th st.       new york   \n",
       "10    smith & wollensky                         797 third ave.  new york city   \n",
       "11               chin's                 3200 las vegas blvd. s      las vegas   \n",
       "12               chin's                3200 las vegas blvd. s.      las vegas   \n",
       "13             toulouse                        b peachtree rd.        atlanta   \n",
       "14             toulouse                    293-b peachtree rd.        atlanta   \n",
       "15         rose pistola                      532 columbus ave.  san francisco   \n",
       "16         rose pistola                      532 columbus ave.  san francisco   \n",
       "17        bistro garden                       176 n. canon dr.    los angeles   \n",
       "18                 remi                      3rd st. promenade   santa monica   \n",
       "19                 remi                        145 w. 53rd st.       new york   \n",
       "20                 west  63rd street steakhouse 44 w. 63rd st.       new york   \n",
       "21               bistro                 3400 las vegas blvd. s      las vegas   \n",
       "22               mikado                 3400 las vegas blvd. s      las vegas   \n",
       "23  l'osteria del forno                      519 columbus ave.  san francisco   \n",
       "24                stars                      150 redwood alley  san francisco   \n",
       "25           stars cafe                      500 van ness ave.  san francisco   \n",
       "26       belvedere  the         9882 little santa monica blvd.  beverly hills   \n",
       "27            bernard's                       515 s. olive st.    los angeles   \n",
       "28            bistro 45                      45 s. mentor ave.       pasadena   \n",
       "29            cafe '50s                      838 lincoln blvd.         venice   \n",
       "30           cafe blanc         9777 little santa monica blvd.  beverly hills   \n",
       "31          la cachette        10506 little santa monica blvd.   century city   \n",
       "32             moongate                3400 las vegas blvd. s.      las vegas   \n",
       "\n",
       "                type  cluster  \n",
       "0            italian       13  \n",
       "1            italian       13  \n",
       "2            italian       13  \n",
       "3         coffee bar       26  \n",
       "4       coffeehouses       26  \n",
       "5             french       42  \n",
       "6   french (classic)       42  \n",
       "7       delicatessen       58  \n",
       "8              delis       58  \n",
       "9           american       62  \n",
       "10       steakhouses       62  \n",
       "11             asian       67  \n",
       "12           chinese       67  \n",
       "13            french       92  \n",
       "14      french (new)       92  \n",
       "15           italian      111  \n",
       "16           italian      111  \n",
       "17       californian      115  \n",
       "18           italian      159  \n",
       "19           italian      334  \n",
       "20          american      375  \n",
       "21       continental      429  \n",
       "22             asian      446  \n",
       "23           italian      490  \n",
       "24          american      514  \n",
       "25          american      515  \n",
       "26  pacific new wave      537  \n",
       "27       continental      539  \n",
       "28       californian      540  \n",
       "29          american      545  \n",
       "30  pacific new wave      546  \n",
       "31      french (new)      568  \n",
       "32           chinese      666  "
      ]
     },
     "execution_count": 40,
     "metadata": {},
     "output_type": "execute_result"
    }
   ],
   "source": [
    "df_training = pd.read_csv('restaurant-training.csv', skip_blank_lines=True)\n",
    "df_training = df_training.drop(columns=['phone'])\n",
    "df_training"
   ]
  },
  {
   "cell_type": "markdown",
   "metadata": {
    "slideshow": {
     "slide_type": "slide"
    }
   },
   "source": [
    "We need to **preprocess** our training data too:"
   ]
  },
  {
   "cell_type": "code",
   "execution_count": 41,
   "metadata": {
    "scrolled": true,
    "slideshow": {
     "slide_type": "fragment"
    }
   },
   "outputs": [
    {
     "data": {
      "text/html": [
       "<div>\n",
       "<style scoped>\n",
       "    .dataframe tbody tr th:only-of-type {\n",
       "        vertical-align: middle;\n",
       "    }\n",
       "\n",
       "    .dataframe tbody tr th {\n",
       "        vertical-align: top;\n",
       "    }\n",
       "\n",
       "    .dataframe thead th {\n",
       "        text-align: right;\n",
       "    }\n",
       "</style>\n",
       "<table border=\"1\" class=\"dataframe\">\n",
       "  <thead>\n",
       "    <tr style=\"text-align: right;\">\n",
       "      <th></th>\n",
       "      <th>name</th>\n",
       "      <th>addr</th>\n",
       "      <th>city</th>\n",
       "      <th>type</th>\n",
       "      <th>cluster</th>\n",
       "      <th>postal</th>\n",
       "      <th>lat</th>\n",
       "      <th>lng</th>\n",
       "    </tr>\n",
       "  </thead>\n",
       "  <tbody>\n",
       "    <tr>\n",
       "      <th>0</th>\n",
       "      <td>locanda veneta</td>\n",
       "      <td>3rd st.</td>\n",
       "      <td>los angeles</td>\n",
       "      <td>italian</td>\n",
       "      <td>13</td>\n",
       "      <td>None</td>\n",
       "      <td>34.068958</td>\n",
       "      <td>-118.320928</td>\n",
       "    </tr>\n",
       "    <tr>\n",
       "      <th>1</th>\n",
       "      <td>locanda veneta</td>\n",
       "      <td>8638 w. third st.</td>\n",
       "      <td>los angeles</td>\n",
       "      <td>italian</td>\n",
       "      <td>13</td>\n",
       "      <td>90048</td>\n",
       "      <td>34.073417</td>\n",
       "      <td>-118.381096</td>\n",
       "    </tr>\n",
       "    <tr>\n",
       "      <th>2</th>\n",
       "      <td>locanda veneta</td>\n",
       "      <td>8638 w 3rd st</td>\n",
       "      <td>los angeles</td>\n",
       "      <td>italian</td>\n",
       "      <td>13</td>\n",
       "      <td>None</td>\n",
       "      <td>NaN</td>\n",
       "      <td>NaN</td>\n",
       "    </tr>\n",
       "    <tr>\n",
       "      <th>3</th>\n",
       "      <td>cafe lalo</td>\n",
       "      <td>201 w. 83rd st.</td>\n",
       "      <td>new york</td>\n",
       "      <td>coffee bar</td>\n",
       "      <td>26</td>\n",
       "      <td>10024</td>\n",
       "      <td>40.785981</td>\n",
       "      <td>-73.976727</td>\n",
       "    </tr>\n",
       "    <tr>\n",
       "      <th>4</th>\n",
       "      <td>cafe lalo</td>\n",
       "      <td>201 w. 83rd st.</td>\n",
       "      <td>new york city</td>\n",
       "      <td>coffeehouses</td>\n",
       "      <td>26</td>\n",
       "      <td>10024</td>\n",
       "      <td>40.785981</td>\n",
       "      <td>-73.976727</td>\n",
       "    </tr>\n",
       "  </tbody>\n",
       "</table>\n",
       "</div>"
      ],
      "text/plain": [
       "             name               addr           city          type  cluster  \\\n",
       "0  locanda veneta            3rd st.    los angeles       italian       13   \n",
       "1  locanda veneta  8638 w. third st.    los angeles       italian       13   \n",
       "2  locanda veneta      8638 w 3rd st    los angeles       italian       13   \n",
       "3       cafe lalo    201 w. 83rd st.       new york    coffee bar       26   \n",
       "4       cafe lalo    201 w. 83rd st.  new york city  coffeehouses       26   \n",
       "\n",
       "  postal        lat         lng  \n",
       "0   None  34.068958 -118.320928  \n",
       "1  90048  34.073417 -118.381096  \n",
       "2   None        NaN         NaN  \n",
       "3  10024  40.785981  -73.976727  \n",
       "4  10024  40.785981  -73.976727  "
      ]
     },
     "execution_count": 41,
     "metadata": {},
     "output_type": "execute_result"
    }
   ],
   "source": [
    "df_training = assign_no_symbols_name(df_training)\n",
    "df_training = assign_postal_lat_lng(df_training)\n",
    "df_training.head(5)"
   ]
  },
  {
   "cell_type": "markdown",
   "metadata": {
    "slideshow": {
     "slide_type": "slide"
    }
   },
   "source": [
    "We'll feed a **Support Vector Machine** classifier with our training data. SVMs are resilient to noise, can handle correlated features (like 'addr' and 'latlng') and are robust to imbalanced training sets. That last attribute is relevant for deduplication, because we'll usually find more negative pairs than positive pairs to add to a training set. (Bilenko [3])"
   ]
  },
  {
   "cell_type": "code",
   "execution_count": 42,
   "metadata": {
    "slideshow": {
     "slide_type": "slide"
    }
   },
   "outputs": [
    {
     "name": "stdout",
     "output_type": "stream",
     "text": [
      "WARNING:recordlinkage:indexing - performance warning - A full index can result in large number of record pairs.\n"
     ]
    }
   ],
   "source": [
    "all_training_pairs = Full().index(df_training)\n",
    "matches_training_pairs = Block('cluster').index(df_training)\n",
    "\n",
    "training_vectors = comp.compute(all_training_pairs, df_training)\n",
    "\n",
    "svm = rl.SVMClassifier()\n",
    "svm.fit(training_vectors, matches_training_pairs);"
   ]
  },
  {
   "cell_type": "code",
   "execution_count": 43,
   "metadata": {
    "slideshow": {
     "slide_type": "slide"
    }
   },
   "outputs": [
    {
     "name": "stdout",
     "output_type": "stream",
     "text": [
      "true_positives total: 118\n",
      "false_positives total: 3\n",
      "false_negatives total: 32\n",
      "\n",
      "svm_true_positives total: 127\n",
      "svm_false_positives total: 5\n",
      "svm_false_negatives total: 23\n"
     ]
    }
   ],
   "source": [
    "svm_pairs = svm.predict(comparison_vectors)\n",
    "svm_found_pairs_set = set(svm_pairs)\n",
    "\n",
    "svm_true_positives = golden_pairs_set & svm_found_pairs_set\n",
    "svm_false_positives = svm_found_pairs_set - golden_pairs_set\n",
    "svm_false_negatives = golden_pairs_set - svm_found_pairs_set\n",
    "\n",
    "print('true_positives total:', len(true_positives))\n",
    "print('false_positives total:', len(false_positives))\n",
    "print('false_negatives total:', len(false_negatives))\n",
    "print()\n",
    "print('svm_true_positives total:', len(svm_true_positives))\n",
    "print('svm_false_positives total:', len(svm_false_positives))\n",
    "print('svm_false_negatives total:', len(svm_false_negatives))"
   ]
  },
  {
   "cell_type": "markdown",
   "metadata": {
    "slideshow": {
     "slide_type": "slide"
    }
   },
   "source": [
    "**Better results**! The false positives we got on the SVM classifier and not on the threshold method is a really difficult case where most columns are very similar:"
   ]
  },
  {
   "cell_type": "code",
   "execution_count": 44,
   "metadata": {
    "slideshow": {
     "slide_type": "fragment"
    }
   },
   "outputs": [
    {
     "name": "stdout",
     "output_type": "stream",
     "text": [
      "(SVM false positives) - (Threshold false positives):\n"
     ]
    },
    {
     "data": {
      "text/html": [
       "<div>\n",
       "<style scoped>\n",
       "    .dataframe tbody tr th:only-of-type {\n",
       "        vertical-align: middle;\n",
       "    }\n",
       "\n",
       "    .dataframe tbody tr th {\n",
       "        vertical-align: top;\n",
       "    }\n",
       "\n",
       "    .dataframe thead th {\n",
       "        text-align: right;\n",
       "    }\n",
       "</style>\n",
       "<table border=\"1\" class=\"dataframe\">\n",
       "  <thead>\n",
       "    <tr style=\"text-align: right;\">\n",
       "      <th></th>\n",
       "      <th>name</th>\n",
       "      <th>addr</th>\n",
       "      <th>city</th>\n",
       "      <th>type</th>\n",
       "      <th>lat</th>\n",
       "      <th>lng</th>\n",
       "    </tr>\n",
       "  </thead>\n",
       "  <tbody>\n",
       "    <tr>\n",
       "      <th>643</th>\n",
       "      <td>stars</td>\n",
       "      <td>150 redwood alley</td>\n",
       "      <td>san francisco</td>\n",
       "      <td>american</td>\n",
       "      <td>37.780894</td>\n",
       "      <td>-122.419481</td>\n",
       "    </tr>\n",
       "    <tr>\n",
       "      <th>644</th>\n",
       "      <td>stars cafe</td>\n",
       "      <td>500 van ness ave.</td>\n",
       "      <td>san francisco</td>\n",
       "      <td>american</td>\n",
       "      <td>37.780298</td>\n",
       "      <td>-122.420002</td>\n",
       "    </tr>\n",
       "  </tbody>\n",
       "</table>\n",
       "</div>"
      ],
      "text/plain": [
       "           name               addr           city      type        lat  \\\n",
       "643       stars  150 redwood alley  san francisco  american  37.780894   \n",
       "644  stars cafe  500 van ness ave.  san francisco  american  37.780298   \n",
       "\n",
       "            lng  \n",
       "643 -122.419481  \n",
       "644 -122.420002  "
      ]
     },
     "metadata": {},
     "output_type": "display_data"
    },
    {
     "data": {
      "text/html": [
       "<div>\n",
       "<style scoped>\n",
       "    .dataframe tbody tr th:only-of-type {\n",
       "        vertical-align: middle;\n",
       "    }\n",
       "\n",
       "    .dataframe tbody tr th {\n",
       "        vertical-align: top;\n",
       "    }\n",
       "\n",
       "    .dataframe thead th {\n",
       "        text-align: right;\n",
       "    }\n",
       "</style>\n",
       "<table border=\"1\" class=\"dataframe\">\n",
       "  <thead>\n",
       "    <tr style=\"text-align: right;\">\n",
       "      <th></th>\n",
       "      <th>name</th>\n",
       "      <th>addr</th>\n",
       "      <th>city</th>\n",
       "      <th>type</th>\n",
       "      <th>lat</th>\n",
       "      <th>lng</th>\n",
       "    </tr>\n",
       "  </thead>\n",
       "  <tbody>\n",
       "    <tr>\n",
       "      <th>335</th>\n",
       "      <td>caffe dante</td>\n",
       "      <td>81 macdougal st.  between houston and bleeker ...</td>\n",
       "      <td>new york</td>\n",
       "      <td>coffee bar</td>\n",
       "      <td>40.728878</td>\n",
       "      <td>-74.001662</td>\n",
       "    </tr>\n",
       "    <tr>\n",
       "      <th>337</th>\n",
       "      <td>caffe lure</td>\n",
       "      <td>169 sullivan st.  between houston and bleecker...</td>\n",
       "      <td>new york</td>\n",
       "      <td>french</td>\n",
       "      <td>40.727928</td>\n",
       "      <td>-74.000985</td>\n",
       "    </tr>\n",
       "  </tbody>\n",
       "</table>\n",
       "</div>"
      ],
      "text/plain": [
       "            name                                               addr      city  \\\n",
       "335  caffe dante  81 macdougal st.  between houston and bleeker ...  new york   \n",
       "337   caffe lure  169 sullivan st.  between houston and bleecker...  new york   \n",
       "\n",
       "           type        lat        lng  \n",
       "335  coffee bar  40.728878 -74.001662  \n",
       "337      french  40.727928 -74.000985  "
      ]
     },
     "metadata": {},
     "output_type": "display_data"
    }
   ],
   "source": [
    "print(\"(SVM false positives) - (Threshold false positives):\")\n",
    "for svm_false_positive in (svm_false_positives - false_positives):\n",
    "    display(df.loc[list(svm_false_positive)][['name', 'addr', 'city', 'type', 'lat', 'lng']])"
   ]
  },
  {
   "cell_type": "markdown",
   "metadata": {
    "slideshow": {
     "slide_type": "slide"
    }
   },
   "source": [
    "But the SVM was tricked by some apparently simple cases, so **we can't be very confident** it really learned well to classify matches:"
   ]
  },
  {
   "cell_type": "code",
   "execution_count": 45,
   "metadata": {
    "slideshow": {
     "slide_type": "fragment"
    }
   },
   "outputs": [
    {
     "data": {
      "text/html": [
       "<div>\n",
       "<style scoped>\n",
       "    .dataframe tbody tr th:only-of-type {\n",
       "        vertical-align: middle;\n",
       "    }\n",
       "\n",
       "    .dataframe tbody tr th {\n",
       "        vertical-align: top;\n",
       "    }\n",
       "\n",
       "    .dataframe thead th {\n",
       "        text-align: right;\n",
       "    }\n",
       "</style>\n",
       "<table border=\"1\" class=\"dataframe\">\n",
       "  <thead>\n",
       "    <tr style=\"text-align: right;\">\n",
       "      <th></th>\n",
       "      <th>name</th>\n",
       "      <th>addr</th>\n",
       "      <th>city</th>\n",
       "      <th>type</th>\n",
       "      <th>lat</th>\n",
       "      <th>lng</th>\n",
       "    </tr>\n",
       "  </thead>\n",
       "  <tbody>\n",
       "    <tr>\n",
       "      <th>182</th>\n",
       "      <td>heera of india</td>\n",
       "      <td>595 piedmont ave.  rio shopping mall</td>\n",
       "      <td>atlanta</td>\n",
       "      <td>asian</td>\n",
       "      <td>33.795817</td>\n",
       "      <td>-84.370602</td>\n",
       "    </tr>\n",
       "    <tr>\n",
       "      <th>183</th>\n",
       "      <td>heera of india</td>\n",
       "      <td>595 piedmont ave.</td>\n",
       "      <td>atlanta</td>\n",
       "      <td>indian</td>\n",
       "      <td>33.770495</td>\n",
       "      <td>-84.381425</td>\n",
       "    </tr>\n",
       "  </tbody>\n",
       "</table>\n",
       "</div>"
      ],
      "text/plain": [
       "               name                                  addr     city    type  \\\n",
       "182  heera of india  595 piedmont ave.  rio shopping mall  atlanta   asian   \n",
       "183  heera of india                     595 piedmont ave.  atlanta  indian   \n",
       "\n",
       "           lat        lng  \n",
       "182  33.795817 -84.370602  \n",
       "183  33.770495 -84.381425  "
      ]
     },
     "metadata": {},
     "output_type": "display_data"
    },
    {
     "data": {
      "text/html": [
       "<div>\n",
       "<style scoped>\n",
       "    .dataframe tbody tr th:only-of-type {\n",
       "        vertical-align: middle;\n",
       "    }\n",
       "\n",
       "    .dataframe tbody tr th {\n",
       "        vertical-align: top;\n",
       "    }\n",
       "\n",
       "    .dataframe thead th {\n",
       "        text-align: right;\n",
       "    }\n",
       "</style>\n",
       "<table border=\"1\" class=\"dataframe\">\n",
       "  <thead>\n",
       "    <tr style=\"text-align: right;\">\n",
       "      <th></th>\n",
       "      <th>name</th>\n",
       "      <th>addr</th>\n",
       "      <th>city</th>\n",
       "      <th>type</th>\n",
       "      <th>lat</th>\n",
       "      <th>lng</th>\n",
       "    </tr>\n",
       "  </thead>\n",
       "  <tbody>\n",
       "    <tr>\n",
       "      <th>28</th>\n",
       "      <td>restaurant katsu</td>\n",
       "      <td>1972 n. hillhurst ave.</td>\n",
       "      <td>los angeles</td>\n",
       "      <td>asian</td>\n",
       "      <td>34.107405</td>\n",
       "      <td>-118.28719</td>\n",
       "    </tr>\n",
       "    <tr>\n",
       "      <th>29</th>\n",
       "      <td>katsu</td>\n",
       "      <td>1972 hillhurst ave.</td>\n",
       "      <td>los feliz</td>\n",
       "      <td>japanese</td>\n",
       "      <td>34.107405</td>\n",
       "      <td>-118.28719</td>\n",
       "    </tr>\n",
       "  </tbody>\n",
       "</table>\n",
       "</div>"
      ],
      "text/plain": [
       "                name                    addr         city      type  \\\n",
       "28  restaurant katsu  1972 n. hillhurst ave.  los angeles     asian   \n",
       "29             katsu     1972 hillhurst ave.    los feliz  japanese   \n",
       "\n",
       "          lat        lng  \n",
       "28  34.107405 -118.28719  \n",
       "29  34.107405 -118.28719  "
      ]
     },
     "metadata": {},
     "output_type": "display_data"
    },
    {
     "data": {
      "text/html": [
       "<div>\n",
       "<style scoped>\n",
       "    .dataframe tbody tr th:only-of-type {\n",
       "        vertical-align: middle;\n",
       "    }\n",
       "\n",
       "    .dataframe tbody tr th {\n",
       "        vertical-align: top;\n",
       "    }\n",
       "\n",
       "    .dataframe thead th {\n",
       "        text-align: right;\n",
       "    }\n",
       "</style>\n",
       "<table border=\"1\" class=\"dataframe\">\n",
       "  <thead>\n",
       "    <tr style=\"text-align: right;\">\n",
       "      <th></th>\n",
       "      <th>name</th>\n",
       "      <th>addr</th>\n",
       "      <th>city</th>\n",
       "      <th>type</th>\n",
       "      <th>lat</th>\n",
       "      <th>lng</th>\n",
       "    </tr>\n",
       "  </thead>\n",
       "  <tbody>\n",
       "    <tr>\n",
       "      <th>36</th>\n",
       "      <td>locanda veneta</td>\n",
       "      <td>8638 w 3rd</td>\n",
       "      <td>st los angeles</td>\n",
       "      <td>italian</td>\n",
       "      <td>34.073417</td>\n",
       "      <td>-118.381096</td>\n",
       "    </tr>\n",
       "    <tr>\n",
       "      <th>37</th>\n",
       "      <td>locanda</td>\n",
       "      <td>w. third st.</td>\n",
       "      <td>st los angeles</td>\n",
       "      <td>italian</td>\n",
       "      <td>34.068958</td>\n",
       "      <td>-118.320928</td>\n",
       "    </tr>\n",
       "  </tbody>\n",
       "</table>\n",
       "</div>"
      ],
      "text/plain": [
       "              name          addr            city     type        lat  \\\n",
       "36  locanda veneta    8638 w 3rd  st los angeles  italian  34.073417   \n",
       "37         locanda  w. third st.  st los angeles  italian  34.068958   \n",
       "\n",
       "           lng  \n",
       "36 -118.381096  \n",
       "37 -118.320928  "
      ]
     },
     "metadata": {},
     "output_type": "display_data"
    }
   ],
   "source": [
    "for svm_false_negative in list(svm_false_negatives)[:3]:\n",
    "    display(df.loc[list(svm_false_negative)][['name', 'addr', 'city', 'type', 'lat', 'lng']])"
   ]
  },
  {
   "cell_type": "markdown",
   "metadata": {
    "slideshow": {
     "slide_type": "slide"
    }
   },
   "source": [
    "There are [other classifiers](https://recordlinkage.readthedocs.io/en/stable/notebooks/classifiers.html) from recordlinkage library we could try, but the truth is:\n",
    "- It's **very difficult to build a good training set** that takes in account all important cases of matches/nonmatches\n",
    "- It's possible to tune classifier parameters to get better results, but it's very difficult to **decide the right parameters that will generalize well** for future predictions\n",
    "- And we're not even sure **if the indexing rules we used are really sane**: we can be dropping true positives that are not being blocked together, or even introducing false negatives that are being blocked together but our classifier isn't being able classify them as nonmatching"
   ]
  },
  {
   "cell_type": "markdown",
   "metadata": {
    "slideshow": {
     "slide_type": "slide"
    }
   },
   "source": [
    "The **alternative** to all that uncertainty is...\n",
    "\n",
    "### Active Learning Classification"
   ]
  },
  {
   "cell_type": "markdown",
   "metadata": {
    "slideshow": {
     "slide_type": "slide"
    }
   },
   "source": [
    "Active Learning methods identify **training examples** that \"lead to maximal accuracy improvements\" (Bilenko [3]), both to train **optimal classifier weights**, as well as to find **optimal indexing/blocking rules**! A Python library called [Dedupe](https://docs.dedupe.io/en/latest/index.html) implements that."
   ]
  },
  {
   "cell_type": "markdown",
   "metadata": {
    "slideshow": {
     "slide_type": "slide"
    }
   },
   "source": [
    "We'll see it in practice. First we define the fields/columns of our data:"
   ]
  },
  {
   "cell_type": "code",
   "execution_count": 46,
   "metadata": {
    "slideshow": {
     "slide_type": "skip"
    }
   },
   "outputs": [],
   "source": [
    "import logging; logging.disable(level=logging.NOTSET)"
   ]
  },
  {
   "cell_type": "code",
   "execution_count": 47,
   "metadata": {
    "slideshow": {
     "slide_type": "fragment"
    }
   },
   "outputs": [],
   "source": [
    "import dedupe\n",
    "\n",
    "fields = [\n",
    "    {\n",
    "        'field': 'name',\n",
    "        'variable name': 'name',\n",
    "        'type': 'ShortString',\n",
    "        'has missing': True\n",
    "    },\n",
    "    {\n",
    "        'field': 'addr',\n",
    "        'variable name': 'addr',\n",
    "        'type': 'ShortString',\n",
    "    },\n",
    "    {\n",
    "        'field': 'city',\n",
    "        'variable name': 'city',\n",
    "        'type': 'ShortString',\n",
    "        'has missing': True\n",
    "    },\n",
    "    {\n",
    "        'field': 'postal',\n",
    "        'variable name': 'postal',\n",
    "        'type': 'ShortString',\n",
    "        'has missing': True\n",
    "    },\n",
    "    {\n",
    "        'field': 'latlng',\n",
    "        'variable name': 'latlng',\n",
    "        'type': 'LatLong',\n",
    "        'has missing': True\n",
    "    },\n",
    "    {'type': 'Interaction', 'interaction variables': [\n",
    "        'addr',\n",
    "        'city',\n",
    "        'postal',\n",
    "        'latlng',\n",
    "    ]},\n",
    "]"
   ]
  },
  {
   "cell_type": "markdown",
   "metadata": {
    "slideshow": {
     "slide_type": "slide"
    }
   },
   "source": [
    "Now we **initialize** the Dedupe instance with the fields. We can also use a pre-saved pickled Dedupe instance:"
   ]
  },
  {
   "cell_type": "code",
   "execution_count": 48,
   "metadata": {
    "slideshow": {
     "slide_type": "fragment"
    }
   },
   "outputs": [
    {
     "name": "stderr",
     "output_type": "stream",
     "text": [
      "INFO:dedupe.api:((SimplePredicate: (firstIntegerPredicate, addr), SimplePredicate: (firstTokenPredicate, name)), SimplePredicate: (fingerprint, name))\n"
     ]
    }
   ],
   "source": [
    "settings_filename = 'dedupe-simple-settings.pickle'\n",
    "if os.path.exists(settings_filename):\n",
    "    with open(settings_filename, 'rb') as sf:\n",
    "        deduper = dedupe.StaticDedupe(sf, num_cores=4)\n",
    "else:\n",
    "    deduper = dedupe.Dedupe(fields, num_cores=4)"
   ]
  },
  {
   "cell_type": "markdown",
   "metadata": {
    "slideshow": {
     "slide_type": "skip"
    }
   },
   "source": [
    "We need to **adapt** the data a bit to the format Dedupe wants:"
   ]
  },
  {
   "cell_type": "code",
   "execution_count": 49,
   "metadata": {
    "slideshow": {
     "slide_type": "skip"
    }
   },
   "outputs": [],
   "source": [
    "data_for_dedupe = df.assign(cluster=df_with_truth['cluster']).to_dict('index')\n",
    "for record in data_for_dedupe.values():\n",
    "    # Change nans to None\n",
    "    for k, v in record.items():\n",
    "        if isinstance(v, float) and np.isnan(v):\n",
    "            record[k] = None\n",
    "    \n",
    "    # Move lat and lng to a single field latlng\n",
    "    lat = record.pop('lat')\n",
    "    lng = record.pop('lng')\n",
    "    if lat is not None and lng is not None:\n",
    "        record['latlng'] = (lat, lng)\n",
    "    else:\n",
    "        record['latlng'] = None"
   ]
  },
  {
   "cell_type": "markdown",
   "metadata": {
    "slideshow": {
     "slide_type": "slide"
    }
   },
   "source": [
    "Here we're using a Dedupe instance that we trained before. Let's check how was the **training input/output**:"
   ]
  },
  {
   "cell_type": "code",
   "execution_count": 50,
   "metadata": {
    "slideshow": {
     "slide_type": "fragment"
    }
   },
   "outputs": [
    {
     "name": "stdout",
     "output_type": "stream",
     "text": [
      "distinct\n",
      "name : cite\n",
      "addr : 120 w. 51st st.\n",
      "city : new york\n",
      "postal : 10019\n",
      "latlng : (40.7607952, -73.9812268)\n",
      "\n",
      "name : ruth s chris\n",
      "addr : 148 w. 51st st.\n",
      "city : new york\n",
      "postal : 10019\n",
      "latlng : (40.7613323, -73.9821595)\n",
      "\n",
      "0 0\n",
      "\n",
      "distinct\n",
      "name : rainbow room\n",
      "addr : 30 rockefeller plaza\n",
      "city : new york\n",
      "postal : 10111\n",
      "latlng : (40.7593755, -73.9799726)\n",
      "\n",
      "name : zankou chicken\n",
      "addr : 1415 e. colorado st.\n",
      "city : glendale\n",
      "postal : 91205\n",
      "latlng : (34.1432176, -118.2333374)\n",
      "\n",
      "0 1\n",
      "\n",
      "INFO:dedupe.training:Final predicate set:\n",
      "INFO:dedupe.training:(SimplePredicate: (commonThreeTokens, name), SimplePredicate: (commonTwoTokens, city))\n",
      "match\n",
      "name : tavern on the green\n",
      "addr : in central park at 67th st.\n",
      "city : new york\n",
      "postal : 10023\n",
      "latlng : (40.7730403, -73.97829449999999)\n",
      "\n",
      "name : tavern on the green\n",
      "addr : central park west\n",
      "city : new york city\n",
      "postal : None\n",
      "latlng : (40.7848582, -73.9696519)\n",
      "\n",
      "0 2\n",
      "\n",
      "distinct\n",
      "name : pacific dining car\n",
      "addr : 6th st.\n",
      "city : los angeles\n",
      "postal : None\n",
      "latlng : (34.0635229, -118.3109795)\n",
      "\n",
      "name : morton s\n",
      "addr : 551 5th ave. at 45th st.\n",
      "city : new york\n",
      "postal : 10176\n",
      "latlng : (40.7553825, -73.9788937)\n",
      "\n",
      "1 2\n",
      "\n",
      "INFO:dedupe.training:Final predicate set:\n",
      "INFO:dedupe.training:(SimplePredicate: (commonThreeTokens, name), SimplePredicate: (commonTwoTokens, city))\n",
      "INFO:dedupe.training:(SimplePredicate: (sameSevenCharStartPredicate, name), SimplePredicate: (wholeFieldPredicate, city))\n",
      "match\n",
      "name : arnie morton s of chicago\n",
      "addr : 435 s. la cienega blv.\n",
      "city : los angeles\n",
      "postal : 90048\n",
      "latlng : (34.070609, -118.376722)\n",
      "\n",
      "name : arnie morton\n",
      "addr : 435 s. la cienega boulevard\n",
      "city : los angeles\n",
      "postal : 90048\n",
      "latlng : (34.070609, -118.376722)\n",
      "\n",
      "1 3\n",
      "\n",
      "distinct\n",
      "name : new york kom tang soot bul house\n",
      "addr : 32 w. 32nd st.\n",
      "city : new york\n",
      "postal : 10001\n",
      "latlng : (40.7484525, -73.98857129999999)\n",
      "\n",
      "name : west\n",
      "addr : 63rd street steakhouse 44 w. 63rd st.\n",
      "city : new york\n",
      "postal : 10023\n",
      "latlng : (40.7715018, -73.98286329999999)\n",
      "\n",
      "2 3\n",
      "\n",
      "distinct\n",
      "name : remi\n",
      "addr : 3rd st. promenade\n",
      "city : santa monica\n",
      "postal : 90401\n",
      "latlng : (34.0161023, -118.4965398)\n",
      "\n",
      "name : benita s frites\n",
      "addr : 1433 third st. promenade\n",
      "city : santa monica\n",
      "postal : 90401\n",
      "latlng : (34.0152381, -118.4955253)\n",
      "\n",
      "2 4\n",
      "\n",
      "INFO:dedupe.training:Final predicate set:\n",
      "INFO:dedupe.training:(SimplePredicate: (sameSevenCharStartPredicate, name), TfidfNGramCanopyPredicate: (0.2, addr))\n",
      "...\n"
     ]
    }
   ],
   "source": [
    "training_input_output = 'training-simple-input-output.txt'\n",
    "if os.path.exists(training_input_output):\n",
    "    with open(training_input_output) as t:\n",
    "        txt = t.read()\n",
    "        print('\\n'.join(txt.split('\\n')[:112]))\n",
    "print('...')"
   ]
  },
  {
   "cell_type": "markdown",
   "metadata": {
    "slideshow": {
     "slide_type": "skip"
    }
   },
   "source": [
    "You can check the full training at `training-simple-input-output.txt`.\n",
    "\n",
    "If you want to train it yourself, do a `rm dedupe-simple-settings.pickle dedupe-simple-training.json` and run this whole Active Learning session again."
   ]
  },
  {
   "cell_type": "code",
   "execution_count": 51,
   "metadata": {
    "slideshow": {
     "slide_type": "skip"
    }
   },
   "outputs": [],
   "source": [
    "from dedupe.convenience import unique\n",
    "\n",
    "def auto_label(deduper):\n",
    "    fields = unique(field.field\n",
    "                    for field\n",
    "                    in deduper.data_model.primary_fields)\n",
    "    n_match = 0\n",
    "    n_distinct = 0\n",
    "    examples_buffer = []\n",
    "    \n",
    "    while n_match < 20 or n_distinct < 20:\n",
    "        n_match = (len(deduper.training_pairs['match']) +\n",
    "                   sum(label == 'match' for _, label in examples_buffer))\n",
    "        n_distinct = (len(deduper.training_pairs['distinct']) +\n",
    "                      sum(label == 'distinct' for _, label in examples_buffer))\n",
    "    \n",
    "        uncertain_pairs = deduper.uncertainPairs()\n",
    "        record_pair = uncertain_pairs.pop()\n",
    "\n",
    "        if record_pair[0]['cluster'] == record_pair[1]['cluster']:\n",
    "            examples_buffer.insert(0, (record_pair, 'match'))\n",
    "        else:\n",
    "            examples_buffer.insert(0, (record_pair, 'distinct'))\n",
    "\n",
    "        record_pair, label = examples_buffer.pop()\n",
    "        if label in ['distinct', 'match']:\n",
    "            examples = {'distinct': [], 'match': []}\n",
    "            examples[label].append(record_pair)\n",
    "            deduper.markPairs(examples)\n",
    "        \n",
    "        print(label)\n",
    "        for pair in record_pair:\n",
    "            for field in fields:\n",
    "                line = \"%s : %s\" % (field, pair[field])\n",
    "                print(line)\n",
    "            print()\n",
    "        print(n_match, n_distinct)\n",
    "        print()\n",
    "    \n",
    "    for record_pair, label in examples_buffer:\n",
    "        if label in ['distinct', 'match']:\n",
    "            examples = {'distinct': [], 'match': []}\n",
    "            examples[label].append(record_pair)\n",
    "            deduper.markPairs(examples)"
   ]
  },
  {
   "cell_type": "code",
   "execution_count": 52,
   "metadata": {
    "scrolled": false,
    "slideshow": {
     "slide_type": "skip"
    }
   },
   "outputs": [],
   "source": [
    "if not isinstance(deduper, dedupe.StaticDedupe):\n",
    "    deduper.sample(data_for_dedupe)\n",
    "    \n",
    "    training_filename = 'dedupe-simple-training.json'\n",
    "    if os.path.exists(training_filename):\n",
    "        with open(training_filename) as tf:\n",
    "            deduper.readTraining(tf)\n",
    "\n",
    "    # dedupe.consoleLabel(deduper)\n",
    "    auto_label(deduper)\n",
    "    \n",
    "    with open(training_filename, 'w') as tf:\n",
    "        deduper.writeTraining(tf)\n",
    "    \n",
    "    deduper.train(index_predicates=False)\n",
    "    \n",
    "    with open(settings_filename, 'wb') as sf:\n",
    "        deduper.writeSettings(sf)"
   ]
  },
  {
   "cell_type": "markdown",
   "metadata": {
    "slideshow": {
     "slide_type": "slide"
    }
   },
   "source": [
    "After training, we can see which **blocking predicates** (indexing rules) the deduper learned from our training input. It's good to do that to check if we trained enough:"
   ]
  },
  {
   "cell_type": "code",
   "execution_count": 53,
   "metadata": {
    "slideshow": {
     "slide_type": "fragment"
    }
   },
   "outputs": [
    {
     "data": {
      "text/plain": [
       "((SimplePredicate: (firstIntegerPredicate, addr),\n",
       "  SimplePredicate: (firstTokenPredicate, name)),\n",
       " SimplePredicate: (fingerprint, name))"
      ]
     },
     "execution_count": 53,
     "metadata": {},
     "output_type": "execute_result"
    }
   ],
   "source": [
    "deduper.predicates"
   ]
  },
  {
   "cell_type": "markdown",
   "metadata": {
    "slideshow": {
     "slide_type": "fragment"
    }
   },
   "source": [
    "Those predicates **make sense**:\n",
    "- Pairs where the first token of the name is the same AND the addr is similar\n",
    "- ... union with ...\n",
    "- Pairs where the name shares two tokens AND the fingerprint of the name is the same (fingerprint means the sorted tokens)"
   ]
  },
  {
   "cell_type": "markdown",
   "metadata": {
    "slideshow": {
     "slide_type": "slide"
    }
   },
   "source": [
    "The deduper selected those predicates from this extense list of **possible predicates**:"
   ]
  },
  {
   "cell_type": "code",
   "execution_count": 54,
   "metadata": {
    "slideshow": {
     "slide_type": "fragment"
    }
   },
   "outputs": [
    {
     "data": {
      "text/plain": [
       "{ExistsPredicate: (Exists, city),\n",
       " ExistsPredicate: (Exists, latlng),\n",
       " ExistsPredicate: (Exists, name),\n",
       " ExistsPredicate: (Exists, postal),\n",
       " LevenshteinCanopyPredicate: (1, addr),\n",
       " LevenshteinCanopyPredicate: (1, city),\n",
       " LevenshteinCanopyPredicate: (1, name),\n",
       " LevenshteinCanopyPredicate: (1, postal),\n",
       " LevenshteinCanopyPredicate: (2, addr),\n",
       " LevenshteinCanopyPredicate: (2, city),\n",
       " LevenshteinCanopyPredicate: (2, name),\n",
       " LevenshteinCanopyPredicate: (2, postal),\n",
       " LevenshteinCanopyPredicate: (3, addr),\n",
       " LevenshteinCanopyPredicate: (3, city),\n",
       " LevenshteinCanopyPredicate: (3, name),\n",
       " LevenshteinCanopyPredicate: (3, postal),\n",
       " LevenshteinCanopyPredicate: (4, addr),\n",
       " LevenshteinCanopyPredicate: (4, city),\n",
       " LevenshteinCanopyPredicate: (4, name),\n",
       " LevenshteinCanopyPredicate: (4, postal),\n",
       " SimplePredicate: (alphaNumericPredicate, addr),\n",
       " SimplePredicate: (alphaNumericPredicate, city),\n",
       " SimplePredicate: (alphaNumericPredicate, name),\n",
       " SimplePredicate: (alphaNumericPredicate, postal),\n",
       " SimplePredicate: (commonFourGram, addr),\n",
       " SimplePredicate: (commonFourGram, city),\n",
       " SimplePredicate: (commonFourGram, name),\n",
       " SimplePredicate: (commonFourGram, postal),\n",
       " SimplePredicate: (commonIntegerPredicate, addr),\n",
       " SimplePredicate: (commonIntegerPredicate, city),\n",
       " SimplePredicate: (commonIntegerPredicate, name),\n",
       " SimplePredicate: (commonIntegerPredicate, postal),\n",
       " SimplePredicate: (commonSixGram, addr),\n",
       " SimplePredicate: (commonSixGram, city),\n",
       " SimplePredicate: (commonSixGram, name),\n",
       " SimplePredicate: (commonSixGram, postal),\n",
       " SimplePredicate: (commonThreeTokens, addr),\n",
       " SimplePredicate: (commonThreeTokens, city),\n",
       " SimplePredicate: (commonThreeTokens, name),\n",
       " SimplePredicate: (commonThreeTokens, postal),\n",
       " SimplePredicate: (commonTwoTokens, addr),\n",
       " SimplePredicate: (commonTwoTokens, city),\n",
       " SimplePredicate: (commonTwoTokens, name),\n",
       " SimplePredicate: (commonTwoTokens, postal),\n",
       " SimplePredicate: (doubleMetaphone, addr),\n",
       " SimplePredicate: (doubleMetaphone, city),\n",
       " SimplePredicate: (doubleMetaphone, name),\n",
       " SimplePredicate: (doubleMetaphone, postal),\n",
       " SimplePredicate: (fingerprint, addr),\n",
       " SimplePredicate: (fingerprint, city),\n",
       " SimplePredicate: (fingerprint, name),\n",
       " SimplePredicate: (fingerprint, postal),\n",
       " SimplePredicate: (firstIntegerPredicate, addr),\n",
       " SimplePredicate: (firstIntegerPredicate, city),\n",
       " SimplePredicate: (firstIntegerPredicate, name),\n",
       " SimplePredicate: (firstIntegerPredicate, postal),\n",
       " SimplePredicate: (firstTokenPredicate, addr),\n",
       " SimplePredicate: (firstTokenPredicate, city),\n",
       " SimplePredicate: (firstTokenPredicate, name),\n",
       " SimplePredicate: (firstTokenPredicate, postal),\n",
       " SimplePredicate: (hundredIntegerPredicate, addr),\n",
       " SimplePredicate: (hundredIntegerPredicate, city),\n",
       " SimplePredicate: (hundredIntegerPredicate, name),\n",
       " SimplePredicate: (hundredIntegerPredicate, postal),\n",
       " SimplePredicate: (hundredIntegersOddPredicate, addr),\n",
       " SimplePredicate: (hundredIntegersOddPredicate, city),\n",
       " SimplePredicate: (hundredIntegersOddPredicate, name),\n",
       " SimplePredicate: (hundredIntegersOddPredicate, postal),\n",
       " SimplePredicate: (latLongGridPredicate, latlng),\n",
       " SimplePredicate: (metaphoneToken, addr),\n",
       " SimplePredicate: (metaphoneToken, city),\n",
       " SimplePredicate: (metaphoneToken, name),\n",
       " SimplePredicate: (metaphoneToken, postal),\n",
       " SimplePredicate: (nearIntegersPredicate, addr),\n",
       " SimplePredicate: (nearIntegersPredicate, city),\n",
       " SimplePredicate: (nearIntegersPredicate, name),\n",
       " SimplePredicate: (nearIntegersPredicate, postal),\n",
       " SimplePredicate: (oneGramFingerprint, addr),\n",
       " SimplePredicate: (oneGramFingerprint, city),\n",
       " SimplePredicate: (oneGramFingerprint, name),\n",
       " SimplePredicate: (oneGramFingerprint, postal),\n",
       " SimplePredicate: (sameFiveCharStartPredicate, addr),\n",
       " SimplePredicate: (sameFiveCharStartPredicate, city),\n",
       " SimplePredicate: (sameFiveCharStartPredicate, name),\n",
       " SimplePredicate: (sameFiveCharStartPredicate, postal),\n",
       " SimplePredicate: (sameSevenCharStartPredicate, addr),\n",
       " SimplePredicate: (sameSevenCharStartPredicate, city),\n",
       " SimplePredicate: (sameSevenCharStartPredicate, name),\n",
       " SimplePredicate: (sameSevenCharStartPredicate, postal),\n",
       " SimplePredicate: (sameThreeCharStartPredicate, addr),\n",
       " SimplePredicate: (sameThreeCharStartPredicate, city),\n",
       " SimplePredicate: (sameThreeCharStartPredicate, name),\n",
       " SimplePredicate: (sameThreeCharStartPredicate, postal),\n",
       " SimplePredicate: (sortedAcronym, addr),\n",
       " SimplePredicate: (sortedAcronym, city),\n",
       " SimplePredicate: (sortedAcronym, name),\n",
       " SimplePredicate: (sortedAcronym, postal),\n",
       " SimplePredicate: (suffixArray, addr),\n",
       " SimplePredicate: (suffixArray, city),\n",
       " SimplePredicate: (suffixArray, name),\n",
       " SimplePredicate: (suffixArray, postal),\n",
       " SimplePredicate: (tokenFieldPredicate, addr),\n",
       " SimplePredicate: (tokenFieldPredicate, city),\n",
       " SimplePredicate: (tokenFieldPredicate, name),\n",
       " SimplePredicate: (tokenFieldPredicate, postal),\n",
       " SimplePredicate: (twoGramFingerprint, addr),\n",
       " SimplePredicate: (twoGramFingerprint, city),\n",
       " SimplePredicate: (twoGramFingerprint, name),\n",
       " SimplePredicate: (twoGramFingerprint, postal),\n",
       " SimplePredicate: (wholeFieldPredicate, addr),\n",
       " SimplePredicate: (wholeFieldPredicate, city),\n",
       " SimplePredicate: (wholeFieldPredicate, name),\n",
       " SimplePredicate: (wholeFieldPredicate, postal),\n",
       " TfidfNGramCanopyPredicate: (0.2, addr),\n",
       " TfidfNGramCanopyPredicate: (0.2, city),\n",
       " TfidfNGramCanopyPredicate: (0.2, name),\n",
       " TfidfNGramCanopyPredicate: (0.2, postal),\n",
       " TfidfNGramCanopyPredicate: (0.4, addr),\n",
       " TfidfNGramCanopyPredicate: (0.4, city),\n",
       " TfidfNGramCanopyPredicate: (0.4, name),\n",
       " TfidfNGramCanopyPredicate: (0.4, postal),\n",
       " TfidfNGramCanopyPredicate: (0.6, addr),\n",
       " TfidfNGramCanopyPredicate: (0.6, city),\n",
       " TfidfNGramCanopyPredicate: (0.6, name),\n",
       " TfidfNGramCanopyPredicate: (0.6, postal),\n",
       " TfidfNGramCanopyPredicate: (0.8, addr),\n",
       " TfidfNGramCanopyPredicate: (0.8, city),\n",
       " TfidfNGramCanopyPredicate: (0.8, name),\n",
       " TfidfNGramCanopyPredicate: (0.8, postal)}"
      ]
     },
     "execution_count": 54,
     "metadata": {},
     "output_type": "execute_result"
    }
   ],
   "source": [
    "deduper.data_model.predicates()"
   ]
  },
  {
   "cell_type": "markdown",
   "metadata": {
    "slideshow": {
     "slide_type": "slide"
    }
   },
   "source": [
    "To proceed with the deduplication, we compute the **clustering threshold** and call the actual **match**:"
   ]
  },
  {
   "cell_type": "code",
   "execution_count": 77,
   "metadata": {
    "slideshow": {
     "slide_type": "fragment"
    }
   },
   "outputs": [
    {
     "name": "stderr",
     "output_type": "stream",
     "text": [
      "INFO:dedupe.api:Maximum expected recall and precision\n",
      "INFO:dedupe.api:recall: 0.995\n",
      "INFO:dedupe.api:precision: 0.940\n",
      "INFO:dedupe.api:With threshold: 0.405\n"
     ]
    }
   ],
   "source": [
    "import itertools\n",
    "\n",
    "threshold = deduper.threshold(data_for_dedupe, recall_weight=1.5)\n",
    "clustered_dupes = deduper.match(data_for_dedupe, threshold)\n",
    "\n",
    "dedupe_found_pairs_set = set()\n",
    "for cluster, __ in clustered_dupes:  # we'll explain that later\n",
    "    for pair in itertools.combinations(cluster, 2):\n",
    "        dedupe_found_pairs_set.add(tuple(pair))"
   ]
  },
  {
   "cell_type": "markdown",
   "metadata": {
    "slideshow": {
     "slide_type": "slide"
    }
   },
   "source": [
    "Now we'll **evaluate** how it performed:"
   ]
  },
  {
   "cell_type": "code",
   "execution_count": 78,
   "metadata": {
    "scrolled": true,
    "slideshow": {
     "slide_type": "fragment"
    }
   },
   "outputs": [
    {
     "name": "stdout",
     "output_type": "stream",
     "text": [
      "true_positives total: 118\n",
      "false_positives total: 3\n",
      "false_negatives total: 32\n",
      "\n",
      "svm_true_positives total: 127\n",
      "svm_false_positives total: 5\n",
      "svm_false_negatives total: 23\n",
      "\n",
      "dedupe_true_positives total: 137\n",
      "dedupe_false_positives total: 9\n",
      "dedupe_false_negatives total: 13\n"
     ]
    }
   ],
   "source": [
    "dedupe_true_positives = golden_pairs_set & dedupe_found_pairs_set\n",
    "dedupe_false_positives = dedupe_found_pairs_set - golden_pairs_set\n",
    "dedupe_false_negatives = golden_pairs_set - dedupe_found_pairs_set\n",
    "\n",
    "print('true_positives total:', len(true_positives))\n",
    "print('false_positives total:', len(false_positives))\n",
    "print('false_negatives total:', len(false_negatives))\n",
    "print()\n",
    "print('svm_true_positives total:', len(svm_true_positives))\n",
    "print('svm_false_positives total:', len(svm_false_positives))\n",
    "print('svm_false_negatives total:', len(svm_false_negatives))\n",
    "print()\n",
    "print('dedupe_true_positives total:', len(dedupe_true_positives))\n",
    "print('dedupe_false_positives total:', len(dedupe_false_positives))\n",
    "print('dedupe_false_negatives total:', len(dedupe_false_negatives))"
   ]
  },
  {
   "cell_type": "markdown",
   "metadata": {
    "slideshow": {
     "slide_type": "slide"
    }
   },
   "source": [
    "But let's suppose we want to find more true positives and use the previous `dedupe_found_pairs_set`. What **false positives** it found?"
   ]
  },
  {
   "cell_type": "code",
   "execution_count": 79,
   "metadata": {
    "scrolled": true,
    "slideshow": {
     "slide_type": "fragment"
    }
   },
   "outputs": [
    {
     "name": "stdout",
     "output_type": "stream",
     "text": [
      "Dedupe false positives\n"
     ]
    },
    {
     "data": {
      "text/html": [
       "<div>\n",
       "<style scoped>\n",
       "    .dataframe tbody tr th:only-of-type {\n",
       "        vertical-align: middle;\n",
       "    }\n",
       "\n",
       "    .dataframe tbody tr th {\n",
       "        vertical-align: top;\n",
       "    }\n",
       "\n",
       "    .dataframe thead th {\n",
       "        text-align: right;\n",
       "    }\n",
       "</style>\n",
       "<table border=\"1\" class=\"dataframe\">\n",
       "  <thead>\n",
       "    <tr style=\"text-align: right;\">\n",
       "      <th></th>\n",
       "      <th>name</th>\n",
       "      <th>addr</th>\n",
       "      <th>city</th>\n",
       "      <th>type</th>\n",
       "      <th>lat</th>\n",
       "      <th>lng</th>\n",
       "    </tr>\n",
       "  </thead>\n",
       "  <tbody>\n",
       "    <tr>\n",
       "      <th>196</th>\n",
       "      <td>ritz carlton cafe buckhead</td>\n",
       "      <td>3434 peachtree rd. ne</td>\n",
       "      <td>atlanta</td>\n",
       "      <td>american (new)</td>\n",
       "      <td>33.850807</td>\n",
       "      <td>-84.364227</td>\n",
       "    </tr>\n",
       "    <tr>\n",
       "      <th>198</th>\n",
       "      <td>ritz carlton dining room buckhead</td>\n",
       "      <td>3434 peachtree rd. ne</td>\n",
       "      <td>atlanta</td>\n",
       "      <td>american (new)</td>\n",
       "      <td>33.850807</td>\n",
       "      <td>-84.364227</td>\n",
       "    </tr>\n",
       "  </tbody>\n",
       "</table>\n",
       "</div>"
      ],
      "text/plain": [
       "                                   name                   addr     city  \\\n",
       "196         ritz carlton cafe buckhead   3434 peachtree rd. ne  atlanta   \n",
       "198  ritz carlton dining room buckhead   3434 peachtree rd. ne  atlanta   \n",
       "\n",
       "               type        lat        lng  \n",
       "196  american (new)  33.850807 -84.364227  \n",
       "198  american (new)  33.850807 -84.364227  "
      ]
     },
     "metadata": {},
     "output_type": "display_data"
    },
    {
     "data": {
      "text/html": [
       "<div>\n",
       "<style scoped>\n",
       "    .dataframe tbody tr th:only-of-type {\n",
       "        vertical-align: middle;\n",
       "    }\n",
       "\n",
       "    .dataframe tbody tr th {\n",
       "        vertical-align: top;\n",
       "    }\n",
       "\n",
       "    .dataframe thead th {\n",
       "        text-align: right;\n",
       "    }\n",
       "</style>\n",
       "<table border=\"1\" class=\"dataframe\">\n",
       "  <thead>\n",
       "    <tr style=\"text-align: right;\">\n",
       "      <th></th>\n",
       "      <th>name</th>\n",
       "      <th>addr</th>\n",
       "      <th>city</th>\n",
       "      <th>type</th>\n",
       "      <th>lat</th>\n",
       "      <th>lng</th>\n",
       "    </tr>\n",
       "  </thead>\n",
       "  <tbody>\n",
       "    <tr>\n",
       "      <th>288</th>\n",
       "      <td>remi</td>\n",
       "      <td>3rd st. promenade</td>\n",
       "      <td>santa monica</td>\n",
       "      <td>italian</td>\n",
       "      <td>34.016102</td>\n",
       "      <td>-118.496540</td>\n",
       "    </tr>\n",
       "    <tr>\n",
       "      <th>463</th>\n",
       "      <td>remi</td>\n",
       "      <td>145 w. 53rd st.</td>\n",
       "      <td>new york</td>\n",
       "      <td>italian</td>\n",
       "      <td>40.762241</td>\n",
       "      <td>-73.979869</td>\n",
       "    </tr>\n",
       "  </tbody>\n",
       "</table>\n",
       "</div>"
      ],
      "text/plain": [
       "     name               addr          city     type        lat         lng\n",
       "288  remi  3rd st. promenade  santa monica  italian  34.016102 -118.496540\n",
       "463  remi    145 w. 53rd st.      new york  italian  40.762241  -73.979869"
      ]
     },
     "metadata": {},
     "output_type": "display_data"
    },
    {
     "data": {
      "text/html": [
       "<div>\n",
       "<style scoped>\n",
       "    .dataframe tbody tr th:only-of-type {\n",
       "        vertical-align: middle;\n",
       "    }\n",
       "\n",
       "    .dataframe tbody tr th {\n",
       "        vertical-align: top;\n",
       "    }\n",
       "\n",
       "    .dataframe thead th {\n",
       "        text-align: right;\n",
       "    }\n",
       "</style>\n",
       "<table border=\"1\" class=\"dataframe\">\n",
       "  <thead>\n",
       "    <tr style=\"text-align: right;\">\n",
       "      <th></th>\n",
       "      <th>name</th>\n",
       "      <th>addr</th>\n",
       "      <th>city</th>\n",
       "      <th>type</th>\n",
       "      <th>lat</th>\n",
       "      <th>lng</th>\n",
       "    </tr>\n",
       "  </thead>\n",
       "  <tbody>\n",
       "    <tr>\n",
       "      <th>277</th>\n",
       "      <td>morton s</td>\n",
       "      <td>8764 melrose ave.</td>\n",
       "      <td>los angeles</td>\n",
       "      <td>american</td>\n",
       "      <td>34.080575</td>\n",
       "      <td>-118.384964</td>\n",
       "    </tr>\n",
       "    <tr>\n",
       "      <th>439</th>\n",
       "      <td>morton s</td>\n",
       "      <td>551 5th ave. at 45th st.</td>\n",
       "      <td>new york</td>\n",
       "      <td>american</td>\n",
       "      <td>40.755383</td>\n",
       "      <td>-73.978894</td>\n",
       "    </tr>\n",
       "  </tbody>\n",
       "</table>\n",
       "</div>"
      ],
      "text/plain": [
       "         name                      addr         city      type        lat  \\\n",
       "277  morton s         8764 melrose ave.  los angeles  american  34.080575   \n",
       "439  morton s  551 5th ave. at 45th st.     new york  american  40.755383   \n",
       "\n",
       "            lng  \n",
       "277 -118.384964  \n",
       "439  -73.978894  "
      ]
     },
     "metadata": {},
     "output_type": "display_data"
    },
    {
     "data": {
      "text/html": [
       "<div>\n",
       "<style scoped>\n",
       "    .dataframe tbody tr th:only-of-type {\n",
       "        vertical-align: middle;\n",
       "    }\n",
       "\n",
       "    .dataframe tbody tr th {\n",
       "        vertical-align: top;\n",
       "    }\n",
       "\n",
       "    .dataframe thead th {\n",
       "        text-align: right;\n",
       "    }\n",
       "</style>\n",
       "<table border=\"1\" class=\"dataframe\">\n",
       "  <thead>\n",
       "    <tr style=\"text-align: right;\">\n",
       "      <th></th>\n",
       "      <th>name</th>\n",
       "      <th>addr</th>\n",
       "      <th>city</th>\n",
       "      <th>type</th>\n",
       "      <th>lat</th>\n",
       "      <th>lng</th>\n",
       "    </tr>\n",
       "  </thead>\n",
       "  <tbody>\n",
       "    <tr>\n",
       "      <th>266</th>\n",
       "      <td>hard rock cafe</td>\n",
       "      <td>8600 beverly blvd.</td>\n",
       "      <td>los angeles</td>\n",
       "      <td>american</td>\n",
       "      <td>34.075925</td>\n",
       "      <td>-118.378843</td>\n",
       "    </tr>\n",
       "    <tr>\n",
       "      <th>390</th>\n",
       "      <td>hard rock cafe</td>\n",
       "      <td>221 w. 57th st.</td>\n",
       "      <td>new york</td>\n",
       "      <td>american</td>\n",
       "      <td>40.766145</td>\n",
       "      <td>-73.981016</td>\n",
       "    </tr>\n",
       "  </tbody>\n",
       "</table>\n",
       "</div>"
      ],
      "text/plain": [
       "               name                addr         city      type        lat  \\\n",
       "266  hard rock cafe  8600 beverly blvd.  los angeles  american  34.075925   \n",
       "390  hard rock cafe     221 w. 57th st.     new york  american  40.766145   \n",
       "\n",
       "            lng  \n",
       "266 -118.378843  \n",
       "390  -73.981016  "
      ]
     },
     "metadata": {},
     "output_type": "display_data"
    },
    {
     "data": {
      "text/html": [
       "<div>\n",
       "<style scoped>\n",
       "    .dataframe tbody tr th:only-of-type {\n",
       "        vertical-align: middle;\n",
       "    }\n",
       "\n",
       "    .dataframe tbody tr th {\n",
       "        vertical-align: top;\n",
       "    }\n",
       "\n",
       "    .dataframe thead th {\n",
       "        text-align: right;\n",
       "    }\n",
       "</style>\n",
       "<table border=\"1\" class=\"dataframe\">\n",
       "  <thead>\n",
       "    <tr style=\"text-align: right;\">\n",
       "      <th></th>\n",
       "      <th>name</th>\n",
       "      <th>addr</th>\n",
       "      <th>city</th>\n",
       "      <th>type</th>\n",
       "      <th>lat</th>\n",
       "      <th>lng</th>\n",
       "    </tr>\n",
       "  </thead>\n",
       "  <tbody>\n",
       "    <tr>\n",
       "      <th>487</th>\n",
       "      <td>teresa s</td>\n",
       "      <td>103 1st ave.  between 6th and 7th sts.</td>\n",
       "      <td>new york</td>\n",
       "      <td>east european</td>\n",
       "      <td>40.726701</td>\n",
       "      <td>-73.986240</td>\n",
       "    </tr>\n",
       "    <tr>\n",
       "      <th>775</th>\n",
       "      <td>teresa s</td>\n",
       "      <td>80 montague st.</td>\n",
       "      <td>queens</td>\n",
       "      <td>polish</td>\n",
       "      <td>40.695175</td>\n",
       "      <td>-73.996248</td>\n",
       "    </tr>\n",
       "  </tbody>\n",
       "</table>\n",
       "</div>"
      ],
      "text/plain": [
       "         name                                    addr      city  \\\n",
       "487  teresa s  103 1st ave.  between 6th and 7th sts.  new york   \n",
       "775  teresa s                         80 montague st.    queens   \n",
       "\n",
       "              type        lat        lng  \n",
       "487  east european  40.726701 -73.986240  \n",
       "775         polish  40.695175 -73.996248  "
      ]
     },
     "metadata": {},
     "output_type": "display_data"
    },
    {
     "data": {
      "text/html": [
       "<div>\n",
       "<style scoped>\n",
       "    .dataframe tbody tr th:only-of-type {\n",
       "        vertical-align: middle;\n",
       "    }\n",
       "\n",
       "    .dataframe tbody tr th {\n",
       "        vertical-align: top;\n",
       "    }\n",
       "\n",
       "    .dataframe thead th {\n",
       "        text-align: right;\n",
       "    }\n",
       "</style>\n",
       "<table border=\"1\" class=\"dataframe\">\n",
       "  <thead>\n",
       "    <tr style=\"text-align: right;\">\n",
       "      <th></th>\n",
       "      <th>name</th>\n",
       "      <th>addr</th>\n",
       "      <th>city</th>\n",
       "      <th>type</th>\n",
       "      <th>lat</th>\n",
       "      <th>lng</th>\n",
       "    </tr>\n",
       "  </thead>\n",
       "  <tbody>\n",
       "    <tr>\n",
       "      <th>273</th>\n",
       "      <td>le colonial</td>\n",
       "      <td>8783 beverly blvd.</td>\n",
       "      <td>los angeles</td>\n",
       "      <td>asian</td>\n",
       "      <td>34.077366</td>\n",
       "      <td>-118.383357</td>\n",
       "    </tr>\n",
       "    <tr>\n",
       "      <th>415</th>\n",
       "      <td>le colonial</td>\n",
       "      <td>149 e. 57th st.</td>\n",
       "      <td>new york</td>\n",
       "      <td>asian</td>\n",
       "      <td>40.760857</td>\n",
       "      <td>-73.968349</td>\n",
       "    </tr>\n",
       "  </tbody>\n",
       "</table>\n",
       "</div>"
      ],
      "text/plain": [
       "            name                addr         city   type        lat  \\\n",
       "273  le colonial  8783 beverly blvd.  los angeles  asian  34.077366   \n",
       "415  le colonial     149 e. 57th st.     new york  asian  40.760857   \n",
       "\n",
       "            lng  \n",
       "273 -118.383357  \n",
       "415  -73.968349  "
      ]
     },
     "metadata": {},
     "output_type": "display_data"
    },
    {
     "data": {
      "text/html": [
       "<div>\n",
       "<style scoped>\n",
       "    .dataframe tbody tr th:only-of-type {\n",
       "        vertical-align: middle;\n",
       "    }\n",
       "\n",
       "    .dataframe tbody tr th {\n",
       "        vertical-align: top;\n",
       "    }\n",
       "\n",
       "    .dataframe thead th {\n",
       "        text-align: right;\n",
       "    }\n",
       "</style>\n",
       "<table border=\"1\" class=\"dataframe\">\n",
       "  <thead>\n",
       "    <tr style=\"text-align: right;\">\n",
       "      <th></th>\n",
       "      <th>name</th>\n",
       "      <th>addr</th>\n",
       "      <th>city</th>\n",
       "      <th>type</th>\n",
       "      <th>lat</th>\n",
       "      <th>lng</th>\n",
       "    </tr>\n",
       "  </thead>\n",
       "  <tbody>\n",
       "    <tr>\n",
       "      <th>514</th>\n",
       "      <td>bertolini s</td>\n",
       "      <td>3500 peachtree rd.  phipps plaza</td>\n",
       "      <td>atlanta</td>\n",
       "      <td>italian</td>\n",
       "      <td>33.852544</td>\n",
       "      <td>-84.361986</td>\n",
       "    </tr>\n",
       "    <tr>\n",
       "      <th>556</th>\n",
       "      <td>bertolini s</td>\n",
       "      <td>3570 las vegas blvd. s</td>\n",
       "      <td>las vegas</td>\n",
       "      <td>italian</td>\n",
       "      <td>36.116156</td>\n",
       "      <td>-115.175058</td>\n",
       "    </tr>\n",
       "  </tbody>\n",
       "</table>\n",
       "</div>"
      ],
      "text/plain": [
       "            name                              addr       city     type  \\\n",
       "514  bertolini s  3500 peachtree rd.  phipps plaza    atlanta  italian   \n",
       "556  bertolini s            3570 las vegas blvd. s  las vegas  italian   \n",
       "\n",
       "           lat         lng  \n",
       "514  33.852544  -84.361986  \n",
       "556  36.116156 -115.175058  "
      ]
     },
     "metadata": {},
     "output_type": "display_data"
    },
    {
     "data": {
      "text/html": [
       "<div>\n",
       "<style scoped>\n",
       "    .dataframe tbody tr th:only-of-type {\n",
       "        vertical-align: middle;\n",
       "    }\n",
       "\n",
       "    .dataframe tbody tr th {\n",
       "        vertical-align: top;\n",
       "    }\n",
       "\n",
       "    .dataframe thead th {\n",
       "        text-align: right;\n",
       "    }\n",
       "</style>\n",
       "<table border=\"1\" class=\"dataframe\">\n",
       "  <thead>\n",
       "    <tr style=\"text-align: right;\">\n",
       "      <th></th>\n",
       "      <th>name</th>\n",
       "      <th>addr</th>\n",
       "      <th>city</th>\n",
       "      <th>type</th>\n",
       "      <th>lat</th>\n",
       "      <th>lng</th>\n",
       "    </tr>\n",
       "  </thead>\n",
       "  <tbody>\n",
       "    <tr>\n",
       "      <th>200</th>\n",
       "      <td>ritz carlton restaurant</td>\n",
       "      <td>181 peachtree st.</td>\n",
       "      <td>atlanta</td>\n",
       "      <td>french (classic)</td>\n",
       "      <td>33.758579</td>\n",
       "      <td>-84.387066</td>\n",
       "    </tr>\n",
       "    <tr>\n",
       "      <th>839</th>\n",
       "      <td>ritz carlton cafe atlanta</td>\n",
       "      <td>181 peachtree st.</td>\n",
       "      <td>atlanta</td>\n",
       "      <td>american (new)</td>\n",
       "      <td>33.758579</td>\n",
       "      <td>-84.387066</td>\n",
       "    </tr>\n",
       "  </tbody>\n",
       "</table>\n",
       "</div>"
      ],
      "text/plain": [
       "                           name               addr     city              type  \\\n",
       "200     ritz carlton restaurant  181 peachtree st.  atlanta  french (classic)   \n",
       "839  ritz carlton cafe atlanta   181 peachtree st.  atlanta    american (new)   \n",
       "\n",
       "           lat        lng  \n",
       "200  33.758579 -84.387066  \n",
       "839  33.758579 -84.387066  "
      ]
     },
     "metadata": {},
     "output_type": "display_data"
    },
    {
     "data": {
      "text/html": [
       "<div>\n",
       "<style scoped>\n",
       "    .dataframe tbody tr th:only-of-type {\n",
       "        vertical-align: middle;\n",
       "    }\n",
       "\n",
       "    .dataframe tbody tr th {\n",
       "        vertical-align: top;\n",
       "    }\n",
       "\n",
       "    .dataframe thead th {\n",
       "        text-align: right;\n",
       "    }\n",
       "</style>\n",
       "<table border=\"1\" class=\"dataframe\">\n",
       "  <thead>\n",
       "    <tr style=\"text-align: right;\">\n",
       "      <th></th>\n",
       "      <th>name</th>\n",
       "      <th>addr</th>\n",
       "      <th>city</th>\n",
       "      <th>type</th>\n",
       "      <th>lat</th>\n",
       "      <th>lng</th>\n",
       "    </tr>\n",
       "  </thead>\n",
       "  <tbody>\n",
       "    <tr>\n",
       "      <th>331</th>\n",
       "      <td>cafe luxembourg</td>\n",
       "      <td>200 w. 70th st.</td>\n",
       "      <td>new york</td>\n",
       "      <td>french</td>\n",
       "      <td>40.777425</td>\n",
       "      <td>-73.983110</td>\n",
       "    </tr>\n",
       "    <tr>\n",
       "      <th>333</th>\n",
       "      <td>cafe centro</td>\n",
       "      <td>200 park ave.  between 45th st. and vanderbilt...</td>\n",
       "      <td>new york</td>\n",
       "      <td>french</td>\n",
       "      <td>40.753157</td>\n",
       "      <td>-73.976878</td>\n",
       "    </tr>\n",
       "  </tbody>\n",
       "</table>\n",
       "</div>"
      ],
      "text/plain": [
       "                name                                               addr  \\\n",
       "331  cafe luxembourg                                    200 w. 70th st.   \n",
       "333      cafe centro  200 park ave.  between 45th st. and vanderbilt...   \n",
       "\n",
       "         city    type        lat        lng  \n",
       "331  new york  french  40.777425 -73.983110  \n",
       "333  new york  french  40.753157 -73.976878  "
      ]
     },
     "metadata": {},
     "output_type": "display_data"
    }
   ],
   "source": [
    "print(\"Dedupe false positives\")\n",
    "for false_positive_pair in list(dedupe_false_positives):\n",
    "    display(df.loc[list(false_positive_pair)][['name', 'addr', 'city', 'type', 'lat', 'lng']])"
   ]
  },
  {
   "cell_type": "markdown",
   "metadata": {
    "slideshow": {
     "slide_type": "slide"
    }
   },
   "source": [
    "The deduper is confused by \"caffe\"s that are located near each other. \"caffe\" could be a stopword? Or even better, we could incorporate some logic for **name rarity**: if the token isn't rare, like \"caffe\", it should contribute less with the name similarity than a rarer token like \"reggio\". It's possible to do that with [an interaction with name frequency](https://github.com/dedupeio/dedupe/issues/392).\n",
    "\n",
    "Or maybe the deduper could have learned a more restrictive name blocking? Or the classifier should have put less weight on name? It's difficult to guess because those things could have introduced more **false negatives** too. What about them?"
   ]
  },
  {
   "cell_type": "code",
   "execution_count": 80,
   "metadata": {
    "scrolled": true,
    "slideshow": {
     "slide_type": "slide"
    }
   },
   "outputs": [
    {
     "name": "stdout",
     "output_type": "stream",
     "text": [
      "Dedupe false negatives\n"
     ]
    },
    {
     "data": {
      "text/html": [
       "<div>\n",
       "<style scoped>\n",
       "    .dataframe tbody tr th:only-of-type {\n",
       "        vertical-align: middle;\n",
       "    }\n",
       "\n",
       "    .dataframe tbody tr th {\n",
       "        vertical-align: top;\n",
       "    }\n",
       "\n",
       "    .dataframe thead th {\n",
       "        text-align: right;\n",
       "    }\n",
       "</style>\n",
       "<table border=\"1\" class=\"dataframe\">\n",
       "  <thead>\n",
       "    <tr style=\"text-align: right;\">\n",
       "      <th></th>\n",
       "      <th>name</th>\n",
       "      <th>addr</th>\n",
       "      <th>city</th>\n",
       "      <th>type</th>\n",
       "      <th>lat</th>\n",
       "      <th>lng</th>\n",
       "    </tr>\n",
       "  </thead>\n",
       "  <tbody>\n",
       "    <tr>\n",
       "      <th>6</th>\n",
       "      <td>hotel bel air</td>\n",
       "      <td>701 stone canyon rd.</td>\n",
       "      <td>bel air</td>\n",
       "      <td>californian</td>\n",
       "      <td>34.086594</td>\n",
       "      <td>-118.446351</td>\n",
       "    </tr>\n",
       "    <tr>\n",
       "      <th>7</th>\n",
       "      <td>bel air hotel</td>\n",
       "      <td>701 stone canyon rd.</td>\n",
       "      <td>bel air</td>\n",
       "      <td>californian</td>\n",
       "      <td>34.086594</td>\n",
       "      <td>-118.446351</td>\n",
       "    </tr>\n",
       "  </tbody>\n",
       "</table>\n",
       "</div>"
      ],
      "text/plain": [
       "            name                  addr     city         type        lat  \\\n",
       "6  hotel bel air  701 stone canyon rd.  bel air  californian  34.086594   \n",
       "7  bel air hotel  701 stone canyon rd.  bel air  californian  34.086594   \n",
       "\n",
       "          lng  \n",
       "6 -118.446351  \n",
       "7 -118.446351  "
      ]
     },
     "metadata": {},
     "output_type": "display_data"
    },
    {
     "data": {
      "text/html": [
       "<div>\n",
       "<style scoped>\n",
       "    .dataframe tbody tr th:only-of-type {\n",
       "        vertical-align: middle;\n",
       "    }\n",
       "\n",
       "    .dataframe tbody tr th {\n",
       "        vertical-align: top;\n",
       "    }\n",
       "\n",
       "    .dataframe thead th {\n",
       "        text-align: right;\n",
       "    }\n",
       "</style>\n",
       "<table border=\"1\" class=\"dataframe\">\n",
       "  <thead>\n",
       "    <tr style=\"text-align: right;\">\n",
       "      <th></th>\n",
       "      <th>name</th>\n",
       "      <th>addr</th>\n",
       "      <th>city</th>\n",
       "      <th>type</th>\n",
       "      <th>lat</th>\n",
       "      <th>lng</th>\n",
       "    </tr>\n",
       "  </thead>\n",
       "  <tbody>\n",
       "    <tr>\n",
       "      <th>6</th>\n",
       "      <td>hotel bel air</td>\n",
       "      <td>701 stone canyon rd.</td>\n",
       "      <td>bel air</td>\n",
       "      <td>californian</td>\n",
       "      <td>34.086594</td>\n",
       "      <td>-118.446351</td>\n",
       "    </tr>\n",
       "    <tr>\n",
       "      <th>8</th>\n",
       "      <td>bel air</td>\n",
       "      <td>701 stone canyon road</td>\n",
       "      <td>bel air</td>\n",
       "      <td>american</td>\n",
       "      <td>34.086594</td>\n",
       "      <td>-118.446351</td>\n",
       "    </tr>\n",
       "  </tbody>\n",
       "</table>\n",
       "</div>"
      ],
      "text/plain": [
       "            name                   addr     city         type        lat  \\\n",
       "6  hotel bel air   701 stone canyon rd.  bel air  californian  34.086594   \n",
       "8        bel air  701 stone canyon road  bel air     american  34.086594   \n",
       "\n",
       "          lng  \n",
       "6 -118.446351  \n",
       "8 -118.446351  "
      ]
     },
     "metadata": {},
     "output_type": "display_data"
    },
    {
     "data": {
      "text/html": [
       "<div>\n",
       "<style scoped>\n",
       "    .dataframe tbody tr th:only-of-type {\n",
       "        vertical-align: middle;\n",
       "    }\n",
       "\n",
       "    .dataframe tbody tr th {\n",
       "        vertical-align: top;\n",
       "    }\n",
       "\n",
       "    .dataframe thead th {\n",
       "        text-align: right;\n",
       "    }\n",
       "</style>\n",
       "<table border=\"1\" class=\"dataframe\">\n",
       "  <thead>\n",
       "    <tr style=\"text-align: right;\">\n",
       "      <th></th>\n",
       "      <th>name</th>\n",
       "      <th>addr</th>\n",
       "      <th>city</th>\n",
       "      <th>type</th>\n",
       "      <th>lat</th>\n",
       "      <th>lng</th>\n",
       "    </tr>\n",
       "  </thead>\n",
       "  <tbody>\n",
       "    <tr>\n",
       "      <th>197</th>\n",
       "      <td>dining room ritz carlton buckhead</td>\n",
       "      <td>3434 peachtree rd.</td>\n",
       "      <td>atlanta</td>\n",
       "      <td>international</td>\n",
       "      <td>33.850807</td>\n",
       "      <td>-84.364227</td>\n",
       "    </tr>\n",
       "    <tr>\n",
       "      <th>198</th>\n",
       "      <td>ritz carlton dining room buckhead</td>\n",
       "      <td>3434 peachtree rd. ne</td>\n",
       "      <td>atlanta</td>\n",
       "      <td>american (new)</td>\n",
       "      <td>33.850807</td>\n",
       "      <td>-84.364227</td>\n",
       "    </tr>\n",
       "  </tbody>\n",
       "</table>\n",
       "</div>"
      ],
      "text/plain": [
       "                                   name                   addr     city  \\\n",
       "197   dining room ritz carlton buckhead     3434 peachtree rd.  atlanta   \n",
       "198  ritz carlton dining room buckhead   3434 peachtree rd. ne  atlanta   \n",
       "\n",
       "               type        lat        lng  \n",
       "197   international  33.850807 -84.364227  \n",
       "198  american (new)  33.850807 -84.364227  "
      ]
     },
     "metadata": {},
     "output_type": "display_data"
    },
    {
     "data": {
      "text/html": [
       "<div>\n",
       "<style scoped>\n",
       "    .dataframe tbody tr th:only-of-type {\n",
       "        vertical-align: middle;\n",
       "    }\n",
       "\n",
       "    .dataframe tbody tr th {\n",
       "        vertical-align: top;\n",
       "    }\n",
       "\n",
       "    .dataframe thead th {\n",
       "        text-align: right;\n",
       "    }\n",
       "</style>\n",
       "<table border=\"1\" class=\"dataframe\">\n",
       "  <thead>\n",
       "    <tr style=\"text-align: right;\">\n",
       "      <th></th>\n",
       "      <th>name</th>\n",
       "      <th>addr</th>\n",
       "      <th>city</th>\n",
       "      <th>type</th>\n",
       "      <th>lat</th>\n",
       "      <th>lng</th>\n",
       "    </tr>\n",
       "  </thead>\n",
       "  <tbody>\n",
       "    <tr>\n",
       "      <th>28</th>\n",
       "      <td>restaurant katsu</td>\n",
       "      <td>1972 n. hillhurst ave.</td>\n",
       "      <td>los angeles</td>\n",
       "      <td>asian</td>\n",
       "      <td>34.107405</td>\n",
       "      <td>-118.28719</td>\n",
       "    </tr>\n",
       "    <tr>\n",
       "      <th>29</th>\n",
       "      <td>katsu</td>\n",
       "      <td>1972 hillhurst ave.</td>\n",
       "      <td>los feliz</td>\n",
       "      <td>japanese</td>\n",
       "      <td>34.107405</td>\n",
       "      <td>-118.28719</td>\n",
       "    </tr>\n",
       "  </tbody>\n",
       "</table>\n",
       "</div>"
      ],
      "text/plain": [
       "                name                    addr         city      type  \\\n",
       "28  restaurant katsu  1972 n. hillhurst ave.  los angeles     asian   \n",
       "29             katsu     1972 hillhurst ave.    los feliz  japanese   \n",
       "\n",
       "          lat        lng  \n",
       "28  34.107405 -118.28719  \n",
       "29  34.107405 -118.28719  "
      ]
     },
     "metadata": {},
     "output_type": "display_data"
    },
    {
     "data": {
      "text/html": [
       "<div>\n",
       "<style scoped>\n",
       "    .dataframe tbody tr th:only-of-type {\n",
       "        vertical-align: middle;\n",
       "    }\n",
       "\n",
       "    .dataframe tbody tr th {\n",
       "        vertical-align: top;\n",
       "    }\n",
       "\n",
       "    .dataframe thead th {\n",
       "        text-align: right;\n",
       "    }\n",
       "</style>\n",
       "<table border=\"1\" class=\"dataframe\">\n",
       "  <thead>\n",
       "    <tr style=\"text-align: right;\">\n",
       "      <th></th>\n",
       "      <th>name</th>\n",
       "      <th>addr</th>\n",
       "      <th>city</th>\n",
       "      <th>type</th>\n",
       "      <th>lat</th>\n",
       "      <th>lng</th>\n",
       "    </tr>\n",
       "  </thead>\n",
       "  <tbody>\n",
       "    <tr>\n",
       "      <th>36</th>\n",
       "      <td>locanda veneta</td>\n",
       "      <td>8638 w 3rd</td>\n",
       "      <td>st los angeles</td>\n",
       "      <td>italian</td>\n",
       "      <td>34.073417</td>\n",
       "      <td>-118.381096</td>\n",
       "    </tr>\n",
       "    <tr>\n",
       "      <th>37</th>\n",
       "      <td>locanda</td>\n",
       "      <td>w. third st.</td>\n",
       "      <td>st los angeles</td>\n",
       "      <td>italian</td>\n",
       "      <td>34.068958</td>\n",
       "      <td>-118.320928</td>\n",
       "    </tr>\n",
       "  </tbody>\n",
       "</table>\n",
       "</div>"
      ],
      "text/plain": [
       "              name          addr            city     type        lat  \\\n",
       "36  locanda veneta    8638 w 3rd  st los angeles  italian  34.073417   \n",
       "37         locanda  w. third st.  st los angeles  italian  34.068958   \n",
       "\n",
       "           lng  \n",
       "36 -118.381096  \n",
       "37 -118.320928  "
      ]
     },
     "metadata": {},
     "output_type": "display_data"
    },
    {
     "data": {
      "text/html": [
       "<div>\n",
       "<style scoped>\n",
       "    .dataframe tbody tr th:only-of-type {\n",
       "        vertical-align: middle;\n",
       "    }\n",
       "\n",
       "    .dataframe tbody tr th {\n",
       "        vertical-align: top;\n",
       "    }\n",
       "\n",
       "    .dataframe thead th {\n",
       "        text-align: right;\n",
       "    }\n",
       "</style>\n",
       "<table border=\"1\" class=\"dataframe\">\n",
       "  <thead>\n",
       "    <tr style=\"text-align: right;\">\n",
       "      <th></th>\n",
       "      <th>name</th>\n",
       "      <th>addr</th>\n",
       "      <th>city</th>\n",
       "      <th>type</th>\n",
       "      <th>lat</th>\n",
       "      <th>lng</th>\n",
       "    </tr>\n",
       "  </thead>\n",
       "  <tbody>\n",
       "    <tr>\n",
       "      <th>53</th>\n",
       "      <td>spago</td>\n",
       "      <td>1114 horn ave.</td>\n",
       "      <td>los angeles</td>\n",
       "      <td>californian</td>\n",
       "      <td>34.091172</td>\n",
       "      <td>-118.383161</td>\n",
       "    </tr>\n",
       "    <tr>\n",
       "      <th>54</th>\n",
       "      <td>spago los angeles</td>\n",
       "      <td>8795 sunset blvd.</td>\n",
       "      <td>w. hollywood</td>\n",
       "      <td>californian</td>\n",
       "      <td>34.091132</td>\n",
       "      <td>-118.383290</td>\n",
       "    </tr>\n",
       "  </tbody>\n",
       "</table>\n",
       "</div>"
      ],
      "text/plain": [
       "                  name               addr          city         type  \\\n",
       "53               spago     1114 horn ave.   los angeles  californian   \n",
       "54  spago los angeles   8795 sunset blvd.  w. hollywood  californian   \n",
       "\n",
       "          lat         lng  \n",
       "53  34.091172 -118.383161  \n",
       "54  34.091132 -118.383290  "
      ]
     },
     "metadata": {},
     "output_type": "display_data"
    },
    {
     "data": {
      "text/html": [
       "<div>\n",
       "<style scoped>\n",
       "    .dataframe tbody tr th:only-of-type {\n",
       "        vertical-align: middle;\n",
       "    }\n",
       "\n",
       "    .dataframe tbody tr th {\n",
       "        vertical-align: top;\n",
       "    }\n",
       "\n",
       "    .dataframe thead th {\n",
       "        text-align: right;\n",
       "    }\n",
       "</style>\n",
       "<table border=\"1\" class=\"dataframe\">\n",
       "  <thead>\n",
       "    <tr style=\"text-align: right;\">\n",
       "      <th></th>\n",
       "      <th>name</th>\n",
       "      <th>addr</th>\n",
       "      <th>city</th>\n",
       "      <th>type</th>\n",
       "      <th>lat</th>\n",
       "      <th>lng</th>\n",
       "    </tr>\n",
       "  </thead>\n",
       "  <tbody>\n",
       "    <tr>\n",
       "      <th>40</th>\n",
       "      <td>the palm</td>\n",
       "      <td>9001 santa monica blvd.</td>\n",
       "      <td>los angeles</td>\n",
       "      <td>american</td>\n",
       "      <td>34.083064</td>\n",
       "      <td>-118.387282</td>\n",
       "    </tr>\n",
       "    <tr>\n",
       "      <th>41</th>\n",
       "      <td>palm the los angeles</td>\n",
       "      <td>9001 santa monica blvd.</td>\n",
       "      <td>w. hollywood</td>\n",
       "      <td>steakhouses</td>\n",
       "      <td>34.083064</td>\n",
       "      <td>-118.387282</td>\n",
       "    </tr>\n",
       "  </tbody>\n",
       "</table>\n",
       "</div>"
      ],
      "text/plain": [
       "                     name                     addr          city         type  \\\n",
       "40               the palm  9001 santa monica blvd.   los angeles     american   \n",
       "41  palm the los angeles   9001 santa monica blvd.  w. hollywood  steakhouses   \n",
       "\n",
       "          lat         lng  \n",
       "40  34.083064 -118.387282  \n",
       "41  34.083064 -118.387282  "
      ]
     },
     "metadata": {},
     "output_type": "display_data"
    },
    {
     "data": {
      "text/html": [
       "<div>\n",
       "<style scoped>\n",
       "    .dataframe tbody tr th:only-of-type {\n",
       "        vertical-align: middle;\n",
       "    }\n",
       "\n",
       "    .dataframe tbody tr th {\n",
       "        vertical-align: top;\n",
       "    }\n",
       "\n",
       "    .dataframe thead th {\n",
       "        text-align: right;\n",
       "    }\n",
       "</style>\n",
       "<table border=\"1\" class=\"dataframe\">\n",
       "  <thead>\n",
       "    <tr style=\"text-align: right;\">\n",
       "      <th></th>\n",
       "      <th>name</th>\n",
       "      <th>addr</th>\n",
       "      <th>city</th>\n",
       "      <th>type</th>\n",
       "      <th>lat</th>\n",
       "      <th>lng</th>\n",
       "    </tr>\n",
       "  </thead>\n",
       "  <tbody>\n",
       "    <tr>\n",
       "      <th>41</th>\n",
       "      <td>palm the los angeles</td>\n",
       "      <td>9001 santa monica blvd.</td>\n",
       "      <td>w. hollywood</td>\n",
       "      <td>steakhouses</td>\n",
       "      <td>34.083064</td>\n",
       "      <td>-118.387282</td>\n",
       "    </tr>\n",
       "    <tr>\n",
       "      <th>42</th>\n",
       "      <td>the palm los angeles</td>\n",
       "      <td>9001 sta monica boulevard</td>\n",
       "      <td>hollywood</td>\n",
       "      <td>steakhouses</td>\n",
       "      <td>34.083064</td>\n",
       "      <td>-118.387282</td>\n",
       "    </tr>\n",
       "  </tbody>\n",
       "</table>\n",
       "</div>"
      ],
      "text/plain": [
       "                     name                       addr          city  \\\n",
       "41  palm the los angeles     9001 santa monica blvd.  w. hollywood   \n",
       "42   the palm los angeles  9001 sta monica boulevard     hollywood   \n",
       "\n",
       "           type        lat         lng  \n",
       "41  steakhouses  34.083064 -118.387282  \n",
       "42  steakhouses  34.083064 -118.387282  "
      ]
     },
     "metadata": {},
     "output_type": "display_data"
    },
    {
     "data": {
      "text/html": [
       "<div>\n",
       "<style scoped>\n",
       "    .dataframe tbody tr th:only-of-type {\n",
       "        vertical-align: middle;\n",
       "    }\n",
       "\n",
       "    .dataframe tbody tr th {\n",
       "        vertical-align: top;\n",
       "    }\n",
       "\n",
       "    .dataframe thead th {\n",
       "        text-align: right;\n",
       "    }\n",
       "</style>\n",
       "<table border=\"1\" class=\"dataframe\">\n",
       "  <thead>\n",
       "    <tr style=\"text-align: right;\">\n",
       "      <th></th>\n",
       "      <th>name</th>\n",
       "      <th>addr</th>\n",
       "      <th>city</th>\n",
       "      <th>type</th>\n",
       "      <th>lat</th>\n",
       "      <th>lng</th>\n",
       "    </tr>\n",
       "  </thead>\n",
       "  <tbody>\n",
       "    <tr>\n",
       "      <th>136</th>\n",
       "      <td>shun lee west</td>\n",
       "      <td>43 w. 65th st.</td>\n",
       "      <td>new york</td>\n",
       "      <td>asian</td>\n",
       "      <td>40.772900</td>\n",
       "      <td>-73.981348</td>\n",
       "    </tr>\n",
       "    <tr>\n",
       "      <th>137</th>\n",
       "      <td>shun lee palace</td>\n",
       "      <td>155 e. 55th st.</td>\n",
       "      <td>new york city</td>\n",
       "      <td>chinese</td>\n",
       "      <td>40.759428</td>\n",
       "      <td>-73.969068</td>\n",
       "    </tr>\n",
       "  </tbody>\n",
       "</table>\n",
       "</div>"
      ],
      "text/plain": [
       "                name             addr           city     type        lat  \\\n",
       "136    shun lee west   43 w. 65th st.       new york    asian  40.772900   \n",
       "137  shun lee palace  155 e. 55th st.  new york city  chinese  40.759428   \n",
       "\n",
       "           lng  \n",
       "136 -73.981348  \n",
       "137 -73.969068  "
      ]
     },
     "metadata": {},
     "output_type": "display_data"
    },
    {
     "data": {
      "text/html": [
       "<div>\n",
       "<style scoped>\n",
       "    .dataframe tbody tr th:only-of-type {\n",
       "        vertical-align: middle;\n",
       "    }\n",
       "\n",
       "    .dataframe tbody tr th {\n",
       "        vertical-align: top;\n",
       "    }\n",
       "\n",
       "    .dataframe thead th {\n",
       "        text-align: right;\n",
       "    }\n",
       "</style>\n",
       "<table border=\"1\" class=\"dataframe\">\n",
       "  <thead>\n",
       "    <tr style=\"text-align: right;\">\n",
       "      <th></th>\n",
       "      <th>name</th>\n",
       "      <th>addr</th>\n",
       "      <th>city</th>\n",
       "      <th>type</th>\n",
       "      <th>lat</th>\n",
       "      <th>lng</th>\n",
       "    </tr>\n",
       "  </thead>\n",
       "  <tbody>\n",
       "    <tr>\n",
       "      <th>195</th>\n",
       "      <td>cafe ritz carlton buckhead</td>\n",
       "      <td>3434 peachtree rd.</td>\n",
       "      <td>atlanta</td>\n",
       "      <td>ext 6108 international</td>\n",
       "      <td>33.850807</td>\n",
       "      <td>-84.364227</td>\n",
       "    </tr>\n",
       "    <tr>\n",
       "      <th>196</th>\n",
       "      <td>ritz carlton cafe buckhead</td>\n",
       "      <td>3434 peachtree rd. ne</td>\n",
       "      <td>atlanta</td>\n",
       "      <td>american (new)</td>\n",
       "      <td>33.850807</td>\n",
       "      <td>-84.364227</td>\n",
       "    </tr>\n",
       "  </tbody>\n",
       "</table>\n",
       "</div>"
      ],
      "text/plain": [
       "                            name                   addr     city  \\\n",
       "195   cafe ritz carlton buckhead     3434 peachtree rd.  atlanta   \n",
       "196  ritz carlton cafe buckhead   3434 peachtree rd. ne  atlanta   \n",
       "\n",
       "                       type        lat        lng  \n",
       "195  ext 6108 international  33.850807 -84.364227  \n",
       "196          american (new)  33.850807 -84.364227  "
      ]
     },
     "metadata": {},
     "output_type": "display_data"
    },
    {
     "data": {
      "text/html": [
       "<div>\n",
       "<style scoped>\n",
       "    .dataframe tbody tr th:only-of-type {\n",
       "        vertical-align: middle;\n",
       "    }\n",
       "\n",
       "    .dataframe tbody tr th {\n",
       "        vertical-align: top;\n",
       "    }\n",
       "\n",
       "    .dataframe thead th {\n",
       "        text-align: right;\n",
       "    }\n",
       "</style>\n",
       "<table border=\"1\" class=\"dataframe\">\n",
       "  <thead>\n",
       "    <tr style=\"text-align: right;\">\n",
       "      <th></th>\n",
       "      <th>name</th>\n",
       "      <th>addr</th>\n",
       "      <th>city</th>\n",
       "      <th>type</th>\n",
       "      <th>lat</th>\n",
       "      <th>lng</th>\n",
       "    </tr>\n",
       "  </thead>\n",
       "  <tbody>\n",
       "    <tr>\n",
       "      <th>34</th>\n",
       "      <td>locanda veneta</td>\n",
       "      <td>3rd st.</td>\n",
       "      <td>los angeles</td>\n",
       "      <td>italian</td>\n",
       "      <td>34.068958</td>\n",
       "      <td>-118.320928</td>\n",
       "    </tr>\n",
       "    <tr>\n",
       "      <th>37</th>\n",
       "      <td>locanda</td>\n",
       "      <td>w. third st.</td>\n",
       "      <td>st los angeles</td>\n",
       "      <td>italian</td>\n",
       "      <td>34.068958</td>\n",
       "      <td>-118.320928</td>\n",
       "    </tr>\n",
       "  </tbody>\n",
       "</table>\n",
       "</div>"
      ],
      "text/plain": [
       "              name          addr            city     type        lat  \\\n",
       "34  locanda veneta       3rd st.     los angeles  italian  34.068958   \n",
       "37         locanda  w. third st.  st los angeles  italian  34.068958   \n",
       "\n",
       "           lng  \n",
       "34 -118.320928  \n",
       "37 -118.320928  "
      ]
     },
     "metadata": {},
     "output_type": "display_data"
    },
    {
     "data": {
      "text/html": [
       "<div>\n",
       "<style scoped>\n",
       "    .dataframe tbody tr th:only-of-type {\n",
       "        vertical-align: middle;\n",
       "    }\n",
       "\n",
       "    .dataframe tbody tr th {\n",
       "        vertical-align: top;\n",
       "    }\n",
       "\n",
       "    .dataframe thead th {\n",
       "        text-align: right;\n",
       "    }\n",
       "</style>\n",
       "<table border=\"1\" class=\"dataframe\">\n",
       "  <thead>\n",
       "    <tr style=\"text-align: right;\">\n",
       "      <th></th>\n",
       "      <th>name</th>\n",
       "      <th>addr</th>\n",
       "      <th>city</th>\n",
       "      <th>type</th>\n",
       "      <th>lat</th>\n",
       "      <th>lng</th>\n",
       "    </tr>\n",
       "  </thead>\n",
       "  <tbody>\n",
       "    <tr>\n",
       "      <th>199</th>\n",
       "      <td>restaurant ritz carlton atlanta</td>\n",
       "      <td>181 peachtree st.</td>\n",
       "      <td>atlanta</td>\n",
       "      <td>continental</td>\n",
       "      <td>33.758579</td>\n",
       "      <td>-84.387066</td>\n",
       "    </tr>\n",
       "    <tr>\n",
       "      <th>200</th>\n",
       "      <td>ritz carlton restaurant</td>\n",
       "      <td>181 peachtree st.</td>\n",
       "      <td>atlanta</td>\n",
       "      <td>french (classic)</td>\n",
       "      <td>33.758579</td>\n",
       "      <td>-84.387066</td>\n",
       "    </tr>\n",
       "  </tbody>\n",
       "</table>\n",
       "</div>"
      ],
      "text/plain": [
       "                                name               addr     city  \\\n",
       "199  restaurant ritz carlton atlanta  181 peachtree st.  atlanta   \n",
       "200          ritz carlton restaurant  181 peachtree st.  atlanta   \n",
       "\n",
       "                 type        lat        lng  \n",
       "199       continental  33.758579 -84.387066  \n",
       "200  french (classic)  33.758579 -84.387066  "
      ]
     },
     "metadata": {},
     "output_type": "display_data"
    },
    {
     "data": {
      "text/html": [
       "<div>\n",
       "<style scoped>\n",
       "    .dataframe tbody tr th:only-of-type {\n",
       "        vertical-align: middle;\n",
       "    }\n",
       "\n",
       "    .dataframe tbody tr th {\n",
       "        vertical-align: top;\n",
       "    }\n",
       "\n",
       "    .dataframe thead th {\n",
       "        text-align: right;\n",
       "    }\n",
       "</style>\n",
       "<table border=\"1\" class=\"dataframe\">\n",
       "  <thead>\n",
       "    <tr style=\"text-align: right;\">\n",
       "      <th></th>\n",
       "      <th>name</th>\n",
       "      <th>addr</th>\n",
       "      <th>city</th>\n",
       "      <th>type</th>\n",
       "      <th>lat</th>\n",
       "      <th>lng</th>\n",
       "    </tr>\n",
       "  </thead>\n",
       "  <tbody>\n",
       "    <tr>\n",
       "      <th>35</th>\n",
       "      <td>locanda veneta</td>\n",
       "      <td>8638 w. third st.</td>\n",
       "      <td>los angeles</td>\n",
       "      <td>italian</td>\n",
       "      <td>34.073417</td>\n",
       "      <td>-118.381096</td>\n",
       "    </tr>\n",
       "    <tr>\n",
       "      <th>37</th>\n",
       "      <td>locanda</td>\n",
       "      <td>w. third st.</td>\n",
       "      <td>st los angeles</td>\n",
       "      <td>italian</td>\n",
       "      <td>34.068958</td>\n",
       "      <td>-118.320928</td>\n",
       "    </tr>\n",
       "  </tbody>\n",
       "</table>\n",
       "</div>"
      ],
      "text/plain": [
       "              name               addr            city     type        lat  \\\n",
       "35  locanda veneta  8638 w. third st.     los angeles  italian  34.073417   \n",
       "37         locanda       w. third st.  st los angeles  italian  34.068958   \n",
       "\n",
       "           lng  \n",
       "35 -118.381096  \n",
       "37 -118.320928  "
      ]
     },
     "metadata": {},
     "output_type": "display_data"
    }
   ],
   "source": [
    "print(\"Dedupe false negatives\")\n",
    "for false_negative_pair in list(dedupe_false_negatives):\n",
    "    display(df.loc[list(false_negative_pair)][['name', 'addr', 'city', 'type', 'lat', 'lng']])"
   ]
  },
  {
   "cell_type": "markdown",
   "metadata": {
    "slideshow": {
     "slide_type": "slide"
    }
   },
   "source": [
    "Some of these false negatives could be prevented with better address normalization, but on others, the data is simply bad: different addresses for the same place, maybe a corner, maybe two entrances? We could try to **train more** the deduper to fix this. But we'll leave as it is and move to the last step of the deduplication process."
   ]
  },
  {
   "cell_type": "markdown",
   "metadata": {
    "slideshow": {
     "slide_type": "slide"
    }
   },
   "source": [
    "## 4/4 - Clustering"
   ]
  },
  {
   "cell_type": "markdown",
   "metadata": {
    "slideshow": {
     "slide_type": "slide"
    }
   },
   "source": [
    "Using the Threshold or the SVM, we got the **matching pairs**. But what Dedupe returned to us were **clusters of matches**:"
   ]
  },
  {
   "cell_type": "code",
   "execution_count": 81,
   "metadata": {
    "slideshow": {
     "slide_type": "fragment"
    }
   },
   "outputs": [
    {
     "data": {
      "text/plain": [
       "[((0, 1, 2), array([0.95853156, 0.95454934, 0.94188717])),\n",
       " ((3, 4, 5), array([0.98328909, 0.98357585, 0.99801004])),\n",
       " ((7, 8), array([0.95090014, 0.95090014])),\n",
       " ((9, 10, 11, 12), array([0.97625164, 0.97625164, 0.97625164, 0.97569585])),\n",
       " ((13, 14), (0.97652954, 0.97652954))]"
      ]
     },
     "execution_count": 81,
     "metadata": {},
     "output_type": "execute_result"
    }
   ],
   "source": [
    "clustered_dupes[:5]"
   ]
  },
  {
   "cell_type": "markdown",
   "metadata": {
    "slideshow": {
     "slide_type": "slide"
    }
   },
   "source": [
    "Dedupe went one step further on the process and **merged the matching pairs into clusters**! Why is that important? Because the following can happen:\n",
    "- We have the records A, B, and C\n",
    "- By deduplicating, we found the matching pairs (A, B) and (B, C). However, (A, C) was found to be a nonmatch\n",
    "\n",
    "It doesn't make sense to consider (A, B) and (B, C) as a match, but (A, C) as a nonmatch.\n",
    "The solution for that ambiguity is computing the **Transitive Closure** with Clustering."
   ]
  },
  {
   "cell_type": "markdown",
   "metadata": {
    "slideshow": {
     "slide_type": "slide"
    }
   },
   "source": [
    "Using some private methods, it's possible to get the **unclustered pairs** from Dedupe:"
   ]
  },
  {
   "cell_type": "code",
   "execution_count": 82,
   "metadata": {
    "slideshow": {
     "slide_type": "fragment"
    }
   },
   "outputs": [],
   "source": [
    "from dedupe.core import scoreDuplicates\n",
    "\n",
    "candidate_records = itertools.chain.from_iterable(deduper._blockedPairs(deduper._blockData(data_for_dedupe)))\n",
    "dedupe_matches = scoreDuplicates(candidate_records,\n",
    "                                 deduper.data_model,\n",
    "                                 deduper.classifier,\n",
    "                                 deduper.num_cores)\n",
    "dedupe_unclustered_found_pairs_set = {tuple(pair) for ([*pair], __) in dedupe_matches}"
   ]
  },
  {
   "cell_type": "markdown",
   "metadata": {
    "slideshow": {
     "slide_type": "slide"
    }
   },
   "source": [
    "Let's **evaluate** those unclustered pairs against the clustered pairs:"
   ]
  },
  {
   "cell_type": "code",
   "execution_count": 83,
   "metadata": {
    "slideshow": {
     "slide_type": "fragment"
    }
   },
   "outputs": [
    {
     "name": "stdout",
     "output_type": "stream",
     "text": [
      "dedupe_true_positives total: 137\n",
      "dedupe_false_positives total: 9\n",
      "dedupe_false_negatives total: 13\n",
      "\n",
      "dedupe_unclustered_true_positives total: 141\n",
      "dedupe_unclustered_false_positives total: 9\n",
      "dedupe_unclustered_false_negatives total: 9\n"
     ]
    }
   ],
   "source": [
    "dedupe_unclustered_true_positives = golden_pairs_set & dedupe_unclustered_found_pairs_set\n",
    "dedupe_unclustered_false_positives = dedupe_unclustered_found_pairs_set - golden_pairs_set\n",
    "dedupe_unclustered_false_negatives = golden_pairs_set - dedupe_unclustered_found_pairs_set\n",
    "\n",
    "print('dedupe_true_positives total:', len(dedupe_true_positives))\n",
    "print('dedupe_false_positives total:', len(dedupe_false_positives))\n",
    "print('dedupe_false_negatives total:', len(dedupe_false_negatives))\n",
    "print()\n",
    "print('dedupe_unclustered_true_positives total:', len(dedupe_unclustered_true_positives))\n",
    "print('dedupe_unclustered_false_positives total:', len(dedupe_unclustered_false_positives))\n",
    "print('dedupe_unclustered_false_negatives total:', len(dedupe_unclustered_false_negatives))"
   ]
  },
  {
   "cell_type": "markdown",
   "metadata": {
    "slideshow": {
     "slide_type": "slide"
    }
   },
   "source": [
    "We've found the unclustered pairs are different from the clustered pairs! That means the clustering process can both **create new matches** and **drop found matches**. Therefore, even though clustering is necessary to disambiguate the deduplication result, it can either improve or worsen the quality of found pairs."
   ]
  },
  {
   "cell_type": "code",
   "execution_count": 84,
   "metadata": {
    "slideshow": {
     "slide_type": "fragment"
    }
   },
   "outputs": [
    {
     "data": {
      "text/plain": [
       "{(6, 7), (41, 42), (195, 196), (197, 198)}"
      ]
     },
     "metadata": {},
     "output_type": "display_data"
    }
   ],
   "source": [
    "diff_set = dedupe_found_pairs_set ^ dedupe_unclustered_found_pairs_set\n",
    "display(diff_set)"
   ]
  },
  {
   "cell_type": "markdown",
   "metadata": {
    "slideshow": {
     "slide_type": "slide"
    }
   },
   "source": [
    "Here's a case where the clustering process **dropped a true match**:"
   ]
  },
  {
   "cell_type": "code",
   "execution_count": 85,
   "metadata": {
    "scrolled": true,
    "slideshow": {
     "slide_type": "fragment"
    }
   },
   "outputs": [
    {
     "data": {
      "text/html": [
       "<div>\n",
       "<style scoped>\n",
       "    .dataframe tbody tr th:only-of-type {\n",
       "        vertical-align: middle;\n",
       "    }\n",
       "\n",
       "    .dataframe tbody tr th {\n",
       "        vertical-align: top;\n",
       "    }\n",
       "\n",
       "    .dataframe thead th {\n",
       "        text-align: right;\n",
       "    }\n",
       "</style>\n",
       "<table border=\"1\" class=\"dataframe\">\n",
       "  <thead>\n",
       "    <tr style=\"text-align: right;\">\n",
       "      <th></th>\n",
       "      <th>name</th>\n",
       "      <th>addr</th>\n",
       "      <th>city</th>\n",
       "      <th>type</th>\n",
       "      <th>postal</th>\n",
       "      <th>lat</th>\n",
       "      <th>lng</th>\n",
       "    </tr>\n",
       "  </thead>\n",
       "  <tbody>\n",
       "    <tr>\n",
       "      <th>8</th>\n",
       "      <td>bel air</td>\n",
       "      <td>701 stone canyon road</td>\n",
       "      <td>bel air</td>\n",
       "      <td>american</td>\n",
       "      <td>90077</td>\n",
       "      <td>34.086594</td>\n",
       "      <td>-118.446351</td>\n",
       "    </tr>\n",
       "    <tr>\n",
       "      <th>6</th>\n",
       "      <td>hotel bel air</td>\n",
       "      <td>701 stone canyon rd.</td>\n",
       "      <td>bel air</td>\n",
       "      <td>californian</td>\n",
       "      <td>90077</td>\n",
       "      <td>34.086594</td>\n",
       "      <td>-118.446351</td>\n",
       "    </tr>\n",
       "    <tr>\n",
       "      <th>7</th>\n",
       "      <td>bel air hotel</td>\n",
       "      <td>701 stone canyon rd.</td>\n",
       "      <td>bel air</td>\n",
       "      <td>californian</td>\n",
       "      <td>90077</td>\n",
       "      <td>34.086594</td>\n",
       "      <td>-118.446351</td>\n",
       "    </tr>\n",
       "  </tbody>\n",
       "</table>\n",
       "</div>"
      ],
      "text/plain": [
       "            name                   addr     city         type postal  \\\n",
       "8        bel air  701 stone canyon road  bel air     american  90077   \n",
       "6  hotel bel air   701 stone canyon rd.  bel air  californian  90077   \n",
       "7  bel air hotel   701 stone canyon rd.  bel air  californian  90077   \n",
       "\n",
       "         lat         lng  \n",
       "8  34.086594 -118.446351  \n",
       "6  34.086594 -118.446351  \n",
       "7  34.086594 -118.446351  "
      ]
     },
     "metadata": {},
     "output_type": "display_data"
    },
    {
     "data": {
      "image/png": "[encoded data removed]",
      "text/plain": [
       "<Figure size 720x360 with 1 Axes>"
      ]
     },
     "metadata": {},
     "output_type": "display_data"
    },
    {
     "data": {
      "image/png": "[encoded data removed]",
      "text/plain": [
       "<Figure size 720x360 with 1 Axes>"
      ]
     },
     "metadata": {},
     "output_type": "display_data"
    },
    {
     "data": {
      "image/png": "[encoded data removed]",
      "text/plain": [
       "<Figure size 720x360 with 1 Axes>"
      ]
     },
     "metadata": {},
     "output_type": "display_data"
    }
   ],
   "source": [
    "bad_diff_all_ids = {6, 7, 8}\n",
    "show_cluster_graphs(\n",
    "    df,\n",
    "    golden_pairs_set, dedupe_found_pairs_set, dedupe_unclustered_found_pairs_set,\n",
    "    bad_diff_all_ids)"
   ]
  },
  {
   "cell_type": "markdown",
   "metadata": {
    "slideshow": {
     "slide_type": "slide"
    }
   },
   "source": [
    "Remember the `recall_weight` parameter of the `deduper.threshold` method? That's what it controls: how aggressive we want to be on finding or dropping matches while clustering. Check Dedupe docs for more details on how it [performs clustering](https://docs.dedupe.io/en/latest/Grouping-duplicates.html) and how it computes [a good threshold](https://docs.dedupe.io/en/latest/Choosing-a-good-threshold.html#)."
   ]
  },
  {
   "cell_type": "markdown",
   "metadata": {
    "slideshow": {
     "slide_type": "slide"
    }
   },
   "source": [
    "Finally, it's worth mentioning there's a web-based [product version of Dedupe](https://dedupe.io/). If you don't want to write code for deduping a dataset, check it."
   ]
  },
  {
   "cell_type": "markdown",
   "metadata": {
    "slideshow": {
     "slide_type": "fragment"
    }
   },
   "source": [
    "<center><img src=\"https://dedupe.io/images/tutorials/getting-started-with-dedupe-io/img-5.jpg\" width=800></center>"
   ]
  },
  {
   "cell_type": "markdown",
   "metadata": {
    "slideshow": {
     "slide_type": "slide"
    }
   },
   "source": [
    "## Next Steps"
   ]
  },
  {
   "cell_type": "markdown",
   "metadata": {
    "slideshow": {
     "slide_type": "slide"
    }
   },
   "source": [
    "Once we have the clusters, how to consolidate data from many records into one? Check for material on **Data Fusion**:\n",
    "  - [Open issue at Python Record Linkage Toolkit](https://github.com/J535D165/recordlinkage/issues/27)\n",
    "  - Christen, 6.12 Merging Matches [2]"
   ]
  },
  {
   "cell_type": "markdown",
   "metadata": {
    "slideshow": {
     "slide_type": "slide"
    }
   },
   "source": [
    "What if new records arrive? Should we merge, unmerge, move records from clusters? Check for material on **Incremental Record Linkage**:\n",
    "  - Dedupe approach is to either add to an existing cluster or create a new cluster. You can use a [Gazetteer](https://docs.dedupe.io/en/latest/API-documentation.html#gazetteer-objects) with previously deduped data, then merge new matches into it, and index new nonmatches.\n",
    "  - Other approaches, check papers:\n",
    "      * [Online Correlation Clustering](https://arxiv.org/pdf/1001.0920.pdf)\n",
    "      * [Incremental Record Linkage](http://www.vldb.org/pvldb/vol7/p697-gruenheid.pdf)\n",
    "      * [Heuristic-based approaches for speeding up incremental record linkage](https://www.sciencedirect.com/science/article/pii/S0164121217302972)"
   ]
  },
  {
   "cell_type": "markdown",
   "metadata": {
    "slideshow": {
     "slide_type": "slide"
    }
   },
   "source": [
    "Also worth checking the **Privacy** implications of Record Linkage:\n",
    "- Christen, chapter 8 [2]\n",
    "- [k-anonymity](https://desfontain.es/privacy/k-anonymity.html), [k-map](https://desfontain.es/privacy/k-map.html), [δ-presence](https://desfontain.es/privacy/delta-presence.html)\n",
    "- [Why differential privacy is awesome](https://desfontain.es/privacy/differential-privacy-awesomeness.html)"
   ]
  },
  {
   "cell_type": "markdown",
   "metadata": {
    "slideshow": {
     "slide_type": "slide"
    }
   },
   "source": [
    "## References"
   ]
  },
  {
   "cell_type": "markdown",
   "metadata": {
    "slideshow": {
     "slide_type": "fragment"
    }
   },
   "source": [
    "- **Referenced by this talk**:\n",
    "    * [1] [Mike Mull, The Art and Science of Data Matching](https://www.youtube.com/watch?v=Y-nYEOgq3YE) (slides [here](https://github.com/mikemull/Notebooks/blob/master/PyDataNYCSlides.ipynb))\n",
    "    * [2] [Peter Christen, Data Matching](http://www.springer.com/us/book/9783642311635)\n",
    "    * [3] [Mikhail Yuryevich Bilenko, Learnable Similarity Functions and Their Application to Record Linkage and Clustering](http://www.cs.utexas.edu/~ml/papers/marlin-dissertation-06.pdf)\n",
    "- Other **talks** about Record Linkage with Python:\n",
    "    * [Andrew Rowe, Big Data Deduplication and data matching using Python](https://www.youtube.com/watch?v=Z6mlvrYEYnk)\n",
    "    * [Rhydwyn Mcguire, Record linkage: Join for real life](https://www.youtube.com/watch?v=cEcVIjyHfiQ)\n",
    "- [Basics of Entity Resolution with Python and Dedupe](https://medium.com/district-data-labs/basics-of-entity-resolution-with-python-and-dedupe-bc87440b64d4)\n",
    "- [Automating your Data Cleanup with Python](https://blog.kjamistan.com/automating-your-data-cleanup-with-python/)\n",
    "- [Comparison of Data Matching software](https://github.com/J535D165/data-matching-software)\n",
    "- [Compilation of Record Linkage resources](https://github.com/ropeladder/record-linkage-resources)"
   ]
  },
  {
   "cell_type": "markdown",
   "metadata": {
    "slideshow": {
     "slide_type": "slide"
    }
   },
   "source": [
    "# Thank you!\n",
    "flavio@vinta.com.br  \n",
    "[@flaviojuvenal](https://twitter.com/flaviojuvenal)  \n",
    "[vinta.com.br](https://www.vinta.com.br?dedupe-slides=1)\n",
    "\n",
    "Special thanks to Russell Keith-Magee [@freakboy3742](https://twitter.com/freakboy3742), Forest Timothy Gregg [@forestgregg](https://twitter.com/forestgregg), and Jonathan de Bruin [@J535D165](https://github.com/J535D165)."
   ]
  }
 ],
 "metadata": {
  "celltoolbar": "Slideshow",
  "kernelspec": {
   "display_name": "Python 3",
   "language": "python",
   "name": "python3"
  },
  "language_info": {
   "codemirror_mode": {
    "name": "ipython",
    "version": 3
   },
   "file_extension": ".py",
   "mimetype": "text/x-python",
   "name": "python",
   "nbconvert_exporter": "python",
   "pygments_lexer": "ipython3",
   "version": "3.6.4"
  }
 },
 "nbformat": 4,
 "nbformat_minor": 2
}
