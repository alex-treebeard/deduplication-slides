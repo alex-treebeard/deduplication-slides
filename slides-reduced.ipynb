{
 "cells": [
  {
   "cell_type": "markdown",
   "metadata": {
    "slideshow": {
     "slide_type": "slide"
    }
   },
   "source": [
    "# 1 + 1 = 1 or Record Deduplication with Python\n",
    "Flávio Juvenal  \n",
    "[@flaviojuvenal](https://twitter.com/flaviojuvenal)  \n",
    "\n",
    "<p>\n",
    "    Partner at <a href=\"http://www.vinta.com.br?dedupe-slides=1\"><img class=\"vinta_logo\" style=\"display: inline-block; margin-left: 0;\" src=\"vinta.png\" width=300></a>\n",
    "</p>"
   ]
  },
  {
   "cell_type": "code",
   "execution_count": 1,
   "metadata": {
    "slideshow": {
     "slide_type": "skip"
    }
   },
   "outputs": [],
   "source": [
    "import warnings; warnings.simplefilter('ignore')\n",
    "import logging; logging.disable(level=logging.INFO)"
   ]
  },
  {
   "cell_type": "markdown",
   "metadata": {
    "slideshow": {
     "slide_type": "slide"
    }
   },
   "source": [
    "<p style=\"font-size: 2em; text-weight: bold\">\n",
    "    Slides available at: <a href=\"http://bit.ly/pybay-dupe\">bit.ly/pybay-dupe</a> (open as Desktop)\n",
    "</p>\n",
    "<p>\n",
    "    Jupyter Notebook source at: <a href=\"https://github.com/vintasoftware/deduplication-slides/\">github.com/vintasoftware/deduplication-slides/</a>\n",
    "</p>"
   ]
  },
  {
   "cell_type": "markdown",
   "metadata": {
    "slideshow": {
     "slide_type": "slide"
    }
   },
   "source": [
    "## Real world data is a mess!\n",
    "Probably you dealt with data like this before:"
   ]
  },
  {
   "cell_type": "code",
   "execution_count": 2,
   "metadata": {
    "scrolled": false,
    "slideshow": {
     "slide_type": "skip"
    }
   },
   "outputs": [],
   "source": [
    "import pandas as pd\n",
    "\n",
    "data = [\n",
    "    (\"Art's Delicatessen\",\"12224 Ventura Blvd\",\"Studio City\"),\n",
    "    (\"Arts Deli\",\"12224 Ventura Blvd.\",\"LA\"),\n",
    "    (\"Art's Deli and Restaurant\",\"12224 Ventura Boulevard\",\"Los Angeles\"),\n",
    "    (\"Art's Delicatessen & Restaurant\",\"12220 Ventura Blvd.\",\"LA\"),\n",
    "    (\"Fringale\", \"570 4th St.\", \"San Francisco\"),\n",
    "    (\"Fringale Restaurant\", \"570 Fourth Street\", \"SF\"),\n",
    "]\n",
    "\n",
    "df = pd.DataFrame(data, columns=['restaurant', 'address', 'city'])"
   ]
  },
  {
   "cell_type": "code",
   "execution_count": 3,
   "metadata": {
    "slideshow": {
     "slide_type": "fragment"
    }
   },
   "outputs": [
    {
     "data": {
      "text/html": [
       "<div>\n",
       "<style scoped>\n",
       "    .dataframe tbody tr th:only-of-type {\n",
       "        vertical-align: middle;\n",
       "    }\n",
       "\n",
       "    .dataframe tbody tr th {\n",
       "        vertical-align: top;\n",
       "    }\n",
       "\n",
       "    .dataframe thead th {\n",
       "        text-align: right;\n",
       "    }\n",
       "</style>\n",
       "<table border=\"1\" class=\"dataframe\">\n",
       "  <thead>\n",
       "    <tr style=\"text-align: right;\">\n",
       "      <th></th>\n",
       "      <th>restaurant</th>\n",
       "      <th>address</th>\n",
       "      <th>city</th>\n",
       "    </tr>\n",
       "  </thead>\n",
       "  <tbody>\n",
       "    <tr>\n",
       "      <th>0</th>\n",
       "      <td>Art's Delicatessen</td>\n",
       "      <td>12224 Ventura Blvd</td>\n",
       "      <td>Studio City</td>\n",
       "    </tr>\n",
       "    <tr>\n",
       "      <th>1</th>\n",
       "      <td>Arts Deli</td>\n",
       "      <td>12224 Ventura Blvd.</td>\n",
       "      <td>LA</td>\n",
       "    </tr>\n",
       "    <tr>\n",
       "      <th>2</th>\n",
       "      <td>Art's Deli and Restaurant</td>\n",
       "      <td>12224 Ventura Boulevard</td>\n",
       "      <td>Los Angeles</td>\n",
       "    </tr>\n",
       "    <tr>\n",
       "      <th>3</th>\n",
       "      <td>Art's Delicatessen &amp; Restaurant</td>\n",
       "      <td>12220 Ventura Blvd.</td>\n",
       "      <td>LA</td>\n",
       "    </tr>\n",
       "    <tr>\n",
       "      <th>4</th>\n",
       "      <td>Fringale</td>\n",
       "      <td>570 4th St.</td>\n",
       "      <td>San Francisco</td>\n",
       "    </tr>\n",
       "    <tr>\n",
       "      <th>5</th>\n",
       "      <td>Fringale Restaurant</td>\n",
       "      <td>570 Fourth Street</td>\n",
       "      <td>SF</td>\n",
       "    </tr>\n",
       "  </tbody>\n",
       "</table>\n",
       "</div>"
      ],
      "text/plain": [
       "                        restaurant                  address           city\n",
       "0               Art's Delicatessen       12224 Ventura Blvd    Studio City\n",
       "1                        Arts Deli      12224 Ventura Blvd.             LA\n",
       "2        Art's Deli and Restaurant  12224 Ventura Boulevard    Los Angeles\n",
       "3  Art's Delicatessen & Restaurant      12220 Ventura Blvd.             LA\n",
       "4                         Fringale              570 4th St.  San Francisco\n",
       "5              Fringale Restaurant        570 Fourth Street             SF"
      ]
     },
     "execution_count": 3,
     "metadata": {},
     "output_type": "execute_result"
    }
   ],
   "source": [
    "df"
   ]
  },
  {
   "cell_type": "markdown",
   "metadata": {
    "slideshow": {
     "slide_type": "slide"
    }
   },
   "source": [
    "The solution is to perform **Deduplication** (aka [Record Linkage](https://en.wikipedia.org/wiki/Record_linkage)). It works by joining records in a **fuzzy way** using data like names, addresses, phone numbers, dates, etc."
   ]
  },
  {
   "cell_type": "markdown",
   "metadata": {
    "slideshow": {
     "slide_type": "slide"
    }
   },
   "source": [
    "## Fuzzy comparison of strings"
   ]
  },
  {
   "cell_type": "code",
   "execution_count": 4,
   "metadata": {
    "slideshow": {
     "slide_type": "skip"
    }
   },
   "outputs": [],
   "source": [
    "import jellyfish"
   ]
  },
  {
   "cell_type": "code",
   "execution_count": 5,
   "metadata": {
    "slideshow": {
     "slide_type": "fragment"
    }
   },
   "outputs": [
    {
     "data": {
      "text/plain": [
       "0.8833333333333334"
      ]
     },
     "execution_count": 5,
     "metadata": {},
     "output_type": "execute_result"
    }
   ],
   "source": [
    "jellyfish.jaro_winkler(\"Art's Delicatessen\", \"Arts Deli\")"
   ]
  },
  {
   "cell_type": "code",
   "execution_count": 6,
   "metadata": {
    "slideshow": {
     "slide_type": "fragment"
    }
   },
   "outputs": [
    {
     "data": {
      "text/plain": [
       "0.4583333333333333"
      ]
     },
     "execution_count": 6,
     "metadata": {},
     "output_type": "execute_result"
    }
   ],
   "source": [
    "jellyfish.jaro_winkler(\"Arts Deli\", \"Fringale\")"
   ]
  },
  {
   "cell_type": "markdown",
   "metadata": {
    "slideshow": {
     "slide_type": "slide"
    }
   },
   "source": [
    "## Fuzzy comparison of addresses"
   ]
  },
  {
   "cell_type": "markdown",
   "metadata": {
    "slideshow": {
     "slide_type": "fragment"
    }
   },
   "source": [
    "Geocoding street addresses, i.e., converting them to **latitude/longitude** is very useful for matching because geocoders can:\n",
    "- clean irrelevant address variations\n",
    "- enable the calculation of geometric distance using lat/lng"
   ]
  },
  {
   "cell_type": "code",
   "execution_count": 7,
   "metadata": {
    "slideshow": {
     "slide_type": "slide"
    }
   },
   "outputs": [],
   "source": [
    "import requests\n",
    "import geocoder\n",
    "\n",
    "# full_addresses = [\n",
    "#     \"20863 Stevens Creek Blvd., ste 330, 95015, CUPERTINO, CA, USA\",\n",
    "#     \"20863 STEVENS CREEK Boulevard STE 330, 95014, Cupertio, CA, USA\",\n",
    "# ]\n",
    "\n",
    "# full_addresses_latlng = []\n",
    "# with requests.Session() as session:\n",
    "#     for a in full_addresses:\n",
    "#         a_geocoded = geocoder.google(a, session=session)\n",
    "#         full_addresses_latlng.append((a_geocoded.latlng, a_geocoded.postal))\n",
    "\n",
    "# address_latlng = list(zip(full_addresses, full_addresses_latlng))"
   ]
  },
  {
   "cell_type": "code",
   "execution_count": 8,
   "metadata": {
    "scrolled": true,
    "slideshow": {
     "slide_type": "slide"
    }
   },
   "outputs": [],
   "source": [
    "import pprint\n",
    "\n",
    "# pprint.pprint(address_latlng)"
   ]
  },
  {
   "cell_type": "markdown",
   "metadata": {
    "slideshow": {
     "slide_type": "fragment"
    }
   },
   "source": [
    "Google geocoder is able to ignore the following variations:\n",
    "- Lower/upper case\n",
    "- Blvd. vs Boulevard\n",
    "- Zipcode 95015 vs 95014\n",
    "- Cupertino vs Cupertio"
   ]
  },
  {
   "cell_type": "markdown",
   "metadata": {
    "slideshow": {
     "slide_type": "slide"
    }
   },
   "source": [
    "## 0/4 - Preprocessing"
   ]
  },
  {
   "cell_type": "markdown",
   "metadata": {
    "slideshow": {
     "slide_type": "fragment"
    }
   },
   "source": [
    "Custom dataset based on [Restaurant](https://www.cs.utexas.edu/users/ml/riddle/data.html) dataset:\n",
    "- a well-known dataset used by researchers\n",
    "- made of 881 restaurant records from the Fodor's and Zagat's restaurant guides\n",
    "- contains 150 duplicates"
   ]
  },
  {
   "cell_type": "markdown",
   "metadata": {
    "slideshow": {
     "slide_type": "skip"
    }
   },
   "source": [
    "\\* We've introduced some changes that you can check by doing a `diff restaurant.original.csv restaurant.csv`"
   ]
  },
  {
   "cell_type": "code",
   "execution_count": 9,
   "metadata": {
    "slideshow": {
     "slide_type": "slide"
    }
   },
   "outputs": [
    {
     "data": {
      "text/html": [
       "<div>\n",
       "<style scoped>\n",
       "    .dataframe tbody tr th:only-of-type {\n",
       "        vertical-align: middle;\n",
       "    }\n",
       "\n",
       "    .dataframe tbody tr th {\n",
       "        vertical-align: top;\n",
       "    }\n",
       "\n",
       "    .dataframe thead th {\n",
       "        text-align: right;\n",
       "    }\n",
       "</style>\n",
       "<table border=\"1\" class=\"dataframe\">\n",
       "  <thead>\n",
       "    <tr style=\"text-align: right;\">\n",
       "      <th></th>\n",
       "      <th>name</th>\n",
       "      <th>addr</th>\n",
       "      <th>city</th>\n",
       "      <th>phone</th>\n",
       "      <th>type</th>\n",
       "      <th>cluster</th>\n",
       "    </tr>\n",
       "  </thead>\n",
       "  <tbody>\n",
       "    <tr>\n",
       "      <th>0</th>\n",
       "      <td>arnie morton's of chicago</td>\n",
       "      <td>435 s. la cienega blv.</td>\n",
       "      <td>los angeles</td>\n",
       "      <td>310/246-1501</td>\n",
       "      <td>american</td>\n",
       "      <td>0</td>\n",
       "    </tr>\n",
       "    <tr>\n",
       "      <th>1</th>\n",
       "      <td>arnie morton's of chicago</td>\n",
       "      <td>435 s. la cienega blvd.</td>\n",
       "      <td>los angeles</td>\n",
       "      <td>310-246-1501</td>\n",
       "      <td>steakhouses</td>\n",
       "      <td>0</td>\n",
       "    </tr>\n",
       "    <tr>\n",
       "      <th>2</th>\n",
       "      <td>arnie morton</td>\n",
       "      <td>435 s. la cienega boulevard</td>\n",
       "      <td>los angeles</td>\n",
       "      <td>310-246-1501</td>\n",
       "      <td>steakhouses</td>\n",
       "      <td>0</td>\n",
       "    </tr>\n",
       "    <tr>\n",
       "      <th>3</th>\n",
       "      <td>art's delicatessen</td>\n",
       "      <td>12224 ventura blvd.</td>\n",
       "      <td>studio city</td>\n",
       "      <td>818/762-1221</td>\n",
       "      <td>american</td>\n",
       "      <td>1</td>\n",
       "    </tr>\n",
       "    <tr>\n",
       "      <th>4</th>\n",
       "      <td>art's deli</td>\n",
       "      <td>12224 ventura blvd.</td>\n",
       "      <td>studio city</td>\n",
       "      <td>818-762-1221</td>\n",
       "      <td>delis</td>\n",
       "      <td>1</td>\n",
       "    </tr>\n",
       "    <tr>\n",
       "      <th>5</th>\n",
       "      <td>art's deli</td>\n",
       "      <td>12224 ventura blvd.</td>\n",
       "      <td>los angeles</td>\n",
       "      <td>818-762-1221</td>\n",
       "      <td>delis</td>\n",
       "      <td>1</td>\n",
       "    </tr>\n",
       "    <tr>\n",
       "      <th>6</th>\n",
       "      <td>hotel bel-air</td>\n",
       "      <td>701 stone canyon rd.</td>\n",
       "      <td>bel air</td>\n",
       "      <td>310/472-1211</td>\n",
       "      <td>californian</td>\n",
       "      <td>2</td>\n",
       "    </tr>\n",
       "    <tr>\n",
       "      <th>7</th>\n",
       "      <td>bel-air hotel</td>\n",
       "      <td>701 stone canyon rd.</td>\n",
       "      <td>bel air</td>\n",
       "      <td>310-472-1211</td>\n",
       "      <td>californian</td>\n",
       "      <td>2</td>\n",
       "    </tr>\n",
       "    <tr>\n",
       "      <th>8</th>\n",
       "      <td>bel-air</td>\n",
       "      <td>701 stone canyon road</td>\n",
       "      <td>bel air</td>\n",
       "      <td>(310) 472-1211</td>\n",
       "      <td>american</td>\n",
       "      <td>2</td>\n",
       "    </tr>\n",
       "  </tbody>\n",
       "</table>\n",
       "</div>"
      ],
      "text/plain": [
       "                        name                         addr         city  \\\n",
       "0  arnie morton's of chicago       435 s. la cienega blv.  los angeles   \n",
       "1  arnie morton's of chicago      435 s. la cienega blvd.  los angeles   \n",
       "2               arnie morton  435 s. la cienega boulevard  los angeles   \n",
       "3         art's delicatessen          12224 ventura blvd.  studio city   \n",
       "4                 art's deli          12224 ventura blvd.  studio city   \n",
       "5                 art's deli          12224 ventura blvd.  los angeles   \n",
       "6              hotel bel-air         701 stone canyon rd.      bel air   \n",
       "7              bel-air hotel         701 stone canyon rd.      bel air   \n",
       "8                    bel-air        701 stone canyon road      bel air   \n",
       "\n",
       "            phone         type  cluster  \n",
       "0    310/246-1501     american        0  \n",
       "1    310-246-1501  steakhouses        0  \n",
       "2    310-246-1501  steakhouses        0  \n",
       "3    818/762-1221     american        1  \n",
       "4    818-762-1221        delis        1  \n",
       "5    818-762-1221        delis        1  \n",
       "6    310/472-1211  californian        2  \n",
       "7    310-472-1211  californian        2  \n",
       "8  (310) 472-1211     american        2  "
      ]
     },
     "execution_count": 9,
     "metadata": {},
     "output_type": "execute_result"
    }
   ],
   "source": [
    "df_with_truth = pd.read_csv('restaurant.csv', skip_blank_lines=True)\n",
    "df_with_truth.head(9)"
   ]
  },
  {
   "cell_type": "markdown",
   "metadata": {
    "slideshow": {
     "slide_type": "slide"
    }
   },
   "source": [
    "The dataset comes with the true matches indicated by the 'cluster' column. We'll remove it. We'll also remove the 'phone' and 'type' to makes things more difficult:"
   ]
  },
  {
   "cell_type": "code",
   "execution_count": 10,
   "metadata": {
    "slideshow": {
     "slide_type": "fragment"
    }
   },
   "outputs": [
    {
     "data": {
      "text/html": [
       "<div>\n",
       "<style scoped>\n",
       "    .dataframe tbody tr th:only-of-type {\n",
       "        vertical-align: middle;\n",
       "    }\n",
       "\n",
       "    .dataframe tbody tr th {\n",
       "        vertical-align: top;\n",
       "    }\n",
       "\n",
       "    .dataframe thead th {\n",
       "        text-align: right;\n",
       "    }\n",
       "</style>\n",
       "<table border=\"1\" class=\"dataframe\">\n",
       "  <thead>\n",
       "    <tr style=\"text-align: right;\">\n",
       "      <th></th>\n",
       "      <th>name</th>\n",
       "      <th>addr</th>\n",
       "      <th>city</th>\n",
       "    </tr>\n",
       "  </thead>\n",
       "  <tbody>\n",
       "    <tr>\n",
       "      <th>0</th>\n",
       "      <td>arnie morton's of chicago</td>\n",
       "      <td>435 s. la cienega blv.</td>\n",
       "      <td>los angeles</td>\n",
       "    </tr>\n",
       "    <tr>\n",
       "      <th>1</th>\n",
       "      <td>arnie morton's of chicago</td>\n",
       "      <td>435 s. la cienega blvd.</td>\n",
       "      <td>los angeles</td>\n",
       "    </tr>\n",
       "    <tr>\n",
       "      <th>2</th>\n",
       "      <td>arnie morton</td>\n",
       "      <td>435 s. la cienega boulevard</td>\n",
       "      <td>los angeles</td>\n",
       "    </tr>\n",
       "    <tr>\n",
       "      <th>3</th>\n",
       "      <td>art's delicatessen</td>\n",
       "      <td>12224 ventura blvd.</td>\n",
       "      <td>studio city</td>\n",
       "    </tr>\n",
       "    <tr>\n",
       "      <th>4</th>\n",
       "      <td>art's deli</td>\n",
       "      <td>12224 ventura blvd.</td>\n",
       "      <td>studio city</td>\n",
       "    </tr>\n",
       "    <tr>\n",
       "      <th>5</th>\n",
       "      <td>art's deli</td>\n",
       "      <td>12224 ventura blvd.</td>\n",
       "      <td>los angeles</td>\n",
       "    </tr>\n",
       "    <tr>\n",
       "      <th>6</th>\n",
       "      <td>hotel bel-air</td>\n",
       "      <td>701 stone canyon rd.</td>\n",
       "      <td>bel air</td>\n",
       "    </tr>\n",
       "    <tr>\n",
       "      <th>7</th>\n",
       "      <td>bel-air hotel</td>\n",
       "      <td>701 stone canyon rd.</td>\n",
       "      <td>bel air</td>\n",
       "    </tr>\n",
       "    <tr>\n",
       "      <th>8</th>\n",
       "      <td>bel-air</td>\n",
       "      <td>701 stone canyon road</td>\n",
       "      <td>bel air</td>\n",
       "    </tr>\n",
       "  </tbody>\n",
       "</table>\n",
       "</div>"
      ],
      "text/plain": [
       "                        name                         addr         city\n",
       "0  arnie morton's of chicago       435 s. la cienega blv.  los angeles\n",
       "1  arnie morton's of chicago      435 s. la cienega blvd.  los angeles\n",
       "2               arnie morton  435 s. la cienega boulevard  los angeles\n",
       "3         art's delicatessen          12224 ventura blvd.  studio city\n",
       "4                 art's deli          12224 ventura blvd.  studio city\n",
       "5                 art's deli          12224 ventura blvd.  los angeles\n",
       "6              hotel bel-air         701 stone canyon rd.      bel air\n",
       "7              bel-air hotel         701 stone canyon rd.      bel air\n",
       "8                    bel-air        701 stone canyon road      bel air"
      ]
     },
     "execution_count": 10,
     "metadata": {},
     "output_type": "execute_result"
    }
   ],
   "source": [
    "df = df_with_truth.drop(columns=['cluster', 'phone', 'type'])\n",
    "df.head(9)"
   ]
  },
  {
   "cell_type": "markdown",
   "metadata": {
    "slideshow": {
     "slide_type": "slide"
    }
   },
   "source": [
    "Now we'll clean the column values! Cleaning **name**:"
   ]
  },
  {
   "cell_type": "code",
   "execution_count": 11,
   "metadata": {
    "scrolled": true,
    "slideshow": {
     "slide_type": "fragment"
    }
   },
   "outputs": [
    {
     "data": {
      "text/html": [
       "<div>\n",
       "<style scoped>\n",
       "    .dataframe tbody tr th:only-of-type {\n",
       "        vertical-align: middle;\n",
       "    }\n",
       "\n",
       "    .dataframe tbody tr th {\n",
       "        vertical-align: top;\n",
       "    }\n",
       "\n",
       "    .dataframe thead th {\n",
       "        text-align: right;\n",
       "    }\n",
       "</style>\n",
       "<table border=\"1\" class=\"dataframe\">\n",
       "  <thead>\n",
       "    <tr style=\"text-align: right;\">\n",
       "      <th></th>\n",
       "      <th>name</th>\n",
       "      <th>addr</th>\n",
       "      <th>city</th>\n",
       "    </tr>\n",
       "  </thead>\n",
       "  <tbody>\n",
       "    <tr>\n",
       "      <th>0</th>\n",
       "      <td>arnie morton s of chicago</td>\n",
       "      <td>435 s. la cienega blv.</td>\n",
       "      <td>los angeles</td>\n",
       "    </tr>\n",
       "    <tr>\n",
       "      <th>1</th>\n",
       "      <td>arnie morton s of chicago</td>\n",
       "      <td>435 s. la cienega blvd.</td>\n",
       "      <td>los angeles</td>\n",
       "    </tr>\n",
       "    <tr>\n",
       "      <th>2</th>\n",
       "      <td>arnie morton</td>\n",
       "      <td>435 s. la cienega boulevard</td>\n",
       "      <td>los angeles</td>\n",
       "    </tr>\n",
       "    <tr>\n",
       "      <th>3</th>\n",
       "      <td>art s delicatessen</td>\n",
       "      <td>12224 ventura blvd.</td>\n",
       "      <td>studio city</td>\n",
       "    </tr>\n",
       "    <tr>\n",
       "      <th>4</th>\n",
       "      <td>art s deli</td>\n",
       "      <td>12224 ventura blvd.</td>\n",
       "      <td>studio city</td>\n",
       "    </tr>\n",
       "    <tr>\n",
       "      <th>5</th>\n",
       "      <td>art s deli</td>\n",
       "      <td>12224 ventura blvd.</td>\n",
       "      <td>los angeles</td>\n",
       "    </tr>\n",
       "    <tr>\n",
       "      <th>6</th>\n",
       "      <td>hotel bel air</td>\n",
       "      <td>701 stone canyon rd.</td>\n",
       "      <td>bel air</td>\n",
       "    </tr>\n",
       "    <tr>\n",
       "      <th>7</th>\n",
       "      <td>bel air hotel</td>\n",
       "      <td>701 stone canyon rd.</td>\n",
       "      <td>bel air</td>\n",
       "    </tr>\n",
       "    <tr>\n",
       "      <th>8</th>\n",
       "      <td>bel air</td>\n",
       "      <td>701 stone canyon road</td>\n",
       "      <td>bel air</td>\n",
       "    </tr>\n",
       "  </tbody>\n",
       "</table>\n",
       "</div>"
      ],
      "text/plain": [
       "                        name                         addr         city\n",
       "0  arnie morton s of chicago       435 s. la cienega blv.  los angeles\n",
       "1  arnie morton s of chicago      435 s. la cienega blvd.  los angeles\n",
       "2               arnie morton  435 s. la cienega boulevard  los angeles\n",
       "3         art s delicatessen          12224 ventura blvd.  studio city\n",
       "4                 art s deli          12224 ventura blvd.  studio city\n",
       "5                 art s deli          12224 ventura blvd.  los angeles\n",
       "6              hotel bel air         701 stone canyon rd.      bel air\n",
       "7              bel air hotel         701 stone canyon rd.      bel air\n",
       "8                    bel air        701 stone canyon road      bel air"
      ]
     },
     "execution_count": 11,
     "metadata": {},
     "output_type": "execute_result"
    }
   ],
   "source": [
    "import re\n",
    "\n",
    "irrelevant_regex = re.compile(r'[^a-z0-9\\s]')\n",
    "multispace_regex = re.compile(r'\\s\\s+')\n",
    "\n",
    "def assign_no_symbols_name(df):\n",
    "    return df.assign(\n",
    "        name=df['name']\n",
    "             .str.replace(irrelevant_regex, ' ')\n",
    "             .str.replace(multispace_regex, ' '))\n",
    "\n",
    "df = assign_no_symbols_name(df)\n",
    "df.head(9)"
   ]
  },
  {
   "cell_type": "markdown",
   "metadata": {
    "slideshow": {
     "slide_type": "slide"
    }
   },
   "source": [
    "Geocoding **addr**:"
   ]
  },
  {
   "cell_type": "code",
   "execution_count": 12,
   "metadata": {
    "slideshow": {
     "slide_type": "skip"
    }
   },
   "outputs": [
    {
     "name": "stdout",
     "output_type": "stream",
     "text": [
      "881 819\n"
     ]
    }
   ],
   "source": [
    "import numpy as np\n",
    "\n",
    "all_addresses = df['addr'].str.cat(df['city'], sep=', ').values\n",
    "unique_addresses = np.unique(all_addresses)\n",
    "print(len(all_addresses), len(unique_addresses))"
   ]
  },
  {
   "cell_type": "code",
   "execution_count": 13,
   "metadata": {
    "slideshow": {
     "slide_type": "skip"
    }
   },
   "outputs": [
    {
     "name": "stdout",
     "output_type": "stream",
     "text": [
      "Failed to get postal from 7\n",
      "Failed to get latlng from 0\n"
     ]
    }
   ],
   "source": [
    "import os.path\n",
    "import json\n",
    "\n",
    "geocoding_filename = 'address_to_geocoding.json'\n",
    "\n",
    "def geocode_addresses(address_to_geocoding):\n",
    "    remaining_addresses = (\n",
    "        set(unique_addresses) -\n",
    "        set(k for k, v in address_to_geocoding.items() if v is not None and 'lat' in v))\n",
    "\n",
    "    with requests.Session() as session:\n",
    "        for i, address in enumerate(remaining_addresses):\n",
    "            print(f\"Geocoding {i + 1}/{len(remaining_addresses)}\")\n",
    "            geocode_result = geocoder.google(address, session=session)\n",
    "            address_to_geocoding[address] = geocode_result.json\n",
    "\n",
    "        with open(geocoding_filename, 'w') as f:\n",
    "            json.dump(address_to_geocoding, f, indent=4)\n",
    "\n",
    "if not os.path.exists(geocoding_filename):\n",
    "    address_to_geocoding = {}\n",
    "    geocode_addresses(address_to_geocoding)\n",
    "else:\n",
    "    with open(geocoding_filename) as f:\n",
    "        address_to_geocoding = json.load(f)\n",
    "    geocode_addresses(address_to_geocoding)\n",
    " \n",
    "address_to_postal = {\n",
    "    k: v['postal']\n",
    "    for k, v in address_to_geocoding.items()\n",
    "    if v is not None and 'postal' in v\n",
    "}\n",
    "address_to_latlng = {\n",
    "    k: (v['lat'], v['lng'])\n",
    "    for k, v in address_to_geocoding.items()\n",
    "    if v is not None\n",
    "}\n",
    "print(f\"Failed to get postal from {len(address_to_geocoding) - len(address_to_postal)}\")\n",
    "print(f\"Failed to get latlng from {len(address_to_geocoding) - len(address_to_latlng)}\")"
   ]
  },
  {
   "cell_type": "code",
   "execution_count": 14,
   "metadata": {
    "scrolled": false,
    "slideshow": {
     "slide_type": "slide"
    }
   },
   "outputs": [
    {
     "data": {
      "text/html": [
       "<div>\n",
       "<style scoped>\n",
       "    .dataframe tbody tr th:only-of-type {\n",
       "        vertical-align: middle;\n",
       "    }\n",
       "\n",
       "    .dataframe tbody tr th {\n",
       "        vertical-align: top;\n",
       "    }\n",
       "\n",
       "    .dataframe thead th {\n",
       "        text-align: right;\n",
       "    }\n",
       "</style>\n",
       "<table border=\"1\" class=\"dataframe\">\n",
       "  <thead>\n",
       "    <tr style=\"text-align: right;\">\n",
       "      <th></th>\n",
       "      <th>name</th>\n",
       "      <th>addr</th>\n",
       "      <th>city</th>\n",
       "      <th>postal</th>\n",
       "      <th>lat</th>\n",
       "      <th>lng</th>\n",
       "    </tr>\n",
       "  </thead>\n",
       "  <tbody>\n",
       "    <tr>\n",
       "      <th>0</th>\n",
       "      <td>arnie morton s of chicago</td>\n",
       "      <td>435 s. la cienega blv.</td>\n",
       "      <td>los angeles</td>\n",
       "      <td>90048</td>\n",
       "      <td>34.070609</td>\n",
       "      <td>-118.376722</td>\n",
       "    </tr>\n",
       "    <tr>\n",
       "      <th>1</th>\n",
       "      <td>arnie morton s of chicago</td>\n",
       "      <td>435 s. la cienega blvd.</td>\n",
       "      <td>los angeles</td>\n",
       "      <td>90048</td>\n",
       "      <td>34.070609</td>\n",
       "      <td>-118.376722</td>\n",
       "    </tr>\n",
       "    <tr>\n",
       "      <th>2</th>\n",
       "      <td>arnie morton</td>\n",
       "      <td>435 s. la cienega boulevard</td>\n",
       "      <td>los angeles</td>\n",
       "      <td>90048</td>\n",
       "      <td>34.070609</td>\n",
       "      <td>-118.376722</td>\n",
       "    </tr>\n",
       "    <tr>\n",
       "      <th>3</th>\n",
       "      <td>art s delicatessen</td>\n",
       "      <td>12224 ventura blvd.</td>\n",
       "      <td>studio city</td>\n",
       "      <td>91604</td>\n",
       "      <td>34.142966</td>\n",
       "      <td>-118.399469</td>\n",
       "    </tr>\n",
       "    <tr>\n",
       "      <th>4</th>\n",
       "      <td>art s deli</td>\n",
       "      <td>12224 ventura blvd.</td>\n",
       "      <td>studio city</td>\n",
       "      <td>91604</td>\n",
       "      <td>34.142966</td>\n",
       "      <td>-118.399469</td>\n",
       "    </tr>\n",
       "    <tr>\n",
       "      <th>5</th>\n",
       "      <td>art s deli</td>\n",
       "      <td>12224 ventura blvd.</td>\n",
       "      <td>los angeles</td>\n",
       "      <td>91604</td>\n",
       "      <td>34.142966</td>\n",
       "      <td>-118.399469</td>\n",
       "    </tr>\n",
       "  </tbody>\n",
       "</table>\n",
       "</div>"
      ],
      "text/plain": [
       "                        name                         addr         city postal  \\\n",
       "0  arnie morton s of chicago       435 s. la cienega blv.  los angeles  90048   \n",
       "1  arnie morton s of chicago      435 s. la cienega blvd.  los angeles  90048   \n",
       "2               arnie morton  435 s. la cienega boulevard  los angeles  90048   \n",
       "3         art s delicatessen          12224 ventura blvd.  studio city  91604   \n",
       "4                 art s deli          12224 ventura blvd.  studio city  91604   \n",
       "5                 art s deli          12224 ventura blvd.  los angeles  91604   \n",
       "\n",
       "         lat         lng  \n",
       "0  34.070609 -118.376722  \n",
       "1  34.070609 -118.376722  \n",
       "2  34.070609 -118.376722  \n",
       "3  34.142966 -118.399469  \n",
       "4  34.142966 -118.399469  \n",
       "5  34.142966 -118.399469  "
      ]
     },
     "execution_count": 14,
     "metadata": {},
     "output_type": "execute_result"
    }
   ],
   "source": [
    "def assign_postal_lat_lng(df):\n",
    "    addresses = df['addr'].str.cat(df['city'], sep=', ')\n",
    "    addresses_to_postal = [address_to_postal.get(a) for a in addresses]\n",
    "    addresses_to_lat = [address_to_latlng[a][0] if a in address_to_latlng else None for a in addresses]\n",
    "    addresses_to_lng = [address_to_latlng[a][1] if a in address_to_latlng else None for a in addresses]\n",
    "\n",
    "    return df.assign(postal=addresses_to_postal, lat=addresses_to_lat, lng=addresses_to_lng)\n",
    "\n",
    "df = assign_postal_lat_lng(df)\n",
    "df.head(6)"
   ]
  },
  {
   "cell_type": "markdown",
   "metadata": {
    "slideshow": {
     "slide_type": "slide"
    }
   },
   "source": [
    "## 1/4 - Indexing"
   ]
  },
  {
   "cell_type": "markdown",
   "metadata": {
    "slideshow": {
     "slide_type": "slide"
    }
   },
   "source": [
    "We'll use the library **recordlinkage**, aka **[Python Record Linkage Toolkit](http://recordlinkage.readthedocs.io/en/stable/)**."
   ]
  },
  {
   "cell_type": "markdown",
   "metadata": {
    "slideshow": {
     "slide_type": "slide"
    }
   },
   "source": [
    "We have the cleaned records, now we want the **pairs** to compare to find matches.\n",
    "\n",
    "To **produce** the pairs, we could do a \"full\" index, i.e., all records against all records:"
   ]
  },
  {
   "cell_type": "code",
   "execution_count": 15,
   "metadata": {
    "scrolled": true,
    "slideshow": {
     "slide_type": "fragment"
    }
   },
   "outputs": [
    {
     "name": "stdout",
     "output_type": "stream",
     "text": [
      "WARNING:recordlinkage:indexing - performance warning - A full index can result in large number of record pairs.\n",
      "Full index: 881 records, 387640 pairs\n"
     ]
    }
   ],
   "source": [
    "import recordlinkage as rl\n",
    "from recordlinkage.index import Full\n",
    "\n",
    "full_indexer = Full()\n",
    "pairs = full_indexer.index(df)\n",
    "\n",
    "print(f\"Full index: {len(df)} records, {len(pairs)} pairs\")"
   ]
  },
  {
   "cell_type": "markdown",
   "metadata": {
    "slideshow": {
     "slide_type": "slide"
    }
   },
   "source": [
    "The number of pairs grows too fast as the number of records grows: it **grows quadratically**.\n",
    "\n",
    "That's why we need **indexing**. We need to produce only pairs that are good candidates of being duplicates to avoid wasting too much time."
   ]
  },
  {
   "cell_type": "markdown",
   "metadata": {
    "slideshow": {
     "slide_type": "slide"
    }
   },
   "source": [
    "The trivial way to index is **blocking**: produce pairs that have **some common column value**."
   ]
  },
  {
   "cell_type": "markdown",
   "metadata": {
    "slideshow": {
     "slide_type": "fragment"
    }
   },
   "source": [
    "Below we produce pairs that have **equal values for a prefix of postal** code:"
   ]
  },
  {
   "cell_type": "code",
   "execution_count": 16,
   "metadata": {
    "slideshow": {
     "slide_type": "fragment"
    }
   },
   "outputs": [
    {
     "name": "stdout",
     "output_type": "stream",
     "text": [
      "Postal index: 81576 pairs\n"
     ]
    }
   ],
   "source": [
    "from recordlinkage.index import Block\n",
    "\n",
    "df_with_postal_prefix = df.assign(postal_prefix=df['postal'].str[:3])\n",
    "postal_indexer = Block('postal_prefix')\n",
    "postal_index_pairs = postal_indexer.index(df_with_postal_prefix)\n",
    "\n",
    "print(f\"Postal index: {len(postal_index_pairs)} pairs\")"
   ]
  },
  {
   "cell_type": "code",
   "execution_count": 17,
   "metadata": {
    "slideshow": {
     "slide_type": "skip"
    }
   },
   "outputs": [],
   "source": [
    "# We'll swap the levels of pairs MultiIndex returned by recordlinkage\n",
    "# to make it simpler to interpret. Here we get the upper triangle of the pairs matrix.\n",
    "pairs = pairs.swaplevel().sortlevel()[0]"
   ]
  },
  {
   "cell_type": "code",
   "execution_count": 18,
   "metadata": {
    "slideshow": {
     "slide_type": "slide"
    }
   },
   "outputs": [
    {
     "data": {
      "text/plain": [
       "array([[ 0,  1],\n",
       "       [ 0,  2],\n",
       "       [ 0,  3],\n",
       "       [ 0,  4],\n",
       "       [ 0,  5],\n",
       "       [ 0,  6],\n",
       "       [ 0,  7],\n",
       "       [ 0,  8],\n",
       "       [ 0,  9],\n",
       "       [ 0, 10]])"
      ]
     },
     "execution_count": 18,
     "metadata": {},
     "output_type": "execute_result"
    }
   ],
   "source": [
    "pairs.to_frame()[:10].values"
   ]
  },
  {
   "cell_type": "markdown",
   "metadata": {
    "slideshow": {
     "slide_type": "slide"
    }
   },
   "source": [
    "## 2/4 - Comparison"
   ]
  },
  {
   "cell_type": "markdown",
   "metadata": {
    "slideshow": {
     "slide_type": "slide"
    }
   },
   "source": [
    "Now we want to run comparisons on the indexed pairs to produce **a comparison vector for each pair**. For example:"
   ]
  },
  {
   "cell_type": "code",
   "execution_count": 19,
   "metadata": {
    "slideshow": {
     "slide_type": "fragment"
    }
   },
   "outputs": [
    {
     "data": {
      "text/html": [
       "<div>\n",
       "<style scoped>\n",
       "    .dataframe tbody tr th:only-of-type {\n",
       "        vertical-align: middle;\n",
       "    }\n",
       "\n",
       "    .dataframe tbody tr th {\n",
       "        vertical-align: top;\n",
       "    }\n",
       "\n",
       "    .dataframe thead th {\n",
       "        text-align: right;\n",
       "    }\n",
       "</style>\n",
       "<table border=\"1\" class=\"dataframe\">\n",
       "  <thead>\n",
       "    <tr style=\"text-align: right;\">\n",
       "      <th></th>\n",
       "      <th></th>\n",
       "      <th>name</th>\n",
       "      <th>addr</th>\n",
       "      <th>postal</th>\n",
       "      <th>latlng</th>\n",
       "    </tr>\n",
       "  </thead>\n",
       "  <tbody>\n",
       "    <tr>\n",
       "      <th>100</th>\n",
       "      <th>200</th>\n",
       "      <td>0.5</td>\n",
       "      <td>0.8</td>\n",
       "      <td>0.9</td>\n",
       "      <td>1</td>\n",
       "    </tr>\n",
       "  </tbody>\n",
       "</table>\n",
       "</div>"
      ],
      "text/plain": [
       "         name  addr  postal  latlng\n",
       "100 200   0.5   0.8     0.9       1"
      ]
     },
     "execution_count": 19,
     "metadata": {},
     "output_type": "execute_result"
    }
   ],
   "source": [
    "pd.DataFrame([[0.5, 0.8, 0.9, 1]],\n",
    "             columns=['name', 'addr', 'postal', 'latlng'],\n",
    "             index=pd.MultiIndex.from_arrays([[100], [200]]))"
   ]
  },
  {
   "cell_type": "markdown",
   "metadata": {
    "slideshow": {
     "slide_type": "fragment"
    }
   },
   "source": [
    "The pair of records `(100, 200)` has:\n",
    "- Low similarity on `name`s\n",
    "- Some similarity on `addr`s\n",
    "- High similarity on `postal`s\n",
    "- Equal `latlng`s"
   ]
  },
  {
   "cell_type": "markdown",
   "metadata": {
    "slideshow": {
     "slide_type": "slide"
    }
   },
   "source": [
    "To compute the comparison vectors, we define a **similarity function** for each column:"
   ]
  },
  {
   "cell_type": "code",
   "execution_count": 20,
   "metadata": {
    "slideshow": {
     "slide_type": "fragment"
    }
   },
   "outputs": [],
   "source": [
    "comp = rl.Compare()\n",
    "comp.string('name', 'name', method='jarowinkler', label='name')\n",
    "comp.string('addr', 'addr', method='jarowinkler', label='addr')\n",
    "comp.string('postal', 'postal', method='jarowinkler', label='postal')\n",
    "comp.geo('lat', 'lng', 'lat', 'lng', method='exp', scale=0.1, offset=0.01, label='latlng');"
   ]
  },
  {
   "cell_type": "markdown",
   "metadata": {
    "slideshow": {
     "slide_type": "slide"
    }
   },
   "source": [
    "Now we'll compute the **comparison vectors**:"
   ]
  },
  {
   "cell_type": "code",
   "execution_count": 21,
   "metadata": {
    "slideshow": {
     "slide_type": "fragment"
    }
   },
   "outputs": [
    {
     "data": {
      "text/html": [
       "<div>\n",
       "<style scoped>\n",
       "    .dataframe tbody tr th:only-of-type {\n",
       "        vertical-align: middle;\n",
       "    }\n",
       "\n",
       "    .dataframe tbody tr th {\n",
       "        vertical-align: top;\n",
       "    }\n",
       "\n",
       "    .dataframe thead th {\n",
       "        text-align: right;\n",
       "    }\n",
       "</style>\n",
       "<table border=\"1\" class=\"dataframe\">\n",
       "  <thead>\n",
       "    <tr style=\"text-align: right;\">\n",
       "      <th></th>\n",
       "      <th></th>\n",
       "      <th>name</th>\n",
       "      <th>addr</th>\n",
       "      <th>postal</th>\n",
       "      <th>latlng</th>\n",
       "    </tr>\n",
       "  </thead>\n",
       "  <tbody>\n",
       "    <tr>\n",
       "      <th rowspan=\"5\" valign=\"top\">0</th>\n",
       "      <th>1</th>\n",
       "      <td>1.000000</td>\n",
       "      <td>0.985507</td>\n",
       "      <td>1.000000</td>\n",
       "      <td>1.000000e+00</td>\n",
       "    </tr>\n",
       "    <tr>\n",
       "      <th>2</th>\n",
       "      <td>0.896000</td>\n",
       "      <td>0.910774</td>\n",
       "      <td>1.000000</td>\n",
       "      <td>1.000000e+00</td>\n",
       "    </tr>\n",
       "    <tr>\n",
       "      <th>3</th>\n",
       "      <td>0.562492</td>\n",
       "      <td>0.593620</td>\n",
       "      <td>0.733333</td>\n",
       "      <td>1.006819e-25</td>\n",
       "    </tr>\n",
       "    <tr>\n",
       "      <th>4</th>\n",
       "      <td>0.581667</td>\n",
       "      <td>0.593620</td>\n",
       "      <td>0.733333</td>\n",
       "      <td>1.006819e-25</td>\n",
       "    </tr>\n",
       "    <tr>\n",
       "      <th>5</th>\n",
       "      <td>0.581667</td>\n",
       "      <td>0.593620</td>\n",
       "      <td>0.733333</td>\n",
       "      <td>1.006819e-25</td>\n",
       "    </tr>\n",
       "  </tbody>\n",
       "</table>\n",
       "</div>"
      ],
      "text/plain": [
       "         name      addr    postal        latlng\n",
       "0 1  1.000000  0.985507  1.000000  1.000000e+00\n",
       "  2  0.896000  0.910774  1.000000  1.000000e+00\n",
       "  3  0.562492  0.593620  0.733333  1.006819e-25\n",
       "  4  0.581667  0.593620  0.733333  1.006819e-25\n",
       "  5  0.581667  0.593620  0.733333  1.006819e-25"
      ]
     },
     "execution_count": 21,
     "metadata": {},
     "output_type": "execute_result"
    }
   ],
   "source": [
    "comparison_vectors = comp.compute(pairs, df)\n",
    "comparison_vectors.head(5)"
   ]
  },
  {
   "cell_type": "markdown",
   "metadata": {
    "slideshow": {
     "slide_type": "slide"
    }
   },
   "source": [
    "Now, with our comparison vectors, we'll explore **different ways** to classify them as matches and nonmatches."
   ]
  },
  {
   "cell_type": "markdown",
   "metadata": {
    "slideshow": {
     "slide_type": "slide"
    }
   },
   "source": [
    "## 3/4 - Classification"
   ]
  },
  {
   "cell_type": "markdown",
   "metadata": {
    "slideshow": {
     "slide_type": "slide"
    }
   },
   "source": [
    "### Threshold-Based Classification"
   ]
  },
  {
   "cell_type": "markdown",
   "metadata": {
    "slideshow": {
     "slide_type": "slide"
    }
   },
   "source": [
    "A simple way to classify comparison vectors as matches or nonmatches is to compute a **weighted average** over the vectors to get a **score**:"
   ]
  },
  {
   "cell_type": "code",
   "execution_count": 22,
   "metadata": {
    "slideshow": {
     "slide_type": "fragment"
    }
   },
   "outputs": [
    {
     "data": {
      "text/html": [
       "<div>\n",
       "<style scoped>\n",
       "    .dataframe tbody tr th:only-of-type {\n",
       "        vertical-align: middle;\n",
       "    }\n",
       "\n",
       "    .dataframe tbody tr th {\n",
       "        vertical-align: top;\n",
       "    }\n",
       "\n",
       "    .dataframe thead th {\n",
       "        text-align: right;\n",
       "    }\n",
       "</style>\n",
       "<table border=\"1\" class=\"dataframe\">\n",
       "  <thead>\n",
       "    <tr style=\"text-align: right;\">\n",
       "      <th></th>\n",
       "      <th></th>\n",
       "      <th>name</th>\n",
       "      <th>addr</th>\n",
       "      <th>postal</th>\n",
       "      <th>latlng</th>\n",
       "      <th>score</th>\n",
       "    </tr>\n",
       "  </thead>\n",
       "  <tbody>\n",
       "    <tr>\n",
       "      <th rowspan=\"5\" valign=\"top\">0</th>\n",
       "      <th>1</th>\n",
       "      <td>1.000000</td>\n",
       "      <td>0.985507</td>\n",
       "      <td>1.000000</td>\n",
       "      <td>1.000000e+00</td>\n",
       "      <td>0.996047</td>\n",
       "    </tr>\n",
       "    <tr>\n",
       "      <th>2</th>\n",
       "      <td>0.896000</td>\n",
       "      <td>0.910774</td>\n",
       "      <td>1.000000</td>\n",
       "      <td>1.000000e+00</td>\n",
       "      <td>0.928393</td>\n",
       "    </tr>\n",
       "    <tr>\n",
       "      <th>3</th>\n",
       "      <td>0.562492</td>\n",
       "      <td>0.593620</td>\n",
       "      <td>0.733333</td>\n",
       "      <td>1.006819e-25</td>\n",
       "      <td>0.484241</td>\n",
       "    </tr>\n",
       "    <tr>\n",
       "      <th>4</th>\n",
       "      <td>0.581667</td>\n",
       "      <td>0.593620</td>\n",
       "      <td>0.733333</td>\n",
       "      <td>1.006819e-25</td>\n",
       "      <td>0.492957</td>\n",
       "    </tr>\n",
       "    <tr>\n",
       "      <th>5</th>\n",
       "      <td>0.581667</td>\n",
       "      <td>0.593620</td>\n",
       "      <td>0.733333</td>\n",
       "      <td>1.006819e-25</td>\n",
       "      <td>0.492957</td>\n",
       "    </tr>\n",
       "  </tbody>\n",
       "</table>\n",
       "</div>"
      ],
      "text/plain": [
       "         name      addr    postal        latlng     score\n",
       "0 1  1.000000  0.985507  1.000000  1.000000e+00  0.996047\n",
       "  2  0.896000  0.910774  1.000000  1.000000e+00  0.928393\n",
       "  3  0.562492  0.593620  0.733333  1.006819e-25  0.484241\n",
       "  4  0.581667  0.593620  0.733333  1.006819e-25  0.492957\n",
       "  5  0.581667  0.593620  0.733333  1.006819e-25  0.492957"
      ]
     },
     "execution_count": 22,
     "metadata": {},
     "output_type": "execute_result"
    }
   ],
   "source": [
    "scores = np.average(\n",
    "    comparison_vectors.values,\n",
    "    axis=1,\n",
    "    weights=[50, 30, 10, 20])\n",
    "scored_comparison_vectors = comparison_vectors.assign(score=scores)\n",
    "scored_comparison_vectors.head(5)"
   ]
  },
  {
   "cell_type": "markdown",
   "metadata": {
    "slideshow": {
     "slide_type": "slide"
    }
   },
   "source": [
    "By looking at the data, we know record `0` truly matches `1` and `2`, so we'll **classify as a match** any pair with score `>= 0.9`. That's our **threshold**:"
   ]
  },
  {
   "cell_type": "code",
   "execution_count": 23,
   "metadata": {
    "scrolled": true,
    "slideshow": {
     "slide_type": "fragment"
    }
   },
   "outputs": [
    {
     "data": {
      "text/html": [
       "<div>\n",
       "<style scoped>\n",
       "    .dataframe tbody tr th:only-of-type {\n",
       "        vertical-align: middle;\n",
       "    }\n",
       "\n",
       "    .dataframe tbody tr th {\n",
       "        vertical-align: top;\n",
       "    }\n",
       "\n",
       "    .dataframe thead th {\n",
       "        text-align: right;\n",
       "    }\n",
       "</style>\n",
       "<table border=\"1\" class=\"dataframe\">\n",
       "  <thead>\n",
       "    <tr style=\"text-align: right;\">\n",
       "      <th></th>\n",
       "      <th>name</th>\n",
       "      <th>addr</th>\n",
       "      <th>city</th>\n",
       "      <th>postal</th>\n",
       "      <th>lat</th>\n",
       "      <th>lng</th>\n",
       "    </tr>\n",
       "  </thead>\n",
       "  <tbody>\n",
       "    <tr>\n",
       "      <th>0</th>\n",
       "      <td>arnie morton s of chicago</td>\n",
       "      <td>435 s. la cienega blv.</td>\n",
       "      <td>los angeles</td>\n",
       "      <td>90048</td>\n",
       "      <td>34.070609</td>\n",
       "      <td>-118.376722</td>\n",
       "    </tr>\n",
       "    <tr>\n",
       "      <th>1</th>\n",
       "      <td>arnie morton s of chicago</td>\n",
       "      <td>435 s. la cienega blvd.</td>\n",
       "      <td>los angeles</td>\n",
       "      <td>90048</td>\n",
       "      <td>34.070609</td>\n",
       "      <td>-118.376722</td>\n",
       "    </tr>\n",
       "    <tr>\n",
       "      <th>2</th>\n",
       "      <td>arnie morton</td>\n",
       "      <td>435 s. la cienega boulevard</td>\n",
       "      <td>los angeles</td>\n",
       "      <td>90048</td>\n",
       "      <td>34.070609</td>\n",
       "      <td>-118.376722</td>\n",
       "    </tr>\n",
       "    <tr>\n",
       "      <th>3</th>\n",
       "      <td>art s delicatessen</td>\n",
       "      <td>12224 ventura blvd.</td>\n",
       "      <td>studio city</td>\n",
       "      <td>91604</td>\n",
       "      <td>34.142966</td>\n",
       "      <td>-118.399469</td>\n",
       "    </tr>\n",
       "    <tr>\n",
       "      <th>4</th>\n",
       "      <td>art s deli</td>\n",
       "      <td>12224 ventura blvd.</td>\n",
       "      <td>studio city</td>\n",
       "      <td>91604</td>\n",
       "      <td>34.142966</td>\n",
       "      <td>-118.399469</td>\n",
       "    </tr>\n",
       "  </tbody>\n",
       "</table>\n",
       "</div>"
      ],
      "text/plain": [
       "                        name                         addr         city postal  \\\n",
       "0  arnie morton s of chicago       435 s. la cienega blv.  los angeles  90048   \n",
       "1  arnie morton s of chicago      435 s. la cienega blvd.  los angeles  90048   \n",
       "2               arnie morton  435 s. la cienega boulevard  los angeles  90048   \n",
       "3         art s delicatessen          12224 ventura blvd.  studio city  91604   \n",
       "4                 art s deli          12224 ventura blvd.  studio city  91604   \n",
       "\n",
       "         lat         lng  \n",
       "0  34.070609 -118.376722  \n",
       "1  34.070609 -118.376722  \n",
       "2  34.070609 -118.376722  \n",
       "3  34.142966 -118.399469  \n",
       "4  34.142966 -118.399469  "
      ]
     },
     "execution_count": 23,
     "metadata": {},
     "output_type": "execute_result"
    }
   ],
   "source": [
    "df.head(5)"
   ]
  },
  {
   "cell_type": "code",
   "execution_count": 24,
   "metadata": {
    "slideshow": {
     "slide_type": "fragment"
    }
   },
   "outputs": [
    {
     "data": {
      "text/html": [
       "<div>\n",
       "<style scoped>\n",
       "    .dataframe tbody tr th:only-of-type {\n",
       "        vertical-align: middle;\n",
       "    }\n",
       "\n",
       "    .dataframe tbody tr th {\n",
       "        vertical-align: top;\n",
       "    }\n",
       "\n",
       "    .dataframe thead th {\n",
       "        text-align: right;\n",
       "    }\n",
       "</style>\n",
       "<table border=\"1\" class=\"dataframe\">\n",
       "  <thead>\n",
       "    <tr style=\"text-align: right;\">\n",
       "      <th></th>\n",
       "      <th></th>\n",
       "      <th>name</th>\n",
       "      <th>addr</th>\n",
       "      <th>postal</th>\n",
       "      <th>latlng</th>\n",
       "      <th>score</th>\n",
       "    </tr>\n",
       "  </thead>\n",
       "  <tbody>\n",
       "    <tr>\n",
       "      <th rowspan=\"2\" valign=\"top\">0</th>\n",
       "      <th>1</th>\n",
       "      <td>1.000000</td>\n",
       "      <td>0.985507</td>\n",
       "      <td>1.0</td>\n",
       "      <td>1.0</td>\n",
       "      <td>0.996047</td>\n",
       "    </tr>\n",
       "    <tr>\n",
       "      <th>2</th>\n",
       "      <td>0.896000</td>\n",
       "      <td>0.910774</td>\n",
       "      <td>1.0</td>\n",
       "      <td>1.0</td>\n",
       "      <td>0.928393</td>\n",
       "    </tr>\n",
       "    <tr>\n",
       "      <th>1</th>\n",
       "      <th>2</th>\n",
       "      <td>0.896000</td>\n",
       "      <td>0.923779</td>\n",
       "      <td>1.0</td>\n",
       "      <td>1.0</td>\n",
       "      <td>0.931940</td>\n",
       "    </tr>\n",
       "    <tr>\n",
       "      <th rowspan=\"2\" valign=\"top\">3</th>\n",
       "      <th>4</th>\n",
       "      <td>0.911111</td>\n",
       "      <td>1.000000</td>\n",
       "      <td>1.0</td>\n",
       "      <td>1.0</td>\n",
       "      <td>0.959596</td>\n",
       "    </tr>\n",
       "    <tr>\n",
       "      <th>5</th>\n",
       "      <td>0.911111</td>\n",
       "      <td>1.000000</td>\n",
       "      <td>1.0</td>\n",
       "      <td>1.0</td>\n",
       "      <td>0.959596</td>\n",
       "    </tr>\n",
       "  </tbody>\n",
       "</table>\n",
       "</div>"
      ],
      "text/plain": [
       "         name      addr  postal  latlng     score\n",
       "0 1  1.000000  0.985507     1.0     1.0  0.996047\n",
       "  2  0.896000  0.910774     1.0     1.0  0.928393\n",
       "1 2  0.896000  0.923779     1.0     1.0  0.931940\n",
       "3 4  0.911111  1.000000     1.0     1.0  0.959596\n",
       "  5  0.911111  1.000000     1.0     1.0  0.959596"
      ]
     },
     "execution_count": 24,
     "metadata": {},
     "output_type": "execute_result"
    }
   ],
   "source": [
    "matches = scored_comparison_vectors[\n",
    "    scored_comparison_vectors['score'] >= 0.9]\n",
    "matches.head(5)"
   ]
  },
  {
   "cell_type": "markdown",
   "metadata": {
    "slideshow": {
     "slide_type": "slide"
    }
   },
   "source": [
    "Since we have the true match status on `cluster` column, we can **evaluate** how well our threshold classification did:"
   ]
  },
  {
   "cell_type": "code",
   "execution_count": 25,
   "metadata": {
    "slideshow": {
     "slide_type": "fragment"
    }
   },
   "outputs": [
    {
     "name": "stdout",
     "output_type": "stream",
     "text": [
      "Golden pairs: 150\n"
     ]
    }
   ],
   "source": [
    "golden_pairs = Block('cluster').index(df_with_truth)\n",
    "golden_pairs = golden_pairs.swaplevel().sortlevel()[0]\n",
    "print(\"Golden pairs:\", len(golden_pairs))"
   ]
  },
  {
   "cell_type": "code",
   "execution_count": 26,
   "metadata": {
    "slideshow": {
     "slide_type": "fragment"
    }
   },
   "outputs": [
    {
     "name": "stdout",
     "output_type": "stream",
     "text": [
      "true_positives total: 128\n",
      "false_positives total: 2\n",
      "false_negatives total: 22\n"
     ]
    }
   ],
   "source": [
    "found_pairs_set = set(matches.index)\n",
    "\n",
    "golden_pairs_set = set(golden_pairs)\n",
    "\n",
    "true_positives = golden_pairs_set & found_pairs_set\n",
    "false_positives = found_pairs_set - golden_pairs_set\n",
    "false_negatives = golden_pairs_set - found_pairs_set\n",
    "\n",
    "print('true_positives total:', len(true_positives))\n",
    "print('false_positives total:', len(false_positives))\n",
    "print('false_negatives total:', len(false_negatives))"
   ]
  },
  {
   "cell_type": "markdown",
   "metadata": {
    "slideshow": {
     "slide_type": "slide"
    }
   },
   "source": [
    "We've got a small number of **false positives**. Some are really tricky cases:"
   ]
  },
  {
   "cell_type": "code",
   "execution_count": 27,
   "metadata": {
    "scrolled": true,
    "slideshow": {
     "slide_type": "fragment"
    }
   },
   "outputs": [
    {
     "name": "stdout",
     "output_type": "stream",
     "text": [
      "False positives:\n"
     ]
    },
    {
     "data": {
      "text/html": [
       "<div>\n",
       "<style scoped>\n",
       "    .dataframe tbody tr th:only-of-type {\n",
       "        vertical-align: middle;\n",
       "    }\n",
       "\n",
       "    .dataframe tbody tr th {\n",
       "        vertical-align: top;\n",
       "    }\n",
       "\n",
       "    .dataframe thead th {\n",
       "        text-align: right;\n",
       "    }\n",
       "</style>\n",
       "<table border=\"1\" class=\"dataframe\">\n",
       "  <thead>\n",
       "    <tr style=\"text-align: right;\">\n",
       "      <th></th>\n",
       "      <th>name</th>\n",
       "      <th>addr</th>\n",
       "      <th>postal</th>\n",
       "      <th>lat</th>\n",
       "      <th>lng</th>\n",
       "    </tr>\n",
       "  </thead>\n",
       "  <tbody>\n",
       "    <tr>\n",
       "      <th>196</th>\n",
       "      <td>ritz carlton cafe buckhead</td>\n",
       "      <td>3434 peachtree rd. ne</td>\n",
       "      <td>30326</td>\n",
       "      <td>33.850807</td>\n",
       "      <td>-84.364227</td>\n",
       "    </tr>\n",
       "    <tr>\n",
       "      <th>198</th>\n",
       "      <td>ritz carlton dining room buckhead</td>\n",
       "      <td>3434 peachtree rd. ne</td>\n",
       "      <td>30326</td>\n",
       "      <td>33.850807</td>\n",
       "      <td>-84.364227</td>\n",
       "    </tr>\n",
       "  </tbody>\n",
       "</table>\n",
       "</div>"
      ],
      "text/plain": [
       "                                   name                   addr postal  \\\n",
       "196         ritz carlton cafe buckhead   3434 peachtree rd. ne  30326   \n",
       "198  ritz carlton dining room buckhead   3434 peachtree rd. ne  30326   \n",
       "\n",
       "           lat        lng  \n",
       "196  33.850807 -84.364227  \n",
       "198  33.850807 -84.364227  "
      ]
     },
     "metadata": {},
     "output_type": "display_data"
    },
    {
     "data": {
      "text/html": [
       "<div>\n",
       "<style scoped>\n",
       "    .dataframe tbody tr th:only-of-type {\n",
       "        vertical-align: middle;\n",
       "    }\n",
       "\n",
       "    .dataframe tbody tr th {\n",
       "        vertical-align: top;\n",
       "    }\n",
       "\n",
       "    .dataframe thead th {\n",
       "        text-align: right;\n",
       "    }\n",
       "</style>\n",
       "<table border=\"1\" class=\"dataframe\">\n",
       "  <thead>\n",
       "    <tr style=\"text-align: right;\">\n",
       "      <th></th>\n",
       "      <th>name</th>\n",
       "      <th>addr</th>\n",
       "      <th>postal</th>\n",
       "      <th>lat</th>\n",
       "      <th>lng</th>\n",
       "    </tr>\n",
       "  </thead>\n",
       "  <tbody>\n",
       "    <tr>\n",
       "      <th>200</th>\n",
       "      <td>ritz carlton restaurant</td>\n",
       "      <td>181 peachtree st.</td>\n",
       "      <td>30303</td>\n",
       "      <td>33.758579</td>\n",
       "      <td>-84.387066</td>\n",
       "    </tr>\n",
       "    <tr>\n",
       "      <th>839</th>\n",
       "      <td>ritz carlton cafe atlanta</td>\n",
       "      <td>181 peachtree st.</td>\n",
       "      <td>30303</td>\n",
       "      <td>33.758579</td>\n",
       "      <td>-84.387066</td>\n",
       "    </tr>\n",
       "  </tbody>\n",
       "</table>\n",
       "</div>"
      ],
      "text/plain": [
       "                           name               addr postal        lat  \\\n",
       "200     ritz carlton restaurant  181 peachtree st.  30303  33.758579   \n",
       "839  ritz carlton cafe atlanta   181 peachtree st.  30303  33.758579   \n",
       "\n",
       "           lng  \n",
       "200 -84.387066  \n",
       "839 -84.387066  "
      ]
     },
     "metadata": {},
     "output_type": "display_data"
    }
   ],
   "source": [
    "print(f\"False positives:\")\n",
    "for false_positive_pair in false_positives:\n",
    "    display(df.loc[list(false_positive_pair)][['name', 'addr', 'postal', 'lat', 'lng']])"
   ]
  },
  {
   "cell_type": "markdown",
   "metadata": {
    "slideshow": {
     "slide_type": "slide"
    }
   },
   "source": [
    "On the other hand, we got a lot of **false negatives**. We've **missed** a lot of matches!"
   ]
  },
  {
   "cell_type": "code",
   "execution_count": 28,
   "metadata": {
    "scrolled": true,
    "slideshow": {
     "slide_type": "fragment"
    }
   },
   "outputs": [
    {
     "name": "stdout",
     "output_type": "stream",
     "text": [
      "False negatives (sample 10 of 22):\n"
     ]
    },
    {
     "data": {
      "text/html": [
       "<div>\n",
       "<style scoped>\n",
       "    .dataframe tbody tr th:only-of-type {\n",
       "        vertical-align: middle;\n",
       "    }\n",
       "\n",
       "    .dataframe tbody tr th {\n",
       "        vertical-align: top;\n",
       "    }\n",
       "\n",
       "    .dataframe thead th {\n",
       "        text-align: right;\n",
       "    }\n",
       "</style>\n",
       "<table border=\"1\" class=\"dataframe\">\n",
       "  <thead>\n",
       "    <tr style=\"text-align: right;\">\n",
       "      <th></th>\n",
       "      <th>name</th>\n",
       "      <th>addr</th>\n",
       "      <th>postal</th>\n",
       "      <th>lat</th>\n",
       "      <th>lng</th>\n",
       "    </tr>\n",
       "  </thead>\n",
       "  <tbody>\n",
       "    <tr>\n",
       "      <th>170</th>\n",
       "      <td>brasserie le coze</td>\n",
       "      <td>3393 peachtree rd.  lenox square mall  near ne...</td>\n",
       "      <td>30326</td>\n",
       "      <td>33.846181</td>\n",
       "      <td>-84.364109</td>\n",
       "    </tr>\n",
       "    <tr>\n",
       "      <th>171</th>\n",
       "      <td>brasserie le coze</td>\n",
       "      <td>3393 peachtree rd.</td>\n",
       "      <td>30326</td>\n",
       "      <td>33.846869</td>\n",
       "      <td>-84.362512</td>\n",
       "    </tr>\n",
       "  </tbody>\n",
       "</table>\n",
       "</div>"
      ],
      "text/plain": [
       "                  name                                               addr  \\\n",
       "170  brasserie le coze  3393 peachtree rd.  lenox square mall  near ne...   \n",
       "171  brasserie le coze                                 3393 peachtree rd.   \n",
       "\n",
       "    postal        lat        lng  \n",
       "170  30326  33.846181 -84.364109  \n",
       "171  30326  33.846869 -84.362512  "
      ]
     },
     "metadata": {},
     "output_type": "display_data"
    },
    {
     "data": {
      "text/html": [
       "<div>\n",
       "<style scoped>\n",
       "    .dataframe tbody tr th:only-of-type {\n",
       "        vertical-align: middle;\n",
       "    }\n",
       "\n",
       "    .dataframe tbody tr th {\n",
       "        vertical-align: top;\n",
       "    }\n",
       "\n",
       "    .dataframe thead th {\n",
       "        text-align: right;\n",
       "    }\n",
       "</style>\n",
       "<table border=\"1\" class=\"dataframe\">\n",
       "  <thead>\n",
       "    <tr style=\"text-align: right;\">\n",
       "      <th></th>\n",
       "      <th>name</th>\n",
       "      <th>addr</th>\n",
       "      <th>postal</th>\n",
       "      <th>lat</th>\n",
       "      <th>lng</th>\n",
       "    </tr>\n",
       "  </thead>\n",
       "  <tbody>\n",
       "    <tr>\n",
       "      <th>182</th>\n",
       "      <td>heera of india</td>\n",
       "      <td>595 piedmont ave.  rio shopping mall</td>\n",
       "      <td>30324</td>\n",
       "      <td>33.795817</td>\n",
       "      <td>-84.370602</td>\n",
       "    </tr>\n",
       "    <tr>\n",
       "      <th>183</th>\n",
       "      <td>heera of india</td>\n",
       "      <td>595 piedmont ave.</td>\n",
       "      <td>30308</td>\n",
       "      <td>33.770495</td>\n",
       "      <td>-84.381425</td>\n",
       "    </tr>\n",
       "  </tbody>\n",
       "</table>\n",
       "</div>"
      ],
      "text/plain": [
       "               name                                  addr postal        lat  \\\n",
       "182  heera of india  595 piedmont ave.  rio shopping mall  30324  33.795817   \n",
       "183  heera of india                     595 piedmont ave.  30308  33.770495   \n",
       "\n",
       "           lng  \n",
       "182 -84.370602  \n",
       "183 -84.381425  "
      ]
     },
     "metadata": {},
     "output_type": "display_data"
    },
    {
     "data": {
      "text/html": [
       "<div>\n",
       "<style scoped>\n",
       "    .dataframe tbody tr th:only-of-type {\n",
       "        vertical-align: middle;\n",
       "    }\n",
       "\n",
       "    .dataframe tbody tr th {\n",
       "        vertical-align: top;\n",
       "    }\n",
       "\n",
       "    .dataframe thead th {\n",
       "        text-align: right;\n",
       "    }\n",
       "</style>\n",
       "<table border=\"1\" class=\"dataframe\">\n",
       "  <thead>\n",
       "    <tr style=\"text-align: right;\">\n",
       "      <th></th>\n",
       "      <th>name</th>\n",
       "      <th>addr</th>\n",
       "      <th>postal</th>\n",
       "      <th>lat</th>\n",
       "      <th>lng</th>\n",
       "    </tr>\n",
       "  </thead>\n",
       "  <tbody>\n",
       "    <tr>\n",
       "      <th>164</th>\n",
       "      <td>abruzzi</td>\n",
       "      <td>2355 peachtree rd.  peachtree battle shopping ...</td>\n",
       "      <td>30305</td>\n",
       "      <td>33.820137</td>\n",
       "      <td>-84.387280</td>\n",
       "    </tr>\n",
       "    <tr>\n",
       "      <th>165</th>\n",
       "      <td>abruzzi</td>\n",
       "      <td>2355 peachtree rd. ne</td>\n",
       "      <td>30305</td>\n",
       "      <td>33.824647</td>\n",
       "      <td>-84.387453</td>\n",
       "    </tr>\n",
       "  </tbody>\n",
       "</table>\n",
       "</div>"
      ],
      "text/plain": [
       "        name                                               addr postal  \\\n",
       "164  abruzzi  2355 peachtree rd.  peachtree battle shopping ...  30305   \n",
       "165  abruzzi                              2355 peachtree rd. ne  30305   \n",
       "\n",
       "           lat        lng  \n",
       "164  33.820137 -84.387280  \n",
       "165  33.824647 -84.387453  "
      ]
     },
     "metadata": {},
     "output_type": "display_data"
    },
    {
     "data": {
      "text/html": [
       "<div>\n",
       "<style scoped>\n",
       "    .dataframe tbody tr th:only-of-type {\n",
       "        vertical-align: middle;\n",
       "    }\n",
       "\n",
       "    .dataframe tbody tr th {\n",
       "        vertical-align: top;\n",
       "    }\n",
       "\n",
       "    .dataframe thead th {\n",
       "        text-align: right;\n",
       "    }\n",
       "</style>\n",
       "<table border=\"1\" class=\"dataframe\">\n",
       "  <thead>\n",
       "    <tr style=\"text-align: right;\">\n",
       "      <th></th>\n",
       "      <th>name</th>\n",
       "      <th>addr</th>\n",
       "      <th>postal</th>\n",
       "      <th>lat</th>\n",
       "      <th>lng</th>\n",
       "    </tr>\n",
       "  </thead>\n",
       "  <tbody>\n",
       "    <tr>\n",
       "      <th>28</th>\n",
       "      <td>restaurant katsu</td>\n",
       "      <td>1972 n. hillhurst ave.</td>\n",
       "      <td>90027</td>\n",
       "      <td>34.107405</td>\n",
       "      <td>-118.28719</td>\n",
       "    </tr>\n",
       "    <tr>\n",
       "      <th>29</th>\n",
       "      <td>katsu</td>\n",
       "      <td>1972 hillhurst ave.</td>\n",
       "      <td>90027</td>\n",
       "      <td>34.107405</td>\n",
       "      <td>-118.28719</td>\n",
       "    </tr>\n",
       "  </tbody>\n",
       "</table>\n",
       "</div>"
      ],
      "text/plain": [
       "                name                    addr postal        lat        lng\n",
       "28  restaurant katsu  1972 n. hillhurst ave.  90027  34.107405 -118.28719\n",
       "29             katsu     1972 hillhurst ave.  90027  34.107405 -118.28719"
      ]
     },
     "metadata": {},
     "output_type": "display_data"
    },
    {
     "data": {
      "text/html": [
       "<div>\n",
       "<style scoped>\n",
       "    .dataframe tbody tr th:only-of-type {\n",
       "        vertical-align: middle;\n",
       "    }\n",
       "\n",
       "    .dataframe tbody tr th {\n",
       "        vertical-align: top;\n",
       "    }\n",
       "\n",
       "    .dataframe thead th {\n",
       "        text-align: right;\n",
       "    }\n",
       "</style>\n",
       "<table border=\"1\" class=\"dataframe\">\n",
       "  <thead>\n",
       "    <tr style=\"text-align: right;\">\n",
       "      <th></th>\n",
       "      <th>name</th>\n",
       "      <th>addr</th>\n",
       "      <th>postal</th>\n",
       "      <th>lat</th>\n",
       "      <th>lng</th>\n",
       "    </tr>\n",
       "  </thead>\n",
       "  <tbody>\n",
       "    <tr>\n",
       "      <th>36</th>\n",
       "      <td>locanda veneta</td>\n",
       "      <td>8638 w 3rd</td>\n",
       "      <td>90048</td>\n",
       "      <td>34.073417</td>\n",
       "      <td>-118.381096</td>\n",
       "    </tr>\n",
       "    <tr>\n",
       "      <th>37</th>\n",
       "      <td>locanda</td>\n",
       "      <td>w. third st.</td>\n",
       "      <td>None</td>\n",
       "      <td>34.068944</td>\n",
       "      <td>-118.322451</td>\n",
       "    </tr>\n",
       "  </tbody>\n",
       "</table>\n",
       "</div>"
      ],
      "text/plain": [
       "              name          addr postal        lat         lng\n",
       "36  locanda veneta    8638 w 3rd  90048  34.073417 -118.381096\n",
       "37         locanda  w. third st.   None  34.068944 -118.322451"
      ]
     },
     "metadata": {},
     "output_type": "display_data"
    },
    {
     "data": {
      "text/html": [
       "<div>\n",
       "<style scoped>\n",
       "    .dataframe tbody tr th:only-of-type {\n",
       "        vertical-align: middle;\n",
       "    }\n",
       "\n",
       "    .dataframe tbody tr th {\n",
       "        vertical-align: top;\n",
       "    }\n",
       "\n",
       "    .dataframe thead th {\n",
       "        text-align: right;\n",
       "    }\n",
       "</style>\n",
       "<table border=\"1\" class=\"dataframe\">\n",
       "  <thead>\n",
       "    <tr style=\"text-align: right;\">\n",
       "      <th></th>\n",
       "      <th>name</th>\n",
       "      <th>addr</th>\n",
       "      <th>postal</th>\n",
       "      <th>lat</th>\n",
       "      <th>lng</th>\n",
       "    </tr>\n",
       "  </thead>\n",
       "  <tbody>\n",
       "    <tr>\n",
       "      <th>40</th>\n",
       "      <td>the palm</td>\n",
       "      <td>9001 santa monica blvd.</td>\n",
       "      <td>90069</td>\n",
       "      <td>34.083064</td>\n",
       "      <td>-118.387282</td>\n",
       "    </tr>\n",
       "    <tr>\n",
       "      <th>41</th>\n",
       "      <td>palm the los angeles</td>\n",
       "      <td>9001 santa monica blvd.</td>\n",
       "      <td>90069</td>\n",
       "      <td>34.083064</td>\n",
       "      <td>-118.387282</td>\n",
       "    </tr>\n",
       "  </tbody>\n",
       "</table>\n",
       "</div>"
      ],
      "text/plain": [
       "                     name                     addr postal        lat  \\\n",
       "40               the palm  9001 santa monica blvd.  90069  34.083064   \n",
       "41  palm the los angeles   9001 santa monica blvd.  90069  34.083064   \n",
       "\n",
       "           lng  \n",
       "40 -118.387282  \n",
       "41 -118.387282  "
      ]
     },
     "metadata": {},
     "output_type": "display_data"
    },
    {
     "data": {
      "text/html": [
       "<div>\n",
       "<style scoped>\n",
       "    .dataframe tbody tr th:only-of-type {\n",
       "        vertical-align: middle;\n",
       "    }\n",
       "\n",
       "    .dataframe tbody tr th {\n",
       "        vertical-align: top;\n",
       "    }\n",
       "\n",
       "    .dataframe thead th {\n",
       "        text-align: right;\n",
       "    }\n",
       "</style>\n",
       "<table border=\"1\" class=\"dataframe\">\n",
       "  <thead>\n",
       "    <tr style=\"text-align: right;\">\n",
       "      <th></th>\n",
       "      <th>name</th>\n",
       "      <th>addr</th>\n",
       "      <th>postal</th>\n",
       "      <th>lat</th>\n",
       "      <th>lng</th>\n",
       "    </tr>\n",
       "  </thead>\n",
       "  <tbody>\n",
       "    <tr>\n",
       "      <th>136</th>\n",
       "      <td>shun lee west</td>\n",
       "      <td>43 w. 65th st.</td>\n",
       "      <td>10023</td>\n",
       "      <td>40.772900</td>\n",
       "      <td>-73.981348</td>\n",
       "    </tr>\n",
       "    <tr>\n",
       "      <th>137</th>\n",
       "      <td>shun lee palace</td>\n",
       "      <td>155 e. 55th st.</td>\n",
       "      <td>10022</td>\n",
       "      <td>40.759428</td>\n",
       "      <td>-73.969068</td>\n",
       "    </tr>\n",
       "  </tbody>\n",
       "</table>\n",
       "</div>"
      ],
      "text/plain": [
       "                name             addr postal        lat        lng\n",
       "136    shun lee west   43 w. 65th st.  10023  40.772900 -73.981348\n",
       "137  shun lee palace  155 e. 55th st.  10022  40.759428 -73.969068"
      ]
     },
     "metadata": {},
     "output_type": "display_data"
    },
    {
     "data": {
      "text/html": [
       "<div>\n",
       "<style scoped>\n",
       "    .dataframe tbody tr th:only-of-type {\n",
       "        vertical-align: middle;\n",
       "    }\n",
       "\n",
       "    .dataframe tbody tr th {\n",
       "        vertical-align: top;\n",
       "    }\n",
       "\n",
       "    .dataframe thead th {\n",
       "        text-align: right;\n",
       "    }\n",
       "</style>\n",
       "<table border=\"1\" class=\"dataframe\">\n",
       "  <thead>\n",
       "    <tr style=\"text-align: right;\">\n",
       "      <th></th>\n",
       "      <th>name</th>\n",
       "      <th>addr</th>\n",
       "      <th>postal</th>\n",
       "      <th>lat</th>\n",
       "      <th>lng</th>\n",
       "    </tr>\n",
       "  </thead>\n",
       "  <tbody>\n",
       "    <tr>\n",
       "      <th>34</th>\n",
       "      <td>locanda veneta</td>\n",
       "      <td>3rd st.</td>\n",
       "      <td>None</td>\n",
       "      <td>33.494790</td>\n",
       "      <td>-112.069374</td>\n",
       "    </tr>\n",
       "    <tr>\n",
       "      <th>35</th>\n",
       "      <td>locanda veneta</td>\n",
       "      <td>8638 w. third st.</td>\n",
       "      <td>90048</td>\n",
       "      <td>34.073417</td>\n",
       "      <td>-118.381096</td>\n",
       "    </tr>\n",
       "  </tbody>\n",
       "</table>\n",
       "</div>"
      ],
      "text/plain": [
       "              name               addr postal        lat         lng\n",
       "34  locanda veneta            3rd st.   None  33.494790 -112.069374\n",
       "35  locanda veneta  8638 w. third st.  90048  34.073417 -118.381096"
      ]
     },
     "metadata": {},
     "output_type": "display_data"
    },
    {
     "data": {
      "text/html": [
       "<div>\n",
       "<style scoped>\n",
       "    .dataframe tbody tr th:only-of-type {\n",
       "        vertical-align: middle;\n",
       "    }\n",
       "\n",
       "    .dataframe tbody tr th {\n",
       "        vertical-align: top;\n",
       "    }\n",
       "\n",
       "    .dataframe thead th {\n",
       "        text-align: right;\n",
       "    }\n",
       "</style>\n",
       "<table border=\"1\" class=\"dataframe\">\n",
       "  <thead>\n",
       "    <tr style=\"text-align: right;\">\n",
       "      <th></th>\n",
       "      <th>name</th>\n",
       "      <th>addr</th>\n",
       "      <th>postal</th>\n",
       "      <th>lat</th>\n",
       "      <th>lng</th>\n",
       "    </tr>\n",
       "  </thead>\n",
       "  <tbody>\n",
       "    <tr>\n",
       "      <th>30</th>\n",
       "      <td>l orangerie</td>\n",
       "      <td>903 n. la cienega blvd.</td>\n",
       "      <td>90069</td>\n",
       "      <td>34.087098</td>\n",
       "      <td>-118.376626</td>\n",
       "    </tr>\n",
       "    <tr>\n",
       "      <th>31</th>\n",
       "      <td>l orangerie</td>\n",
       "      <td>903 n. la cienega blvd.</td>\n",
       "      <td>90028</td>\n",
       "      <td>34.100833</td>\n",
       "      <td>-118.325613</td>\n",
       "    </tr>\n",
       "  </tbody>\n",
       "</table>\n",
       "</div>"
      ],
      "text/plain": [
       "           name                     addr postal        lat         lng\n",
       "30  l orangerie  903 n. la cienega blvd.  90069  34.087098 -118.376626\n",
       "31  l orangerie  903 n. la cienega blvd.  90028  34.100833 -118.325613"
      ]
     },
     "metadata": {},
     "output_type": "display_data"
    },
    {
     "data": {
      "text/html": [
       "<div>\n",
       "<style scoped>\n",
       "    .dataframe tbody tr th:only-of-type {\n",
       "        vertical-align: middle;\n",
       "    }\n",
       "\n",
       "    .dataframe tbody tr th {\n",
       "        vertical-align: top;\n",
       "    }\n",
       "\n",
       "    .dataframe thead th {\n",
       "        text-align: right;\n",
       "    }\n",
       "</style>\n",
       "<table border=\"1\" class=\"dataframe\">\n",
       "  <thead>\n",
       "    <tr style=\"text-align: right;\">\n",
       "      <th></th>\n",
       "      <th>name</th>\n",
       "      <th>addr</th>\n",
       "      <th>postal</th>\n",
       "      <th>lat</th>\n",
       "      <th>lng</th>\n",
       "    </tr>\n",
       "  </thead>\n",
       "  <tbody>\n",
       "    <tr>\n",
       "      <th>35</th>\n",
       "      <td>locanda veneta</td>\n",
       "      <td>8638 w. third st.</td>\n",
       "      <td>90048</td>\n",
       "      <td>34.073417</td>\n",
       "      <td>-118.381096</td>\n",
       "    </tr>\n",
       "    <tr>\n",
       "      <th>37</th>\n",
       "      <td>locanda</td>\n",
       "      <td>w. third st.</td>\n",
       "      <td>None</td>\n",
       "      <td>34.068944</td>\n",
       "      <td>-118.322451</td>\n",
       "    </tr>\n",
       "  </tbody>\n",
       "</table>\n",
       "</div>"
      ],
      "text/plain": [
       "              name               addr postal        lat         lng\n",
       "35  locanda veneta  8638 w. third st.  90048  34.073417 -118.381096\n",
       "37         locanda       w. third st.   None  34.068944 -118.322451"
      ]
     },
     "metadata": {},
     "output_type": "display_data"
    }
   ],
   "source": [
    "print(f\"False negatives (sample 10 of {len(false_negatives)}):\")\n",
    "for false_negative_pair in list(false_negatives)[:10]:\n",
    "    display(df.loc[list(false_negative_pair)][['name', 'addr', 'postal', 'lat', 'lng']])"
   ]
  },
  {
   "cell_type": "markdown",
   "metadata": {
    "slideshow": {
     "slide_type": "slide"
    }
   },
   "source": [
    "Bue we've set the weights and the threshold **by guessing**, could we do any better?"
   ]
  },
  {
   "cell_type": "markdown",
   "metadata": {
    "slideshow": {
     "slide_type": "slide"
    }
   },
   "source": [
    "### Supervised Classification"
   ]
  },
  {
   "cell_type": "markdown",
   "metadata": {
    "slideshow": {
     "slide_type": "slide"
    }
   },
   "source": [
    "Instead of trying to guess weights and thresholds, we can train a **classifier** to learn how to classify matches and nonmatches based on some training data we provide:"
   ]
  },
  {
   "cell_type": "code",
   "execution_count": 29,
   "metadata": {
    "scrolled": true,
    "slideshow": {
     "slide_type": "fragment"
    }
   },
   "outputs": [
    {
     "data": {
      "text/html": [
       "<div>\n",
       "<style scoped>\n",
       "    .dataframe tbody tr th:only-of-type {\n",
       "        vertical-align: middle;\n",
       "    }\n",
       "\n",
       "    .dataframe tbody tr th {\n",
       "        vertical-align: top;\n",
       "    }\n",
       "\n",
       "    .dataframe thead th {\n",
       "        text-align: right;\n",
       "    }\n",
       "</style>\n",
       "<table border=\"1\" class=\"dataframe\">\n",
       "  <thead>\n",
       "    <tr style=\"text-align: right;\">\n",
       "      <th></th>\n",
       "      <th>name</th>\n",
       "      <th>addr</th>\n",
       "      <th>city</th>\n",
       "      <th>cluster</th>\n",
       "    </tr>\n",
       "  </thead>\n",
       "  <tbody>\n",
       "    <tr>\n",
       "      <th>0</th>\n",
       "      <td>locanda veneta</td>\n",
       "      <td>3rd st.</td>\n",
       "      <td>los angeles</td>\n",
       "      <td>13</td>\n",
       "    </tr>\n",
       "    <tr>\n",
       "      <th>1</th>\n",
       "      <td>locanda veneta</td>\n",
       "      <td>8638 w. third st.</td>\n",
       "      <td>los angeles</td>\n",
       "      <td>13</td>\n",
       "    </tr>\n",
       "    <tr>\n",
       "      <th>2</th>\n",
       "      <td>locanda veneta</td>\n",
       "      <td>8638 w 3rd</td>\n",
       "      <td>st los angeles</td>\n",
       "      <td>13</td>\n",
       "    </tr>\n",
       "    <tr>\n",
       "      <th>3</th>\n",
       "      <td>cafe lalo</td>\n",
       "      <td>201 w. 83rd st.</td>\n",
       "      <td>new york</td>\n",
       "      <td>26</td>\n",
       "    </tr>\n",
       "    <tr>\n",
       "      <th>4</th>\n",
       "      <td>cafe lalo</td>\n",
       "      <td>201 w. 83rd st.</td>\n",
       "      <td>new york city</td>\n",
       "      <td>26</td>\n",
       "    </tr>\n",
       "    <tr>\n",
       "      <th>5</th>\n",
       "      <td>les celebrites</td>\n",
       "      <td>160 central park s</td>\n",
       "      <td>new york</td>\n",
       "      <td>42</td>\n",
       "    </tr>\n",
       "    <tr>\n",
       "      <th>6</th>\n",
       "      <td>les celebrites</td>\n",
       "      <td>155 w. 58th st.</td>\n",
       "      <td>new york city</td>\n",
       "      <td>42</td>\n",
       "    </tr>\n",
       "    <tr>\n",
       "      <th>7</th>\n",
       "      <td>second avenue deli</td>\n",
       "      <td>156 2nd ave. at 10th st.</td>\n",
       "      <td>new york</td>\n",
       "      <td>58</td>\n",
       "    </tr>\n",
       "    <tr>\n",
       "      <th>8</th>\n",
       "      <td>second avenue deli</td>\n",
       "      <td>156 second ave.</td>\n",
       "      <td>new york city</td>\n",
       "      <td>58</td>\n",
       "    </tr>\n",
       "    <tr>\n",
       "      <th>9</th>\n",
       "      <td>smith &amp; wollensky</td>\n",
       "      <td>201 e. 49th st.</td>\n",
       "      <td>new york</td>\n",
       "      <td>62</td>\n",
       "    </tr>\n",
       "    <tr>\n",
       "      <th>10</th>\n",
       "      <td>smith &amp; wollensky</td>\n",
       "      <td>797 third ave.</td>\n",
       "      <td>new york city</td>\n",
       "      <td>62</td>\n",
       "    </tr>\n",
       "    <tr>\n",
       "      <th>11</th>\n",
       "      <td>chin's</td>\n",
       "      <td>3200 las vegas blvd. s</td>\n",
       "      <td>las vegas</td>\n",
       "      <td>67</td>\n",
       "    </tr>\n",
       "    <tr>\n",
       "      <th>12</th>\n",
       "      <td>chin's</td>\n",
       "      <td>3200 las vegas blvd. s.</td>\n",
       "      <td>las vegas</td>\n",
       "      <td>67</td>\n",
       "    </tr>\n",
       "    <tr>\n",
       "      <th>13</th>\n",
       "      <td>toulouse</td>\n",
       "      <td>b peachtree rd.</td>\n",
       "      <td>atlanta</td>\n",
       "      <td>92</td>\n",
       "    </tr>\n",
       "    <tr>\n",
       "      <th>14</th>\n",
       "      <td>toulouse</td>\n",
       "      <td>293-b peachtree rd.</td>\n",
       "      <td>atlanta</td>\n",
       "      <td>92</td>\n",
       "    </tr>\n",
       "    <tr>\n",
       "      <th>15</th>\n",
       "      <td>rose pistola</td>\n",
       "      <td>532 columbus ave.</td>\n",
       "      <td>san francisco</td>\n",
       "      <td>111</td>\n",
       "    </tr>\n",
       "    <tr>\n",
       "      <th>16</th>\n",
       "      <td>rose pistola</td>\n",
       "      <td>532 columbus ave.</td>\n",
       "      <td>san francisco</td>\n",
       "      <td>111</td>\n",
       "    </tr>\n",
       "    <tr>\n",
       "      <th>17</th>\n",
       "      <td>bistro garden</td>\n",
       "      <td>176 n. canon dr.</td>\n",
       "      <td>los angeles</td>\n",
       "      <td>115</td>\n",
       "    </tr>\n",
       "    <tr>\n",
       "      <th>18</th>\n",
       "      <td>remi</td>\n",
       "      <td>3rd st. promenade</td>\n",
       "      <td>santa monica</td>\n",
       "      <td>159</td>\n",
       "    </tr>\n",
       "    <tr>\n",
       "      <th>19</th>\n",
       "      <td>remi</td>\n",
       "      <td>145 w. 53rd st.</td>\n",
       "      <td>new york</td>\n",
       "      <td>334</td>\n",
       "    </tr>\n",
       "    <tr>\n",
       "      <th>20</th>\n",
       "      <td>west</td>\n",
       "      <td>63rd street steakhouse 44 w. 63rd st.</td>\n",
       "      <td>new york</td>\n",
       "      <td>375</td>\n",
       "    </tr>\n",
       "    <tr>\n",
       "      <th>21</th>\n",
       "      <td>bistro</td>\n",
       "      <td>3400 las vegas blvd. s</td>\n",
       "      <td>las vegas</td>\n",
       "      <td>429</td>\n",
       "    </tr>\n",
       "    <tr>\n",
       "      <th>22</th>\n",
       "      <td>mikado</td>\n",
       "      <td>3400 las vegas blvd. s</td>\n",
       "      <td>las vegas</td>\n",
       "      <td>446</td>\n",
       "    </tr>\n",
       "    <tr>\n",
       "      <th>23</th>\n",
       "      <td>l'osteria del forno</td>\n",
       "      <td>519 columbus ave.</td>\n",
       "      <td>san francisco</td>\n",
       "      <td>490</td>\n",
       "    </tr>\n",
       "    <tr>\n",
       "      <th>24</th>\n",
       "      <td>stars</td>\n",
       "      <td>150 redwood alley</td>\n",
       "      <td>san francisco</td>\n",
       "      <td>514</td>\n",
       "    </tr>\n",
       "    <tr>\n",
       "      <th>25</th>\n",
       "      <td>stars cafe</td>\n",
       "      <td>500 van ness ave.</td>\n",
       "      <td>san francisco</td>\n",
       "      <td>515</td>\n",
       "    </tr>\n",
       "    <tr>\n",
       "      <th>26</th>\n",
       "      <td>belvedere  the</td>\n",
       "      <td>9882 little santa monica blvd.</td>\n",
       "      <td>beverly hills</td>\n",
       "      <td>537</td>\n",
       "    </tr>\n",
       "    <tr>\n",
       "      <th>27</th>\n",
       "      <td>bernard's</td>\n",
       "      <td>515 s. olive st.</td>\n",
       "      <td>los angeles</td>\n",
       "      <td>539</td>\n",
       "    </tr>\n",
       "    <tr>\n",
       "      <th>28</th>\n",
       "      <td>bistro 45</td>\n",
       "      <td>45 s. mentor ave.</td>\n",
       "      <td>pasadena</td>\n",
       "      <td>540</td>\n",
       "    </tr>\n",
       "    <tr>\n",
       "      <th>29</th>\n",
       "      <td>cafe '50s</td>\n",
       "      <td>838 lincoln blvd.</td>\n",
       "      <td>venice</td>\n",
       "      <td>545</td>\n",
       "    </tr>\n",
       "    <tr>\n",
       "      <th>30</th>\n",
       "      <td>cafe blanc</td>\n",
       "      <td>9777 little santa monica blvd.</td>\n",
       "      <td>beverly hills</td>\n",
       "      <td>546</td>\n",
       "    </tr>\n",
       "    <tr>\n",
       "      <th>31</th>\n",
       "      <td>la cachette</td>\n",
       "      <td>10506 little santa monica blvd.</td>\n",
       "      <td>century city</td>\n",
       "      <td>568</td>\n",
       "    </tr>\n",
       "    <tr>\n",
       "      <th>32</th>\n",
       "      <td>moongate</td>\n",
       "      <td>3400 las vegas blvd. s.</td>\n",
       "      <td>las vegas</td>\n",
       "      <td>666</td>\n",
       "    </tr>\n",
       "  </tbody>\n",
       "</table>\n",
       "</div>"
      ],
      "text/plain": [
       "                   name                                   addr  \\\n",
       "0        locanda veneta                                3rd st.   \n",
       "1        locanda veneta                      8638 w. third st.   \n",
       "2        locanda veneta                             8638 w 3rd   \n",
       "3             cafe lalo                        201 w. 83rd st.   \n",
       "4             cafe lalo                        201 w. 83rd st.   \n",
       "5        les celebrites                     160 central park s   \n",
       "6        les celebrites                        155 w. 58th st.   \n",
       "7    second avenue deli               156 2nd ave. at 10th st.   \n",
       "8    second avenue deli                        156 second ave.   \n",
       "9     smith & wollensky                        201 e. 49th st.   \n",
       "10    smith & wollensky                         797 third ave.   \n",
       "11               chin's                 3200 las vegas blvd. s   \n",
       "12               chin's                3200 las vegas blvd. s.   \n",
       "13             toulouse                        b peachtree rd.   \n",
       "14             toulouse                    293-b peachtree rd.   \n",
       "15         rose pistola                      532 columbus ave.   \n",
       "16         rose pistola                      532 columbus ave.   \n",
       "17        bistro garden                       176 n. canon dr.   \n",
       "18                 remi                      3rd st. promenade   \n",
       "19                 remi                        145 w. 53rd st.   \n",
       "20                 west  63rd street steakhouse 44 w. 63rd st.   \n",
       "21               bistro                 3400 las vegas blvd. s   \n",
       "22               mikado                 3400 las vegas blvd. s   \n",
       "23  l'osteria del forno                      519 columbus ave.   \n",
       "24                stars                      150 redwood alley   \n",
       "25           stars cafe                      500 van ness ave.   \n",
       "26       belvedere  the         9882 little santa monica blvd.   \n",
       "27            bernard's                       515 s. olive st.   \n",
       "28            bistro 45                      45 s. mentor ave.   \n",
       "29            cafe '50s                      838 lincoln blvd.   \n",
       "30           cafe blanc         9777 little santa monica blvd.   \n",
       "31          la cachette        10506 little santa monica blvd.   \n",
       "32             moongate                3400 las vegas blvd. s.   \n",
       "\n",
       "              city  cluster  \n",
       "0      los angeles       13  \n",
       "1      los angeles       13  \n",
       "2   st los angeles       13  \n",
       "3         new york       26  \n",
       "4    new york city       26  \n",
       "5         new york       42  \n",
       "6    new york city       42  \n",
       "7         new york       58  \n",
       "8    new york city       58  \n",
       "9         new york       62  \n",
       "10   new york city       62  \n",
       "11       las vegas       67  \n",
       "12       las vegas       67  \n",
       "13         atlanta       92  \n",
       "14         atlanta       92  \n",
       "15   san francisco      111  \n",
       "16   san francisco      111  \n",
       "17     los angeles      115  \n",
       "18    santa monica      159  \n",
       "19        new york      334  \n",
       "20        new york      375  \n",
       "21       las vegas      429  \n",
       "22       las vegas      446  \n",
       "23   san francisco      490  \n",
       "24   san francisco      514  \n",
       "25   san francisco      515  \n",
       "26   beverly hills      537  \n",
       "27     los angeles      539  \n",
       "28        pasadena      540  \n",
       "29          venice      545  \n",
       "30   beverly hills      546  \n",
       "31    century city      568  \n",
       "32       las vegas      666  "
      ]
     },
     "execution_count": 29,
     "metadata": {},
     "output_type": "execute_result"
    }
   ],
   "source": [
    "df_training = pd.read_csv('restaurant-training.csv', skip_blank_lines=True)\n",
    "df_training = df_training.drop(columns=['type', 'phone'])\n",
    "df_training"
   ]
  },
  {
   "cell_type": "markdown",
   "metadata": {
    "slideshow": {
     "slide_type": "slide"
    }
   },
   "source": [
    "We need to **preprocess** our training data too:"
   ]
  },
  {
   "cell_type": "code",
   "execution_count": 30,
   "metadata": {
    "scrolled": true,
    "slideshow": {
     "slide_type": "fragment"
    }
   },
   "outputs": [
    {
     "data": {
      "text/html": [
       "<div>\n",
       "<style scoped>\n",
       "    .dataframe tbody tr th:only-of-type {\n",
       "        vertical-align: middle;\n",
       "    }\n",
       "\n",
       "    .dataframe tbody tr th {\n",
       "        vertical-align: top;\n",
       "    }\n",
       "\n",
       "    .dataframe thead th {\n",
       "        text-align: right;\n",
       "    }\n",
       "</style>\n",
       "<table border=\"1\" class=\"dataframe\">\n",
       "  <thead>\n",
       "    <tr style=\"text-align: right;\">\n",
       "      <th></th>\n",
       "      <th>name</th>\n",
       "      <th>addr</th>\n",
       "      <th>city</th>\n",
       "      <th>cluster</th>\n",
       "      <th>postal</th>\n",
       "      <th>lat</th>\n",
       "      <th>lng</th>\n",
       "    </tr>\n",
       "  </thead>\n",
       "  <tbody>\n",
       "    <tr>\n",
       "      <th>0</th>\n",
       "      <td>locanda veneta</td>\n",
       "      <td>3rd st.</td>\n",
       "      <td>los angeles</td>\n",
       "      <td>13</td>\n",
       "      <td>None</td>\n",
       "      <td>33.494790</td>\n",
       "      <td>-112.069374</td>\n",
       "    </tr>\n",
       "    <tr>\n",
       "      <th>1</th>\n",
       "      <td>locanda veneta</td>\n",
       "      <td>8638 w. third st.</td>\n",
       "      <td>los angeles</td>\n",
       "      <td>13</td>\n",
       "      <td>90048</td>\n",
       "      <td>34.073417</td>\n",
       "      <td>-118.381096</td>\n",
       "    </tr>\n",
       "    <tr>\n",
       "      <th>2</th>\n",
       "      <td>locanda veneta</td>\n",
       "      <td>8638 w 3rd</td>\n",
       "      <td>st los angeles</td>\n",
       "      <td>13</td>\n",
       "      <td>90048</td>\n",
       "      <td>34.073417</td>\n",
       "      <td>-118.381096</td>\n",
       "    </tr>\n",
       "    <tr>\n",
       "      <th>3</th>\n",
       "      <td>cafe lalo</td>\n",
       "      <td>201 w. 83rd st.</td>\n",
       "      <td>new york</td>\n",
       "      <td>26</td>\n",
       "      <td>10024</td>\n",
       "      <td>40.785981</td>\n",
       "      <td>-73.976727</td>\n",
       "    </tr>\n",
       "    <tr>\n",
       "      <th>4</th>\n",
       "      <td>cafe lalo</td>\n",
       "      <td>201 w. 83rd st.</td>\n",
       "      <td>new york city</td>\n",
       "      <td>26</td>\n",
       "      <td>10024</td>\n",
       "      <td>40.785981</td>\n",
       "      <td>-73.976727</td>\n",
       "    </tr>\n",
       "  </tbody>\n",
       "</table>\n",
       "</div>"
      ],
      "text/plain": [
       "             name               addr            city  cluster postal  \\\n",
       "0  locanda veneta            3rd st.     los angeles       13   None   \n",
       "1  locanda veneta  8638 w. third st.     los angeles       13  90048   \n",
       "2  locanda veneta         8638 w 3rd  st los angeles       13  90048   \n",
       "3       cafe lalo    201 w. 83rd st.        new york       26  10024   \n",
       "4       cafe lalo    201 w. 83rd st.   new york city       26  10024   \n",
       "\n",
       "         lat         lng  \n",
       "0  33.494790 -112.069374  \n",
       "1  34.073417 -118.381096  \n",
       "2  34.073417 -118.381096  \n",
       "3  40.785981  -73.976727  \n",
       "4  40.785981  -73.976727  "
      ]
     },
     "execution_count": 30,
     "metadata": {},
     "output_type": "execute_result"
    }
   ],
   "source": [
    "df_training = assign_no_symbols_name(df_training)\n",
    "df_training = assign_postal_lat_lng(df_training)\n",
    "df_training.head(5)"
   ]
  },
  {
   "cell_type": "markdown",
   "metadata": {
    "slideshow": {
     "slide_type": "slide"
    }
   },
   "source": [
    "We'll feed a **Support Vector Machine classifier** with our training data. SVMs are good for deduplication because they:\n",
    "- Are resilient to noise\n",
    "- Can handle correlated features (like 'addr' and 'latlng')\n",
    "- Are robust to imbalanced training sets (and that's natural on deduplication projects)"
   ]
  },
  {
   "cell_type": "code",
   "execution_count": 31,
   "metadata": {
    "slideshow": {
     "slide_type": "slide"
    }
   },
   "outputs": [
    {
     "name": "stdout",
     "output_type": "stream",
     "text": [
      "WARNING:recordlinkage:indexing - performance warning - A full index can result in large number of record pairs.\n"
     ]
    }
   ],
   "source": [
    "all_training_pairs = Full().index(df_training)\n",
    "matches_training_pairs = Block('cluster').index(df_training)\n",
    "\n",
    "training_vectors = comp.compute(all_training_pairs, df_training)\n",
    "\n",
    "svm = rl.SVMClassifier()\n",
    "svm.fit(training_vectors, matches_training_pairs);"
   ]
  },
  {
   "cell_type": "code",
   "execution_count": 32,
   "metadata": {
    "slideshow": {
     "slide_type": "slide"
    }
   },
   "outputs": [
    {
     "name": "stdout",
     "output_type": "stream",
     "text": [
      "true_positives total: 128\n",
      "false_positives total: 2\n",
      "false_negatives total: 22\n",
      "\n",
      "svm_true_positives total: 134\n",
      "svm_false_positives total: 6\n",
      "svm_false_negatives total: 16\n"
     ]
    }
   ],
   "source": [
    "svm_pairs = svm.predict(comparison_vectors)\n",
    "svm_found_pairs_set = set(svm_pairs)\n",
    "\n",
    "svm_true_positives = golden_pairs_set & svm_found_pairs_set\n",
    "svm_false_positives = svm_found_pairs_set - golden_pairs_set\n",
    "svm_false_negatives = golden_pairs_set - svm_found_pairs_set\n",
    "\n",
    "print('true_positives total:', len(true_positives))\n",
    "print('false_positives total:', len(false_positives))\n",
    "print('false_negatives total:', len(false_negatives))\n",
    "print()\n",
    "print('svm_true_positives total:', len(svm_true_positives))\n",
    "print('svm_false_positives total:', len(svm_false_positives))\n",
    "print('svm_false_negatives total:', len(svm_false_negatives))"
   ]
  },
  {
   "cell_type": "markdown",
   "metadata": {
    "slideshow": {
     "slide_type": "slide"
    }
   },
   "source": [
    "There are [other classifiers](https://recordlinkage.readthedocs.io/en/stable/notebooks/classifiers.html) from recordlinkage library we could try, but the truth is:\n",
    "- It's **very difficult to build a good training set** that takes in account all important cases of matches/nonmatches;\n",
    "- It's possible to tune classifier parameters to get better results, but it's very difficult to **decide the right parameters that will generalize well** for future predictions;\n",
    "- And we're not even sure **if the indexing rules we used are really sane**. We could be: dropping true positives due blocking, or introducing false negatives due blocking + forgiving classifier."
   ]
  },
  {
   "cell_type": "markdown",
   "metadata": {
    "slideshow": {
     "slide_type": "slide"
    }
   },
   "source": [
    "The **alternative** to all that uncertainty is...\n",
    "\n",
    "### Active Learning Classification"
   ]
  },
  {
   "cell_type": "markdown",
   "metadata": {
    "slideshow": {
     "slide_type": "slide"
    }
   },
   "source": [
    "Active Learning methods identify **training examples** that \"lead to maximal accuracy improvements\" [3], both to train **optimal classifier weights**, as well as to find **optimal indexing/blocking rules**!"
   ]
  },
  {
   "cell_type": "markdown",
   "metadata": {
    "slideshow": {
     "slide_type": "slide"
    }
   },
   "source": [
    "A Python library called [**Dedupe**](https://docs.dedupe.io/en/latest/index.html) implements that. Let's see it in practice:"
   ]
  },
  {
   "cell_type": "code",
   "execution_count": 33,
   "metadata": {
    "slideshow": {
     "slide_type": "skip"
    }
   },
   "outputs": [],
   "source": [
    "import logging; logging.disable(level=logging.NOTSET)"
   ]
  },
  {
   "cell_type": "code",
   "execution_count": 34,
   "metadata": {
    "slideshow": {
     "slide_type": "fragment"
    }
   },
   "outputs": [],
   "source": [
    "from svm_dedupe import SVMDedupe\n",
    "import dedupe\n",
    "\n",
    "fields = [\n",
    "    {\n",
    "        'field': 'name',\n",
    "        'variable name': 'name',\n",
    "        'type': 'JaroWinkler',\n",
    "    },\n",
    "    {\n",
    "        'field': 'addr',\n",
    "        'variable name': 'addr',\n",
    "        'type': 'JaroWinkler',\n",
    "    },\n",
    "    {\n",
    "        'field': 'postal',\n",
    "        'variable name': 'postal',\n",
    "        'type': 'JaroWinkler'\n",
    "    },\n",
    "    {\n",
    "        'field': 'latlng',\n",
    "        'variable name': 'latlng',\n",
    "        'type': 'ExpLatLong'\n",
    "    },\n",
    "]\n",
    "\n",
    "deduper = SVMDedupe(fields)"
   ]
  },
  {
   "cell_type": "code",
   "execution_count": 35,
   "metadata": {
    "slideshow": {
     "slide_type": "skip"
    }
   },
   "outputs": [
    {
     "name": "stderr",
     "output_type": "stream",
     "text": [
      "INFO:dedupe.api:((SimplePredicate: (sameFiveCharStartPredicate, addr), SimplePredicate: (sameFiveCharStartPredicate, name)), (SimplePredicate: (latLongGridPredicate, latlng), SimplePredicate: (oneGramFingerprint, name)))\n"
     ]
    }
   ],
   "source": [
    "settings_filename = 'dedupe-simple-settings.pickle'\n",
    "if os.path.exists(settings_filename):\n",
    "    with open(settings_filename, 'rb') as sf:\n",
    "        deduper = dedupe.StaticDedupe(sf, num_cores=4)"
   ]
  },
  {
   "cell_type": "markdown",
   "metadata": {
    "slideshow": {
     "slide_type": "skip"
    }
   },
   "source": [
    "We need to **adapt** the data a bit to the format Dedupe wants:"
   ]
  },
  {
   "cell_type": "code",
   "execution_count": 36,
   "metadata": {
    "slideshow": {
     "slide_type": "skip"
    }
   },
   "outputs": [],
   "source": [
    "data_for_dedupe = df.assign(cluster=df_with_truth['cluster']).to_dict('index')\n",
    "for record in data_for_dedupe.values():\n",
    "    # Change nans to None\n",
    "    for k, v in record.items():\n",
    "        if isinstance(v, float) and np.isnan(v):\n",
    "            record[k] = None\n",
    "    \n",
    "    # Move lat and lng to a single field latlng\n",
    "    lat = record.pop('lat')\n",
    "    lng = record.pop('lng')\n",
    "    if lat is not None and lng is not None:\n",
    "        record['latlng'] = (lat, lng)\n",
    "    else:\n",
    "        record['latlng'] = None"
   ]
  },
  {
   "cell_type": "markdown",
   "metadata": {
    "slideshow": {
     "slide_type": "slide"
    }
   },
   "source": [
    "We train Dedupe by **labeling** the examples of matches and nonmatches it asks us:"
   ]
  },
  {
   "cell_type": "code",
   "execution_count": 37,
   "metadata": {
    "slideshow": {
     "slide_type": "fragment"
    }
   },
   "outputs": [
    {
     "name": "stdout",
     "output_type": "stream",
     "text": [
      "name : cafe lalo\n",
      "addr : 201 w. 83rd st.\n",
      "postal : 10024\n",
      "latlng : (40.78598119999999, -73.97672659999999)\n",
      "\n",
      "name : first\n",
      "addr : 87 1st ave.  between 5th and 6th sts.\n",
      "postal : 10003\n",
      "latlng : (40.7261615, -73.9867907)\n",
      "\n",
      "0/10 positive, 0/10 negative\n",
      "Do these records refer to the same thing?\n",
      "(y)es / (n)o / (u)nsure / (f)inished\n",
      "n\n",
      "\n",
      "name : 21 club\n",
      "addr : 21 w. 52nd st.\n",
      "postal : 10019\n",
      "latlng : (40.760533, -73.97739700000001)\n",
      "\n",
      "name : smith wollensky\n",
      "addr : 797 third ave.\n",
      "postal : 10022\n",
      "latlng : (40.7551704, -73.9707437)\n",
      "\n",
      "0/10 positive, 1/10 negative\n",
      "Do these records refer to the same thing?\n",
      "(y)es / (n)o / (u)nsure / (f)inished\n",
      "n\n",
      "\n",
      "name : rj s the rib joint\n",
      "addr : 252 n. beverly dr.\n",
      "postal : 90210\n",
      "latlng : (34.0682978, -118.3998339)\n",
      "\n",
      "name : benita s frites\n",
      "addr : 1433 third st. promenade\n",
      "postal : 90401\n",
      "latlng : (34.0152381, -118.4955253)\n",
      "\n",
      "0/10 positive, 2/10 negative\n",
      "Do these records refer to the same thing?\n",
      "(y)es / (n)o / (u)nsure / (f)inished\n",
      "n\n",
      "\n",
      "name : bacchanalia\n",
      "addr : 3125 piedmont rd.  near peachtree rd.\n",
      "postal : 30305\n",
      "latlng : (33.8420454, -84.369874)\n",
      "\n",
      "name : dining room ritz carlton buckhead\n",
      "addr : 3434 peachtree rd.\n",
      "postal : 30326\n",
      "latlng : (33.8508073, -84.364227)\n",
      "\n",
      "0/10 positive, 3/10 negative\n",
      "Do these records refer to the same thing?\n",
      "(y)es / (n)o / (u)nsure / (f)inished\n",
      "n\n",
      "\n",
      "name : abruzzi\n",
      "addr : 2355 peachtree rd.  peachtree battle shopping center\n",
      "postal : 30305\n",
      "latlng : (33.8201374, -84.3872795)\n",
      "\n",
      "name : splendido embarcadero\n",
      "addr : 4\n",
      "postal : None\n",
      "latlng : (37.7779649, -122.3962019)\n",
      "\n",
      "0/10 positive, 4/10 negative\n",
      "Do these records refer to the same thing?\n",
      "(y)es / (n)o / (u)nsure / (f)inished\n",
      "n\n",
      "\n",
      "name : le bernardin\n",
      "addr : 155 w. 51st st.\n",
      "postal : 10019\n",
      "latlng : (40.7615691, -73.98180479999999)\n",
      "\n",
      "name : le bernardin\n",
      "addr : 155 w. 51st st.\n",
      "postal : 10019\n",
      "latlng : (40.7615691, -73.98180479999999)\n",
      "\n",
      "0/10 positive, 5/10 negative\n",
      "Do these records refer to the same thing?\n",
      "(y)es / (n)o / (u)nsure / (f)inished\n",
      "y\n",
      "\n",
      "INFO:dedupe.training:Final predicate set:\n",
      "INFO:dedupe.training:(SimplePredicate: (twoGramFingerprint, addr), SimplePredicate: (wholeFieldPredicate, name))\n",
      "name : manora\n",
      "addr : 3226 mission st.\n",
      "postal : 94110\n",
      "latlng : (37.7451375, -122.4205013)\n",
      "\n",
      "name : dusit thai\n",
      "addr : 3221 mission st.\n",
      "postal : 94110\n",
      "latlng : (37.745107, -122.4198625)\n",
      "\n",
      "1/10 positive, 5/10 negative\n",
      "Do these records refer to the same thing?\n",
      "(y)es / (n)o / (u)nsure / (f)inished\n",
      "n\n",
      "\n",
      "name : san domenico\n",
      "addr : 240 central park s\n",
      "postal : 10019\n",
      "latlng : (40.767434, -73.9811782)\n",
      "\n",
      "name : san domenico\n",
      "addr : 240 central park s.\n",
      "postal : 10019\n",
      "latlng : (40.767434, -73.9811782)\n",
      "\n",
      "1/10 positive, 6/10 negative\n",
      "Do these records refer to the same thing?\n",
      "(y)es / (n)o / (u)nsure / (f)inished\n",
      "y\n",
      "\n",
      "name : boulevard\n",
      "addr : 1 mission st.\n",
      "postal : 94105\n",
      "latlng : (37.79332, -122.392761)\n",
      "\n",
      "name : boulevard\n",
      "addr : 1 mission st.\n",
      "postal : 94105\n",
      "latlng : (37.79332, -122.392761)\n",
      "\n",
      "2/10 positive, 6/10 negative\n",
      "Do these records refer to the same thing?\n",
      "(y)es / (n)o / (u)nsure / (f)inished\n",
      "y\n",
      "\n",
      "name : anche vivolo\n",
      "addr : 222 e. 58th st.  between 2nd and 3rd aves.\n",
      "postal : 10022\n",
      "latlng : (40.760306, -73.966152)\n",
      "\n",
      "name : girafe\n",
      "addr : 208 e. 58th st.  between 2nd and 3rd aves.\n",
      "postal : 10022\n",
      "latlng : (40.7605115, -73.9665768)\n",
      "\n",
      "3/10 positive, 6/10 negative\n",
      "Do these records refer to the same thing?\n",
      "(y)es / (n)o / (u)nsure / (f)inished\n",
      "n\n",
      "\n",
      "name : empress court\n",
      "addr : 3570 las vegas blvd. s\n",
      "postal : 89109\n",
      "latlng : (36.1161559, -115.1750576)\n",
      "\n",
      "name : the bacchanal\n",
      "addr : 3570 las vegas blvd. s\n",
      "postal : 89109\n",
      "latlng : (36.1161559, -115.1750576)\n",
      "\n",
      "3/10 positive, 7/10 negative\n",
      "Do these records refer to the same thing?\n",
      "(y)es / (n)o / (u)nsure / (f)inished\n",
      "n\n",
      "\n",
      "INFO:dedupe.training:Final predicate set:\n",
      "name : pisces\n",
      "addr : 95 ave. a at 6th st.\n",
      "postal : 10009\n",
      "latlng : (40.72565100000001, -73.9840645)\n",
      "\n",
      "name : pisces\n",
      "addr : 95 ave. a\n",
      "postal : 10009\n",
      "latlng : (40.7256332, -73.984031)\n",
      "\n",
      "3/10 positive, 8/10 negative\n",
      "Do these records refer to the same thing?\n",
      "(y)es / (n)o / (u)nsure / (f)inished\n",
      "y\n",
      "\n",
      "name : l orangerie\n",
      "addr : 903 n. la cienega blvd.\n",
      "postal : 90069\n",
      "latlng : (34.0870981, -118.376626)\n",
      "\n",
      "name : l orangerie\n",
      "addr : 903 n. la cienega blvd.\n",
      "postal : 90028\n",
      "latlng : (34.1008332, -118.3256128)\n",
      "\n",
      "4/10 positive, 8/10 negative\n",
      "Do these records refer to the same thing?\n",
      "(y)es / (n)o / (u)nsure / (f)inished\n",
      "y\n",
      "\n",
      "INFO:dedupe.training:(SimplePredicate: (wholeFieldPredicate, name), TfidfNGramCanopyPredicate: (0.6, addr))\n",
      "name : alain rondelli\n",
      "addr : 126 clement st.\n",
      "postal : 94118\n",
      "latlng : (37.7833153, -122.4606785)\n",
      "\n",
      "name : le soleil\n",
      "addr : 133 clement st.\n",
      "postal : 94118\n",
      "latlng : (37.7829909, -122.4606844)\n",
      "\n",
      "5/10 positive, 8/10 negative\n",
      "Do these records refer to the same thing?\n",
      "(y)es / (n)o / (u)nsure / (f)inished\n",
      "n\n",
      "\n",
      "name : le madri\n",
      "addr : 168 w. 18th st.\n",
      "postal : 10011\n",
      "latlng : (40.7407432, -73.9976375)\n",
      "\n",
      "name : le marais\n",
      "addr : 150 w. 46th st.\n",
      "postal : 10036\n",
      "latlng : (40.7580041, -73.98431149999999)\n",
      "\n",
      "5/10 positive, 9/10 negative\n",
      "Do these records refer to the same thing?\n",
      "(y)es / (n)o / (u)nsure / (f)inished\n",
      "n\n",
      "\n",
      "name : cafe bianco\n",
      "addr : 1486 2nd ave.  between 77th and 78th sts.\n",
      "postal : 10075\n",
      "latlng : (40.7735934, -73.9591119)\n",
      "\n",
      "name : cafe botanica\n",
      "addr : 160 central park s\n",
      "postal : 10019\n",
      "latlng : (40.7660165, -73.97864109999999)\n",
      "\n",
      "5/10 positive, 10/10 negative\n",
      "Do these records refer to the same thing?\n",
      "(y)es / (n)o / (u)nsure / (f)inished\n",
      "n\n",
      "\n",
      "name : abruzzi\n",
      "addr : 2355 peachtree rd.  peachtree battle shopping center\n",
      "postal : 30305\n",
      "latlng : (33.8201374, -84.3872795)\n",
      "\n",
      "name : abruzzi\n",
      "addr : 2355 peachtree rd. ne\n",
      "postal : 30305\n",
      "latlng : (33.8246473, -84.387453)\n",
      "\n",
      "5/10 positive, 11/10 negative\n",
      "Do these records refer to the same thing?\n",
      "(y)es / (n)o / (u)nsure / (f)inished\n",
      "y\n",
      "\n",
      "name : art s deli\n",
      "addr : 12224 ventura blvd.\n",
      "postal : 91604\n",
      "...\n"
     ]
    }
   ],
   "source": [
    "#     deduper.sample(data_for_dedupe)  \n",
    "#     dedupe.consoleLabel(deduper)\n",
    "#     deduper.train(index_predicates=False)\n",
    "\n",
    "with open('training-simple-input-output.txt') as t:\n",
    "    print('\\n'.join(t.read().split('\\n')[:262]))\n",
    "    print('...')"
   ]
  },
  {
   "cell_type": "markdown",
   "metadata": {
    "slideshow": {
     "slide_type": "skip"
    }
   },
   "source": [
    "You can check the full training at `training-simple-input-output.txt`.\n",
    "\n",
    "If you want to train it yourself, do a `rm dedupe-simple-settings.pickle dedupe-simple-training.json` and run this whole Active Learning session again."
   ]
  },
  {
   "cell_type": "code",
   "execution_count": 38,
   "metadata": {
    "slideshow": {
     "slide_type": "skip"
    }
   },
   "outputs": [],
   "source": [
    "from dedupe.convenience import unique\n",
    "\n",
    "def auto_label(deduper):\n",
    "    # based on: dedupe.convenience.consoleLabel\n",
    "    fields = unique(field.field\n",
    "                    for field\n",
    "                    in deduper.data_model.primary_fields)\n",
    "    n_match = 0\n",
    "    n_distinct = 0\n",
    "    buffer_len = 1\n",
    "    examples_buffer = []\n",
    "    uncertain_pairs = []\n",
    "    \n",
    "    while n_match < 10 or n_distinct < 15:\n",
    "        if not uncertain_pairs:\n",
    "            uncertain_pairs = deduper.uncertainPairs()\n",
    "        record_pair = uncertain_pairs.pop()\n",
    "        \n",
    "        n_match = (len(deduper.training_pairs['match']) +\n",
    "                   sum(label == 'match' for _, label in examples_buffer))\n",
    "        n_distinct = (len(deduper.training_pairs['distinct']) +\n",
    "                      sum(label == 'distinct' for _, label in examples_buffer))\n",
    "        \n",
    "        for pair in record_pair:\n",
    "            for field in fields:\n",
    "                line = \"%s : %s\" % (field, pair[field])\n",
    "                print(line)\n",
    "            print()\n",
    "        print(f\"{n_match}/10 positive, {n_distinct}/10 negative\")\n",
    "        print(\"Do these records refer to the same thing?\")\n",
    "        print(\"(y)es / (n)o / (u)nsure / (f)inished\")\n",
    "        \n",
    "        if record_pair[0]['cluster'] == record_pair[1]['cluster']:\n",
    "            print('y')\n",
    "            examples_buffer.insert(0, (record_pair, 'match'))\n",
    "        else:\n",
    "            print('n')\n",
    "            examples_buffer.insert(0, (record_pair, 'distinct'))\n",
    "        print()\n",
    "\n",
    "        if len(examples_buffer) > buffer_len:\n",
    "            record_pair, label = examples_buffer.pop()\n",
    "            if label in ['distinct', 'match']:\n",
    "                examples = {'distinct': [], 'match': []}\n",
    "                examples[label].append(record_pair)\n",
    "                deduper.markPairs(examples)\n",
    "    \n",
    "    for record_pair, label in examples_buffer:\n",
    "        if label in ['distinct', 'match']:\n",
    "            examples = {'distinct': [], 'match': []}\n",
    "            examples[label].append(record_pair)\n",
    "            deduper.markPairs(examples)"
   ]
  },
  {
   "cell_type": "code",
   "execution_count": 39,
   "metadata": {
    "scrolled": true,
    "slideshow": {
     "slide_type": "skip"
    }
   },
   "outputs": [],
   "source": [
    "if not isinstance(deduper, dedupe.StaticDedupe):\n",
    "    deduper.sample(data_for_dedupe)\n",
    "    \n",
    "    training_filename = 'dedupe-simple-training.json'\n",
    "    if os.path.exists(training_filename):\n",
    "        with open(training_filename) as tf:\n",
    "            deduper.readTraining(tf)\n",
    "\n",
    "#     dedupe.consoleLabel(deduper)\n",
    "    auto_label(deduper)\n",
    "    \n",
    "    with open(training_filename, 'w') as tf:\n",
    "        deduper.writeTraining(tf)\n",
    "    \n",
    "    deduper.train(index_predicates=False)\n",
    "    \n",
    "    with open(settings_filename, 'wb') as sf:\n",
    "        deduper.writeSettings(sf)"
   ]
  },
  {
   "cell_type": "markdown",
   "metadata": {
    "slideshow": {
     "slide_type": "slide"
    }
   },
   "source": [
    "After training, we can see which **blocking predicates** (indexing rules) the deduper learned from our training input. It's good to do that to check if we trained enough:"
   ]
  },
  {
   "cell_type": "code",
   "execution_count": 40,
   "metadata": {
    "slideshow": {
     "slide_type": "fragment"
    }
   },
   "outputs": [
    {
     "data": {
      "text/plain": [
       "((SimplePredicate: (sameFiveCharStartPredicate, addr),\n",
       "  SimplePredicate: (sameFiveCharStartPredicate, name)),\n",
       " (SimplePredicate: (latLongGridPredicate, latlng),\n",
       "  SimplePredicate: (oneGramFingerprint, name)))"
      ]
     },
     "execution_count": 40,
     "metadata": {},
     "output_type": "execute_result"
    }
   ],
   "source": [
    "deduper.predicates"
   ]
  },
  {
   "cell_type": "markdown",
   "metadata": {
    "slideshow": {
     "slide_type": "skip"
    }
   },
   "source": [
    "The deduper selected those predicates from this extense list of **possible predicates**:"
   ]
  },
  {
   "cell_type": "code",
   "execution_count": 41,
   "metadata": {
    "scrolled": true,
    "slideshow": {
     "slide_type": "skip"
    }
   },
   "outputs": [
    {
     "data": {
      "text/plain": [
       "{LevenshteinCanopyPredicate: (1, addr),\n",
       " LevenshteinCanopyPredicate: (1, name),\n",
       " LevenshteinCanopyPredicate: (1, postal),\n",
       " LevenshteinCanopyPredicate: (2, addr),\n",
       " LevenshteinCanopyPredicate: (2, name),\n",
       " LevenshteinCanopyPredicate: (2, postal),\n",
       " LevenshteinCanopyPredicate: (3, addr),\n",
       " LevenshteinCanopyPredicate: (3, name),\n",
       " LevenshteinCanopyPredicate: (3, postal),\n",
       " LevenshteinCanopyPredicate: (4, addr),\n",
       " LevenshteinCanopyPredicate: (4, name),\n",
       " LevenshteinCanopyPredicate: (4, postal),\n",
       " SimplePredicate: (alphaNumericPredicate, addr),\n",
       " SimplePredicate: (alphaNumericPredicate, name),\n",
       " SimplePredicate: (alphaNumericPredicate, postal),\n",
       " SimplePredicate: (commonFourGram, addr),\n",
       " SimplePredicate: (commonFourGram, name),\n",
       " SimplePredicate: (commonFourGram, postal),\n",
       " SimplePredicate: (commonIntegerPredicate, addr),\n",
       " SimplePredicate: (commonIntegerPredicate, name),\n",
       " SimplePredicate: (commonIntegerPredicate, postal),\n",
       " SimplePredicate: (commonSixGram, addr),\n",
       " SimplePredicate: (commonSixGram, name),\n",
       " SimplePredicate: (commonSixGram, postal),\n",
       " SimplePredicate: (commonThreeTokens, addr),\n",
       " SimplePredicate: (commonThreeTokens, name),\n",
       " SimplePredicate: (commonThreeTokens, postal),\n",
       " SimplePredicate: (commonTwoTokens, addr),\n",
       " SimplePredicate: (commonTwoTokens, name),\n",
       " SimplePredicate: (commonTwoTokens, postal),\n",
       " SimplePredicate: (doubleMetaphone, addr),\n",
       " SimplePredicate: (doubleMetaphone, name),\n",
       " SimplePredicate: (doubleMetaphone, postal),\n",
       " SimplePredicate: (fingerprint, addr),\n",
       " SimplePredicate: (fingerprint, name),\n",
       " SimplePredicate: (fingerprint, postal),\n",
       " SimplePredicate: (firstIntegerPredicate, addr),\n",
       " SimplePredicate: (firstIntegerPredicate, name),\n",
       " SimplePredicate: (firstIntegerPredicate, postal),\n",
       " SimplePredicate: (firstTokenPredicate, addr),\n",
       " SimplePredicate: (firstTokenPredicate, name),\n",
       " SimplePredicate: (firstTokenPredicate, postal),\n",
       " SimplePredicate: (hundredIntegerPredicate, addr),\n",
       " SimplePredicate: (hundredIntegerPredicate, name),\n",
       " SimplePredicate: (hundredIntegerPredicate, postal),\n",
       " SimplePredicate: (hundredIntegersOddPredicate, addr),\n",
       " SimplePredicate: (hundredIntegersOddPredicate, name),\n",
       " SimplePredicate: (hundredIntegersOddPredicate, postal),\n",
       " SimplePredicate: (latLongGridPredicate, latlng),\n",
       " SimplePredicate: (metaphoneToken, addr),\n",
       " SimplePredicate: (metaphoneToken, name),\n",
       " SimplePredicate: (metaphoneToken, postal),\n",
       " SimplePredicate: (nearIntegersPredicate, addr),\n",
       " SimplePredicate: (nearIntegersPredicate, name),\n",
       " SimplePredicate: (nearIntegersPredicate, postal),\n",
       " SimplePredicate: (oneGramFingerprint, addr),\n",
       " SimplePredicate: (oneGramFingerprint, name),\n",
       " SimplePredicate: (oneGramFingerprint, postal),\n",
       " SimplePredicate: (sameFiveCharStartPredicate, addr),\n",
       " SimplePredicate: (sameFiveCharStartPredicate, name),\n",
       " SimplePredicate: (sameFiveCharStartPredicate, postal),\n",
       " SimplePredicate: (sameSevenCharStartPredicate, addr),\n",
       " SimplePredicate: (sameSevenCharStartPredicate, name),\n",
       " SimplePredicate: (sameSevenCharStartPredicate, postal),\n",
       " SimplePredicate: (sameThreeCharStartPredicate, addr),\n",
       " SimplePredicate: (sameThreeCharStartPredicate, name),\n",
       " SimplePredicate: (sameThreeCharStartPredicate, postal),\n",
       " SimplePredicate: (sortedAcronym, addr),\n",
       " SimplePredicate: (sortedAcronym, name),\n",
       " SimplePredicate: (sortedAcronym, postal),\n",
       " SimplePredicate: (suffixArray, addr),\n",
       " SimplePredicate: (suffixArray, name),\n",
       " SimplePredicate: (suffixArray, postal),\n",
       " SimplePredicate: (tokenFieldPredicate, addr),\n",
       " SimplePredicate: (tokenFieldPredicate, name),\n",
       " SimplePredicate: (tokenFieldPredicate, postal),\n",
       " SimplePredicate: (twoGramFingerprint, addr),\n",
       " SimplePredicate: (twoGramFingerprint, name),\n",
       " SimplePredicate: (twoGramFingerprint, postal),\n",
       " SimplePredicate: (wholeFieldPredicate, addr),\n",
       " SimplePredicate: (wholeFieldPredicate, name),\n",
       " SimplePredicate: (wholeFieldPredicate, postal),\n",
       " TfidfNGramCanopyPredicate: (0.2, addr),\n",
       " TfidfNGramCanopyPredicate: (0.2, name),\n",
       " TfidfNGramCanopyPredicate: (0.2, postal),\n",
       " TfidfNGramCanopyPredicate: (0.4, addr),\n",
       " TfidfNGramCanopyPredicate: (0.4, name),\n",
       " TfidfNGramCanopyPredicate: (0.4, postal),\n",
       " TfidfNGramCanopyPredicate: (0.6, addr),\n",
       " TfidfNGramCanopyPredicate: (0.6, name),\n",
       " TfidfNGramCanopyPredicate: (0.6, postal),\n",
       " TfidfNGramCanopyPredicate: (0.8, addr),\n",
       " TfidfNGramCanopyPredicate: (0.8, name),\n",
       " TfidfNGramCanopyPredicate: (0.8, postal)}"
      ]
     },
     "execution_count": 41,
     "metadata": {},
     "output_type": "execute_result"
    }
   ],
   "source": [
    "deduper.data_model.predicates()"
   ]
  },
  {
   "cell_type": "markdown",
   "metadata": {
    "slideshow": {
     "slide_type": "slide"
    }
   },
   "source": [
    "To proceed with the deduplication, we compute the **clustering threshold** and call the actual **match**:"
   ]
  },
  {
   "cell_type": "code",
   "execution_count": 42,
   "metadata": {
    "slideshow": {
     "slide_type": "fragment"
    }
   },
   "outputs": [
    {
     "name": "stderr",
     "output_type": "stream",
     "text": [
      "INFO:dedupe.api:Maximum expected recall and precision\n",
      "INFO:dedupe.api:recall: 0.999\n",
      "INFO:dedupe.api:precision: 0.825\n",
      "INFO:dedupe.api:With threshold: 0.292\n"
     ]
    }
   ],
   "source": [
    "import itertools\n",
    "\n",
    "threshold = deduper.threshold(data_for_dedupe, recall_weight=2)\n",
    "clustered_dupes = deduper.match(data_for_dedupe, threshold)\n",
    "\n",
    "dedupe_found_pairs_set = set()\n",
    "for cluster, __ in clustered_dupes:  # we'll explain that later\n",
    "    for pair in itertools.combinations(cluster, 2):\n",
    "        dedupe_found_pairs_set.add(tuple(pair))"
   ]
  },
  {
   "cell_type": "markdown",
   "metadata": {
    "slideshow": {
     "slide_type": "slide"
    }
   },
   "source": [
    "Now we'll **evaluate** how it performed:"
   ]
  },
  {
   "cell_type": "code",
   "execution_count": 43,
   "metadata": {
    "scrolled": true,
    "slideshow": {
     "slide_type": "fragment"
    }
   },
   "outputs": [
    {
     "name": "stdout",
     "output_type": "stream",
     "text": [
      "true_positives total: 128\n",
      "false_positives total: 2\n",
      "false_negatives total: 22\n",
      "\n",
      "svm_true_positives total: 134\n",
      "svm_false_positives total: 6\n",
      "svm_false_negatives total: 16\n",
      "\n",
      "dedupe_true_positives total: 135\n",
      "dedupe_false_positives total: 2\n",
      "dedupe_false_negatives total: 15\n"
     ]
    }
   ],
   "source": [
    "dedupe_true_positives = golden_pairs_set & dedupe_found_pairs_set\n",
    "dedupe_false_positives = dedupe_found_pairs_set - golden_pairs_set\n",
    "dedupe_false_negatives = golden_pairs_set - dedupe_found_pairs_set\n",
    "\n",
    "print('true_positives total:', len(true_positives))\n",
    "print('false_positives total:', len(false_positives))\n",
    "print('false_negatives total:', len(false_negatives))\n",
    "print()\n",
    "print('svm_true_positives total:', len(svm_true_positives))\n",
    "print('svm_false_positives total:', len(svm_false_positives))\n",
    "print('svm_false_negatives total:', len(svm_false_negatives))\n",
    "print()\n",
    "print('dedupe_true_positives total:', len(dedupe_true_positives))\n",
    "print('dedupe_false_positives total:', len(dedupe_false_positives))\n",
    "print('dedupe_false_negatives total:', len(dedupe_false_negatives))"
   ]
  },
  {
   "cell_type": "markdown",
   "metadata": {
    "slideshow": {
     "slide_type": "slide"
    }
   },
   "source": [
    "## 4/4 - Clustering"
   ]
  },
  {
   "cell_type": "markdown",
   "metadata": {
    "slideshow": {
     "slide_type": "slide"
    }
   },
   "source": [
    "Using the Threshold or the SVM, we got the **matching pairs**. But what Dedupe returned to us were **clusters of matches**:"
   ]
  },
  {
   "cell_type": "code",
   "execution_count": 44,
   "metadata": {
    "slideshow": {
     "slide_type": "fragment"
    }
   },
   "outputs": [
    {
     "data": {
      "text/plain": [
       "[((0, 1, 2), array([0.82084703, 0.82156456, 0.76711255])),\n",
       " ((3, 4, 5), array([0.79362005, 0.8349472 , 0.8349472 ])),\n",
       " ((7, 8), array([0.78473943, 0.78473943])),\n",
       " ((9, 10, 11, 12), array([0.87588052, 0.87588052, 0.87588052, 0.87509286])),\n",
       " ((13, 14), (0.87627435, 0.87627435))]"
      ]
     },
     "execution_count": 44,
     "metadata": {},
     "output_type": "execute_result"
    }
   ],
   "source": [
    "clustered_dupes[:5]"
   ]
  },
  {
   "cell_type": "markdown",
   "metadata": {
    "slideshow": {
     "slide_type": "slide"
    }
   },
   "source": [
    "Dedupe went one step further on the process and **merged the matching pairs into clusters**! Why is that important? Because the following can happen:\n",
    "- We have the records A, B, and C\n",
    "- By deduplicating, we find the matching pairs (A, B) and (B, C).  \n",
    "However, (A, C) was found to be a nonmatch\n",
    "\n",
    "It doesn't make sense to consider (A, B) and (B, C) as a match, but (A, C) as a nonmatch.\n",
    "The solution for that ambiguity is computing the **Transitive Closure** with Clustering."
   ]
  },
  {
   "cell_type": "markdown",
   "metadata": {
    "slideshow": {
     "slide_type": "slide"
    }
   },
   "source": [
    "Using some private methods from Dedupe, it's possible to get the **unclustered pairs**:"
   ]
  },
  {
   "cell_type": "code",
   "execution_count": 45,
   "metadata": {
    "slideshow": {
     "slide_type": "fragment"
    }
   },
   "outputs": [],
   "source": [
    "from dedupe.core import scoreDuplicates\n",
    "\n",
    "candidate_records = itertools.chain.from_iterable(deduper._blockedPairs(deduper._blockData(data_for_dedupe)))\n",
    "dedupe_matches = scoreDuplicates(candidate_records,\n",
    "                                 deduper.data_model,\n",
    "                                 deduper.classifier,\n",
    "                                 deduper.num_cores)\n",
    "dedupe_unclustered_pairs_score_dict = {tuple(pair): score for (pair, score) in dedupe_matches}\n",
    "dedupe_unclustered_found_pairs_set = set(dedupe_unclustered_pairs_score_dict.keys())"
   ]
  },
  {
   "cell_type": "markdown",
   "metadata": {
    "slideshow": {
     "slide_type": "slide"
    }
   },
   "source": [
    "Let's **evaluate** those unclustered pairs against the clustered pairs:"
   ]
  },
  {
   "cell_type": "code",
   "execution_count": 46,
   "metadata": {
    "slideshow": {
     "slide_type": "fragment"
    }
   },
   "outputs": [
    {
     "name": "stdout",
     "output_type": "stream",
     "text": [
      "dedupe_true_positives total: 135\n",
      "dedupe_false_positives total: 2\n",
      "dedupe_false_negatives total: 15\n",
      "\n",
      "dedupe_unclustered_true_positives total: 138\n",
      "dedupe_unclustered_false_positives total: 5\n",
      "dedupe_unclustered_false_negatives total: 12\n"
     ]
    }
   ],
   "source": [
    "dedupe_unclustered_true_positives = golden_pairs_set & dedupe_unclustered_found_pairs_set\n",
    "dedupe_unclustered_false_positives = dedupe_unclustered_found_pairs_set - golden_pairs_set\n",
    "dedupe_unclustered_false_negatives = golden_pairs_set - dedupe_unclustered_found_pairs_set\n",
    "\n",
    "print('dedupe_true_positives total:', len(dedupe_true_positives))\n",
    "print('dedupe_false_positives total:', len(dedupe_false_positives))\n",
    "print('dedupe_false_negatives total:', len(dedupe_false_negatives))\n",
    "print()\n",
    "print('dedupe_unclustered_true_positives total:', len(dedupe_unclustered_true_positives))\n",
    "print('dedupe_unclustered_false_positives total:', len(dedupe_unclustered_false_positives))\n",
    "print('dedupe_unclustered_false_negatives total:', len(dedupe_unclustered_false_negatives))"
   ]
  },
  {
   "cell_type": "markdown",
   "metadata": {
    "slideshow": {
     "slide_type": "slide"
    }
   },
   "source": [
    "We've found the unclustered pairs are different from the clustered pairs! That means the clustering process can both **create new matches** and **drop found matches**. Therefore, even though clustering is necessary to disambiguate the deduplication result, it can either improve or worsen the quality of found pairs."
   ]
  },
  {
   "cell_type": "code",
   "execution_count": 47,
   "metadata": {
    "slideshow": {
     "slide_type": "fragment"
    }
   },
   "outputs": [
    {
     "data": {
      "text/plain": [
       "{(6, 7), (40, 42), (120, 471), (121, 471), (196, 198), (199, 200)}"
      ]
     },
     "metadata": {},
     "output_type": "display_data"
    }
   ],
   "source": [
    "diff_set = dedupe_found_pairs_set ^ dedupe_unclustered_found_pairs_set\n",
    "display(diff_set)"
   ]
  },
  {
   "cell_type": "code",
   "execution_count": 49,
   "metadata": {
    "scrolled": true,
    "slideshow": {
     "slide_type": "fragment"
    }
   },
   "outputs": [
    {
     "data": {
      "text/html": [
       "<div>\n",
       "<style scoped>\n",
       "    .dataframe tbody tr th:only-of-type {\n",
       "        vertical-align: middle;\n",
       "    }\n",
       "\n",
       "    .dataframe tbody tr th {\n",
       "        vertical-align: top;\n",
       "    }\n",
       "\n",
       "    .dataframe thead th {\n",
       "        text-align: right;\n",
       "    }\n",
       "</style>\n",
       "<table border=\"1\" class=\"dataframe\">\n",
       "  <thead>\n",
       "    <tr style=\"text-align: right;\">\n",
       "      <th></th>\n",
       "      <th>name</th>\n",
       "      <th>addr</th>\n",
       "      <th>city</th>\n",
       "      <th>postal</th>\n",
       "      <th>lat</th>\n",
       "      <th>lng</th>\n",
       "    </tr>\n",
       "  </thead>\n",
       "  <tbody>\n",
       "    <tr>\n",
       "      <th>120</th>\n",
       "      <td>petrossian</td>\n",
       "      <td>182 w. 58th st.</td>\n",
       "      <td>new york</td>\n",
       "      <td>10019</td>\n",
       "      <td>40.766049</td>\n",
       "      <td>-73.979439</td>\n",
       "    </tr>\n",
       "    <tr>\n",
       "      <th>121</th>\n",
       "      <td>petrossian</td>\n",
       "      <td>182 w. 58th st.</td>\n",
       "      <td>new york city</td>\n",
       "      <td>10019</td>\n",
       "      <td>40.766049</td>\n",
       "      <td>-73.979439</td>\n",
       "    </tr>\n",
       "    <tr>\n",
       "      <th>471</th>\n",
       "      <td>san pietro</td>\n",
       "      <td>18 e. 54th st.</td>\n",
       "      <td>new york</td>\n",
       "      <td>10022</td>\n",
       "      <td>40.760498</td>\n",
       "      <td>-73.974431</td>\n",
       "    </tr>\n",
       "  </tbody>\n",
       "</table>\n",
       "</div>"
      ],
      "text/plain": [
       "           name             addr           city postal        lat        lng\n",
       "120  petrossian  182 w. 58th st.       new york  10019  40.766049 -73.979439\n",
       "121  petrossian  182 w. 58th st.  new york city  10019  40.766049 -73.979439\n",
       "471  san pietro   18 e. 54th st.       new york  10022  40.760498 -73.974431"
      ]
     },
     "metadata": {},
     "output_type": "display_data"
    },
    {
     "data": {
      "image/png": "[encoded data removed]",
      "text/plain": [
       "<Figure size 720x360 with 1 Axes>"
      ]
     },
     "metadata": {},
     "output_type": "display_data"
    },
    {
     "data": {
      "image/png": "[encoded data removed]",
      "text/plain": [
       "<Figure size 720x360 with 1 Axes>"
      ]
     },
     "metadata": {},
     "output_type": "display_data"
    },
    {
     "data": {
      "image/png": "[encoded data removed]",
      "text/plain": [
       "<Figure size 720x360 with 1 Axes>"
      ]
     },
     "metadata": {},
     "output_type": "display_data"
    }
   ],
   "source": [
    "from graph_utils import show_cluster_graphs\n",
    "\n",
    "diff_ids = {120, 121, 471}\n",
    "show_cluster_graphs(\n",
    "    df,\n",
    "    golden_pairs_set, dedupe_found_pairs_set, dedupe_unclustered_found_pairs_set,\n",
    "    dedupe_unclustered_pairs_score_dict,\n",
    "    diff_ids)"
   ]
  },
  {
   "cell_type": "markdown",
   "metadata": {
    "slideshow": {
     "slide_type": "slide"
    }
   },
   "source": [
    "## Next Steps"
   ]
  },
  {
   "cell_type": "markdown",
   "metadata": {
    "slideshow": {
     "slide_type": "slide"
    }
   },
   "source": [
    "Once we have the clusters, how to consolidate data from many records into one? Check for material on **Data Fusion**:\n",
    "  - [Open issue at Python Record Linkage Toolkit](https://github.com/J535D165/recordlinkage/issues/27)\n",
    "  - Christen, 6.12 Merging Matches [2]"
   ]
  },
  {
   "cell_type": "markdown",
   "metadata": {
    "slideshow": {
     "slide_type": "slide"
    }
   },
   "source": [
    "What if new records arrive? Should we merge, unmerge, move records from clusters? Check for material on **Incremental Record Linkage**:\n",
    "  - Dedupe approach is to either add to an existing cluster or create a new cluster. You can use a [Gazetteer](https://docs.dedupe.io/en/latest/API-documentation.html#gazetteer-objects) with previously deduped data, then merge new matches into it, and index new nonmatches.\n",
    "  - Other approaches, check papers:\n",
    "      * [Online Correlation Clustering](https://arxiv.org/pdf/1001.0920.pdf)\n",
    "      * [Incremental Record Linkage](http://www.vldb.org/pvldb/vol7/p697-gruenheid.pdf)\n",
    "      * [Heuristic-based approaches for speeding up incremental record linkage](https://www.sciencedirect.com/science/article/pii/S0164121217302972)"
   ]
  },
  {
   "cell_type": "markdown",
   "metadata": {
    "slideshow": {
     "slide_type": "slide"
    }
   },
   "source": [
    "Also worth checking the **Privacy** implications of Record Linkage:\n",
    "- Christen, chapter 8 [2]\n",
    "- [k-anonymity](https://desfontain.es/privacy/k-anonymity.html), [k-map](https://desfontain.es/privacy/k-map.html), [δ-presence](https://desfontain.es/privacy/delta-presence.html)\n",
    "- [Why differential privacy is awesome](https://desfontain.es/privacy/differential-privacy-awesomeness.html)"
   ]
  },
  {
   "cell_type": "markdown",
   "metadata": {
    "slideshow": {
     "slide_type": "slide"
    }
   },
   "source": [
    "## References"
   ]
  },
  {
   "cell_type": "markdown",
   "metadata": {
    "slideshow": {
     "slide_type": "fragment"
    }
   },
   "source": [
    "- **Referenced by this talk**:\n",
    "    * [1] [Mike Mull, The Art and Science of Data Matching](https://www.youtube.com/watch?v=Y-nYEOgq3YE) (slides [here](https://github.com/mikemull/Notebooks/blob/master/PyDataNYCSlides.ipynb))\n",
    "    * [2] [Peter Christen, Data Matching](http://www.springer.com/us/book/9783642311635)\n",
    "    * [3] [Mikhail Yuryevich Bilenko, Learnable Similarity Functions and Their Application to Record Linkage and Clustering](http://www.cs.utexas.edu/~ml/papers/marlin-dissertation-06.pdf)\n",
    "- Other **talks** about Record Linkage with Python:\n",
    "    * [Andrew Rowe, Big Data Deduplication and data matching using Python](https://www.youtube.com/watch?v=Z6mlvrYEYnk)\n",
    "    * [Rhydwyn Mcguire, Record linkage: Join for real life](https://www.youtube.com/watch?v=cEcVIjyHfiQ)\n",
    "- [Basics of Entity Resolution with Python and Dedupe](https://medium.com/district-data-labs/basics-of-entity-resolution-with-python-and-dedupe-bc87440b64d4)\n",
    "- [Automating your Data Cleanup with Python](https://blog.kjamistan.com/automating-your-data-cleanup-with-python/)\n",
    "- [Comparison of Data Matching software](https://github.com/J535D165/data-matching-software)\n",
    "- [Compilation of Record Linkage resources](https://github.com/ropeladder/record-linkage-resources)"
   ]
  },
  {
   "cell_type": "markdown",
   "metadata": {
    "slideshow": {
     "slide_type": "slide"
    }
   },
   "source": [
    "# Thank you!\n",
    "flavio@vinta.com.br  \n",
    "[@flaviojuvenal](https://twitter.com/flaviojuvenal)  \n",
    "[vinta.com.br](https://www.vinta.com.br?dedupe-slides=1)\n",
    "\n",
    "Special thanks to Russell Keith-Magee [@freakboy3742](https://twitter.com/freakboy3742), Forest Timothy Gregg [@forestgregg](https://twitter.com/forestgregg), and Jonathan de Bruin [@J535D165](https://github.com/J535D165)."
   ]
  }
 ],
 "metadata": {
  "celltoolbar": "Slideshow",
  "kernelspec": {
   "display_name": "Python 3",
   "language": "python",
   "name": "python3"
  },
  "language_info": {
   "codemirror_mode": {
    "name": "ipython",
    "version": 3
   },
   "file_extension": ".py",
   "mimetype": "text/x-python",
   "name": "python",
   "nbconvert_exporter": "python",
   "pygments_lexer": "ipython3",
   "version": "3.6.4"
  }
 },
 "nbformat": 4,
 "nbformat_minor": 2
}
